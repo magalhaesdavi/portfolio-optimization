{
 "cells": [
  {
   "cell_type": "markdown",
   "metadata": {},
   "source": [
    "# Testando bibliotecas"
   ]
  },
  {
   "cell_type": "code",
   "execution_count": 13,
   "metadata": {},
   "outputs": [],
   "source": [
    "import yfinance as yf"
   ]
  },
  {
   "cell_type": "code",
   "execution_count": 2,
   "metadata": {},
   "outputs": [
    {
     "name": "stdout",
     "output_type": "stream",
     "text": [
      "yfinance.Ticker object <BOVA11.SA>\n"
     ]
    }
   ],
   "source": [
    "import yfinance as yf\n",
    "\n",
    "msft = yf.Ticker(\"BOVA11.SA\")\n",
    "print(msft)\n",
    "\n",
    "# get stock info\n",
    "# msft.info"
   ]
  },
  {
   "cell_type": "code",
   "execution_count": 3,
   "metadata": {},
   "outputs": [
    {
     "data": {
      "text/html": [
       "<div>\n",
       "<style scoped>\n",
       "    .dataframe tbody tr th:only-of-type {\n",
       "        vertical-align: middle;\n",
       "    }\n",
       "\n",
       "    .dataframe tbody tr th {\n",
       "        vertical-align: top;\n",
       "    }\n",
       "\n",
       "    .dataframe thead th {\n",
       "        text-align: right;\n",
       "    }\n",
       "</style>\n",
       "<table border=\"1\" class=\"dataframe\">\n",
       "  <thead>\n",
       "    <tr style=\"text-align: right;\">\n",
       "      <th></th>\n",
       "      <th>Open</th>\n",
       "      <th>High</th>\n",
       "      <th>Low</th>\n",
       "      <th>Close</th>\n",
       "      <th>Volume</th>\n",
       "      <th>Dividends</th>\n",
       "      <th>Stock Splits</th>\n",
       "    </tr>\n",
       "    <tr>\n",
       "      <th>Date</th>\n",
       "      <th></th>\n",
       "      <th></th>\n",
       "      <th></th>\n",
       "      <th></th>\n",
       "      <th></th>\n",
       "      <th></th>\n",
       "      <th></th>\n",
       "    </tr>\n",
       "  </thead>\n",
       "  <tbody>\n",
       "    <tr>\n",
       "      <th>2008-11-28</th>\n",
       "      <td>36.595901</td>\n",
       "      <td>36.595901</td>\n",
       "      <td>36.595901</td>\n",
       "      <td>36.595901</td>\n",
       "      <td>0</td>\n",
       "      <td>0</td>\n",
       "      <td>0</td>\n",
       "    </tr>\n",
       "    <tr>\n",
       "      <th>2008-12-01</th>\n",
       "      <td>34.744900</td>\n",
       "      <td>34.744900</td>\n",
       "      <td>34.744900</td>\n",
       "      <td>34.744900</td>\n",
       "      <td>0</td>\n",
       "      <td>0</td>\n",
       "      <td>0</td>\n",
       "    </tr>\n",
       "    <tr>\n",
       "      <th>2008-12-02</th>\n",
       "      <td>35.001598</td>\n",
       "      <td>35.001598</td>\n",
       "      <td>35.001598</td>\n",
       "      <td>35.001598</td>\n",
       "      <td>0</td>\n",
       "      <td>0</td>\n",
       "      <td>0</td>\n",
       "    </tr>\n",
       "    <tr>\n",
       "      <th>2008-12-03</th>\n",
       "      <td>35.293800</td>\n",
       "      <td>35.293800</td>\n",
       "      <td>35.293800</td>\n",
       "      <td>35.293800</td>\n",
       "      <td>0</td>\n",
       "      <td>0</td>\n",
       "      <td>0</td>\n",
       "    </tr>\n",
       "    <tr>\n",
       "      <th>2008-12-04</th>\n",
       "      <td>35.122101</td>\n",
       "      <td>35.122101</td>\n",
       "      <td>35.122101</td>\n",
       "      <td>35.122101</td>\n",
       "      <td>0</td>\n",
       "      <td>0</td>\n",
       "      <td>0</td>\n",
       "    </tr>\n",
       "    <tr>\n",
       "      <th>...</th>\n",
       "      <td>...</td>\n",
       "      <td>...</td>\n",
       "      <td>...</td>\n",
       "      <td>...</td>\n",
       "      <td>...</td>\n",
       "      <td>...</td>\n",
       "      <td>...</td>\n",
       "    </tr>\n",
       "    <tr>\n",
       "      <th>2021-08-06</th>\n",
       "      <td>117.400002</td>\n",
       "      <td>118.589996</td>\n",
       "      <td>116.910004</td>\n",
       "      <td>118.239998</td>\n",
       "      <td>5131706</td>\n",
       "      <td>0</td>\n",
       "      <td>0</td>\n",
       "    </tr>\n",
       "    <tr>\n",
       "      <th>2021-08-09</th>\n",
       "      <td>117.400002</td>\n",
       "      <td>118.919998</td>\n",
       "      <td>116.910004</td>\n",
       "      <td>118.139999</td>\n",
       "      <td>6105641</td>\n",
       "      <td>0</td>\n",
       "      <td>0</td>\n",
       "    </tr>\n",
       "    <tr>\n",
       "      <th>2021-08-10</th>\n",
       "      <td>118.500000</td>\n",
       "      <td>118.820000</td>\n",
       "      <td>117.389999</td>\n",
       "      <td>117.570000</td>\n",
       "      <td>5886641</td>\n",
       "      <td>0</td>\n",
       "      <td>0</td>\n",
       "    </tr>\n",
       "    <tr>\n",
       "      <th>2021-08-11</th>\n",
       "      <td>117.489998</td>\n",
       "      <td>118.080002</td>\n",
       "      <td>116.180000</td>\n",
       "      <td>117.260002</td>\n",
       "      <td>5935025</td>\n",
       "      <td>0</td>\n",
       "      <td>0</td>\n",
       "    </tr>\n",
       "    <tr>\n",
       "      <th>2021-08-12</th>\n",
       "      <td>117.290001</td>\n",
       "      <td>117.290001</td>\n",
       "      <td>115.879997</td>\n",
       "      <td>116.559998</td>\n",
       "      <td>2460789</td>\n",
       "      <td>0</td>\n",
       "      <td>0</td>\n",
       "    </tr>\n",
       "  </tbody>\n",
       "</table>\n",
       "<p>3141 rows × 7 columns</p>\n",
       "</div>"
      ],
      "text/plain": [
       "                  Open        High         Low       Close   Volume  \\\n",
       "Date                                                                  \n",
       "2008-11-28   36.595901   36.595901   36.595901   36.595901        0   \n",
       "2008-12-01   34.744900   34.744900   34.744900   34.744900        0   \n",
       "2008-12-02   35.001598   35.001598   35.001598   35.001598        0   \n",
       "2008-12-03   35.293800   35.293800   35.293800   35.293800        0   \n",
       "2008-12-04   35.122101   35.122101   35.122101   35.122101        0   \n",
       "...                ...         ...         ...         ...      ...   \n",
       "2021-08-06  117.400002  118.589996  116.910004  118.239998  5131706   \n",
       "2021-08-09  117.400002  118.919998  116.910004  118.139999  6105641   \n",
       "2021-08-10  118.500000  118.820000  117.389999  117.570000  5886641   \n",
       "2021-08-11  117.489998  118.080002  116.180000  117.260002  5935025   \n",
       "2021-08-12  117.290001  117.290001  115.879997  116.559998  2460789   \n",
       "\n",
       "            Dividends  Stock Splits  \n",
       "Date                                 \n",
       "2008-11-28          0             0  \n",
       "2008-12-01          0             0  \n",
       "2008-12-02          0             0  \n",
       "2008-12-03          0             0  \n",
       "2008-12-04          0             0  \n",
       "...               ...           ...  \n",
       "2021-08-06          0             0  \n",
       "2021-08-09          0             0  \n",
       "2021-08-10          0             0  \n",
       "2021-08-11          0             0  \n",
       "2021-08-12          0             0  \n",
       "\n",
       "[3141 rows x 7 columns]"
      ]
     },
     "execution_count": 3,
     "metadata": {},
     "output_type": "execute_result"
    }
   ],
   "source": [
    "# get historical market data, here max is 5 years.\n",
    "msft.history(period=\"max\")"
   ]
  },
  {
   "cell_type": "code",
   "execution_count": 4,
   "metadata": {},
   "outputs": [],
   "source": [
    "from docplex.mp.model import Model"
   ]
  },
  {
   "cell_type": "code",
   "execution_count": 5,
   "metadata": {},
   "outputs": [],
   "source": [
    "m = Model(name='unit allocation')"
   ]
  },
  {
   "cell_type": "code",
   "execution_count": 6,
   "metadata": {},
   "outputs": [],
   "source": [
    "foldyphone = m.continuous_var(name='foldyphone')\n",
    "tinyphone = m.continuous_var(name='tinyphone')\n",
    "\n",
    "foldyphonetime = 1.5\n",
    "tinyphonetime = 2"
   ]
  },
  {
   "cell_type": "code",
   "execution_count": 7,
   "metadata": {},
   "outputs": [],
   "source": [
    "foldyphoneprod = m.add_constraint(foldyphone >= 500)\n",
    "tinyphoneprod = m.add_constraint(tinyphone >= 200)\n",
    "totalprod = m.add_constraint(m.sum([tinyphone*tinyphonetime, foldyphone*foldyphonetime]) <= 2999.5)"
   ]
  },
  {
   "cell_type": "code",
   "execution_count": 8,
   "metadata": {},
   "outputs": [],
   "source": [
    "m.maximize(foldyphone*900 + tinyphone*1100)"
   ]
  },
  {
   "cell_type": "code",
   "execution_count": 9,
   "metadata": {},
   "outputs": [],
   "source": [
    "sol = m.solve()"
   ]
  },
  {
   "cell_type": "code",
   "execution_count": 10,
   "metadata": {},
   "outputs": [
    {
     "name": "stdout",
     "output_type": "stream",
     "text": [
      "solution for: unit allocation\n",
      "objective: 1779700.000\n",
      "foldyphone = 1733.000\n",
      "tinyphone = 200.000\n"
     ]
    }
   ],
   "source": [
    "sol.display()"
   ]
  },
  {
   "cell_type": "code",
   "execution_count": 11,
   "metadata": {},
   "outputs": [
    {
     "data": {
      "text/plain": [
       "200.0"
      ]
     },
     "execution_count": 11,
     "metadata": {},
     "output_type": "execute_result"
    }
   ],
   "source": [
    "tinyphone.solution_value"
   ]
  },
  {
   "cell_type": "code",
   "execution_count": 12,
   "metadata": {},
   "outputs": [
    {
     "data": {
      "text/plain": [
       "1733.0"
      ]
     },
     "execution_count": 12,
     "metadata": {},
     "output_type": "execute_result"
    }
   ],
   "source": [
    "foldyphone.solution_value"
   ]
  },
  {
   "cell_type": "markdown",
   "metadata": {},
   "source": [
    "# Otimização de portfólio de investimentos"
   ]
  },
  {
   "cell_type": "markdown",
   "metadata": {},
   "source": [
    "## Modelo"
   ]
  },
  {
   "cell_type": "markdown",
   "metadata": {},
   "source": [
    "### Variáveis"
   ]
  },
  {
   "cell_type": "code",
   "execution_count": null,
   "metadata": {},
   "outputs": [],
   "source": []
  },
  {
   "cell_type": "markdown",
   "metadata": {},
   "source": [
    "### Restrições"
   ]
  },
  {
   "cell_type": "code",
   "execution_count": null,
   "metadata": {},
   "outputs": [],
   "source": []
  },
  {
   "cell_type": "markdown",
   "metadata": {},
   "source": [
    "### Função objetivo"
   ]
  },
  {
   "cell_type": "code",
   "execution_count": null,
   "metadata": {},
   "outputs": [],
   "source": []
  }
 ],
 "metadata": {
  "kernelspec": {
   "display_name": "Python 3",
   "language": "python",
   "name": "python3"
  },
  "language_info": {
   "codemirror_mode": {
    "name": "ipython",
    "version": 3
   },
   "file_extension": ".py",
   "mimetype": "text/x-python",
   "name": "python",
   "nbconvert_exporter": "python",
   "pygments_lexer": "ipython3",
   "version": "3.8.5"
  }
 },
 "nbformat": 4,
 "nbformat_minor": 4
}
