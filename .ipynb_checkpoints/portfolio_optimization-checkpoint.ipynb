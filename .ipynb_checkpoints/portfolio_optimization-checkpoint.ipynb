{
 "cells": [
  {
   "cell_type": "markdown",
   "metadata": {},
   "source": [
    "# Otimização de portfólio de investimentos"
   ]
  },
  {
   "cell_type": "code",
   "execution_count": 75,
   "metadata": {},
   "outputs": [],
   "source": [
    "import pandas as pd\n",
    "import numpy as np\n",
    "import yfinance as yf\n",
    "from docplex.mp.model import Model\n",
    "import matplotlib.pyplot as plt\n",
    "from scipy.signal import argrelextrema\n",
    "from re import sub\n",
    "from decimal import Decimal"
   ]
  },
  {
   "cell_type": "markdown",
   "metadata": {},
   "source": [
    "## Modelo"
   ]
  },
  {
   "cell_type": "markdown",
   "metadata": {},
   "source": [
    "### Variáveis"
   ]
  },
  {
   "cell_type": "code",
   "execution_count": null,
   "metadata": {},
   "outputs": [],
   "source": [
    "Todos os ativos pertencentes à carteira de investimentos do investidor (com seus valores de cota, variância e retorno).\n",
    "Total disponível para investimento."
   ]
  },
  {
   "cell_type": "markdown",
   "metadata": {},
   "source": [
    "### Restrições"
   ]
  },
  {
   "cell_type": "code",
   "execution_count": null,
   "metadata": {},
   "outputs": [],
   "source": [
    "Variáveis de Renda Fixa >= 15% do total investido\n",
    "Variáveis Fundos Imobiliários >= 15% do total investido\n",
    "Vairáveis Ações >= 60% do total investido\n",
    "GOLD11, HASH11, BIAU39 >= 4% do total investido\n",
    "GOLD11, HASH11, BIAU39 <= 5% do total investido\n",
    "\n",
    "Será que vai escolher só uma ação pra investir? A que tem menor variância e maior retorno ao mesmo tempo?"
   ]
  },
  {
   "cell_type": "markdown",
   "metadata": {},
   "source": [
    "### Função objetivo"
   ]
  },
  {
   "cell_type": "code",
   "execution_count": null,
   "metadata": {},
   "outputs": [],
   "source": [
    "Z_maximizar = Somatório(Rendimento[i]/Variância[i])"
   ]
  },
  {
   "cell_type": "markdown",
   "metadata": {},
   "source": [
    "Realizamos alguns testes com a API de dados do Yahoo e percebemos que algumas ações e rendas fixas possuíam dados faltantes ou inexistentes, então baixamos essas e coletamos os dados manualmente."
   ]
  },
  {
   "cell_type": "code",
   "execution_count": 4,
   "metadata": {},
   "outputs": [],
   "source": [
    "variables = ['XPCI11.SA KNRI11.SA XINA11 VIVT3 TRPL4 TRIS3 TGAR11 TEND3 TAEE11 SULA11 RAIZ4 OIBR3 MXRF11 JHSF3 IVVB11 HASH11 GOLD11 GOAU4 GGBR4 FESA4 EGIE3 DIRR3 CYRE3 CSAN3 COGN3 BRPR3 BRML3 BOVA11 BIAU39 BABA34 AURA33 ALUP11 ALSO3']\n",
    "\n",
    "par = ['-22.08 -7.45 -8.94 -23.36 +0.29 -19.57 +24.53 -12.05 -3.51 -38.0 -0.8 +7.34 +9.53 -5.79 -3.85 +1.41 +2.38 +16.51 -7.68 -6.52 -17.04 +4.83 -14.84 -3.45 +22.01 +4.70 -1.77 -27.99 +14.35 -5.53 +8.66']"
   ]
  },
  {
   "cell_type": "code",
   "execution_count": 6,
   "metadata": {},
   "outputs": [
    {
     "data": {
      "text/plain": [
       "{'IPCA': -7.18,\n",
       " 'Selic': 0,\n",
       " 'Prefixado': 0,\n",
       " 'KNRI11.SA': 0,\n",
       " 'XPCI11.SA': 0,\n",
       " 'XINA11.SA': -22.08,\n",
       " 'VIVT3.SA': -7.45,\n",
       " 'TRPL4.SA': -8.94,\n",
       " 'TRIS3.SA': -23.36,\n",
       " 'TGAR11.SA': 0.29,\n",
       " 'TEND3.SA': -19.57,\n",
       " 'TAEE11.SA': 24.53,\n",
       " 'SULA11.SA': -12.05,\n",
       " 'RAIZ4.SA': -3.51,\n",
       " 'OIBR3.SA': -38.0,\n",
       " 'MXRF11.SA': -0.8,\n",
       " 'JHSF3.SA': 7.34,\n",
       " 'IVVB11.SA': 9.53,\n",
       " 'HASH11.SA': -5.79,\n",
       " 'GOLD11.SA': -3.85,\n",
       " 'GOAU4.SA': 1.41,\n",
       " 'GGBR4.SA': 2.38,\n",
       " 'FESA4.SA': 16.51,\n",
       " 'EGIE3.SA': -7.68,\n",
       " 'DIRR3.SA': -6.52,\n",
       " 'CYRE3.SA': -17.04,\n",
       " 'CSAN3.SA': 4.83,\n",
       " 'COGN3.SA': -14.84,\n",
       " 'BRPR3.SA': -3.45,\n",
       " 'BRML3.SA': 22.01,\n",
       " 'BOVA11.SA': 4.7,\n",
       " 'BIAU39.SA': -1.77,\n",
       " 'BABA34.SA': -27.99,\n",
       " 'AURA33.SA': 14.35,\n",
       " 'ALUP11.SA': -5.53,\n",
       " 'ALSO3.SA': 8.66}"
      ]
     },
     "execution_count": 6,
     "metadata": {},
     "output_type": "execute_result"
    }
   ],
   "source": [
    "return_dict = {'IPCA': -7.18, 'Selic': 0, 'Prefixado': 0, 'KNRI11.SA': 0, 'XPCI11.SA': 0, 'XINA11.SA': -22.08, 'VIVT3.SA': -7.45, 'TRPL4.SA': -8.94, 'TRIS3.SA': -23.36, 'TGAR11.SA': 0.29, 'TEND3.SA': -19.57, 'TAEE11.SA': 24.53, 'SULA11.SA': -12.05, 'RAIZ4.SA': -3.51, 'OIBR3.SA': -38.0, 'MXRF11.SA': -0.8, 'JHSF3.SA': 7.34, 'IVVB11.SA': 9.53, 'HASH11.SA': -5.79, 'GOLD11.SA': -3.85, 'GOAU4.SA': 1.41, 'GGBR4.SA': 2.38, 'FESA4.SA': 16.51, 'EGIE3.SA': -7.68, 'DIRR3.SA': -6.52, 'CYRE3.SA': -17.04, 'CSAN3.SA': 4.83, 'COGN3.SA': -14.84, 'BRPR3.SA': -3.45, 'BRML3.SA': 22.01, 'BOVA11.SA': 4.70, 'BIAU39.SA': -1.77, 'BABA34.SA': -27.99, 'AURA33.SA': 14.35, 'ALUP11.SA': -5.53, 'ALSO3.SA':8.66}\n",
    "return_dict"
   ]
  },
  {
   "cell_type": "code",
   "execution_count": 7,
   "metadata": {},
   "outputs": [
    {
     "data": {
      "text/html": [
       "<div>\n",
       "<style scoped>\n",
       "    .dataframe tbody tr th:only-of-type {\n",
       "        vertical-align: middle;\n",
       "    }\n",
       "\n",
       "    .dataframe tbody tr th {\n",
       "        vertical-align: top;\n",
       "    }\n",
       "\n",
       "    .dataframe thead th {\n",
       "        text-align: right;\n",
       "    }\n",
       "</style>\n",
       "<table border=\"1\" class=\"dataframe\">\n",
       "  <thead>\n",
       "    <tr style=\"text-align: right;\">\n",
       "      <th></th>\n",
       "      <th>Último</th>\n",
       "    </tr>\n",
       "  </thead>\n",
       "  <tbody>\n",
       "    <tr>\n",
       "      <th>0</th>\n",
       "      <td>10.785,177</td>\n",
       "    </tr>\n",
       "    <tr>\n",
       "      <th>1</th>\n",
       "      <td>10.783,554</td>\n",
       "    </tr>\n",
       "    <tr>\n",
       "      <th>2</th>\n",
       "      <td>10.781,931</td>\n",
       "    </tr>\n",
       "    <tr>\n",
       "      <th>3</th>\n",
       "      <td>10.782,094</td>\n",
       "    </tr>\n",
       "    <tr>\n",
       "      <th>4</th>\n",
       "      <td>10.780,843</td>\n",
       "    </tr>\n",
       "  </tbody>\n",
       "</table>\n",
       "</div>"
      ],
      "text/plain": [
       "       Último\n",
       "0  10.785,177\n",
       "1  10.783,554\n",
       "2  10.781,931\n",
       "3  10.782,094\n",
       "4  10.780,843"
      ]
     },
     "execution_count": 7,
     "metadata": {},
     "output_type": "execute_result"
    }
   ],
   "source": [
    "selic = pd.read_csv('data/Selic2027.csv')\n",
    "selic.drop(['Data', 'Var%', 'Abertura', 'Máxima', 'Mínima'], axis=1, inplace=True)\n",
    "selic.head()"
   ]
  },
  {
   "cell_type": "code",
   "execution_count": 8,
   "metadata": {},
   "outputs": [
    {
     "data": {
      "text/html": [
       "<div>\n",
       "<style scoped>\n",
       "    .dataframe tbody tr th:only-of-type {\n",
       "        vertical-align: middle;\n",
       "    }\n",
       "\n",
       "    .dataframe tbody tr th {\n",
       "        vertical-align: top;\n",
       "    }\n",
       "\n",
       "    .dataframe thead th {\n",
       "        text-align: right;\n",
       "    }\n",
       "</style>\n",
       "<table border=\"1\" class=\"dataframe\">\n",
       "  <thead>\n",
       "    <tr style=\"text-align: right;\">\n",
       "      <th></th>\n",
       "      <th>Último</th>\n",
       "    </tr>\n",
       "  </thead>\n",
       "  <tbody>\n",
       "    <tr>\n",
       "      <th>0</th>\n",
       "      <td>10785.177</td>\n",
       "    </tr>\n",
       "    <tr>\n",
       "      <th>1</th>\n",
       "      <td>10783.554</td>\n",
       "    </tr>\n",
       "    <tr>\n",
       "      <th>2</th>\n",
       "      <td>10781.931</td>\n",
       "    </tr>\n",
       "    <tr>\n",
       "      <th>3</th>\n",
       "      <td>10782.094</td>\n",
       "    </tr>\n",
       "    <tr>\n",
       "      <th>4</th>\n",
       "      <td>10780.843</td>\n",
       "    </tr>\n",
       "  </tbody>\n",
       "</table>\n",
       "</div>"
      ],
      "text/plain": [
       "      Último\n",
       "0  10785.177\n",
       "1  10783.554\n",
       "2  10781.931\n",
       "3  10782.094\n",
       "4  10780.843"
      ]
     },
     "execution_count": 8,
     "metadata": {},
     "output_type": "execute_result"
    }
   ],
   "source": [
    "selic['Último'] = selic['Último'].apply(lambda x: x.replace(\".\", \"\").replace(\",\",\".\")).astype(float)\n",
    "selic.head()"
   ]
  },
  {
   "cell_type": "code",
   "execution_count": 10,
   "metadata": {},
   "outputs": [
    {
     "data": {
      "text/plain": [
       "{'Selic': 7605.365255462518}"
      ]
     },
     "execution_count": 10,
     "metadata": {},
     "output_type": "execute_result"
    }
   ],
   "source": [
    "var_dict = {'Selic': selic['Último'].var()}\n",
    "var_dict"
   ]
  },
  {
   "cell_type": "code",
   "execution_count": 13,
   "metadata": {},
   "outputs": [
    {
     "data": {
      "text/html": [
       "<div>\n",
       "<style scoped>\n",
       "    .dataframe tbody tr th:only-of-type {\n",
       "        vertical-align: middle;\n",
       "    }\n",
       "\n",
       "    .dataframe tbody tr th {\n",
       "        vertical-align: top;\n",
       "    }\n",
       "\n",
       "    .dataframe thead th {\n",
       "        text-align: right;\n",
       "    }\n",
       "</style>\n",
       "<table border=\"1\" class=\"dataframe\">\n",
       "  <thead>\n",
       "    <tr style=\"text-align: right;\">\n",
       "      <th></th>\n",
       "      <th>Último</th>\n",
       "    </tr>\n",
       "  </thead>\n",
       "  <tbody>\n",
       "    <tr>\n",
       "      <th>0</th>\n",
       "      <td>656.53</td>\n",
       "    </tr>\n",
       "    <tr>\n",
       "      <th>1</th>\n",
       "      <td>660.99</td>\n",
       "    </tr>\n",
       "    <tr>\n",
       "      <th>2</th>\n",
       "      <td>666.85</td>\n",
       "    </tr>\n",
       "    <tr>\n",
       "      <th>3</th>\n",
       "      <td>671.42</td>\n",
       "    </tr>\n",
       "    <tr>\n",
       "      <th>4</th>\n",
       "      <td>668.50</td>\n",
       "    </tr>\n",
       "  </tbody>\n",
       "</table>\n",
       "</div>"
      ],
      "text/plain": [
       "   Último\n",
       "0  656.53\n",
       "1  660.99\n",
       "2  666.85\n",
       "3  671.42\n",
       "4  668.50"
      ]
     },
     "execution_count": 13,
     "metadata": {},
     "output_type": "execute_result"
    }
   ],
   "source": [
    "prefixado = pd.read_csv('data/Prefixado2026.csv')\n",
    "prefixado.drop(['Data', 'Var%', 'Abertura', 'Máxima', 'Mínima'], axis=1, inplace=True)\n",
    "prefixado['Último'] = prefixado['Último'].apply(lambda x: x.replace(\".\", \"\").replace(\",\",\".\")).astype(float)\n",
    "prefixado.head()"
   ]
  },
  {
   "cell_type": "code",
   "execution_count": 14,
   "metadata": {},
   "outputs": [
    {
     "data": {
      "text/plain": [
       "{'Selic': 7605.365255462518, 'Prefixado': 271.49614009511976}"
      ]
     },
     "execution_count": 14,
     "metadata": {},
     "output_type": "execute_result"
    }
   ],
   "source": [
    "var_dict['Prefixado'] = prefixado['Último'].var()\n",
    "var_dict"
   ]
  },
  {
   "cell_type": "code",
   "execution_count": 15,
   "metadata": {},
   "outputs": [
    {
     "data": {
      "text/html": [
       "<div>\n",
       "<style scoped>\n",
       "    .dataframe tbody tr th:only-of-type {\n",
       "        vertical-align: middle;\n",
       "    }\n",
       "\n",
       "    .dataframe tbody tr th {\n",
       "        vertical-align: top;\n",
       "    }\n",
       "\n",
       "    .dataframe thead th {\n",
       "        text-align: right;\n",
       "    }\n",
       "</style>\n",
       "<table border=\"1\" class=\"dataframe\">\n",
       "  <thead>\n",
       "    <tr style=\"text-align: right;\">\n",
       "      <th></th>\n",
       "      <th>Fechamento</th>\n",
       "    </tr>\n",
       "  </thead>\n",
       "  <tbody>\n",
       "    <tr>\n",
       "      <th>0</th>\n",
       "      <td>103.65</td>\n",
       "    </tr>\n",
       "    <tr>\n",
       "      <th>1</th>\n",
       "      <td>103.25</td>\n",
       "    </tr>\n",
       "    <tr>\n",
       "      <th>2</th>\n",
       "      <td>103.65</td>\n",
       "    </tr>\n",
       "    <tr>\n",
       "      <th>3</th>\n",
       "      <td>104.30</td>\n",
       "    </tr>\n",
       "    <tr>\n",
       "      <th>4</th>\n",
       "      <td>104.35</td>\n",
       "    </tr>\n",
       "  </tbody>\n",
       "</table>\n",
       "</div>"
      ],
      "text/plain": [
       "   Fechamento\n",
       "0      103.65\n",
       "1      103.25\n",
       "2      103.65\n",
       "3      104.30\n",
       "4      104.35"
      ]
     },
     "execution_count": 15,
     "metadata": {},
     "output_type": "execute_result"
    }
   ],
   "source": [
    "ipca = pd.read_csv('data/IMBB11.csv', sep='\\t')\n",
    "ipca.drop(['Data', 'Variação', 'Abertura', 'Máxima', 'Mínima', 'Variação (%)', 'Volume'], axis=1, inplace=True)\n",
    "ipca['Fechamento'] = ipca['Fechamento'].apply(lambda x: x.replace(\".\", \"\").replace(\",\",\".\")).astype(float)\n",
    "ipca.head()"
   ]
  },
  {
   "cell_type": "code",
   "execution_count": 16,
   "metadata": {},
   "outputs": [
    {
     "data": {
      "text/plain": [
       "{'Selic': 7605.365255462518,\n",
       " 'Prefixado': 271.49614009511976,\n",
       " 'IPCA': 5.2457444321145195}"
      ]
     },
     "execution_count": 16,
     "metadata": {},
     "output_type": "execute_result"
    }
   ],
   "source": [
    "var_dict['IPCA'] = ipca['Fechamento'].var()\n",
    "var_dict"
   ]
  },
  {
   "cell_type": "code",
   "execution_count": 17,
   "metadata": {},
   "outputs": [
    {
     "data": {
      "text/html": [
       "<div>\n",
       "<style scoped>\n",
       "    .dataframe tbody tr th:only-of-type {\n",
       "        vertical-align: middle;\n",
       "    }\n",
       "\n",
       "    .dataframe tbody tr th {\n",
       "        vertical-align: top;\n",
       "    }\n",
       "\n",
       "    .dataframe thead th {\n",
       "        text-align: right;\n",
       "    }\n",
       "</style>\n",
       "<table border=\"1\" class=\"dataframe\">\n",
       "  <thead>\n",
       "    <tr style=\"text-align: right;\">\n",
       "      <th></th>\n",
       "      <th>Último</th>\n",
       "    </tr>\n",
       "  </thead>\n",
       "  <tbody>\n",
       "    <tr>\n",
       "      <th>0</th>\n",
       "      <td>43.06</td>\n",
       "    </tr>\n",
       "    <tr>\n",
       "      <th>1</th>\n",
       "      <td>43.15</td>\n",
       "    </tr>\n",
       "    <tr>\n",
       "      <th>2</th>\n",
       "      <td>44.30</td>\n",
       "    </tr>\n",
       "    <tr>\n",
       "      <th>3</th>\n",
       "      <td>45.00</td>\n",
       "    </tr>\n",
       "    <tr>\n",
       "      <th>4</th>\n",
       "      <td>42.72</td>\n",
       "    </tr>\n",
       "  </tbody>\n",
       "</table>\n",
       "</div>"
      ],
      "text/plain": [
       "   Último\n",
       "0   43.06\n",
       "1   43.15\n",
       "2   44.30\n",
       "3   45.00\n",
       "4   42.72"
      ]
     },
     "execution_count": 17,
     "metadata": {},
     "output_type": "execute_result"
    }
   ],
   "source": [
    "hash11 = pd.read_csv('data/HASH11.csv')\n",
    "hash11.drop(['Data', 'Var%', 'Abertura', 'Máxima', 'Mínima', 'Vol.'], axis=1, inplace=True)\n",
    "hash11['Último'] = hash11['Último'].apply(lambda x: x.replace(\".\", \"\").replace(\",\",\".\")).astype(float)\n",
    "hash11.head()"
   ]
  },
  {
   "cell_type": "code",
   "execution_count": 18,
   "metadata": {},
   "outputs": [
    {
     "data": {
      "text/plain": [
       "{'Selic': 7605.365255462518,\n",
       " 'Prefixado': 271.49614009511976,\n",
       " 'IPCA': 5.2457444321145195,\n",
       " 'HASH11.SA': 74.32406074367088}"
      ]
     },
     "execution_count": 18,
     "metadata": {},
     "output_type": "execute_result"
    }
   ],
   "source": [
    "var_dict['HASH11.SA'] = hash11['Último'].var()\n",
    "var_dict"
   ]
  },
  {
   "cell_type": "code",
   "execution_count": 19,
   "metadata": {},
   "outputs": [
    {
     "data": {
      "text/html": [
       "<div>\n",
       "<style scoped>\n",
       "    .dataframe tbody tr th:only-of-type {\n",
       "        vertical-align: middle;\n",
       "    }\n",
       "\n",
       "    .dataframe tbody tr th {\n",
       "        vertical-align: top;\n",
       "    }\n",
       "\n",
       "    .dataframe thead th {\n",
       "        text-align: right;\n",
       "    }\n",
       "</style>\n",
       "<table border=\"1\" class=\"dataframe\">\n",
       "  <thead>\n",
       "    <tr style=\"text-align: right;\">\n",
       "      <th></th>\n",
       "      <th>Último</th>\n",
       "    </tr>\n",
       "  </thead>\n",
       "  <tbody>\n",
       "    <tr>\n",
       "      <th>0</th>\n",
       "      <td>123.04</td>\n",
       "    </tr>\n",
       "    <tr>\n",
       "      <th>1</th>\n",
       "      <td>122.79</td>\n",
       "    </tr>\n",
       "    <tr>\n",
       "      <th>2</th>\n",
       "      <td>124.12</td>\n",
       "    </tr>\n",
       "    <tr>\n",
       "      <th>3</th>\n",
       "      <td>125.00</td>\n",
       "    </tr>\n",
       "    <tr>\n",
       "      <th>4</th>\n",
       "      <td>124.00</td>\n",
       "    </tr>\n",
       "  </tbody>\n",
       "</table>\n",
       "</div>"
      ],
      "text/plain": [
       "   Último\n",
       "0  123.04\n",
       "1  122.79\n",
       "2  124.12\n",
       "3  125.00\n",
       "4  124.00"
      ]
     },
     "execution_count": 19,
     "metadata": {},
     "output_type": "execute_result"
    }
   ],
   "source": [
    "tgar11 = pd.read_csv('data/TGAR11.csv')\n",
    "tgar11.drop(['Data', 'Var%', 'Abertura', 'Máxima', 'Mínima', 'Vol.'], axis=1, inplace=True)\n",
    "tgar11['Último'] = tgar11['Último'].apply(lambda x: x.replace(\".\", \"\").replace(\",\",\".\")).astype(float)\n",
    "tgar11.head()"
   ]
  },
  {
   "cell_type": "code",
   "execution_count": 20,
   "metadata": {},
   "outputs": [
    {
     "data": {
      "text/plain": [
       "{'Selic': 7605.365255462518,\n",
       " 'Prefixado': 271.49614009511976,\n",
       " 'IPCA': 5.2457444321145195,\n",
       " 'HASH11.SA': 74.32406074367088,\n",
       " 'TGAR11.SA': 17.432172175786853}"
      ]
     },
     "execution_count": 20,
     "metadata": {},
     "output_type": "execute_result"
    }
   ],
   "source": [
    "var_dict['TGAR11.SA'] = tgar11['Último'].var()\n",
    "var_dict"
   ]
  },
  {
   "cell_type": "code",
   "execution_count": 21,
   "metadata": {},
   "outputs": [
    {
     "data": {
      "text/html": [
       "<div>\n",
       "<style scoped>\n",
       "    .dataframe tbody tr th:only-of-type {\n",
       "        vertical-align: middle;\n",
       "    }\n",
       "\n",
       "    .dataframe tbody tr th {\n",
       "        vertical-align: top;\n",
       "    }\n",
       "\n",
       "    .dataframe thead th {\n",
       "        text-align: right;\n",
       "    }\n",
       "</style>\n",
       "<table border=\"1\" class=\"dataframe\">\n",
       "  <thead>\n",
       "    <tr style=\"text-align: right;\">\n",
       "      <th></th>\n",
       "      <th>Último</th>\n",
       "    </tr>\n",
       "  </thead>\n",
       "  <tbody>\n",
       "    <tr>\n",
       "      <th>0</th>\n",
       "      <td>45.50</td>\n",
       "    </tr>\n",
       "    <tr>\n",
       "      <th>1</th>\n",
       "      <td>44.65</td>\n",
       "    </tr>\n",
       "    <tr>\n",
       "      <th>2</th>\n",
       "      <td>44.88</td>\n",
       "    </tr>\n",
       "    <tr>\n",
       "      <th>3</th>\n",
       "      <td>44.35</td>\n",
       "    </tr>\n",
       "    <tr>\n",
       "      <th>4</th>\n",
       "      <td>43.77</td>\n",
       "    </tr>\n",
       "  </tbody>\n",
       "</table>\n",
       "</div>"
      ],
      "text/plain": [
       "   Último\n",
       "0   45.50\n",
       "1   44.65\n",
       "2   44.88\n",
       "3   44.35\n",
       "4   43.77"
      ]
     },
     "execution_count": 21,
     "metadata": {},
     "output_type": "execute_result"
    }
   ],
   "source": [
    "biau39 = pd.read_csv('data/BIAU39.csv')\n",
    "biau39.drop(['Data', 'Var%', 'Abertura', 'Máxima', 'Mínima', 'Vol.'], axis=1, inplace=True)\n",
    "biau39['Último'] = biau39['Último'].apply(lambda x: x.replace(\".\", \"\").replace(\",\",\".\")).astype(float)\n",
    "biau39.head()"
   ]
  },
  {
   "cell_type": "code",
   "execution_count": 22,
   "metadata": {},
   "outputs": [
    {
     "data": {
      "text/plain": [
       "{'Selic': 7605.365255462518,\n",
       " 'Prefixado': 271.49614009511976,\n",
       " 'IPCA': 5.2457444321145195,\n",
       " 'HASH11.SA': 74.32406074367088,\n",
       " 'TGAR11.SA': 17.432172175786853,\n",
       " 'BIAU39.SA': 2.374279376623375}"
      ]
     },
     "execution_count": 22,
     "metadata": {},
     "output_type": "execute_result"
    }
   ],
   "source": [
    "var_dict['BIAU39.SA'] = biau39['Último'].var()\n",
    "var_dict"
   ]
  },
  {
   "cell_type": "code",
   "execution_count": 23,
   "metadata": {},
   "outputs": [
    {
     "data": {
      "text/html": [
       "<div>\n",
       "<style scoped>\n",
       "    .dataframe tbody tr th:only-of-type {\n",
       "        vertical-align: middle;\n",
       "    }\n",
       "\n",
       "    .dataframe tbody tr th {\n",
       "        vertical-align: top;\n",
       "    }\n",
       "\n",
       "    .dataframe thead th {\n",
       "        text-align: right;\n",
       "    }\n",
       "</style>\n",
       "<table border=\"1\" class=\"dataframe\">\n",
       "  <thead>\n",
       "    <tr style=\"text-align: right;\">\n",
       "      <th></th>\n",
       "      <th>Último</th>\n",
       "    </tr>\n",
       "  </thead>\n",
       "  <tbody>\n",
       "    <tr>\n",
       "      <th>0</th>\n",
       "      <td>10.22</td>\n",
       "    </tr>\n",
       "    <tr>\n",
       "      <th>1</th>\n",
       "      <td>10.06</td>\n",
       "    </tr>\n",
       "    <tr>\n",
       "      <th>2</th>\n",
       "      <td>10.10</td>\n",
       "    </tr>\n",
       "    <tr>\n",
       "      <th>3</th>\n",
       "      <td>9.98</td>\n",
       "    </tr>\n",
       "    <tr>\n",
       "      <th>4</th>\n",
       "      <td>9.85</td>\n",
       "    </tr>\n",
       "  </tbody>\n",
       "</table>\n",
       "</div>"
      ],
      "text/plain": [
       "   Último\n",
       "0   10.22\n",
       "1   10.06\n",
       "2   10.10\n",
       "3    9.98\n",
       "4    9.85"
      ]
     },
     "execution_count": 23,
     "metadata": {},
     "output_type": "execute_result"
    }
   ],
   "source": [
    "gold11 = pd.read_csv('data/GOLD11.csv')\n",
    "gold11.drop(['Data', 'Var%', 'Abertura', 'Máxima', 'Mínima', 'Vol.'], axis=1, inplace=True)\n",
    "gold11['Último'] = gold11['Último'].apply(lambda x: x.replace(\".\", \"\").replace(\",\",\".\")).astype(float)\n",
    "gold11.head()"
   ]
  },
  {
   "cell_type": "code",
   "execution_count": 24,
   "metadata": {},
   "outputs": [
    {
     "data": {
      "text/plain": [
       "{'Selic': 7605.365255462518,\n",
       " 'Prefixado': 271.49614009511976,\n",
       " 'IPCA': 5.2457444321145195,\n",
       " 'HASH11.SA': 74.32406074367088,\n",
       " 'TGAR11.SA': 17.432172175786853,\n",
       " 'BIAU39.SA': 2.374279376623375,\n",
       " 'GOLD11.SA': 0.12897262139466956}"
      ]
     },
     "execution_count": 24,
     "metadata": {},
     "output_type": "execute_result"
    }
   ],
   "source": [
    "var_dict['GOLD11.SA'] = gold11['Último'].var()\n",
    "var_dict"
   ]
  },
  {
   "cell_type": "code",
   "execution_count": 25,
   "metadata": {},
   "outputs": [
    {
     "data": {
      "text/html": [
       "<div>\n",
       "<style scoped>\n",
       "    .dataframe tbody tr th:only-of-type {\n",
       "        vertical-align: middle;\n",
       "    }\n",
       "\n",
       "    .dataframe tbody tr th {\n",
       "        vertical-align: top;\n",
       "    }\n",
       "\n",
       "    .dataframe thead th {\n",
       "        text-align: right;\n",
       "    }\n",
       "</style>\n",
       "<table border=\"1\" class=\"dataframe\">\n",
       "  <thead>\n",
       "    <tr style=\"text-align: right;\">\n",
       "      <th></th>\n",
       "      <th>Último</th>\n",
       "    </tr>\n",
       "  </thead>\n",
       "  <tbody>\n",
       "    <tr>\n",
       "      <th>0</th>\n",
       "      <td>8.96</td>\n",
       "    </tr>\n",
       "    <tr>\n",
       "      <th>1</th>\n",
       "      <td>8.74</td>\n",
       "    </tr>\n",
       "    <tr>\n",
       "      <th>2</th>\n",
       "      <td>8.98</td>\n",
       "    </tr>\n",
       "    <tr>\n",
       "      <th>3</th>\n",
       "      <td>9.11</td>\n",
       "    </tr>\n",
       "    <tr>\n",
       "      <th>4</th>\n",
       "      <td>9.16</td>\n",
       "    </tr>\n",
       "  </tbody>\n",
       "</table>\n",
       "</div>"
      ],
      "text/plain": [
       "   Último\n",
       "0    8.96\n",
       "1    8.74\n",
       "2    8.98\n",
       "3    9.11\n",
       "4    9.16"
      ]
     },
     "execution_count": 25,
     "metadata": {},
     "output_type": "execute_result"
    }
   ],
   "source": [
    "xina11 = pd.read_csv('data/XINA11.csv')\n",
    "xina11.drop(['Data', 'Var%', 'Abertura', 'Máxima', 'Mínima', 'Vol.'], axis=1, inplace=True)\n",
    "xina11['Último'] = xina11['Último'].apply(lambda x: x.replace(\".\", \"\").replace(\",\",\".\")).astype(float)\n",
    "xina11.head()"
   ]
  },
  {
   "cell_type": "code",
   "execution_count": 78,
   "metadata": {},
   "outputs": [
    {
     "data": {
      "text/plain": [
       "{'Selic': 7605.365255462518,\n",
       " 'Prefixado': 271.49614009511976,\n",
       " 'IPCA': 5.2457444321145195,\n",
       " 'HASH11.SA': 74.32406074367088,\n",
       " 'TGAR11.SA': 17.432172175786853,\n",
       " 'BIAU39.SA': 2.374279376623375,\n",
       " 'GOLD11.SA': 0.12897262139466956,\n",
       " 'XINA11.SA': 1.0428390993788819,\n",
       " 'ALSO3.SA': 3.9266077594837405,\n",
       " 'ALUP11.SA': 1.8439184722675295,\n",
       " 'AURA33.SA': 27.778013688907958,\n",
       " 'BABA34.SA': 57.61030330665792,\n",
       " 'BOVA11.SA': 94.23753561072513,\n",
       " 'BRML3.SA': 0.6152857866782704,\n",
       " 'BRPR3.SA': 0.3788250391151658,\n",
       " 'COGN3.SA': 0.4364014095957223,\n",
       " 'CSAN3.SA': 7.493291798647889,\n",
       " 'CYRE3.SA': 6.811024324399719,\n",
       " 'DIRR3.SA': 0.8545024002063789,\n",
       " 'EGIE3.SA': 4.20942860266131,\n",
       " 'FESA4.SA': 143.89967776462512,\n",
       " 'GGBR4.SA': 21.53034882868512,\n",
       " 'GOAU4.SA': 4.359683169530929,\n",
       " 'IVVB11.SA': 358.0353922522489,\n",
       " 'JHSF3.SA': 0.16195122064316322,\n",
       " 'KNRI11.SA': 100.35645035908125,\n",
       " 'MXRF11.SA': 0.04682152864538497,\n",
       " 'OIBR3.SA': 0.1093045032344826,\n",
       " 'RAIZ4.SA': 0.02368291681450406,\n",
       " 'SULA11.SA': 13.83113895442458,\n",
       " 'TAEE11.SA': 19.151081656289985,\n",
       " 'TEND3.SA': 7.647837720589181,\n",
       " 'TRIS3.SA': 1.559991011557123,\n",
       " 'TRPL4.SA': 3.8824109223447865,\n",
       " 'VIVT3.SA': 3.770461911497227,\n",
       " 'XPCI11.SA': 22.27801751912416}"
      ]
     },
     "execution_count": 78,
     "metadata": {},
     "output_type": "execute_result"
    }
   ],
   "source": [
    "var_dict['XINA11.SA'] = xina11['Último'].var()\n",
    "var_dict"
   ]
  },
  {
   "cell_type": "markdown",
   "metadata": {},
   "source": [
    "Coletados os dados faltantes podemos obter o restante pela API."
   ]
  },
  {
   "cell_type": "code",
   "execution_count": 27,
   "metadata": {},
   "outputs": [
    {
     "name": "stdout",
     "output_type": "stream",
     "text": [
      "[*********************100%***********************]  28 of 28 completed\n"
     ]
    }
   ],
   "source": [
    "df = yf.download(tickers=\"KNRI11.SA XPCI11.SA VIVT3.SA TRPL4.SA TRIS3.SA TEND3.SA TAEE11.SA SULA11.SA RAIZ4.SA OIBR3.SA MXRF11.SA JHSF3.SA IVVB11.SA GOAU4.SA GGBR4.SA FESA4.SA EGIE3.SA DIRR3.SA CYRE3.SA CSAN3.SA COGN3.SA BRPR3.SA BRML3.SA BOVA11.SA BABA34.SA AURA33.SA ALUP11.SA ALSO3.SA\",\n",
    "                 period='1y')#start=\"2018-01-01\", end=\"2021-08-11\")"
   ]
  },
  {
   "cell_type": "code",
   "execution_count": 29,
   "metadata": {},
   "outputs": [
    {
     "data": {
      "text/html": [
       "<div>\n",
       "<style scoped>\n",
       "    .dataframe tbody tr th:only-of-type {\n",
       "        vertical-align: middle;\n",
       "    }\n",
       "\n",
       "    .dataframe tbody tr th {\n",
       "        vertical-align: top;\n",
       "    }\n",
       "\n",
       "    .dataframe thead tr th {\n",
       "        text-align: left;\n",
       "    }\n",
       "\n",
       "    .dataframe thead tr:last-of-type th {\n",
       "        text-align: right;\n",
       "    }\n",
       "</style>\n",
       "<table border=\"1\" class=\"dataframe\">\n",
       "  <thead>\n",
       "    <tr>\n",
       "      <th></th>\n",
       "      <th colspan=\"10\" halign=\"left\">Adj Close</th>\n",
       "      <th>...</th>\n",
       "      <th colspan=\"10\" halign=\"left\">Volume</th>\n",
       "    </tr>\n",
       "    <tr>\n",
       "      <th></th>\n",
       "      <th>ALSO3.SA</th>\n",
       "      <th>ALUP11.SA</th>\n",
       "      <th>AURA33.SA</th>\n",
       "      <th>BABA34.SA</th>\n",
       "      <th>BOVA11.SA</th>\n",
       "      <th>BRML3.SA</th>\n",
       "      <th>BRPR3.SA</th>\n",
       "      <th>COGN3.SA</th>\n",
       "      <th>CSAN3.SA</th>\n",
       "      <th>CYRE3.SA</th>\n",
       "      <th>...</th>\n",
       "      <th>MXRF11.SA</th>\n",
       "      <th>OIBR3.SA</th>\n",
       "      <th>RAIZ4.SA</th>\n",
       "      <th>SULA11.SA</th>\n",
       "      <th>TAEE11.SA</th>\n",
       "      <th>TEND3.SA</th>\n",
       "      <th>TRIS3.SA</th>\n",
       "      <th>TRPL4.SA</th>\n",
       "      <th>VIVT3.SA</th>\n",
       "      <th>XPCI11.SA</th>\n",
       "    </tr>\n",
       "    <tr>\n",
       "      <th>Date</th>\n",
       "      <th></th>\n",
       "      <th></th>\n",
       "      <th></th>\n",
       "      <th></th>\n",
       "      <th></th>\n",
       "      <th></th>\n",
       "      <th></th>\n",
       "      <th></th>\n",
       "      <th></th>\n",
       "      <th></th>\n",
       "      <th></th>\n",
       "      <th></th>\n",
       "      <th></th>\n",
       "      <th></th>\n",
       "      <th></th>\n",
       "      <th></th>\n",
       "      <th></th>\n",
       "      <th></th>\n",
       "      <th></th>\n",
       "      <th></th>\n",
       "      <th></th>\n",
       "    </tr>\n",
       "  </thead>\n",
       "  <tbody>\n",
       "    <tr>\n",
       "      <th>2020-08-26</th>\n",
       "      <td>26.376539</td>\n",
       "      <td>22.844492</td>\n",
       "      <td>60.673073</td>\n",
       "      <td>57.946426</td>\n",
       "      <td>96.629997</td>\n",
       "      <td>9.43</td>\n",
       "      <td>9.058205</td>\n",
       "      <td>6.06</td>\n",
       "      <td>20.473114</td>\n",
       "      <td>21.527037</td>\n",
       "      <td>...</td>\n",
       "      <td>1039615</td>\n",
       "      <td>160672400</td>\n",
       "      <td>NaN</td>\n",
       "      <td>3725546</td>\n",
       "      <td>2910700</td>\n",
       "      <td>1167100</td>\n",
       "      <td>2203200</td>\n",
       "      <td>1806400</td>\n",
       "      <td>144100</td>\n",
       "      <td>35110</td>\n",
       "    </tr>\n",
       "    <tr>\n",
       "      <th>2020-08-27</th>\n",
       "      <td>26.198051</td>\n",
       "      <td>22.621761</td>\n",
       "      <td>60.206356</td>\n",
       "      <td>57.142857</td>\n",
       "      <td>96.870003</td>\n",
       "      <td>9.42</td>\n",
       "      <td>9.077768</td>\n",
       "      <td>6.07</td>\n",
       "      <td>20.490412</td>\n",
       "      <td>21.445114</td>\n",
       "      <td>...</td>\n",
       "      <td>1203841</td>\n",
       "      <td>144504600</td>\n",
       "      <td>NaN</td>\n",
       "      <td>2124932</td>\n",
       "      <td>1964700</td>\n",
       "      <td>1040800</td>\n",
       "      <td>2576200</td>\n",
       "      <td>1860200</td>\n",
       "      <td>99200</td>\n",
       "      <td>45067</td>\n",
       "    </tr>\n",
       "    <tr>\n",
       "      <th>2020-08-28</th>\n",
       "      <td>26.971498</td>\n",
       "      <td>22.951017</td>\n",
       "      <td>61.559830</td>\n",
       "      <td>55.855000</td>\n",
       "      <td>98.300003</td>\n",
       "      <td>9.46</td>\n",
       "      <td>9.048423</td>\n",
       "      <td>6.01</td>\n",
       "      <td>21.239155</td>\n",
       "      <td>23.028923</td>\n",
       "      <td>...</td>\n",
       "      <td>775772</td>\n",
       "      <td>194679300</td>\n",
       "      <td>NaN</td>\n",
       "      <td>2915678</td>\n",
       "      <td>2261900</td>\n",
       "      <td>1680400</td>\n",
       "      <td>3408600</td>\n",
       "      <td>1667000</td>\n",
       "      <td>89100</td>\n",
       "      <td>8858</td>\n",
       "    </tr>\n",
       "    <tr>\n",
       "      <th>2020-08-31</th>\n",
       "      <td>26.198051</td>\n",
       "      <td>22.689550</td>\n",
       "      <td>61.606503</td>\n",
       "      <td>56.404285</td>\n",
       "      <td>95.699997</td>\n",
       "      <td>9.28</td>\n",
       "      <td>8.960383</td>\n",
       "      <td>5.70</td>\n",
       "      <td>20.571959</td>\n",
       "      <td>21.945745</td>\n",
       "      <td>...</td>\n",
       "      <td>641784</td>\n",
       "      <td>161727000</td>\n",
       "      <td>NaN</td>\n",
       "      <td>3707720</td>\n",
       "      <td>1834700</td>\n",
       "      <td>901800</td>\n",
       "      <td>2086300</td>\n",
       "      <td>1288200</td>\n",
       "      <td>173100</td>\n",
       "      <td>86349</td>\n",
       "    </tr>\n",
       "    <tr>\n",
       "      <th>2020-09-01</th>\n",
       "      <td>27.149986</td>\n",
       "      <td>22.931648</td>\n",
       "      <td>61.139786</td>\n",
       "      <td>57.197857</td>\n",
       "      <td>98.349998</td>\n",
       "      <td>9.67</td>\n",
       "      <td>9.234282</td>\n",
       "      <td>5.95</td>\n",
       "      <td>20.186466</td>\n",
       "      <td>22.328043</td>\n",
       "      <td>...</td>\n",
       "      <td>631117</td>\n",
       "      <td>115320300</td>\n",
       "      <td>NaN</td>\n",
       "      <td>4156086</td>\n",
       "      <td>3036900</td>\n",
       "      <td>1324700</td>\n",
       "      <td>1649900</td>\n",
       "      <td>2258000</td>\n",
       "      <td>103800</td>\n",
       "      <td>48006</td>\n",
       "    </tr>\n",
       "  </tbody>\n",
       "</table>\n",
       "<p>5 rows × 168 columns</p>\n",
       "</div>"
      ],
      "text/plain": [
       "            Adj Close                                                       \\\n",
       "             ALSO3.SA  ALUP11.SA  AURA33.SA  BABA34.SA  BOVA11.SA BRML3.SA   \n",
       "Date                                                                         \n",
       "2020-08-26  26.376539  22.844492  60.673073  57.946426  96.629997     9.43   \n",
       "2020-08-27  26.198051  22.621761  60.206356  57.142857  96.870003     9.42   \n",
       "2020-08-28  26.971498  22.951017  61.559830  55.855000  98.300003     9.46   \n",
       "2020-08-31  26.198051  22.689550  61.606503  56.404285  95.699997     9.28   \n",
       "2020-09-01  27.149986  22.931648  61.139786  57.197857  98.349998     9.67   \n",
       "\n",
       "                                                     ...    Volume             \\\n",
       "            BRPR3.SA COGN3.SA   CSAN3.SA   CYRE3.SA  ... MXRF11.SA   OIBR3.SA   \n",
       "Date                                                 ...                        \n",
       "2020-08-26  9.058205     6.06  20.473114  21.527037  ...   1039615  160672400   \n",
       "2020-08-27  9.077768     6.07  20.490412  21.445114  ...   1203841  144504600   \n",
       "2020-08-28  9.048423     6.01  21.239155  23.028923  ...    775772  194679300   \n",
       "2020-08-31  8.960383     5.70  20.571959  21.945745  ...    641784  161727000   \n",
       "2020-09-01  9.234282     5.95  20.186466  22.328043  ...    631117  115320300   \n",
       "\n",
       "                                                                             \\\n",
       "           RAIZ4.SA SULA11.SA TAEE11.SA TEND3.SA TRIS3.SA TRPL4.SA VIVT3.SA   \n",
       "Date                                                                          \n",
       "2020-08-26      NaN   3725546   2910700  1167100  2203200  1806400   144100   \n",
       "2020-08-27      NaN   2124932   1964700  1040800  2576200  1860200    99200   \n",
       "2020-08-28      NaN   2915678   2261900  1680400  3408600  1667000    89100   \n",
       "2020-08-31      NaN   3707720   1834700   901800  2086300  1288200   173100   \n",
       "2020-09-01      NaN   4156086   3036900  1324700  1649900  2258000   103800   \n",
       "\n",
       "                      \n",
       "           XPCI11.SA  \n",
       "Date                  \n",
       "2020-08-26     35110  \n",
       "2020-08-27     45067  \n",
       "2020-08-28      8858  \n",
       "2020-08-31     86349  \n",
       "2020-09-01     48006  \n",
       "\n",
       "[5 rows x 168 columns]"
      ]
     },
     "execution_count": 29,
     "metadata": {},
     "output_type": "execute_result"
    }
   ],
   "source": [
    "df.head()"
   ]
  },
  {
   "cell_type": "code",
   "execution_count": 30,
   "metadata": {},
   "outputs": [
    {
     "data": {
      "text/html": [
       "<div>\n",
       "<style scoped>\n",
       "    .dataframe tbody tr th:only-of-type {\n",
       "        vertical-align: middle;\n",
       "    }\n",
       "\n",
       "    .dataframe tbody tr th {\n",
       "        vertical-align: top;\n",
       "    }\n",
       "\n",
       "    .dataframe thead th {\n",
       "        text-align: right;\n",
       "    }\n",
       "</style>\n",
       "<table border=\"1\" class=\"dataframe\">\n",
       "  <thead>\n",
       "    <tr style=\"text-align: right;\">\n",
       "      <th></th>\n",
       "      <th>ALSO3.SA</th>\n",
       "      <th>ALUP11.SA</th>\n",
       "      <th>AURA33.SA</th>\n",
       "      <th>BABA34.SA</th>\n",
       "      <th>BOVA11.SA</th>\n",
       "      <th>BRML3.SA</th>\n",
       "      <th>BRPR3.SA</th>\n",
       "      <th>COGN3.SA</th>\n",
       "      <th>CSAN3.SA</th>\n",
       "      <th>CYRE3.SA</th>\n",
       "      <th>...</th>\n",
       "      <th>MXRF11.SA</th>\n",
       "      <th>OIBR3.SA</th>\n",
       "      <th>RAIZ4.SA</th>\n",
       "      <th>SULA11.SA</th>\n",
       "      <th>TAEE11.SA</th>\n",
       "      <th>TEND3.SA</th>\n",
       "      <th>TRIS3.SA</th>\n",
       "      <th>TRPL4.SA</th>\n",
       "      <th>VIVT3.SA</th>\n",
       "      <th>XPCI11.SA</th>\n",
       "    </tr>\n",
       "    <tr>\n",
       "      <th>Date</th>\n",
       "      <th></th>\n",
       "      <th></th>\n",
       "      <th></th>\n",
       "      <th></th>\n",
       "      <th></th>\n",
       "      <th></th>\n",
       "      <th></th>\n",
       "      <th></th>\n",
       "      <th></th>\n",
       "      <th></th>\n",
       "      <th></th>\n",
       "      <th></th>\n",
       "      <th></th>\n",
       "      <th></th>\n",
       "      <th></th>\n",
       "      <th></th>\n",
       "      <th></th>\n",
       "      <th></th>\n",
       "      <th></th>\n",
       "      <th></th>\n",
       "      <th></th>\n",
       "    </tr>\n",
       "  </thead>\n",
       "  <tbody>\n",
       "    <tr>\n",
       "      <th>2020-08-26</th>\n",
       "      <td>26.600000</td>\n",
       "      <td>23.590000</td>\n",
       "      <td>65.000000</td>\n",
       "      <td>57.946426</td>\n",
       "      <td>96.629997</td>\n",
       "      <td>9.43</td>\n",
       "      <td>9.26</td>\n",
       "      <td>6.06</td>\n",
       "      <td>20.712500</td>\n",
       "      <td>23.650000</td>\n",
       "      <td>...</td>\n",
       "      <td>10.42</td>\n",
       "      <td>1.67</td>\n",
       "      <td>NaN</td>\n",
       "      <td>41.373528</td>\n",
       "      <td>28.260000</td>\n",
       "      <td>31.170000</td>\n",
       "      <td>12.23</td>\n",
       "      <td>21.610001</td>\n",
       "      <td>49.299999</td>\n",
       "      <td>86.250000</td>\n",
       "    </tr>\n",
       "    <tr>\n",
       "      <th>2020-08-27</th>\n",
       "      <td>26.420000</td>\n",
       "      <td>23.360001</td>\n",
       "      <td>64.500000</td>\n",
       "      <td>57.142857</td>\n",
       "      <td>96.870003</td>\n",
       "      <td>9.42</td>\n",
       "      <td>9.28</td>\n",
       "      <td>6.07</td>\n",
       "      <td>20.730000</td>\n",
       "      <td>23.559999</td>\n",
       "      <td>...</td>\n",
       "      <td>10.42</td>\n",
       "      <td>1.60</td>\n",
       "      <td>NaN</td>\n",
       "      <td>40.836689</td>\n",
       "      <td>28.250000</td>\n",
       "      <td>30.969999</td>\n",
       "      <td>12.00</td>\n",
       "      <td>21.280001</td>\n",
       "      <td>49.279999</td>\n",
       "      <td>85.150002</td>\n",
       "    </tr>\n",
       "    <tr>\n",
       "      <th>2020-08-28</th>\n",
       "      <td>27.200001</td>\n",
       "      <td>23.700001</td>\n",
       "      <td>65.949997</td>\n",
       "      <td>55.855000</td>\n",
       "      <td>98.300003</td>\n",
       "      <td>9.46</td>\n",
       "      <td>9.25</td>\n",
       "      <td>6.01</td>\n",
       "      <td>21.487499</td>\n",
       "      <td>25.299999</td>\n",
       "      <td>...</td>\n",
       "      <td>10.54</td>\n",
       "      <td>1.72</td>\n",
       "      <td>NaN</td>\n",
       "      <td>41.466084</td>\n",
       "      <td>28.400000</td>\n",
       "      <td>31.690001</td>\n",
       "      <td>12.38</td>\n",
       "      <td>21.549999</td>\n",
       "      <td>49.689999</td>\n",
       "      <td>86.459999</td>\n",
       "    </tr>\n",
       "    <tr>\n",
       "      <th>2020-08-31</th>\n",
       "      <td>26.420000</td>\n",
       "      <td>23.430000</td>\n",
       "      <td>66.000000</td>\n",
       "      <td>56.404285</td>\n",
       "      <td>95.699997</td>\n",
       "      <td>9.28</td>\n",
       "      <td>9.16</td>\n",
       "      <td>5.70</td>\n",
       "      <td>20.812500</td>\n",
       "      <td>24.110001</td>\n",
       "      <td>...</td>\n",
       "      <td>10.67</td>\n",
       "      <td>1.70</td>\n",
       "      <td>NaN</td>\n",
       "      <td>40.401665</td>\n",
       "      <td>28.270000</td>\n",
       "      <td>30.690001</td>\n",
       "      <td>12.19</td>\n",
       "      <td>21.430000</td>\n",
       "      <td>48.500000</td>\n",
       "      <td>87.000000</td>\n",
       "    </tr>\n",
       "    <tr>\n",
       "      <th>2020-09-01</th>\n",
       "      <td>27.379999</td>\n",
       "      <td>23.680000</td>\n",
       "      <td>65.500000</td>\n",
       "      <td>57.197857</td>\n",
       "      <td>98.349998</td>\n",
       "      <td>9.67</td>\n",
       "      <td>9.44</td>\n",
       "      <td>5.95</td>\n",
       "      <td>20.422501</td>\n",
       "      <td>24.530001</td>\n",
       "      <td>...</td>\n",
       "      <td>10.52</td>\n",
       "      <td>1.78</td>\n",
       "      <td>NaN</td>\n",
       "      <td>40.901478</td>\n",
       "      <td>28.549999</td>\n",
       "      <td>31.110001</td>\n",
       "      <td>12.58</td>\n",
       "      <td>21.299999</td>\n",
       "      <td>49.180000</td>\n",
       "      <td>86.449997</td>\n",
       "    </tr>\n",
       "  </tbody>\n",
       "</table>\n",
       "<p>5 rows × 28 columns</p>\n",
       "</div>"
      ],
      "text/plain": [
       "             ALSO3.SA  ALUP11.SA  AURA33.SA  BABA34.SA  BOVA11.SA  BRML3.SA  \\\n",
       "Date                                                                          \n",
       "2020-08-26  26.600000  23.590000  65.000000  57.946426  96.629997      9.43   \n",
       "2020-08-27  26.420000  23.360001  64.500000  57.142857  96.870003      9.42   \n",
       "2020-08-28  27.200001  23.700001  65.949997  55.855000  98.300003      9.46   \n",
       "2020-08-31  26.420000  23.430000  66.000000  56.404285  95.699997      9.28   \n",
       "2020-09-01  27.379999  23.680000  65.500000  57.197857  98.349998      9.67   \n",
       "\n",
       "            BRPR3.SA  COGN3.SA   CSAN3.SA   CYRE3.SA  ...  MXRF11.SA  \\\n",
       "Date                                                  ...              \n",
       "2020-08-26      9.26      6.06  20.712500  23.650000  ...      10.42   \n",
       "2020-08-27      9.28      6.07  20.730000  23.559999  ...      10.42   \n",
       "2020-08-28      9.25      6.01  21.487499  25.299999  ...      10.54   \n",
       "2020-08-31      9.16      5.70  20.812500  24.110001  ...      10.67   \n",
       "2020-09-01      9.44      5.95  20.422501  24.530001  ...      10.52   \n",
       "\n",
       "            OIBR3.SA  RAIZ4.SA  SULA11.SA  TAEE11.SA   TEND3.SA  TRIS3.SA  \\\n",
       "Date                                                                        \n",
       "2020-08-26      1.67       NaN  41.373528  28.260000  31.170000     12.23   \n",
       "2020-08-27      1.60       NaN  40.836689  28.250000  30.969999     12.00   \n",
       "2020-08-28      1.72       NaN  41.466084  28.400000  31.690001     12.38   \n",
       "2020-08-31      1.70       NaN  40.401665  28.270000  30.690001     12.19   \n",
       "2020-09-01      1.78       NaN  40.901478  28.549999  31.110001     12.58   \n",
       "\n",
       "             TRPL4.SA   VIVT3.SA  XPCI11.SA  \n",
       "Date                                         \n",
       "2020-08-26  21.610001  49.299999  86.250000  \n",
       "2020-08-27  21.280001  49.279999  85.150002  \n",
       "2020-08-28  21.549999  49.689999  86.459999  \n",
       "2020-08-31  21.430000  48.500000  87.000000  \n",
       "2020-09-01  21.299999  49.180000  86.449997  \n",
       "\n",
       "[5 rows x 28 columns]"
      ]
     },
     "execution_count": 30,
     "metadata": {},
     "output_type": "execute_result"
    }
   ],
   "source": [
    "df_close = df['Close']\n",
    "df_close.head()"
   ]
  },
  {
   "cell_type": "code",
   "execution_count": 59,
   "metadata": {},
   "outputs": [
    {
     "data": {
      "text/plain": [
       "{'Selic': 7605.365255462518,\n",
       " 'Prefixado': 271.49614009511976,\n",
       " 'IPCA': 5.2457444321145195,\n",
       " 'HASH11.SA': 74.32406074367088,\n",
       " 'TGAR11.SA': 17.432172175786853,\n",
       " 'BIAU39.SA': 2.374279376623375,\n",
       " 'GOLD11.SA': 0.12897262139466956,\n",
       " 'XINA11.SA': 1.0428390993788819}"
      ]
     },
     "execution_count": 59,
     "metadata": {},
     "output_type": "execute_result"
    }
   ],
   "source": [
    "var_dict"
   ]
  },
  {
   "cell_type": "code",
   "execution_count": 79,
   "metadata": {},
   "outputs": [],
   "source": [
    "for column in df_close.columns:\n",
    "    var_dict[column] = df_close[column].var()"
   ]
  },
  {
   "cell_type": "markdown",
   "metadata": {},
   "source": [
    "E por fim temos os dois dicionários para formar a função objetivo de um tipo de carteira que foi solicitado pelo investidor. O mesmo nos explicou que gostaria de aplicar mais dinheiro em ações/fundos/rendas fixas menos voláteis e ao mesmo tempo, levar em consideração quanto cada investimento o retornou desde sua compra."
   ]
  },
  {
   "cell_type": "code",
   "execution_count": 63,
   "metadata": {},
   "outputs": [
    {
     "data": {
      "text/plain": [
       "{'Selic': 7605.365255462518,\n",
       " 'Prefixado': 271.49614009511976,\n",
       " 'IPCA': 5.2457444321145195,\n",
       " 'HASH11.SA': 74.32406074367088,\n",
       " 'TGAR11.SA': 17.432172175786853,\n",
       " 'BIAU39.SA': 2.374279376623375,\n",
       " 'GOLD11.SA': 0.12897262139466956,\n",
       " 'XINA11.SA': 1.0428390993788819,\n",
       " 'ALSO3.SA': 3.9266077594837405,\n",
       " 'ALUP11.SA': 1.8439184722675295,\n",
       " 'AURA33.SA': 27.778013688907958,\n",
       " 'BABA34.SA': 57.61030330665792,\n",
       " 'BOVA11.SA': 94.23753561072513,\n",
       " 'BRML3.SA': 0.6152857866782704,\n",
       " 'BRPR3.SA': 0.3788250391151658,\n",
       " 'COGN3.SA': 0.4364014095957223,\n",
       " 'CSAN3.SA': 7.493291798647889,\n",
       " 'CYRE3.SA': 6.811024324399719,\n",
       " 'DIRR3.SA': 0.8545024002063789,\n",
       " 'EGIE3.SA': 4.20942860266131,\n",
       " 'FESA4.SA': 143.89967776462512,\n",
       " 'GGBR4.SA': 21.53034882868512,\n",
       " 'GOAU4.SA': 4.359683169530929,\n",
       " 'IVVB11.SA': 358.0353922522489,\n",
       " 'JHSF3.SA': 0.16195122064316322,\n",
       " 'KNRI11.SA': 100.35645035908125,\n",
       " 'MXRF11.SA': 0.04682152864538497,\n",
       " 'OIBR3.SA': 0.1093045032344826,\n",
       " 'RAIZ4.SA': 0.02368291681450406,\n",
       " 'SULA11.SA': 13.83113895442458,\n",
       " 'TAEE11.SA': 19.151081656289985,\n",
       " 'TEND3.SA': 7.647837720589181,\n",
       " 'TRIS3.SA': 1.559991011557123,\n",
       " 'TRPL4.SA': 3.8824109223447865,\n",
       " 'VIVT3.SA': 3.770461911497227,\n",
       " 'XPCI11.SA': 22.27801751912416}"
      ]
     },
     "execution_count": 63,
     "metadata": {},
     "output_type": "execute_result"
    }
   ],
   "source": [
    "var_dict"
   ]
  },
  {
   "cell_type": "code",
   "execution_count": 80,
   "metadata": {},
   "outputs": [
    {
     "data": {
      "text/plain": [
       "{'IPCA': -7.18,\n",
       " 'Selic': 0,\n",
       " 'Prefixado': 0,\n",
       " 'KNRI11.SA': 0,\n",
       " 'XPCI11.SA': 0,\n",
       " 'XINA11.SA': -22.08,\n",
       " 'VIVT3.SA': -7.45,\n",
       " 'TRPL4.SA': -8.94,\n",
       " 'TRIS3.SA': -23.36,\n",
       " 'TGAR11.SA': 0.29,\n",
       " 'TEND3.SA': -19.57,\n",
       " 'TAEE11.SA': 24.53,\n",
       " 'SULA11.SA': -12.05,\n",
       " 'RAIZ4.SA': -3.51,\n",
       " 'OIBR3.SA': -38.0,\n",
       " 'MXRF11.SA': -0.8,\n",
       " 'JHSF3.SA': 7.34,\n",
       " 'IVVB11.SA': 9.53,\n",
       " 'HASH11.SA': -5.79,\n",
       " 'GOLD11.SA': -3.85,\n",
       " 'GOAU4.SA': 1.41,\n",
       " 'GGBR4.SA': 2.38,\n",
       " 'FESA4.SA': 16.51,\n",
       " 'EGIE3.SA': -7.68,\n",
       " 'DIRR3.SA': -6.52,\n",
       " 'CYRE3.SA': -17.04,\n",
       " 'CSAN3.SA': 4.83,\n",
       " 'COGN3.SA': -14.84,\n",
       " 'BRPR3.SA': -3.45,\n",
       " 'BRML3.SA': 22.01,\n",
       " 'BOVA11.SA': 4.7,\n",
       " 'BIAU39.SA': -1.77,\n",
       " 'BABA34.SA': -27.99,\n",
       " 'AURA33.SA': 14.35,\n",
       " 'ALUP11.SA': -5.53,\n",
       " 'ALSO3.SA': 8.66}"
      ]
     },
     "execution_count": 80,
     "metadata": {},
     "output_type": "execute_result"
    }
   ],
   "source": [
    "return_dict"
   ]
  },
  {
   "cell_type": "markdown",
   "metadata": {},
   "source": [
    "Com os dados de variância e retorno obtidos, podemos agora otimizar o portfólio."
   ]
  },
  {
   "cell_type": "code",
   "execution_count": 10,
   "metadata": {
    "tags": []
   },
   "outputs": [],
   "source": [
    "# model = Model(name = \"Programação Linear\")\n",
    "\n",
    "# Criar Variáveis do modelo\n",
    "# Valores opicionais - Default: lower bound = 0, upper bound = infinito, name = name\n",
    "# x = model.continuous_var(lb=None, ub=None, name=None)"
   ]
  },
  {
   "cell_type": "code",
   "execution_count": 7,
   "metadata": {
    "tags": []
   },
   "outputs": [],
   "source": [
    "# Restrições do modelo\n",
    "\n",
    "# c1 = model.add_constraint(x + y >= 10, ctname = \"c1\")"
   ]
  },
  {
   "cell_type": "code",
   "execution_count": 8,
   "metadata": {},
   "outputs": [],
   "source": [
    "# Definir a função objetivo\n",
    "\n",
    "# sense: \"max\" for maximization, \"min\" for minimization ; expr: expressão da função objetivo \n",
    "# model.set_objective(sense, expr)\n",
    "\n",
    "# obj_exp = 5*x + 4*y\n",
    "# model.set_objective('max', obj_exp)"
   ]
  },
  {
   "cell_type": "code",
   "execution_count": null,
   "metadata": {},
   "outputs": [],
   "source": [
    "# Resolver o modelo\n",
    "\n",
    "# model.solve()\n",
    "# model.print_solution()"
   ]
  },
  {
   "cell_type": "markdown",
   "metadata": {},
   "source": [
    "#### Abordagem de picos"
   ]
  },
  {
   "cell_type": "code",
   "execution_count": 73,
   "metadata": {},
   "outputs": [],
   "source": [
    "df_max = pd.DataFrame(df_close['ALSO3.SA'])\n",
    "df_max.reset_index(drop=True, inplace=True)\n",
    "n = 10\n",
    "df_max['min'] = df_max.iloc[argrelextrema(df_max['ALSO3.SA'].values, np.less_equal,\n",
    "                    order=n)[0]]['ALSO3.SA']\n",
    "df_max['max'] = df_max.iloc[argrelextrema(df_max['ALSO3.SA'].values, np.greater_equal,\n",
    "                    order=n)[0]]['ALSO3.SA']"
   ]
  },
  {
   "cell_type": "code",
   "execution_count": 74,
   "metadata": {},
   "outputs": [
    {
     "data": {
      "image/png": "[encoded data removed]",
      "text/plain": [
       "<Figure size 432x288 with 1 Axes>"
      ]
     },
     "metadata": {
      "needs_background": "light"
     },
     "output_type": "display_data"
    }
   ],
   "source": [
    "plt.scatter(df_max.index, df_max['min'], c='r')\n",
    "plt.scatter(df_max.index, df_max['max'], c='g')\n",
    "plt.plot(df_max.index, df_max['ALSO3.SA'])\n",
    "plt.show()"
   ]
  },
  {
   "cell_type": "code",
   "execution_count": 76,
   "metadata": {},
   "outputs": [
    {
     "data": {
      "text/html": [
       "<div>\n",
       "<style scoped>\n",
       "    .dataframe tbody tr th:only-of-type {\n",
       "        vertical-align: middle;\n",
       "    }\n",
       "\n",
       "    .dataframe tbody tr th {\n",
       "        vertical-align: top;\n",
       "    }\n",
       "\n",
       "    .dataframe thead th {\n",
       "        text-align: right;\n",
       "    }\n",
       "</style>\n",
       "<table border=\"1\" class=\"dataframe\">\n",
       "  <thead>\n",
       "    <tr style=\"text-align: right;\">\n",
       "      <th></th>\n",
       "      <th>ALSO3.SA</th>\n",
       "      <th>min</th>\n",
       "      <th>max</th>\n",
       "    </tr>\n",
       "  </thead>\n",
       "  <tbody>\n",
       "    <tr>\n",
       "      <th>0</th>\n",
       "      <td>26.600000</td>\n",
       "      <td>NaN</td>\n",
       "      <td>NaN</td>\n",
       "    </tr>\n",
       "    <tr>\n",
       "      <th>1</th>\n",
       "      <td>26.420000</td>\n",
       "      <td>26.42</td>\n",
       "      <td>NaN</td>\n",
       "    </tr>\n",
       "    <tr>\n",
       "      <th>2</th>\n",
       "      <td>27.200001</td>\n",
       "      <td>NaN</td>\n",
       "      <td>NaN</td>\n",
       "    </tr>\n",
       "    <tr>\n",
       "      <th>3</th>\n",
       "      <td>26.420000</td>\n",
       "      <td>26.42</td>\n",
       "      <td>NaN</td>\n",
       "    </tr>\n",
       "    <tr>\n",
       "      <th>4</th>\n",
       "      <td>27.379999</td>\n",
       "      <td>NaN</td>\n",
       "      <td>NaN</td>\n",
       "    </tr>\n",
       "    <tr>\n",
       "      <th>...</th>\n",
       "      <td>...</td>\n",
       "      <td>...</td>\n",
       "      <td>...</td>\n",
       "    </tr>\n",
       "    <tr>\n",
       "      <th>241</th>\n",
       "      <td>25.799999</td>\n",
       "      <td>NaN</td>\n",
       "      <td>NaN</td>\n",
       "    </tr>\n",
       "    <tr>\n",
       "      <th>242</th>\n",
       "      <td>25.209999</td>\n",
       "      <td>NaN</td>\n",
       "      <td>NaN</td>\n",
       "    </tr>\n",
       "    <tr>\n",
       "      <th>243</th>\n",
       "      <td>25.930000</td>\n",
       "      <td>NaN</td>\n",
       "      <td>NaN</td>\n",
       "    </tr>\n",
       "    <tr>\n",
       "      <th>244</th>\n",
       "      <td>25.820000</td>\n",
       "      <td>NaN</td>\n",
       "      <td>NaN</td>\n",
       "    </tr>\n",
       "    <tr>\n",
       "      <th>245</th>\n",
       "      <td>25.010000</td>\n",
       "      <td>NaN</td>\n",
       "      <td>NaN</td>\n",
       "    </tr>\n",
       "  </tbody>\n",
       "</table>\n",
       "<p>246 rows × 3 columns</p>\n",
       "</div>"
      ],
      "text/plain": [
       "      ALSO3.SA    min  max\n",
       "0    26.600000    NaN  NaN\n",
       "1    26.420000  26.42  NaN\n",
       "2    27.200001    NaN  NaN\n",
       "3    26.420000  26.42  NaN\n",
       "4    27.379999    NaN  NaN\n",
       "..         ...    ...  ...\n",
       "241  25.799999    NaN  NaN\n",
       "242  25.209999    NaN  NaN\n",
       "243  25.930000    NaN  NaN\n",
       "244  25.820000    NaN  NaN\n",
       "245  25.010000    NaN  NaN\n",
       "\n",
       "[246 rows x 3 columns]"
      ]
     },
     "execution_count": 76,
     "metadata": {},
     "output_type": "execute_result"
    }
   ],
   "source": [
    "df_max"
   ]
  },
  {
   "cell_type": "code",
   "execution_count": null,
   "metadata": {},
   "outputs": [],
   "source": []
  }
 ],
 "metadata": {
  "kernelspec": {
   "display_name": "Python 3",
   "language": "python",
   "name": "python3"
  },
  "language_info": {
   "codemirror_mode": {
    "name": "ipython",
    "version": 3
   },
   "file_extension": ".py",
   "mimetype": "text/x-python",
   "name": "python",
   "nbconvert_exporter": "python",
   "pygments_lexer": "ipython3",
   "version": "3.8.8"
  }
 },
 "nbformat": 4,
 "nbformat_minor": 4
}
