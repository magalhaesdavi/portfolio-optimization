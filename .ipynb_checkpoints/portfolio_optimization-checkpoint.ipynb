{
 "cells": [
  {
   "cell_type": "markdown",
   "metadata": {},
   "source": [
    "* __DCC163-2021.1-A - UFJF__\n",
    "* __Alexandre Vieira Pereira Pacelli - 201865502B__\n",
    "* __Davi Magalhães Pereira - 201865558C__"
   ]
  },
  {
   "cell_type": "markdown",
   "metadata": {},
   "source": [
    "# Otimização de portfólio de investimentos"
   ]
  },
  {
   "cell_type": "code",
   "execution_count": 1,
   "metadata": {},
   "outputs": [],
   "source": [
    "import pandas as pd\n",
    "import numpy as np\n",
    "import yfinance as yf\n",
    "from docplex.mp.model import Model\n",
    "import matplotlib.pyplot as plt\n",
    "from scipy.signal import argrelextrema\n",
    "from re import sub\n",
    "from decimal import Decimal\n",
    "import sys\n",
    "import docplex"
   ]
  },
  {
   "cell_type": "markdown",
   "metadata": {},
   "source": [
    "## 1. Modelagem"
   ]
  },
  {
   "cell_type": "markdown",
   "metadata": {},
   "source": [
    "### 1.1. Variáveis"
   ]
  },
  {
   "cell_type": "markdown",
   "metadata": {},
   "source": [
    "Como variáveis do modelo temos todos os ativos pertencentes à carteira de investimentos do investidor.\n",
    "\n",
    "Sendo x[i], para todo e qualquer ativo, a porcentagem da carteira a ser investida no mesmo de acordo com a resposta do modelo (seguindo restrições e funcão objetivo)"
   ]
  },
  {
   "cell_type": "markdown",
   "metadata": {},
   "source": [
    "### 1.2. Restrições"
   ]
  },
  {
   "cell_type": "markdown",
   "metadata": {},
   "source": [
    "Restrições Solicitadas pelo Investidor:\n",
    "\n",
    "* Ativos RENDA FIXA == 15% do total investido\n",
    "* Ativos FUNDOS IMOBILIÁRIOS == 15% do total investido\n",
    "* Ativos GOLD11, HASH11, BIAU39 == 5% do total investido\n",
    "* Ativos DEMAIS AÇÕES == 65% do total investido\n",
    "* TODOS os ATIVOS devem possuir um investimento >= 1% do total investido\n",
    "* TODOS os ATIVOS devem possuir um investimento <= 15% do total investido\n",
    "* Soma de todos os investimentos == 100%\n",
    "\n",
    "\n",
    "Restrições Gerais presentes em todos os modelos testados para o trabalho:\n",
    "\n",
    "* TODOS os ATIVOS devem possuir um investimento >= 0.5% do total investido\n",
    "* TODOS os ATIVOS devem possuir um investimento <= 15% do total investido\n",
    "* Soma de todos os investimentos == 100%\n",
    "* O RETORNO TOTAL do investimento >= 8% _OU_ A VARIÂNCIA TOTAL do investimento <= 60%\n"
   ]
  },
  {
   "cell_type": "markdown",
   "metadata": {},
   "source": [
    "#### Em 2.2.1. Modelo mantendo todas as restrições solicitadas pelo investidor\n",
    "Neste modelo nós mantivemos as retrições solicitadas pelo investidor.\n",
    "\n",
    "##### Objetivo - Minimizar Variância\n",
    "\n",
    "Porcentagem em fundos imobiliários == 0.15<br>\n",
    "Porcentagem em renda fixa == 0.15<br>\n",
    "Porcentagem em GOLD11, HASH11 e BIAU39 == 0.05<br>\n",
    "Porcentagem no restante dos ativos == 0.65<br>\n",
    "Valor mínimo em cada ação >= 0.005<br>\n",
    "Valor máximo em cada ação <= 0.15<br>\n",
    "Soma das váriaveis == 1<br>\n",
    "Retorno mínimo >= 8<br>\n",
    "\n",
    "##### Objetivo - Maximizar Retorno\n",
    "\n",
    "Porcentagem em fundos imobiliários == 0.15<br>\n",
    "Porcentagem em renda fixa == 0.15<br>\n",
    "Porcentagem em GOLD11, HASH11 e BIAU39 == 0.05<br>\n",
    "Porcentagem no restante dos ativos == 0.65<br>\n",
    "Valor mínimo em cada ação >= 0.005<br>\n",
    "Valor máximo em cada ação <= 0.15<br>\n",
    "Soma das váriaveis == 1<br>\n",
    "Variância máxima <= 60<br>\n",
    "\n",
    "\n",
    "#### Em 2.2.2. Modelo removendo algumas restrições entre ativos de renda variável\n",
    "Neste modelo, removemos algumas restrições entre ativos de renda variável e mantivemos as restrições de rendas fixas separadas dos de renda variável, pois esses não devem ser comparados.\n",
    "\n",
    "##### Objetivo - Minimizar Variância\n",
    "\n",
    "Porcentagem em renda fixa == 0.15<br>\n",
    "Porcentagem em renda variável == 0.85<br>\n",
    "Valor mínimo em cada ação >= 0.005<br>\n",
    "Valor máximo em cada ação <= 0.15<br>\n",
    "Soma das váriaveis == 1<br>\n",
    "Retorno mínimo >= 8<br>\n",
    "\n",
    "##### Objetivo - Maximizar Retorno\n",
    "\n",
    "Porcentagem em renda fixa == 0.15<br>\n",
    "Porcentagem em renda variável == 0.85<br>\n",
    "Valor mínimo em cada ação >= 0.005<br>\n",
    "Valor máximo em cada ação <= 0.15<br>\n",
    "Soma das váriaveis == 1<br>\n",
    "Variância máxima <= 60<br>\n",
    "\n",
    "#### Em 2.2.3. Modelo removendo algumas restrições e utilizando faixas de restrições\n",
    "Neste deixamos o modelo mais livre, ao invés de usar as restrições de igualdades anteriormente propostas demos uma margem para essas.\n",
    "\n",
    "##### Objetivo - Minimizar Variância\n",
    "\n",
    "Porcentagem em renda fixa >= 0.1<br>\n",
    "Porcentagem em renda fixa <= 0.3<br>\n",
    "Porcentagem em renda variável >= 0.7<br>\n",
    "Porcentagem em renda variável <= 0.9<br>\n",
    "Valor mínimo em cada ação >= 0.005<br>\n",
    "Valor máximo em cada ação <= 0.15<br>\n",
    "Soma das váriaveis == 1<br>\n",
    "Retorno mínimo >= 8<br>\n",
    "\n",
    "##### Objetivo - Maximizar Retorno\n",
    "\n",
    "Porcentagem em renda fixa >= 0.1<br>\n",
    "Porcentagem em renda fixa <= 0.3<br>\n",
    "Porcentagem em renda variável >= 0.7<br>\n",
    "Porcentagem em renda variável <= 0.9<br>\n",
    "Valor mínimo em cada ação >= 0.005<br>\n",
    "Valor máximo em cada ação <= 0.15<br>\n",
    "Soma das váriaveis == 1<br>\n",
    "Variância máxima <= 60<br>\n",
    "\n",
    "#### Em 2.2.4. Modelo mais livre\n",
    "E, por fim, deixamos o modelo ainda mais livre. Removemos todas restrições impostas aos ativos, exigindo somente que seja alocado uma porcetagem mínima e máxima em cada um.\n",
    "\n",
    "##### Objetivo - Minimizar Variância\n",
    "\n",
    "Valor mínimo em cada ação >= 0.005<br>\n",
    "Valor máximo em cada ação <= 0.15<br>\n",
    "Soma das váriaveis == 1<br>\n",
    "Retorno mínimo >= 8<br>\n",
    "\n",
    "##### Objetivo - Maximizar Retorno\n",
    "\n",
    "Valor mínimo em cada ação >= 0.005<br>\n",
    "Valor máximo em cada ação <= 0.15<br>\n",
    "Soma das váriaveis == 1<br>\n",
    "Variância máxima <= 60<br>"
   ]
  },
  {
   "cell_type": "markdown",
   "metadata": {},
   "source": [
    "### 1.3. Função objetivo"
   ]
  },
  {
   "cell_type": "markdown",
   "metadata": {},
   "source": [
    "Como Função Objetivo, o investidor despertou interesse em descobrir os ativos de MAIOR RETORNO e de MENOR VARIÂNCIA em sua carteira de investimentos.\n",
    "\n",
    "Portanto, elaboramos as seguintes Funções Objetivo para os dois interesses acima, onde:\n",
    "* 'i' = Cada Ativo da carteira de investimentos\n",
    "* 'r' = Retorno em % de cada ativo desde sua compra\n",
    "* 'v' = Variância de cada ativo desde sua compra\n",
    "\n",
    "\\begin{equation}\n",
    "z_{min} =\\sum_{i=1}^{n} \\mbox{v}_i\n",
    "\\end{equation}\n",
    "\n",
    "\\begin{equation}\n",
    "z_{max} =\\sum_{i=1}^{n} \\mbox{r}_i\n",
    "\\end{equation}"
   ]
  },
  {
   "cell_type": "markdown",
   "metadata": {},
   "source": [
    "## 2. Implementação"
   ]
  },
  {
   "cell_type": "markdown",
   "metadata": {},
   "source": [
    "### 2.1. Coleta de Dados"
   ]
  },
  {
   "cell_type": "markdown",
   "metadata": {
    "tags": []
   },
   "source": [
    "Realizamos alguns testes com a API de dados do Yahoo e percebemos que algumas ações e rendas fixas possuíam dados faltantes ou inexistentes, então baixamos essas e coletamos os dados manualmente."
   ]
  },
  {
   "cell_type": "code",
   "execution_count": 2,
   "metadata": {},
   "outputs": [],
   "source": [
    "variables = ['XPCI11.SA KNRI11.SA XINA11 VIVT3 TRPL4 TRIS3 TGAR11 TEND3 TAEE11 SULA11 RAIZ4 OIBR3 MXRF11 JHSF3 IVVB11 HASH11 GOLD11 GOAU4 GGBR4 FESA4 EGIE3 DIRR3 CYRE3 CSAN3 COGN3 BRPR3 BRML3 BOVA11 BIAU39 BABA34 AURA33 ALUP11 ALSO3']\n",
    "\n",
    "# par = ['-22.08 -7.45 -8.94 -23.36 +0.29 -19.57 +24.53 -12.05 -3.51 -38.0 -0.8 +7.34 +9.53 -5.79 -3.85 +1.41 +2.38 +16.51 -7.68 -6.52 -17.04 +4.83 -14.84 -3.45 +22.01 +4.70 -1.77 -27.99 +14.35 -5.53 +8.66']"
   ]
  },
  {
   "cell_type": "code",
   "execution_count": 3,
   "metadata": {},
   "outputs": [
    {
     "data": {
      "text/plain": [
       "{'IPCA': -7.18,\n",
       " 'Selic': 0,\n",
       " 'Prefixado': 0,\n",
       " 'KNRI11.SA': 0,\n",
       " 'XPCI11.SA': 0,\n",
       " 'XINA11.SA': -22.08,\n",
       " 'VIVT3.SA': -7.45,\n",
       " 'TRPL4.SA': -8.94,\n",
       " 'TRIS3.SA': -23.36,\n",
       " 'TGAR11.SA': 0.29,\n",
       " 'TEND3.SA': -19.57,\n",
       " 'TAEE11.SA': 24.53,\n",
       " 'SULA11.SA': -12.05,\n",
       " 'RAIZ4.SA': -3.51,\n",
       " 'OIBR3.SA': -38.0,\n",
       " 'MXRF11.SA': -0.8,\n",
       " 'JHSF3.SA': 7.34,\n",
       " 'IVVB11.SA': 9.53,\n",
       " 'HASH11.SA': -5.79,\n",
       " 'GOLD11.SA': -3.85,\n",
       " 'GOAU4.SA': 1.41,\n",
       " 'GGBR4.SA': 2.38,\n",
       " 'FESA4.SA': 16.51,\n",
       " 'EGIE3.SA': -7.68,\n",
       " 'DIRR3.SA': -6.52,\n",
       " 'CYRE3.SA': -17.04,\n",
       " 'CSAN3.SA': 4.83,\n",
       " 'COGN3.SA': -14.84,\n",
       " 'BRPR3.SA': -3.45,\n",
       " 'BRML3.SA': 22.01,\n",
       " 'BOVA11.SA': 4.7,\n",
       " 'BIAU39.SA': -1.77,\n",
       " 'BABA34.SA': -27.99,\n",
       " 'AURA33.SA': 14.35,\n",
       " 'ALUP11.SA': -5.53,\n",
       " 'ALSO3.SA': 8.66}"
      ]
     },
     "execution_count": 3,
     "metadata": {},
     "output_type": "execute_result"
    }
   ],
   "source": [
    "return_dict = {'IPCA': -7.18, 'Selic': 0, 'Prefixado': 0, 'KNRI11.SA': 0, 'XPCI11.SA': 0, 'XINA11.SA': -22.08, 'VIVT3.SA': -7.45, 'TRPL4.SA': -8.94, 'TRIS3.SA': -23.36, 'TGAR11.SA': 0.29, 'TEND3.SA': -19.57, 'TAEE11.SA': 24.53, 'SULA11.SA': -12.05, 'RAIZ4.SA': -3.51, 'OIBR3.SA': -38.0, 'MXRF11.SA': -0.8, 'JHSF3.SA': 7.34, 'IVVB11.SA': 9.53, 'HASH11.SA': -5.79, 'GOLD11.SA': -3.85, 'GOAU4.SA': 1.41, 'GGBR4.SA': 2.38, 'FESA4.SA': 16.51, 'EGIE3.SA': -7.68, 'DIRR3.SA': -6.52, 'CYRE3.SA': -17.04, 'CSAN3.SA': 4.83, 'COGN3.SA': -14.84, 'BRPR3.SA': -3.45, 'BRML3.SA': 22.01, 'BOVA11.SA': 4.70, 'BIAU39.SA': -1.77, 'BABA34.SA': -27.99, 'AURA33.SA': 14.35, 'ALUP11.SA': -5.53, 'ALSO3.SA':8.66}\n",
    "return_dict"
   ]
  },
  {
   "cell_type": "code",
   "execution_count": 4,
   "metadata": {},
   "outputs": [
    {
     "data": {
      "text/html": [
       "<div>\n",
       "<style scoped>\n",
       "    .dataframe tbody tr th:only-of-type {\n",
       "        vertical-align: middle;\n",
       "    }\n",
       "\n",
       "    .dataframe tbody tr th {\n",
       "        vertical-align: top;\n",
       "    }\n",
       "\n",
       "    .dataframe thead th {\n",
       "        text-align: right;\n",
       "    }\n",
       "</style>\n",
       "<table border=\"1\" class=\"dataframe\">\n",
       "  <thead>\n",
       "    <tr style=\"text-align: right;\">\n",
       "      <th></th>\n",
       "      <th>Último</th>\n",
       "    </tr>\n",
       "  </thead>\n",
       "  <tbody>\n",
       "    <tr>\n",
       "      <th>0</th>\n",
       "      <td>10.785,177</td>\n",
       "    </tr>\n",
       "    <tr>\n",
       "      <th>1</th>\n",
       "      <td>10.783,554</td>\n",
       "    </tr>\n",
       "    <tr>\n",
       "      <th>2</th>\n",
       "      <td>10.781,931</td>\n",
       "    </tr>\n",
       "    <tr>\n",
       "      <th>3</th>\n",
       "      <td>10.782,094</td>\n",
       "    </tr>\n",
       "    <tr>\n",
       "      <th>4</th>\n",
       "      <td>10.780,843</td>\n",
       "    </tr>\n",
       "  </tbody>\n",
       "</table>\n",
       "</div>"
      ],
      "text/plain": [
       "       Último\n",
       "0  10.785,177\n",
       "1  10.783,554\n",
       "2  10.781,931\n",
       "3  10.782,094\n",
       "4  10.780,843"
      ]
     },
     "execution_count": 4,
     "metadata": {},
     "output_type": "execute_result"
    }
   ],
   "source": [
    "selic = pd.read_csv('data/Selic2027.csv')\n",
    "selic.drop(['Data', 'Var%', 'Abertura', 'Máxima', 'Mínima'], axis=1, inplace=True)\n",
    "selic.head()"
   ]
  },
  {
   "cell_type": "code",
   "execution_count": 5,
   "metadata": {},
   "outputs": [
    {
     "data": {
      "text/html": [
       "<div>\n",
       "<style scoped>\n",
       "    .dataframe tbody tr th:only-of-type {\n",
       "        vertical-align: middle;\n",
       "    }\n",
       "\n",
       "    .dataframe tbody tr th {\n",
       "        vertical-align: top;\n",
       "    }\n",
       "\n",
       "    .dataframe thead th {\n",
       "        text-align: right;\n",
       "    }\n",
       "</style>\n",
       "<table border=\"1\" class=\"dataframe\">\n",
       "  <thead>\n",
       "    <tr style=\"text-align: right;\">\n",
       "      <th></th>\n",
       "      <th>Último</th>\n",
       "    </tr>\n",
       "  </thead>\n",
       "  <tbody>\n",
       "    <tr>\n",
       "      <th>0</th>\n",
       "      <td>10785.177</td>\n",
       "    </tr>\n",
       "    <tr>\n",
       "      <th>1</th>\n",
       "      <td>10783.554</td>\n",
       "    </tr>\n",
       "    <tr>\n",
       "      <th>2</th>\n",
       "      <td>10781.931</td>\n",
       "    </tr>\n",
       "    <tr>\n",
       "      <th>3</th>\n",
       "      <td>10782.094</td>\n",
       "    </tr>\n",
       "    <tr>\n",
       "      <th>4</th>\n",
       "      <td>10780.843</td>\n",
       "    </tr>\n",
       "  </tbody>\n",
       "</table>\n",
       "</div>"
      ],
      "text/plain": [
       "      Último\n",
       "0  10785.177\n",
       "1  10783.554\n",
       "2  10781.931\n",
       "3  10782.094\n",
       "4  10780.843"
      ]
     },
     "execution_count": 5,
     "metadata": {},
     "output_type": "execute_result"
    }
   ],
   "source": [
    "selic['Último'] = selic['Último'].apply(lambda x: x.replace(\".\", \"\").replace(\",\",\".\")).astype(float)\n",
    "selic.head()"
   ]
  },
  {
   "cell_type": "code",
   "execution_count": 6,
   "metadata": {},
   "outputs": [
    {
     "data": {
      "text/plain": [
       "{'Selic': 7605.365255462518}"
      ]
     },
     "execution_count": 6,
     "metadata": {},
     "output_type": "execute_result"
    }
   ],
   "source": [
    "var_dict = {'Selic': selic['Último'].var()}\n",
    "var_dict"
   ]
  },
  {
   "cell_type": "code",
   "execution_count": 7,
   "metadata": {},
   "outputs": [
    {
     "data": {
      "text/html": [
       "<div>\n",
       "<style scoped>\n",
       "    .dataframe tbody tr th:only-of-type {\n",
       "        vertical-align: middle;\n",
       "    }\n",
       "\n",
       "    .dataframe tbody tr th {\n",
       "        vertical-align: top;\n",
       "    }\n",
       "\n",
       "    .dataframe thead th {\n",
       "        text-align: right;\n",
       "    }\n",
       "</style>\n",
       "<table border=\"1\" class=\"dataframe\">\n",
       "  <thead>\n",
       "    <tr style=\"text-align: right;\">\n",
       "      <th></th>\n",
       "      <th>Último</th>\n",
       "    </tr>\n",
       "  </thead>\n",
       "  <tbody>\n",
       "    <tr>\n",
       "      <th>0</th>\n",
       "      <td>656.53</td>\n",
       "    </tr>\n",
       "    <tr>\n",
       "      <th>1</th>\n",
       "      <td>660.99</td>\n",
       "    </tr>\n",
       "    <tr>\n",
       "      <th>2</th>\n",
       "      <td>666.85</td>\n",
       "    </tr>\n",
       "    <tr>\n",
       "      <th>3</th>\n",
       "      <td>671.42</td>\n",
       "    </tr>\n",
       "    <tr>\n",
       "      <th>4</th>\n",
       "      <td>668.50</td>\n",
       "    </tr>\n",
       "  </tbody>\n",
       "</table>\n",
       "</div>"
      ],
      "text/plain": [
       "   Último\n",
       "0  656.53\n",
       "1  660.99\n",
       "2  666.85\n",
       "3  671.42\n",
       "4  668.50"
      ]
     },
     "execution_count": 7,
     "metadata": {},
     "output_type": "execute_result"
    }
   ],
   "source": [
    "prefixado = pd.read_csv('data/Prefixado2026.csv')\n",
    "prefixado.drop(['Data', 'Var%', 'Abertura', 'Máxima', 'Mínima'], axis=1, inplace=True)\n",
    "prefixado['Último'] = prefixado['Último'].apply(lambda x: x.replace(\".\", \"\").replace(\",\",\".\")).astype(float)\n",
    "prefixado.head()"
   ]
  },
  {
   "cell_type": "code",
   "execution_count": 8,
   "metadata": {},
   "outputs": [
    {
     "data": {
      "text/plain": [
       "{'Selic': 7605.365255462518, 'Prefixado': 271.49614009511976}"
      ]
     },
     "execution_count": 8,
     "metadata": {},
     "output_type": "execute_result"
    }
   ],
   "source": [
    "var_dict['Prefixado'] = prefixado['Último'].var()\n",
    "var_dict"
   ]
  },
  {
   "cell_type": "code",
   "execution_count": 9,
   "metadata": {},
   "outputs": [
    {
     "data": {
      "text/html": [
       "<div>\n",
       "<style scoped>\n",
       "    .dataframe tbody tr th:only-of-type {\n",
       "        vertical-align: middle;\n",
       "    }\n",
       "\n",
       "    .dataframe tbody tr th {\n",
       "        vertical-align: top;\n",
       "    }\n",
       "\n",
       "    .dataframe thead th {\n",
       "        text-align: right;\n",
       "    }\n",
       "</style>\n",
       "<table border=\"1\" class=\"dataframe\">\n",
       "  <thead>\n",
       "    <tr style=\"text-align: right;\">\n",
       "      <th></th>\n",
       "      <th>Último</th>\n",
       "    </tr>\n",
       "  </thead>\n",
       "  <tbody>\n",
       "    <tr>\n",
       "      <th>0</th>\n",
       "      <td>103.65</td>\n",
       "    </tr>\n",
       "    <tr>\n",
       "      <th>1</th>\n",
       "      <td>103.25</td>\n",
       "    </tr>\n",
       "    <tr>\n",
       "      <th>2</th>\n",
       "      <td>103.65</td>\n",
       "    </tr>\n",
       "    <tr>\n",
       "      <th>3</th>\n",
       "      <td>104.30</td>\n",
       "    </tr>\n",
       "    <tr>\n",
       "      <th>4</th>\n",
       "      <td>104.35</td>\n",
       "    </tr>\n",
       "  </tbody>\n",
       "</table>\n",
       "</div>"
      ],
      "text/plain": [
       "   Último\n",
       "0  103.65\n",
       "1  103.25\n",
       "2  103.65\n",
       "3  104.30\n",
       "4  104.35"
      ]
     },
     "execution_count": 9,
     "metadata": {},
     "output_type": "execute_result"
    }
   ],
   "source": [
    "ipca = pd.read_csv('data/IMBB11.csv', sep='\\t')\n",
    "ipca.drop(['Data', 'Variação', 'Abertura', 'Máxima', 'Mínima', 'Variação (%)', 'Volume'], axis=1, inplace=True)\n",
    "ipca['Fechamento'] = ipca['Fechamento'].apply(lambda x: x.replace(\".\", \"\").replace(\",\",\".\")).astype(float)\n",
    "ipca.rename(columns = {'Fechamento': 'Último'},inplace=True)\n",
    "ipca.head()"
   ]
  },
  {
   "cell_type": "code",
   "execution_count": 10,
   "metadata": {},
   "outputs": [
    {
     "data": {
      "text/plain": [
       "{'Selic': 7605.365255462518,\n",
       " 'Prefixado': 271.49614009511976,\n",
       " 'IPCA': 5.2457444321145195}"
      ]
     },
     "execution_count": 10,
     "metadata": {},
     "output_type": "execute_result"
    }
   ],
   "source": [
    "var_dict['IPCA'] = ipca['Último'].var()\n",
    "var_dict"
   ]
  },
  {
   "cell_type": "code",
   "execution_count": 11,
   "metadata": {},
   "outputs": [
    {
     "data": {
      "text/html": [
       "<div>\n",
       "<style scoped>\n",
       "    .dataframe tbody tr th:only-of-type {\n",
       "        vertical-align: middle;\n",
       "    }\n",
       "\n",
       "    .dataframe tbody tr th {\n",
       "        vertical-align: top;\n",
       "    }\n",
       "\n",
       "    .dataframe thead th {\n",
       "        text-align: right;\n",
       "    }\n",
       "</style>\n",
       "<table border=\"1\" class=\"dataframe\">\n",
       "  <thead>\n",
       "    <tr style=\"text-align: right;\">\n",
       "      <th></th>\n",
       "      <th>Último</th>\n",
       "    </tr>\n",
       "  </thead>\n",
       "  <tbody>\n",
       "    <tr>\n",
       "      <th>0</th>\n",
       "      <td>43.06</td>\n",
       "    </tr>\n",
       "    <tr>\n",
       "      <th>1</th>\n",
       "      <td>43.15</td>\n",
       "    </tr>\n",
       "    <tr>\n",
       "      <th>2</th>\n",
       "      <td>44.30</td>\n",
       "    </tr>\n",
       "    <tr>\n",
       "      <th>3</th>\n",
       "      <td>45.00</td>\n",
       "    </tr>\n",
       "    <tr>\n",
       "      <th>4</th>\n",
       "      <td>42.72</td>\n",
       "    </tr>\n",
       "  </tbody>\n",
       "</table>\n",
       "</div>"
      ],
      "text/plain": [
       "   Último\n",
       "0   43.06\n",
       "1   43.15\n",
       "2   44.30\n",
       "3   45.00\n",
       "4   42.72"
      ]
     },
     "execution_count": 11,
     "metadata": {},
     "output_type": "execute_result"
    }
   ],
   "source": [
    "hash11 = pd.read_csv('data/HASH11.csv')\n",
    "hash11.drop(['Data', 'Var%', 'Abertura', 'Máxima', 'Mínima', 'Vol.'], axis=1, inplace=True)\n",
    "hash11['Último'] = hash11['Último'].apply(lambda x: x.replace(\".\", \"\").replace(\",\",\".\")).astype(float)\n",
    "hash11.head()"
   ]
  },
  {
   "cell_type": "code",
   "execution_count": 12,
   "metadata": {},
   "outputs": [
    {
     "data": {
      "text/plain": [
       "{'Selic': 7605.365255462518,\n",
       " 'Prefixado': 271.49614009511976,\n",
       " 'IPCA': 5.2457444321145195,\n",
       " 'HASH11.SA': 74.32406074367088}"
      ]
     },
     "execution_count": 12,
     "metadata": {},
     "output_type": "execute_result"
    }
   ],
   "source": [
    "var_dict['HASH11.SA'] = hash11['Último'].var()\n",
    "var_dict"
   ]
  },
  {
   "cell_type": "code",
   "execution_count": 13,
   "metadata": {},
   "outputs": [
    {
     "data": {
      "text/html": [
       "<div>\n",
       "<style scoped>\n",
       "    .dataframe tbody tr th:only-of-type {\n",
       "        vertical-align: middle;\n",
       "    }\n",
       "\n",
       "    .dataframe tbody tr th {\n",
       "        vertical-align: top;\n",
       "    }\n",
       "\n",
       "    .dataframe thead th {\n",
       "        text-align: right;\n",
       "    }\n",
       "</style>\n",
       "<table border=\"1\" class=\"dataframe\">\n",
       "  <thead>\n",
       "    <tr style=\"text-align: right;\">\n",
       "      <th></th>\n",
       "      <th>Último</th>\n",
       "    </tr>\n",
       "  </thead>\n",
       "  <tbody>\n",
       "    <tr>\n",
       "      <th>0</th>\n",
       "      <td>123.04</td>\n",
       "    </tr>\n",
       "    <tr>\n",
       "      <th>1</th>\n",
       "      <td>122.79</td>\n",
       "    </tr>\n",
       "    <tr>\n",
       "      <th>2</th>\n",
       "      <td>124.12</td>\n",
       "    </tr>\n",
       "    <tr>\n",
       "      <th>3</th>\n",
       "      <td>125.00</td>\n",
       "    </tr>\n",
       "    <tr>\n",
       "      <th>4</th>\n",
       "      <td>124.00</td>\n",
       "    </tr>\n",
       "  </tbody>\n",
       "</table>\n",
       "</div>"
      ],
      "text/plain": [
       "   Último\n",
       "0  123.04\n",
       "1  122.79\n",
       "2  124.12\n",
       "3  125.00\n",
       "4  124.00"
      ]
     },
     "execution_count": 13,
     "metadata": {},
     "output_type": "execute_result"
    }
   ],
   "source": [
    "tgar11 = pd.read_csv('data/TGAR11.csv')\n",
    "tgar11.drop(['Data', 'Var%', 'Abertura', 'Máxima', 'Mínima', 'Vol.'], axis=1, inplace=True)\n",
    "tgar11['Último'] = tgar11['Último'].apply(lambda x: x.replace(\".\", \"\").replace(\",\",\".\")).astype(float)\n",
    "tgar11.head()"
   ]
  },
  {
   "cell_type": "code",
   "execution_count": 14,
   "metadata": {},
   "outputs": [
    {
     "data": {
      "text/plain": [
       "{'Selic': 7605.365255462518,\n",
       " 'Prefixado': 271.49614009511976,\n",
       " 'IPCA': 5.2457444321145195,\n",
       " 'HASH11.SA': 74.32406074367088,\n",
       " 'TGAR11.SA': 17.432172175786853}"
      ]
     },
     "execution_count": 14,
     "metadata": {},
     "output_type": "execute_result"
    }
   ],
   "source": [
    "var_dict['TGAR11.SA'] = tgar11['Último'].var()\n",
    "var_dict"
   ]
  },
  {
   "cell_type": "code",
   "execution_count": 15,
   "metadata": {},
   "outputs": [
    {
     "data": {
      "text/html": [
       "<div>\n",
       "<style scoped>\n",
       "    .dataframe tbody tr th:only-of-type {\n",
       "        vertical-align: middle;\n",
       "    }\n",
       "\n",
       "    .dataframe tbody tr th {\n",
       "        vertical-align: top;\n",
       "    }\n",
       "\n",
       "    .dataframe thead th {\n",
       "        text-align: right;\n",
       "    }\n",
       "</style>\n",
       "<table border=\"1\" class=\"dataframe\">\n",
       "  <thead>\n",
       "    <tr style=\"text-align: right;\">\n",
       "      <th></th>\n",
       "      <th>Último</th>\n",
       "    </tr>\n",
       "  </thead>\n",
       "  <tbody>\n",
       "    <tr>\n",
       "      <th>0</th>\n",
       "      <td>45.50</td>\n",
       "    </tr>\n",
       "    <tr>\n",
       "      <th>1</th>\n",
       "      <td>44.65</td>\n",
       "    </tr>\n",
       "    <tr>\n",
       "      <th>2</th>\n",
       "      <td>44.88</td>\n",
       "    </tr>\n",
       "    <tr>\n",
       "      <th>3</th>\n",
       "      <td>44.35</td>\n",
       "    </tr>\n",
       "    <tr>\n",
       "      <th>4</th>\n",
       "      <td>43.77</td>\n",
       "    </tr>\n",
       "  </tbody>\n",
       "</table>\n",
       "</div>"
      ],
      "text/plain": [
       "   Último\n",
       "0   45.50\n",
       "1   44.65\n",
       "2   44.88\n",
       "3   44.35\n",
       "4   43.77"
      ]
     },
     "execution_count": 15,
     "metadata": {},
     "output_type": "execute_result"
    }
   ],
   "source": [
    "biau39 = pd.read_csv('data/BIAU39.csv')\n",
    "biau39.drop(['Data', 'Var%', 'Abertura', 'Máxima', 'Mínima', 'Vol.'], axis=1, inplace=True)\n",
    "biau39['Último'] = biau39['Último'].apply(lambda x: x.replace(\".\", \"\").replace(\",\",\".\")).astype(float)\n",
    "biau39.head()"
   ]
  },
  {
   "cell_type": "code",
   "execution_count": 16,
   "metadata": {},
   "outputs": [
    {
     "data": {
      "text/plain": [
       "{'Selic': 7605.365255462518,\n",
       " 'Prefixado': 271.49614009511976,\n",
       " 'IPCA': 5.2457444321145195,\n",
       " 'HASH11.SA': 74.32406074367088,\n",
       " 'TGAR11.SA': 17.432172175786853,\n",
       " 'BIAU39.SA': 2.374279376623375}"
      ]
     },
     "execution_count": 16,
     "metadata": {},
     "output_type": "execute_result"
    }
   ],
   "source": [
    "var_dict['BIAU39.SA'] = biau39['Último'].var()\n",
    "var_dict"
   ]
  },
  {
   "cell_type": "code",
   "execution_count": 17,
   "metadata": {},
   "outputs": [
    {
     "data": {
      "text/html": [
       "<div>\n",
       "<style scoped>\n",
       "    .dataframe tbody tr th:only-of-type {\n",
       "        vertical-align: middle;\n",
       "    }\n",
       "\n",
       "    .dataframe tbody tr th {\n",
       "        vertical-align: top;\n",
       "    }\n",
       "\n",
       "    .dataframe thead th {\n",
       "        text-align: right;\n",
       "    }\n",
       "</style>\n",
       "<table border=\"1\" class=\"dataframe\">\n",
       "  <thead>\n",
       "    <tr style=\"text-align: right;\">\n",
       "      <th></th>\n",
       "      <th>Último</th>\n",
       "    </tr>\n",
       "  </thead>\n",
       "  <tbody>\n",
       "    <tr>\n",
       "      <th>0</th>\n",
       "      <td>10.22</td>\n",
       "    </tr>\n",
       "    <tr>\n",
       "      <th>1</th>\n",
       "      <td>10.06</td>\n",
       "    </tr>\n",
       "    <tr>\n",
       "      <th>2</th>\n",
       "      <td>10.10</td>\n",
       "    </tr>\n",
       "    <tr>\n",
       "      <th>3</th>\n",
       "      <td>9.98</td>\n",
       "    </tr>\n",
       "    <tr>\n",
       "      <th>4</th>\n",
       "      <td>9.85</td>\n",
       "    </tr>\n",
       "  </tbody>\n",
       "</table>\n",
       "</div>"
      ],
      "text/plain": [
       "   Último\n",
       "0   10.22\n",
       "1   10.06\n",
       "2   10.10\n",
       "3    9.98\n",
       "4    9.85"
      ]
     },
     "execution_count": 17,
     "metadata": {},
     "output_type": "execute_result"
    }
   ],
   "source": [
    "gold11 = pd.read_csv('data/GOLD11.csv')\n",
    "gold11.drop(['Data', 'Var%', 'Abertura', 'Máxima', 'Mínima', 'Vol.'], axis=1, inplace=True)\n",
    "gold11['Último'] = gold11['Último'].apply(lambda x: x.replace(\".\", \"\").replace(\",\",\".\")).astype(float)\n",
    "gold11.head()"
   ]
  },
  {
   "cell_type": "code",
   "execution_count": 18,
   "metadata": {},
   "outputs": [
    {
     "data": {
      "text/plain": [
       "{'Selic': 7605.365255462518,\n",
       " 'Prefixado': 271.49614009511976,\n",
       " 'IPCA': 5.2457444321145195,\n",
       " 'HASH11.SA': 74.32406074367088,\n",
       " 'TGAR11.SA': 17.432172175786853,\n",
       " 'BIAU39.SA': 2.374279376623375,\n",
       " 'GOLD11.SA': 0.12897262139466956}"
      ]
     },
     "execution_count": 18,
     "metadata": {},
     "output_type": "execute_result"
    }
   ],
   "source": [
    "var_dict['GOLD11.SA'] = gold11['Último'].var()\n",
    "var_dict"
   ]
  },
  {
   "cell_type": "code",
   "execution_count": 19,
   "metadata": {},
   "outputs": [
    {
     "data": {
      "text/html": [
       "<div>\n",
       "<style scoped>\n",
       "    .dataframe tbody tr th:only-of-type {\n",
       "        vertical-align: middle;\n",
       "    }\n",
       "\n",
       "    .dataframe tbody tr th {\n",
       "        vertical-align: top;\n",
       "    }\n",
       "\n",
       "    .dataframe thead th {\n",
       "        text-align: right;\n",
       "    }\n",
       "</style>\n",
       "<table border=\"1\" class=\"dataframe\">\n",
       "  <thead>\n",
       "    <tr style=\"text-align: right;\">\n",
       "      <th></th>\n",
       "      <th>Último</th>\n",
       "    </tr>\n",
       "  </thead>\n",
       "  <tbody>\n",
       "    <tr>\n",
       "      <th>0</th>\n",
       "      <td>8.96</td>\n",
       "    </tr>\n",
       "    <tr>\n",
       "      <th>1</th>\n",
       "      <td>8.74</td>\n",
       "    </tr>\n",
       "    <tr>\n",
       "      <th>2</th>\n",
       "      <td>8.98</td>\n",
       "    </tr>\n",
       "    <tr>\n",
       "      <th>3</th>\n",
       "      <td>9.11</td>\n",
       "    </tr>\n",
       "    <tr>\n",
       "      <th>4</th>\n",
       "      <td>9.16</td>\n",
       "    </tr>\n",
       "  </tbody>\n",
       "</table>\n",
       "</div>"
      ],
      "text/plain": [
       "   Último\n",
       "0    8.96\n",
       "1    8.74\n",
       "2    8.98\n",
       "3    9.11\n",
       "4    9.16"
      ]
     },
     "execution_count": 19,
     "metadata": {},
     "output_type": "execute_result"
    }
   ],
   "source": [
    "xina11 = pd.read_csv('data/XINA11.csv')\n",
    "xina11.drop(['Data', 'Var%', 'Abertura', 'Máxima', 'Mínima', 'Vol.'], axis=1, inplace=True)\n",
    "xina11['Último'] = xina11['Último'].apply(lambda x: x.replace(\".\", \"\").replace(\",\",\".\")).astype(float)\n",
    "xina11.head()"
   ]
  },
  {
   "cell_type": "code",
   "execution_count": 20,
   "metadata": {},
   "outputs": [
    {
     "data": {
      "text/plain": [
       "{'Selic': 7605.365255462518,\n",
       " 'Prefixado': 271.49614009511976,\n",
       " 'IPCA': 5.2457444321145195,\n",
       " 'HASH11.SA': 74.32406074367088,\n",
       " 'TGAR11.SA': 17.432172175786853,\n",
       " 'BIAU39.SA': 2.374279376623375,\n",
       " 'GOLD11.SA': 0.12897262139466956,\n",
       " 'XINA11.SA': 1.0428390993788819}"
      ]
     },
     "execution_count": 20,
     "metadata": {},
     "output_type": "execute_result"
    }
   ],
   "source": [
    "var_dict['XINA11.SA'] = xina11['Último'].var()\n",
    "var_dict"
   ]
  },
  {
   "cell_type": "markdown",
   "metadata": {},
   "source": [
    "Coletados os dados faltantes podemos obter o restante pela API."
   ]
  },
  {
   "cell_type": "code",
   "execution_count": 21,
   "metadata": {},
   "outputs": [
    {
     "name": "stdout",
     "output_type": "stream",
     "text": [
      "[*********************100%***********************]  28 of 28 completed\n"
     ]
    }
   ],
   "source": [
    "df = yf.download(tickers=\"KNRI11.SA XPCI11.SA VIVT3.SA TRPL4.SA TRIS3.SA TEND3.SA TAEE11.SA SULA11.SA RAIZ4.SA OIBR3.SA MXRF11.SA JHSF3.SA IVVB11.SA GOAU4.SA GGBR4.SA FESA4.SA EGIE3.SA DIRR3.SA CYRE3.SA CSAN3.SA COGN3.SA BRPR3.SA BRML3.SA BOVA11.SA BABA34.SA AURA33.SA ALUP11.SA ALSO3.SA\",\n",
    "                 period='1y')#start=\"2018-01-01\", end=\"2021-08-11\")"
   ]
  },
  {
   "cell_type": "code",
   "execution_count": 22,
   "metadata": {},
   "outputs": [
    {
     "data": {
      "text/html": [
       "<div>\n",
       "<style scoped>\n",
       "    .dataframe tbody tr th:only-of-type {\n",
       "        vertical-align: middle;\n",
       "    }\n",
       "\n",
       "    .dataframe tbody tr th {\n",
       "        vertical-align: top;\n",
       "    }\n",
       "\n",
       "    .dataframe thead tr th {\n",
       "        text-align: left;\n",
       "    }\n",
       "\n",
       "    .dataframe thead tr:last-of-type th {\n",
       "        text-align: right;\n",
       "    }\n",
       "</style>\n",
       "<table border=\"1\" class=\"dataframe\">\n",
       "  <thead>\n",
       "    <tr>\n",
       "      <th></th>\n",
       "      <th colspan=\"10\" halign=\"left\">Adj Close</th>\n",
       "      <th>...</th>\n",
       "      <th colspan=\"10\" halign=\"left\">Volume</th>\n",
       "    </tr>\n",
       "    <tr>\n",
       "      <th></th>\n",
       "      <th>ALSO3.SA</th>\n",
       "      <th>ALUP11.SA</th>\n",
       "      <th>AURA33.SA</th>\n",
       "      <th>BABA34.SA</th>\n",
       "      <th>BOVA11.SA</th>\n",
       "      <th>BRML3.SA</th>\n",
       "      <th>BRPR3.SA</th>\n",
       "      <th>COGN3.SA</th>\n",
       "      <th>CSAN3.SA</th>\n",
       "      <th>CYRE3.SA</th>\n",
       "      <th>...</th>\n",
       "      <th>MXRF11.SA</th>\n",
       "      <th>OIBR3.SA</th>\n",
       "      <th>RAIZ4.SA</th>\n",
       "      <th>SULA11.SA</th>\n",
       "      <th>TAEE11.SA</th>\n",
       "      <th>TEND3.SA</th>\n",
       "      <th>TRIS3.SA</th>\n",
       "      <th>TRPL4.SA</th>\n",
       "      <th>VIVT3.SA</th>\n",
       "      <th>XPCI11.SA</th>\n",
       "    </tr>\n",
       "    <tr>\n",
       "      <th>Date</th>\n",
       "      <th></th>\n",
       "      <th></th>\n",
       "      <th></th>\n",
       "      <th></th>\n",
       "      <th></th>\n",
       "      <th></th>\n",
       "      <th></th>\n",
       "      <th></th>\n",
       "      <th></th>\n",
       "      <th></th>\n",
       "      <th></th>\n",
       "      <th></th>\n",
       "      <th></th>\n",
       "      <th></th>\n",
       "      <th></th>\n",
       "      <th></th>\n",
       "      <th></th>\n",
       "      <th></th>\n",
       "      <th></th>\n",
       "      <th></th>\n",
       "      <th></th>\n",
       "    </tr>\n",
       "  </thead>\n",
       "  <tbody>\n",
       "    <tr>\n",
       "      <th>2020-09-15</th>\n",
       "      <td>27.298727</td>\n",
       "      <td>22.873545</td>\n",
       "      <td>60.859756</td>\n",
       "      <td>52.439999</td>\n",
       "      <td>96.459999</td>\n",
       "      <td>9.77</td>\n",
       "      <td>9.547308</td>\n",
       "      <td>5.80</td>\n",
       "      <td>18.708744</td>\n",
       "      <td>22.264324</td>\n",
       "      <td>...</td>\n",
       "      <td>483390</td>\n",
       "      <td>120170500</td>\n",
       "      <td>NaN</td>\n",
       "      <td>2515065</td>\n",
       "      <td>2622800</td>\n",
       "      <td>1211900</td>\n",
       "      <td>869500</td>\n",
       "      <td>770200</td>\n",
       "      <td>88700</td>\n",
       "      <td>12974</td>\n",
       "    </tr>\n",
       "    <tr>\n",
       "      <th>2020-09-16</th>\n",
       "      <td>27.953182</td>\n",
       "      <td>23.067225</td>\n",
       "      <td>60.719746</td>\n",
       "      <td>52.294998</td>\n",
       "      <td>95.910004</td>\n",
       "      <td>9.98</td>\n",
       "      <td>9.674476</td>\n",
       "      <td>5.83</td>\n",
       "      <td>18.587660</td>\n",
       "      <td>21.854721</td>\n",
       "      <td>...</td>\n",
       "      <td>547692</td>\n",
       "      <td>107127900</td>\n",
       "      <td>NaN</td>\n",
       "      <td>2056759</td>\n",
       "      <td>2195500</td>\n",
       "      <td>811100</td>\n",
       "      <td>3396100</td>\n",
       "      <td>1175900</td>\n",
       "      <td>146100</td>\n",
       "      <td>16583</td>\n",
       "    </tr>\n",
       "    <tr>\n",
       "      <th>2020-09-17</th>\n",
       "      <td>27.229313</td>\n",
       "      <td>23.076908</td>\n",
       "      <td>60.477051</td>\n",
       "      <td>52.489285</td>\n",
       "      <td>96.370003</td>\n",
       "      <td>9.79</td>\n",
       "      <td>9.508180</td>\n",
       "      <td>5.77</td>\n",
       "      <td>18.684032</td>\n",
       "      <td>21.508831</td>\n",
       "      <td>...</td>\n",
       "      <td>594993</td>\n",
       "      <td>115015200</td>\n",
       "      <td>NaN</td>\n",
       "      <td>1731018</td>\n",
       "      <td>2300700</td>\n",
       "      <td>1372200</td>\n",
       "      <td>1644800</td>\n",
       "      <td>854900</td>\n",
       "      <td>115900</td>\n",
       "      <td>7038</td>\n",
       "    </tr>\n",
       "    <tr>\n",
       "      <th>2020-09-18</th>\n",
       "      <td>26.326958</td>\n",
       "      <td>22.815441</td>\n",
       "      <td>61.317142</td>\n",
       "      <td>52.538216</td>\n",
       "      <td>94.639999</td>\n",
       "      <td>9.40</td>\n",
       "      <td>9.253846</td>\n",
       "      <td>5.53</td>\n",
       "      <td>18.298542</td>\n",
       "      <td>20.953590</td>\n",
       "      <td>...</td>\n",
       "      <td>703714</td>\n",
       "      <td>121451000</td>\n",
       "      <td>NaN</td>\n",
       "      <td>2177548</td>\n",
       "      <td>2269200</td>\n",
       "      <td>2358800</td>\n",
       "      <td>2661900</td>\n",
       "      <td>1682500</td>\n",
       "      <td>141600</td>\n",
       "      <td>19657</td>\n",
       "    </tr>\n",
       "    <tr>\n",
       "      <th>2020-09-21</th>\n",
       "      <td>25.503931</td>\n",
       "      <td>23.144695</td>\n",
       "      <td>61.559830</td>\n",
       "      <td>52.782143</td>\n",
       "      <td>93.400002</td>\n",
       "      <td>9.13</td>\n",
       "      <td>8.999512</td>\n",
       "      <td>5.56</td>\n",
       "      <td>18.128035</td>\n",
       "      <td>20.762440</td>\n",
       "      <td>...</td>\n",
       "      <td>697246</td>\n",
       "      <td>136369500</td>\n",
       "      <td>NaN</td>\n",
       "      <td>2784949</td>\n",
       "      <td>3346800</td>\n",
       "      <td>1056100</td>\n",
       "      <td>1939500</td>\n",
       "      <td>2049800</td>\n",
       "      <td>115700</td>\n",
       "      <td>10740</td>\n",
       "    </tr>\n",
       "  </tbody>\n",
       "</table>\n",
       "<p>5 rows × 168 columns</p>\n",
       "</div>"
      ],
      "text/plain": [
       "            Adj Close                                                       \\\n",
       "             ALSO3.SA  ALUP11.SA  AURA33.SA  BABA34.SA  BOVA11.SA BRML3.SA   \n",
       "Date                                                                         \n",
       "2020-09-15  27.298727  22.873545  60.859756  52.439999  96.459999     9.77   \n",
       "2020-09-16  27.953182  23.067225  60.719746  52.294998  95.910004     9.98   \n",
       "2020-09-17  27.229313  23.076908  60.477051  52.489285  96.370003     9.79   \n",
       "2020-09-18  26.326958  22.815441  61.317142  52.538216  94.639999     9.40   \n",
       "2020-09-21  25.503931  23.144695  61.559830  52.782143  93.400002     9.13   \n",
       "\n",
       "                                                     ...    Volume             \\\n",
       "            BRPR3.SA COGN3.SA   CSAN3.SA   CYRE3.SA  ... MXRF11.SA   OIBR3.SA   \n",
       "Date                                                 ...                        \n",
       "2020-09-15  9.547308     5.80  18.708744  22.264324  ...    483390  120170500   \n",
       "2020-09-16  9.674476     5.83  18.587660  21.854721  ...    547692  107127900   \n",
       "2020-09-17  9.508180     5.77  18.684032  21.508831  ...    594993  115015200   \n",
       "2020-09-18  9.253846     5.53  18.298542  20.953590  ...    703714  121451000   \n",
       "2020-09-21  8.999512     5.56  18.128035  20.762440  ...    697246  136369500   \n",
       "\n",
       "                                                                             \\\n",
       "           RAIZ4.SA SULA11.SA TAEE11.SA TEND3.SA TRIS3.SA TRPL4.SA VIVT3.SA   \n",
       "Date                                                                          \n",
       "2020-09-15      NaN   2515065   2622800  1211900   869500   770200    88700   \n",
       "2020-09-16      NaN   2056759   2195500   811100  3396100  1175900   146100   \n",
       "2020-09-17      NaN   1731018   2300700  1372200  1644800   854900   115900   \n",
       "2020-09-18      NaN   2177548   2269200  2358800  2661900  1682500   141600   \n",
       "2020-09-21      NaN   2784949   3346800  1056100  1939500  2049800   115700   \n",
       "\n",
       "                      \n",
       "           XPCI11.SA  \n",
       "Date                  \n",
       "2020-09-15     12974  \n",
       "2020-09-16     16583  \n",
       "2020-09-17      7038  \n",
       "2020-09-18     19657  \n",
       "2020-09-21     10740  \n",
       "\n",
       "[5 rows x 168 columns]"
      ]
     },
     "execution_count": 22,
     "metadata": {},
     "output_type": "execute_result"
    }
   ],
   "source": [
    "df.head()"
   ]
  },
  {
   "cell_type": "code",
   "execution_count": 23,
   "metadata": {},
   "outputs": [
    {
     "data": {
      "text/html": [
       "<div>\n",
       "<style scoped>\n",
       "    .dataframe tbody tr th:only-of-type {\n",
       "        vertical-align: middle;\n",
       "    }\n",
       "\n",
       "    .dataframe tbody tr th {\n",
       "        vertical-align: top;\n",
       "    }\n",
       "\n",
       "    .dataframe thead th {\n",
       "        text-align: right;\n",
       "    }\n",
       "</style>\n",
       "<table border=\"1\" class=\"dataframe\">\n",
       "  <thead>\n",
       "    <tr style=\"text-align: right;\">\n",
       "      <th></th>\n",
       "      <th>ALSO3.SA</th>\n",
       "      <th>ALUP11.SA</th>\n",
       "      <th>AURA33.SA</th>\n",
       "      <th>BABA34.SA</th>\n",
       "      <th>BOVA11.SA</th>\n",
       "      <th>BRML3.SA</th>\n",
       "      <th>BRPR3.SA</th>\n",
       "      <th>COGN3.SA</th>\n",
       "      <th>CSAN3.SA</th>\n",
       "      <th>CYRE3.SA</th>\n",
       "      <th>...</th>\n",
       "      <th>MXRF11.SA</th>\n",
       "      <th>OIBR3.SA</th>\n",
       "      <th>RAIZ4.SA</th>\n",
       "      <th>SULA11.SA</th>\n",
       "      <th>TAEE11.SA</th>\n",
       "      <th>TEND3.SA</th>\n",
       "      <th>TRIS3.SA</th>\n",
       "      <th>TRPL4.SA</th>\n",
       "      <th>VIVT3.SA</th>\n",
       "      <th>XPCI11.SA</th>\n",
       "    </tr>\n",
       "    <tr>\n",
       "      <th>Date</th>\n",
       "      <th></th>\n",
       "      <th></th>\n",
       "      <th></th>\n",
       "      <th></th>\n",
       "      <th></th>\n",
       "      <th></th>\n",
       "      <th></th>\n",
       "      <th></th>\n",
       "      <th></th>\n",
       "      <th></th>\n",
       "      <th></th>\n",
       "      <th></th>\n",
       "      <th></th>\n",
       "      <th></th>\n",
       "      <th></th>\n",
       "      <th></th>\n",
       "      <th></th>\n",
       "      <th></th>\n",
       "      <th></th>\n",
       "      <th></th>\n",
       "      <th></th>\n",
       "    </tr>\n",
       "  </thead>\n",
       "  <tbody>\n",
       "    <tr>\n",
       "      <th>2020-09-15</th>\n",
       "      <td>27.530001</td>\n",
       "      <td>23.620001</td>\n",
       "      <td>65.199997</td>\n",
       "      <td>52.439999</td>\n",
       "      <td>96.459999</td>\n",
       "      <td>9.77</td>\n",
       "      <td>9.76</td>\n",
       "      <td>5.80</td>\n",
       "      <td>18.927500</td>\n",
       "      <td>24.459999</td>\n",
       "      <td>...</td>\n",
       "      <td>10.59</td>\n",
       "      <td>1.81</td>\n",
       "      <td>NaN</td>\n",
       "      <td>38.208035</td>\n",
       "      <td>28.559999</td>\n",
       "      <td>30.610001</td>\n",
       "      <td>11.83</td>\n",
       "      <td>21.100000</td>\n",
       "      <td>48.000000</td>\n",
       "      <td>88.239998</td>\n",
       "    </tr>\n",
       "    <tr>\n",
       "      <th>2020-09-16</th>\n",
       "      <td>28.190001</td>\n",
       "      <td>23.820000</td>\n",
       "      <td>65.050003</td>\n",
       "      <td>52.294998</td>\n",
       "      <td>95.910004</td>\n",
       "      <td>9.98</td>\n",
       "      <td>9.89</td>\n",
       "      <td>5.83</td>\n",
       "      <td>18.805000</td>\n",
       "      <td>24.010000</td>\n",
       "      <td>...</td>\n",
       "      <td>10.67</td>\n",
       "      <td>1.82</td>\n",
       "      <td>NaN</td>\n",
       "      <td>38.180267</td>\n",
       "      <td>28.709999</td>\n",
       "      <td>29.889999</td>\n",
       "      <td>12.33</td>\n",
       "      <td>21.120001</td>\n",
       "      <td>47.369999</td>\n",
       "      <td>88.050003</td>\n",
       "    </tr>\n",
       "    <tr>\n",
       "      <th>2020-09-17</th>\n",
       "      <td>27.459999</td>\n",
       "      <td>23.830000</td>\n",
       "      <td>64.790001</td>\n",
       "      <td>52.489285</td>\n",
       "      <td>96.370003</td>\n",
       "      <td>9.79</td>\n",
       "      <td>9.72</td>\n",
       "      <td>5.77</td>\n",
       "      <td>18.902500</td>\n",
       "      <td>23.629999</td>\n",
       "      <td>...</td>\n",
       "      <td>10.72</td>\n",
       "      <td>1.84</td>\n",
       "      <td>NaN</td>\n",
       "      <td>38.189522</td>\n",
       "      <td>28.620001</td>\n",
       "      <td>29.500000</td>\n",
       "      <td>12.08</td>\n",
       "      <td>21.170000</td>\n",
       "      <td>47.500000</td>\n",
       "      <td>88.809998</td>\n",
       "    </tr>\n",
       "    <tr>\n",
       "      <th>2020-09-18</th>\n",
       "      <td>26.549999</td>\n",
       "      <td>23.559999</td>\n",
       "      <td>65.690002</td>\n",
       "      <td>52.538216</td>\n",
       "      <td>94.639999</td>\n",
       "      <td>9.40</td>\n",
       "      <td>9.46</td>\n",
       "      <td>5.53</td>\n",
       "      <td>18.512501</td>\n",
       "      <td>23.020000</td>\n",
       "      <td>...</td>\n",
       "      <td>10.74</td>\n",
       "      <td>1.80</td>\n",
       "      <td>NaN</td>\n",
       "      <td>37.152870</td>\n",
       "      <td>28.280001</td>\n",
       "      <td>28.600000</td>\n",
       "      <td>11.64</td>\n",
       "      <td>21.309999</td>\n",
       "      <td>47.090000</td>\n",
       "      <td>89.459999</td>\n",
       "    </tr>\n",
       "    <tr>\n",
       "      <th>2020-09-21</th>\n",
       "      <td>25.719999</td>\n",
       "      <td>23.900000</td>\n",
       "      <td>65.949997</td>\n",
       "      <td>52.782143</td>\n",
       "      <td>93.400002</td>\n",
       "      <td>9.13</td>\n",
       "      <td>9.20</td>\n",
       "      <td>5.56</td>\n",
       "      <td>18.340000</td>\n",
       "      <td>22.809999</td>\n",
       "      <td>...</td>\n",
       "      <td>10.72</td>\n",
       "      <td>1.72</td>\n",
       "      <td>NaN</td>\n",
       "      <td>37.930359</td>\n",
       "      <td>28.330000</td>\n",
       "      <td>27.790001</td>\n",
       "      <td>11.15</td>\n",
       "      <td>21.629999</td>\n",
       "      <td>46.700001</td>\n",
       "      <td>89.580002</td>\n",
       "    </tr>\n",
       "  </tbody>\n",
       "</table>\n",
       "<p>5 rows × 28 columns</p>\n",
       "</div>"
      ],
      "text/plain": [
       "             ALSO3.SA  ALUP11.SA  AURA33.SA  BABA34.SA  BOVA11.SA  BRML3.SA  \\\n",
       "Date                                                                          \n",
       "2020-09-15  27.530001  23.620001  65.199997  52.439999  96.459999      9.77   \n",
       "2020-09-16  28.190001  23.820000  65.050003  52.294998  95.910004      9.98   \n",
       "2020-09-17  27.459999  23.830000  64.790001  52.489285  96.370003      9.79   \n",
       "2020-09-18  26.549999  23.559999  65.690002  52.538216  94.639999      9.40   \n",
       "2020-09-21  25.719999  23.900000  65.949997  52.782143  93.400002      9.13   \n",
       "\n",
       "            BRPR3.SA  COGN3.SA   CSAN3.SA   CYRE3.SA  ...  MXRF11.SA  \\\n",
       "Date                                                  ...              \n",
       "2020-09-15      9.76      5.80  18.927500  24.459999  ...      10.59   \n",
       "2020-09-16      9.89      5.83  18.805000  24.010000  ...      10.67   \n",
       "2020-09-17      9.72      5.77  18.902500  23.629999  ...      10.72   \n",
       "2020-09-18      9.46      5.53  18.512501  23.020000  ...      10.74   \n",
       "2020-09-21      9.20      5.56  18.340000  22.809999  ...      10.72   \n",
       "\n",
       "            OIBR3.SA  RAIZ4.SA  SULA11.SA  TAEE11.SA   TEND3.SA  TRIS3.SA  \\\n",
       "Date                                                                        \n",
       "2020-09-15      1.81       NaN  38.208035  28.559999  30.610001     11.83   \n",
       "2020-09-16      1.82       NaN  38.180267  28.709999  29.889999     12.33   \n",
       "2020-09-17      1.84       NaN  38.189522  28.620001  29.500000     12.08   \n",
       "2020-09-18      1.80       NaN  37.152870  28.280001  28.600000     11.64   \n",
       "2020-09-21      1.72       NaN  37.930359  28.330000  27.790001     11.15   \n",
       "\n",
       "             TRPL4.SA   VIVT3.SA  XPCI11.SA  \n",
       "Date                                         \n",
       "2020-09-15  21.100000  48.000000  88.239998  \n",
       "2020-09-16  21.120001  47.369999  88.050003  \n",
       "2020-09-17  21.170000  47.500000  88.809998  \n",
       "2020-09-18  21.309999  47.090000  89.459999  \n",
       "2020-09-21  21.629999  46.700001  89.580002  \n",
       "\n",
       "[5 rows x 28 columns]"
      ]
     },
     "execution_count": 23,
     "metadata": {},
     "output_type": "execute_result"
    }
   ],
   "source": [
    "df_close = df['Close']\n",
    "df_close.head()"
   ]
  },
  {
   "cell_type": "code",
   "execution_count": 24,
   "metadata": {},
   "outputs": [
    {
     "data": {
      "text/plain": [
       "{'Selic': 7605.365255462518,\n",
       " 'Prefixado': 271.49614009511976,\n",
       " 'IPCA': 5.2457444321145195,\n",
       " 'HASH11.SA': 74.32406074367088,\n",
       " 'TGAR11.SA': 17.432172175786853,\n",
       " 'BIAU39.SA': 2.374279376623375,\n",
       " 'GOLD11.SA': 0.12897262139466956,\n",
       " 'XINA11.SA': 1.0428390993788819}"
      ]
     },
     "execution_count": 24,
     "metadata": {},
     "output_type": "execute_result"
    }
   ],
   "source": [
    "var_dict"
   ]
  },
  {
   "cell_type": "code",
   "execution_count": 25,
   "metadata": {},
   "outputs": [],
   "source": [
    "for column in df_close.columns:\n",
    "    var_dict[column] = df_close[column].var()"
   ]
  },
  {
   "cell_type": "markdown",
   "metadata": {},
   "source": [
    "E por fim temos os dois dicionários para formar a função objetivo de um tipo de carteira que foi solicitado pelo investidor. O mesmo nos explicou que gostaria de aplicar mais dinheiro em ações/fundos/rendas fixas menos voláteis e ao mesmo tempo, levar em consideração quanto cada investimento o retornou desde sua compra."
   ]
  },
  {
   "cell_type": "code",
   "execution_count": 26,
   "metadata": {},
   "outputs": [
    {
     "data": {
      "text/plain": [
       "{'Selic': 7605.365255462518,\n",
       " 'Prefixado': 271.49614009511976,\n",
       " 'IPCA': 5.2457444321145195,\n",
       " 'HASH11.SA': 74.32406074367088,\n",
       " 'TGAR11.SA': 17.432172175786853,\n",
       " 'BIAU39.SA': 2.374279376623375,\n",
       " 'GOLD11.SA': 0.12897262139466956,\n",
       " 'XINA11.SA': 1.0428390993788819,\n",
       " 'ALSO3.SA': 4.36896747207787,\n",
       " 'ALUP11.SA': 1.7007738498640963,\n",
       " 'AURA33.SA': 26.776399023259668,\n",
       " 'BABA34.SA': 65.51771640906016,\n",
       " 'BOVA11.SA': 83.49938798829692,\n",
       " 'BRML3.SA': 0.6631038812956846,\n",
       " 'BRPR3.SA': 0.4034537118220449,\n",
       " 'COGN3.SA': 0.39583910374051745,\n",
       " 'CSAN3.SA': 7.367294588012832,\n",
       " 'CYRE3.SA': 8.199557423967647,\n",
       " 'DIRR3.SA': 0.7191986951475353,\n",
       " 'EGIE3.SA': 4.311363585807714,\n",
       " 'FESA4.SA': 160.91942713847945,\n",
       " 'GGBR4.SA': 18.58427404078702,\n",
       " 'GOAU4.SA': 3.7714179619126638,\n",
       " 'IVVB11.SA': 353.28099110994503,\n",
       " 'JHSF3.SA': 0.20356866592470116,\n",
       " 'KNRI11.SA': 97.52261246881972,\n",
       " 'MXRF11.SA': 0.05553427779612003,\n",
       " 'OIBR3.SA': 0.13546025590840305,\n",
       " 'RAIZ4.SA': 0.05049925813488985,\n",
       " 'SULA11.SA': 14.81140908560355,\n",
       " 'TAEE11.SA': 17.345079541515673,\n",
       " 'TEND3.SA': 9.315227335398083,\n",
       " 'TRIS3.SA': 1.8765857844612466,\n",
       " 'TRPL4.SA': 3.109659888939952,\n",
       " 'VIVT3.SA': 2.8204931057589753,\n",
       " 'XPCI11.SA': 19.418728899391553}"
      ]
     },
     "execution_count": 26,
     "metadata": {},
     "output_type": "execute_result"
    }
   ],
   "source": [
    "var_dict"
   ]
  },
  {
   "cell_type": "code",
   "execution_count": 27,
   "metadata": {},
   "outputs": [
    {
     "data": {
      "text/plain": [
       "{'IPCA': -7.18,\n",
       " 'Selic': 0,\n",
       " 'Prefixado': 0,\n",
       " 'KNRI11.SA': 0,\n",
       " 'XPCI11.SA': 0,\n",
       " 'XINA11.SA': -22.08,\n",
       " 'VIVT3.SA': -7.45,\n",
       " 'TRPL4.SA': -8.94,\n",
       " 'TRIS3.SA': -23.36,\n",
       " 'TGAR11.SA': 0.29,\n",
       " 'TEND3.SA': -19.57,\n",
       " 'TAEE11.SA': 24.53,\n",
       " 'SULA11.SA': -12.05,\n",
       " 'RAIZ4.SA': -3.51,\n",
       " 'OIBR3.SA': -38.0,\n",
       " 'MXRF11.SA': -0.8,\n",
       " 'JHSF3.SA': 7.34,\n",
       " 'IVVB11.SA': 9.53,\n",
       " 'HASH11.SA': -5.79,\n",
       " 'GOLD11.SA': -3.85,\n",
       " 'GOAU4.SA': 1.41,\n",
       " 'GGBR4.SA': 2.38,\n",
       " 'FESA4.SA': 16.51,\n",
       " 'EGIE3.SA': -7.68,\n",
       " 'DIRR3.SA': -6.52,\n",
       " 'CYRE3.SA': -17.04,\n",
       " 'CSAN3.SA': 4.83,\n",
       " 'COGN3.SA': -14.84,\n",
       " 'BRPR3.SA': -3.45,\n",
       " 'BRML3.SA': 22.01,\n",
       " 'BOVA11.SA': 4.7,\n",
       " 'BIAU39.SA': -1.77,\n",
       " 'BABA34.SA': -27.99,\n",
       " 'AURA33.SA': 14.35,\n",
       " 'ALUP11.SA': -5.53,\n",
       " 'ALSO3.SA': 8.66}"
      ]
     },
     "execution_count": 27,
     "metadata": {},
     "output_type": "execute_result"
    }
   ],
   "source": [
    "return_dict"
   ]
  },
  {
   "cell_type": "markdown",
   "metadata": {},
   "source": [
    "### 2.2. Implementação do Modelo"
   ]
  },
  {
   "cell_type": "markdown",
   "metadata": {},
   "source": [
    "Com os dados de variância e retorno obtidos, podemos agora otimizar o portfólio."
   ]
  },
  {
   "cell_type": "code",
   "execution_count": 28,
   "metadata": {},
   "outputs": [],
   "source": [
    "fi = ['XPCI11.SA', 'KNRI11.SA', 'MXRF11.SA', 'TGAR11.SA']\n",
    "rf = ['IPCA', 'Selic', 'Prefixado']\n",
    "ghb = ['GOLD11.SA', 'HASH11.SA', 'BIAU39.SA']"
   ]
  },
  {
   "cell_type": "code",
   "execution_count": 29,
   "metadata": {},
   "outputs": [],
   "source": [
    "keys = list(return_dict.keys())\n",
    "r = [x for x in keys if x not in (fi + rf + ghb)]"
   ]
  },
  {
   "cell_type": "code",
   "execution_count": 30,
   "metadata": {},
   "outputs": [],
   "source": [
    "a = [x for x in keys if x not in (rf)]"
   ]
  },
  {
   "cell_type": "markdown",
   "metadata": {},
   "source": [
    "#### 2.2.1. Modelo mantendo todas as restrições solicitadas"
   ]
  },
  {
   "cell_type": "markdown",
   "metadata": {},
   "source": [
    "* Minimizando a variância e com retorno mínimo de 8%"
   ]
  },
  {
   "cell_type": "code",
   "execution_count": 31,
   "metadata": {},
   "outputs": [],
   "source": [
    "model = Model()\n",
    "x = model.continuous_var_dict(keys, name='invs')"
   ]
  },
  {
   "cell_type": "code",
   "execution_count": 32,
   "metadata": {},
   "outputs": [],
   "source": [
    "model.minimize(model.sum(x[i] * var_dict[i] for i in x.keys()))"
   ]
  },
  {
   "cell_type": "code",
   "execution_count": 33,
   "metadata": {},
   "outputs": [
    {
     "data": {
      "text/plain": [
       "docplex.mp.LinearConstraint[](-7.180invs_IPCA-22.080invs_XINA11.SA-7.450invs_VIVT3.SA-8.940invs_TRPL4.SA-23.360invs_TRIS3.SA+0.290invs_TGAR11.SA-19.570invs_TEND3.SA+24.530invs_TAEE11.SA-12.050invs_SULA11.SA-3.510invs_RAIZ4.SA-38invs_OIBR3.SA-0.800invs_MXRF11.SA+7.340invs_JHSF3.SA+9.530invs_IVVB11.SA-5.790invs_HASH11.SA-3.850invs_GOLD11.SA+1.410invs_GOAU4.SA+2.380invs_GGBR4.SA+16.510invs_FESA4.SA-7.680invs_EGIE3.SA-6.520invs_DIRR3.SA-17.040invs_CYRE3.SA+4.830invs_CSAN3.SA-14.840invs_COGN3.SA-3.450invs_BRPR3.SA+22.010invs_BRML3.SA+4.700invs_BOVA11.SA-1.770invs_BIAU39.SA-27.990invs_BABA34.SA+14.350invs_AURA33.SA-5.530invs_ALUP11.SA+8.660invs_ALSO3.SA,GE,8)"
      ]
     },
     "execution_count": 33,
     "metadata": {},
     "output_type": "execute_result"
    }
   ],
   "source": [
    "model.add_constraint(model.sum(x[i] for i in fi) == 0.15)\n",
    "model.add_constraint(model.sum(x[i] for i in rf) == 0.15)\n",
    "model.add_constraint(model.sum(x[i] for i in ghb) == 0.05)\n",
    "model.add_constraint(model.sum(x[i] for i in r) == 0.65)\n",
    "model.add_constraints(x[i] >= 0.005 for i in keys)\n",
    "model.add_constraints(x[i] <= 0.15 for i in keys)\n",
    "model.add_constraint(model.sum(x[i] for i in keys) == 1)\n",
    "model.add_constraint(model.sum(x[i] * return_dict[i] for i in keys) >= 8)"
   ]
  },
  {
   "cell_type": "code",
   "execution_count": 34,
   "metadata": {},
   "outputs": [
    {
     "name": "stdout",
     "output_type": "stream",
     "text": [
      "Version identifier: 20.1.0.0 | 2020-11-10 | 9bedb6d68\n",
      "CPXPARAM_Read_DataCheck                          1\n",
      "CPXPARAM_RandomSeed                              202001241\n",
      "Tried aggregator 1 time.\n",
      "LP Presolve eliminated 73 rows and 2 columns.\n",
      "Aggregator did 1 substitutions.\n",
      "Reduced LP has 4 rows, 33 columns, and 64 nonzeros.\n",
      "Presolve time = 0.00 sec. (0.06 ticks)\n",
      "Initializing dual steep norms . . .\n",
      "\n",
      "Iteration log . . .\n",
      "Iteration:     1   Dual objective     =            46.073855\n"
     ]
    }
   ],
   "source": [
    "solution = model.solve(log_output=True)"
   ]
  },
  {
   "cell_type": "code",
   "execution_count": 35,
   "metadata": {},
   "outputs": [
    {
     "name": "stdout",
     "output_type": "stream",
     "text": [
      "objective: 54.997\n",
      "  invs_IPCA=0.140\n",
      "  invs_Selic=0.005\n",
      "  invs_Prefixado=0.005\n",
      "  invs_KNRI11.SA=0.005\n",
      "  invs_XPCI11.SA=0.005\n",
      "  invs_XINA11.SA=0.005\n",
      "  invs_VIVT3.SA=0.005\n",
      "  invs_TRPL4.SA=0.005\n",
      "  invs_TRIS3.SA=0.005\n",
      "  invs_TGAR11.SA=0.135\n",
      "  invs_TEND3.SA=0.005\n",
      "  invs_TAEE11.SA=0.150\n",
      "  invs_SULA11.SA=0.005\n",
      "  invs_RAIZ4.SA=0.005\n",
      "  invs_OIBR3.SA=0.005\n",
      "  invs_MXRF11.SA=0.005\n",
      "  invs_JHSF3.SA=0.005\n",
      "  invs_IVVB11.SA=0.005\n",
      "  invs_HASH11.SA=0.005\n",
      "  invs_GOLD11.SA=0.005\n",
      "  invs_GOAU4.SA=0.005\n",
      "  invs_GGBR4.SA=0.005\n",
      "  invs_FESA4.SA=0.009\n",
      "  invs_EGIE3.SA=0.005\n",
      "  invs_DIRR3.SA=0.005\n",
      "  invs_CYRE3.SA=0.005\n",
      "  invs_CSAN3.SA=0.005\n",
      "  invs_COGN3.SA=0.005\n",
      "  invs_BRPR3.SA=0.005\n",
      "  invs_BRML3.SA=0.150\n",
      "  invs_BOVA11.SA=0.005\n",
      "  invs_BIAU39.SA=0.040\n",
      "  invs_BABA34.SA=0.005\n",
      "  invs_AURA33.SA=0.150\n",
      "  invs_ALUP11.SA=0.005\n",
      "  invs_ALSO3.SA=0.086\n"
     ]
    }
   ],
   "source": [
    "model.print_solution()"
   ]
  },
  {
   "cell_type": "code",
   "execution_count": 36,
   "metadata": {},
   "outputs": [],
   "source": [
    "total_return = 0\n",
    "for i in keys:\n",
    "    total_return += x[i].solution_value * return_dict[i]"
   ]
  },
  {
   "cell_type": "code",
   "execution_count": 37,
   "metadata": {},
   "outputs": [],
   "source": [
    "total_rf = 0\n",
    "for i in rf:\n",
    "    total_rf += x[i].solution_value"
   ]
  },
  {
   "cell_type": "code",
   "execution_count": 38,
   "metadata": {},
   "outputs": [],
   "source": [
    "total_a = 0\n",
    "for i in a:\n",
    "    total_a += x[i].solution_value"
   ]
  },
  {
   "cell_type": "code",
   "execution_count": 39,
   "metadata": {},
   "outputs": [
    {
     "name": "stdout",
     "output_type": "stream",
     "text": [
      "Variâcia encontrada pela função objetivo:  54.99747918446086\n",
      "Retorno total:  7.999999999999997\n",
      "Total alocado em renda fixa:  0.15\n",
      "Total alocado em renda variável:  0.8500000000000001\n"
     ]
    }
   ],
   "source": [
    "print('Variâcia encontrada pela função objetivo: ', model.objective_value)\n",
    "print('Retorno total: ', total_return)\n",
    "print('Total alocado em renda fixa: ', total_rf)\n",
    "print('Total alocado em renda variável: ', total_a)"
   ]
  },
  {
   "cell_type": "markdown",
   "metadata": {},
   "source": [
    "* Maximizando o retorno e com variância máxima de 60"
   ]
  },
  {
   "cell_type": "code",
   "execution_count": 40,
   "metadata": {},
   "outputs": [],
   "source": [
    "model = Model()\n",
    "x = model.continuous_var_dict(keys, name='invs')"
   ]
  },
  {
   "cell_type": "code",
   "execution_count": 41,
   "metadata": {},
   "outputs": [],
   "source": [
    "model.maximize(model.sum(x[i] * return_dict[i] for i in x.keys()))"
   ]
  },
  {
   "cell_type": "code",
   "execution_count": 42,
   "metadata": {},
   "outputs": [
    {
     "data": {
      "text/plain": [
       "docplex.mp.LinearConstraint[](5.246invs_IPCA+7605.365invs_Selic+271.496invs_Prefixado+97.523invs_KNRI11.SA+19.419invs_XPCI11.SA+1.043invs_XINA11.SA+2.820invs_VIVT3.SA+3.110invs_TRPL4.SA+1.877invs_TRIS3.SA+17.432invs_TGAR11.SA+9.315invs_TEND3.SA+17.345invs_TAEE11.SA+14.811invs_SULA11.SA+0.050invs_RAIZ4.SA+0.135invs_OIBR3.SA+0.056invs_MXRF11.SA+0.204invs_JHSF3.SA+353.281invs_IVVB11.SA+74.324invs_HASH11.SA+0.129invs_GOLD11.SA+3.771invs_GOAU4.SA+18.584invs_GGBR4.SA+160.919invs_FESA4.SA+4.311invs_EGIE3.SA+0.719invs_DIRR3.SA+8.200invs_CYRE3.SA+7.367invs_CSAN3.SA+0.396invs_COGN3.SA+0.403invs_BRPR3.SA+0.663invs_BRML3.SA+83.499invs_BOVA11.SA+2.374invs_BIAU39.SA+65.518invs_BABA34.SA+26.776invs_AURA33.SA+1.701invs_ALUP11.SA+4.369invs_ALSO3.SA,LE,60)"
      ]
     },
     "execution_count": 42,
     "metadata": {},
     "output_type": "execute_result"
    }
   ],
   "source": [
    "model.add_constraint(model.sum(x[i] for i in fi) == 0.15)\n",
    "model.add_constraint(model.sum(x[i] for i in rf) == 0.15)\n",
    "model.add_constraint(model.sum(x[i] for i in ghb) == 0.05)\n",
    "model.add_constraint(model.sum(x[i] for i in r) == 0.65)\n",
    "model.add_constraints(x[i] >= 0.005 for i in keys)\n",
    "model.add_constraints(x[i] <= 0.15 for i in keys)\n",
    "model.add_constraint(model.sum(x[i] for i in keys) == 1)\n",
    "model.add_constraint(model.sum(x[i] * var_dict[i] for i in keys) <= 60)"
   ]
  },
  {
   "cell_type": "code",
   "execution_count": 43,
   "metadata": {},
   "outputs": [
    {
     "name": "stdout",
     "output_type": "stream",
     "text": [
      "Version identifier: 20.1.0.0 | 2020-11-10 | 9bedb6d68\n",
      "CPXPARAM_Read_DataCheck                          1\n",
      "CPXPARAM_RandomSeed                              202001241\n",
      "Tried aggregator 1 time.\n",
      "LP Presolve eliminated 73 rows and 0 columns.\n",
      "Reduced LP has 5 rows, 36 columns, and 72 nonzeros.\n",
      "Presolve time = 0.00 sec. (0.05 ticks)\n",
      "Initializing dual steep norms . . .\n",
      "\n",
      "Iteration log . . .\n",
      "Iteration:     1   Dual objective     =             9.733450\n"
     ]
    }
   ],
   "source": [
    "solution = model.solve(log_output=True)"
   ]
  },
  {
   "cell_type": "code",
   "execution_count": 44,
   "metadata": {},
   "outputs": [
    {
     "name": "stdout",
     "output_type": "stream",
     "text": [
      "objective: 8.251\n",
      "  invs_IPCA=0.140\n",
      "  invs_Selic=0.005\n",
      "  invs_Prefixado=0.005\n",
      "  invs_KNRI11.SA=0.005\n",
      "  invs_XPCI11.SA=0.005\n",
      "  invs_XINA11.SA=0.005\n",
      "  invs_VIVT3.SA=0.005\n",
      "  invs_TRPL4.SA=0.005\n",
      "  invs_TRIS3.SA=0.005\n",
      "  invs_TGAR11.SA=0.135\n",
      "  invs_TEND3.SA=0.005\n",
      "  invs_TAEE11.SA=0.150\n",
      "  invs_SULA11.SA=0.005\n",
      "  invs_RAIZ4.SA=0.005\n",
      "  invs_OIBR3.SA=0.005\n",
      "  invs_MXRF11.SA=0.005\n",
      "  invs_JHSF3.SA=0.005\n",
      "  invs_IVVB11.SA=0.005\n",
      "  invs_HASH11.SA=0.005\n",
      "  invs_GOLD11.SA=0.005\n",
      "  invs_GOAU4.SA=0.005\n",
      "  invs_GGBR4.SA=0.005\n",
      "  invs_FESA4.SA=0.041\n",
      "  invs_EGIE3.SA=0.005\n",
      "  invs_DIRR3.SA=0.005\n",
      "  invs_CYRE3.SA=0.005\n",
      "  invs_CSAN3.SA=0.005\n",
      "  invs_COGN3.SA=0.005\n",
      "  invs_BRPR3.SA=0.005\n",
      "  invs_BRML3.SA=0.150\n",
      "  invs_BOVA11.SA=0.005\n",
      "  invs_BIAU39.SA=0.040\n",
      "  invs_BABA34.SA=0.005\n",
      "  invs_AURA33.SA=0.150\n",
      "  invs_ALUP11.SA=0.005\n",
      "  invs_ALSO3.SA=0.054\n"
     ]
    }
   ],
   "source": [
    "model.print_solution()"
   ]
  },
  {
   "cell_type": "code",
   "execution_count": 45,
   "metadata": {},
   "outputs": [],
   "source": [
    "total_var = 0\n",
    "for i in keys:\n",
    "    total_var += x[i].solution_value * var_dict[i]"
   ]
  },
  {
   "cell_type": "code",
   "execution_count": 46,
   "metadata": {},
   "outputs": [],
   "source": [
    "total_rf = 0\n",
    "for i in rf:\n",
    "    total_rf += x[i].solution_value"
   ]
  },
  {
   "cell_type": "code",
   "execution_count": 47,
   "metadata": {},
   "outputs": [],
   "source": [
    "total_a = 0\n",
    "for i in a:\n",
    "    total_a += x[i].solution_value"
   ]
  },
  {
   "cell_type": "code",
   "execution_count": 48,
   "metadata": {},
   "outputs": [
    {
     "name": "stdout",
     "output_type": "stream",
     "text": [
      "Retorno encontrado pela função objetivo:  8.250844286792024\n",
      "Variância total:  59.99999999999998\n",
      "Total alocado em renda fixa:  0.15\n",
      "Total alocado em renda variável:  0.85\n"
     ]
    }
   ],
   "source": [
    "print('Retorno encontrado pela função objetivo: ', model.objective_value)\n",
    "print('Variância total: ', total_var)\n",
    "print('Total alocado em renda fixa: ', total_rf)\n",
    "print('Total alocado em renda variável: ', total_a)"
   ]
  },
  {
   "cell_type": "markdown",
   "metadata": {},
   "source": [
    "#### 2.2.2. Modelo removendo algumas restrições entre ativos de renda variável"
   ]
  },
  {
   "cell_type": "markdown",
   "metadata": {},
   "source": [
    "* Minimizando a variância e com retorno mínimo de 8%"
   ]
  },
  {
   "cell_type": "code",
   "execution_count": 49,
   "metadata": {},
   "outputs": [],
   "source": [
    "model = Model()\n",
    "x = model.continuous_var_dict(keys, name='invs')"
   ]
  },
  {
   "cell_type": "code",
   "execution_count": 50,
   "metadata": {},
   "outputs": [],
   "source": [
    "model.minimize(model.sum(x[i] * var_dict[i] for i in x.keys()))"
   ]
  },
  {
   "cell_type": "code",
   "execution_count": 51,
   "metadata": {},
   "outputs": [
    {
     "data": {
      "text/plain": [
       "docplex.mp.LinearConstraint[](-7.180invs_IPCA-22.080invs_XINA11.SA-7.450invs_VIVT3.SA-8.940invs_TRPL4.SA-23.360invs_TRIS3.SA+0.290invs_TGAR11.SA-19.570invs_TEND3.SA+24.530invs_TAEE11.SA-12.050invs_SULA11.SA-3.510invs_RAIZ4.SA-38invs_OIBR3.SA-0.800invs_MXRF11.SA+7.340invs_JHSF3.SA+9.530invs_IVVB11.SA-5.790invs_HASH11.SA-3.850invs_GOLD11.SA+1.410invs_GOAU4.SA+2.380invs_GGBR4.SA+16.510invs_FESA4.SA-7.680invs_EGIE3.SA-6.520invs_DIRR3.SA-17.040invs_CYRE3.SA+4.830invs_CSAN3.SA-14.840invs_COGN3.SA-3.450invs_BRPR3.SA+22.010invs_BRML3.SA+4.700invs_BOVA11.SA-1.770invs_BIAU39.SA-27.990invs_BABA34.SA+14.350invs_AURA33.SA-5.530invs_ALUP11.SA+8.660invs_ALSO3.SA,GE,8)"
      ]
     },
     "execution_count": 51,
     "metadata": {},
     "output_type": "execute_result"
    }
   ],
   "source": [
    "model.add_constraint(model.sum(x[i] for i in rf) == 0.15)\n",
    "model.add_constraint(model.sum(x[i] for i in a) == 0.85)\n",
    "model.add_constraints(x[i] >= 0.005 for i in keys)\n",
    "model.add_constraints(x[i] <= 0.15 for i in keys)\n",
    "model.add_constraint(model.sum(x[i] for i in keys) == 1)\n",
    "model.add_constraint(model.sum(x[i] * return_dict[i] for i in keys) >= 8)"
   ]
  },
  {
   "cell_type": "code",
   "execution_count": 52,
   "metadata": {},
   "outputs": [
    {
     "name": "stdout",
     "output_type": "stream",
     "text": [
      "Version identifier: 20.1.0.0 | 2020-11-10 | 9bedb6d68\n",
      "CPXPARAM_Read_DataCheck                          1\n",
      "CPXPARAM_RandomSeed                              202001241\n",
      "Tried aggregator 1 time.\n",
      "LP Presolve eliminated 73 rows and 1 columns.\n",
      "Aggregator did 1 substitutions.\n",
      "Reduced LP has 2 rows, 34 columns, and 65 nonzeros.\n",
      "Presolve time = 0.00 sec. (0.05 ticks)\n",
      "Initializing dual steep norms . . .\n",
      "\n",
      "Iteration log . . .\n",
      "Iteration:     1   Dual objective     =            47.748748\n"
     ]
    }
   ],
   "source": [
    "solution = model.solve(log_output=True)"
   ]
  },
  {
   "cell_type": "code",
   "execution_count": 53,
   "metadata": {},
   "outputs": [
    {
     "name": "stdout",
     "output_type": "stream",
     "text": [
      "objective: 49.176\n",
      "  invs_IPCA=0.140\n",
      "  invs_Selic=0.005\n",
      "  invs_Prefixado=0.005\n",
      "  invs_KNRI11.SA=0.005\n",
      "  invs_XPCI11.SA=0.005\n",
      "  invs_XINA11.SA=0.005\n",
      "  invs_VIVT3.SA=0.005\n",
      "  invs_TRPL4.SA=0.005\n",
      "  invs_TRIS3.SA=0.005\n",
      "  invs_TGAR11.SA=0.005\n",
      "  invs_TEND3.SA=0.005\n",
      "  invs_TAEE11.SA=0.150\n",
      "  invs_SULA11.SA=0.005\n",
      "  invs_RAIZ4.SA=0.005\n",
      "  invs_OIBR3.SA=0.005\n",
      "  invs_MXRF11.SA=0.005\n",
      "  invs_JHSF3.SA=0.150\n",
      "  invs_IVVB11.SA=0.005\n",
      "  invs_HASH11.SA=0.005\n",
      "  invs_GOLD11.SA=0.005\n",
      "  invs_GOAU4.SA=0.005\n",
      "  invs_GGBR4.SA=0.005\n",
      "  invs_FESA4.SA=0.005\n",
      "  invs_EGIE3.SA=0.005\n",
      "  invs_DIRR3.SA=0.005\n",
      "  invs_CYRE3.SA=0.005\n",
      "  invs_CSAN3.SA=0.110\n",
      "  invs_COGN3.SA=0.005\n",
      "  invs_BRPR3.SA=0.005\n",
      "  invs_BRML3.SA=0.150\n",
      "  invs_BOVA11.SA=0.005\n",
      "  invs_BIAU39.SA=0.005\n",
      "  invs_BABA34.SA=0.005\n",
      "  invs_AURA33.SA=0.005\n",
      "  invs_ALUP11.SA=0.005\n",
      "  invs_ALSO3.SA=0.150\n"
     ]
    }
   ],
   "source": [
    "model.print_solution()"
   ]
  },
  {
   "cell_type": "code",
   "execution_count": 54,
   "metadata": {},
   "outputs": [],
   "source": [
    "total_return = 0\n",
    "for i in keys:\n",
    "    total_return += x[i].solution_value * return_dict[i]"
   ]
  },
  {
   "cell_type": "code",
   "execution_count": 55,
   "metadata": {},
   "outputs": [],
   "source": [
    "total_rf = 0\n",
    "for i in rf:\n",
    "    total_rf += x[i].solution_value"
   ]
  },
  {
   "cell_type": "code",
   "execution_count": 56,
   "metadata": {},
   "outputs": [],
   "source": [
    "total_a = 0\n",
    "for i in a:\n",
    "    total_a += x[i].solution_value"
   ]
  },
  {
   "cell_type": "code",
   "execution_count": 57,
   "metadata": {},
   "outputs": [
    {
     "name": "stdout",
     "output_type": "stream",
     "text": [
      "Variâcia encontrada pela função objetivo:  49.176310588122426\n",
      "Retorno total:  7.999999999999998\n",
      "Total alocado em renda fixa:  0.15\n",
      "Total alocado em renda variável:  0.85\n"
     ]
    }
   ],
   "source": [
    "print('Variâcia encontrada pela função objetivo: ', model.objective_value)\n",
    "print('Retorno total: ', total_return)\n",
    "print('Total alocado em renda fixa: ', total_rf)\n",
    "print('Total alocado em renda variável: ', total_a)"
   ]
  },
  {
   "cell_type": "markdown",
   "metadata": {},
   "source": [
    "* Maximizando o retorno e com variância máxima de 60"
   ]
  },
  {
   "cell_type": "code",
   "execution_count": 58,
   "metadata": {},
   "outputs": [],
   "source": [
    "model = Model()\n",
    "x = model.continuous_var_dict(keys, name='invs')"
   ]
  },
  {
   "cell_type": "code",
   "execution_count": 59,
   "metadata": {},
   "outputs": [],
   "source": [
    "model.maximize(model.sum(x[i] * return_dict[i] for i in x.keys()))"
   ]
  },
  {
   "cell_type": "code",
   "execution_count": 60,
   "metadata": {},
   "outputs": [
    {
     "data": {
      "text/plain": [
       "docplex.mp.LinearConstraint[](5.246invs_IPCA+7605.365invs_Selic+271.496invs_Prefixado+97.523invs_KNRI11.SA+19.419invs_XPCI11.SA+1.043invs_XINA11.SA+2.820invs_VIVT3.SA+3.110invs_TRPL4.SA+1.877invs_TRIS3.SA+17.432invs_TGAR11.SA+9.315invs_TEND3.SA+17.345invs_TAEE11.SA+14.811invs_SULA11.SA+0.050invs_RAIZ4.SA+0.135invs_OIBR3.SA+0.056invs_MXRF11.SA+0.204invs_JHSF3.SA+353.281invs_IVVB11.SA+74.324invs_HASH11.SA+0.129invs_GOLD11.SA+3.771invs_GOAU4.SA+18.584invs_GGBR4.SA+160.919invs_FESA4.SA+4.311invs_EGIE3.SA+0.719invs_DIRR3.SA+8.200invs_CYRE3.SA+7.367invs_CSAN3.SA+0.396invs_COGN3.SA+0.403invs_BRPR3.SA+0.663invs_BRML3.SA+83.499invs_BOVA11.SA+2.374invs_BIAU39.SA+65.518invs_BABA34.SA+26.776invs_AURA33.SA+1.701invs_ALUP11.SA+4.369invs_ALSO3.SA,LE,60)"
      ]
     },
     "execution_count": 60,
     "metadata": {},
     "output_type": "execute_result"
    }
   ],
   "source": [
    "model.add_constraint(model.sum(x[i] for i in rf) == 0.15)\n",
    "model.add_constraint(model.sum(x[i] for i in a) == 0.85)\n",
    "model.add_constraints(x[i] >= 0.005 for i in keys)\n",
    "model.add_constraints(x[i] <= 0.15 for i in keys)\n",
    "model.add_constraint(model.sum(x[i] for i in keys) == 1)\n",
    "model.add_constraint(model.sum(x[i] * var_dict[i] for i in keys) <= 60)"
   ]
  },
  {
   "cell_type": "code",
   "execution_count": 61,
   "metadata": {},
   "outputs": [
    {
     "name": "stdout",
     "output_type": "stream",
     "text": [
      "Version identifier: 20.1.0.0 | 2020-11-10 | 9bedb6d68\n",
      "CPXPARAM_Read_DataCheck                          1\n",
      "CPXPARAM_RandomSeed                              202001241\n",
      "Tried aggregator 1 time.\n",
      "LP Presolve eliminated 73 rows and 0 columns.\n",
      "Reduced LP has 3 rows, 36 columns, and 72 nonzeros.\n",
      "Presolve time = 0.00 sec. (0.05 ticks)\n",
      "Initializing dual steep norms . . .\n",
      "\n",
      "Iteration log . . .\n",
      "Iteration:     1   Dual objective     =            11.605503\n"
     ]
    }
   ],
   "source": [
    "solution = model.solve(log_output=True)"
   ]
  },
  {
   "cell_type": "code",
   "execution_count": 62,
   "metadata": {},
   "outputs": [
    {
     "name": "stdout",
     "output_type": "stream",
     "text": [
      "objective: 9.722\n",
      "  invs_IPCA=0.140\n",
      "  invs_Selic=0.005\n",
      "  invs_Prefixado=0.005\n",
      "  invs_KNRI11.SA=0.005\n",
      "  invs_XPCI11.SA=0.005\n",
      "  invs_XINA11.SA=0.005\n",
      "  invs_VIVT3.SA=0.005\n",
      "  invs_TRPL4.SA=0.005\n",
      "  invs_TRIS3.SA=0.005\n",
      "  invs_TGAR11.SA=0.005\n",
      "  invs_TEND3.SA=0.005\n",
      "  invs_TAEE11.SA=0.150\n",
      "  invs_SULA11.SA=0.005\n",
      "  invs_RAIZ4.SA=0.005\n",
      "  invs_OIBR3.SA=0.005\n",
      "  invs_MXRF11.SA=0.005\n",
      "  invs_JHSF3.SA=0.062\n",
      "  invs_IVVB11.SA=0.005\n",
      "  invs_HASH11.SA=0.005\n",
      "  invs_GOLD11.SA=0.005\n",
      "  invs_GOAU4.SA=0.005\n",
      "  invs_GGBR4.SA=0.005\n",
      "  invs_FESA4.SA=0.053\n",
      "  invs_EGIE3.SA=0.005\n",
      "  invs_DIRR3.SA=0.005\n",
      "  invs_CYRE3.SA=0.005\n",
      "  invs_CSAN3.SA=0.005\n",
      "  invs_COGN3.SA=0.005\n",
      "  invs_BRPR3.SA=0.005\n",
      "  invs_BRML3.SA=0.150\n",
      "  invs_BOVA11.SA=0.005\n",
      "  invs_BIAU39.SA=0.005\n",
      "  invs_BABA34.SA=0.005\n",
      "  invs_AURA33.SA=0.150\n",
      "  invs_ALUP11.SA=0.005\n",
      "  invs_ALSO3.SA=0.150\n"
     ]
    }
   ],
   "source": [
    "model.print_solution()"
   ]
  },
  {
   "cell_type": "code",
   "execution_count": 63,
   "metadata": {},
   "outputs": [],
   "source": [
    "total_var = 0\n",
    "for i in keys:\n",
    "    total_var += x[i].solution_value * var_dict[i]"
   ]
  },
  {
   "cell_type": "code",
   "execution_count": 64,
   "metadata": {},
   "outputs": [],
   "source": [
    "total_rf = 0\n",
    "for i in rf:\n",
    "    total_rf += x[i].solution_value"
   ]
  },
  {
   "cell_type": "code",
   "execution_count": 65,
   "metadata": {},
   "outputs": [],
   "source": [
    "total_a = 0\n",
    "for i in a:\n",
    "    total_a += x[i].solution_value"
   ]
  },
  {
   "cell_type": "code",
   "execution_count": 66,
   "metadata": {},
   "outputs": [
    {
     "name": "stdout",
     "output_type": "stream",
     "text": [
      "Retorno encontrado pela função objetivo:  9.722355561579844\n",
      "Variância total:  59.999999999999986\n",
      "Total alocado em renda fixa:  0.15\n",
      "Total alocado em renda variável:  0.8499999999999999\n"
     ]
    }
   ],
   "source": [
    "print('Retorno encontrado pela função objetivo: ', model.objective_value)\n",
    "print('Variância total: ', total_var)\n",
    "print('Total alocado em renda fixa: ', total_rf)\n",
    "print('Total alocado em renda variável: ', total_a)"
   ]
  },
  {
   "cell_type": "markdown",
   "metadata": {},
   "source": [
    "#### 2.2.3. Modelo removendo algumas restrições e utilizando faixas de restrições"
   ]
  },
  {
   "cell_type": "markdown",
   "metadata": {},
   "source": [
    "* Minimizando a variância e com retorno mínimo de 8%"
   ]
  },
  {
   "cell_type": "code",
   "execution_count": 67,
   "metadata": {},
   "outputs": [],
   "source": [
    "model = Model()\n",
    "x = model.continuous_var_dict(keys, name='invs')"
   ]
  },
  {
   "cell_type": "code",
   "execution_count": 68,
   "metadata": {},
   "outputs": [],
   "source": [
    "model.minimize(model.sum(x[i] * var_dict[i] for i in x.keys()))"
   ]
  },
  {
   "cell_type": "code",
   "execution_count": 69,
   "metadata": {},
   "outputs": [
    {
     "data": {
      "text/plain": [
       "docplex.mp.LinearConstraint[](-7.180invs_IPCA-22.080invs_XINA11.SA-7.450invs_VIVT3.SA-8.940invs_TRPL4.SA-23.360invs_TRIS3.SA+0.290invs_TGAR11.SA-19.570invs_TEND3.SA+24.530invs_TAEE11.SA-12.050invs_SULA11.SA-3.510invs_RAIZ4.SA-38invs_OIBR3.SA-0.800invs_MXRF11.SA+7.340invs_JHSF3.SA+9.530invs_IVVB11.SA-5.790invs_HASH11.SA-3.850invs_GOLD11.SA+1.410invs_GOAU4.SA+2.380invs_GGBR4.SA+16.510invs_FESA4.SA-7.680invs_EGIE3.SA-6.520invs_DIRR3.SA-17.040invs_CYRE3.SA+4.830invs_CSAN3.SA-14.840invs_COGN3.SA-3.450invs_BRPR3.SA+22.010invs_BRML3.SA+4.700invs_BOVA11.SA-1.770invs_BIAU39.SA-27.990invs_BABA34.SA+14.350invs_AURA33.SA-5.530invs_ALUP11.SA+8.660invs_ALSO3.SA,GE,8)"
      ]
     },
     "execution_count": 69,
     "metadata": {},
     "output_type": "execute_result"
    }
   ],
   "source": [
    "model.add_constraint(model.sum(x[i] for i in rf) >= 0.1)\n",
    "model.add_constraint(model.sum(x[i] for i in rf) <= 0.3)\n",
    "model.add_constraint(model.sum(x[i] for i in a) >= 0.7)\n",
    "model.add_constraint(model.sum(x[i] for i in a) <= 0.9)\n",
    "model.add_constraints(x[i] >= 0.005 for i in keys)\n",
    "model.add_constraints(x[i] <= 0.15 for i in keys)\n",
    "model.add_constraint(model.sum(x[i] for i in keys) == 1)\n",
    "model.add_constraint(model.sum(x[i] * return_dict[i] for i in keys) >= 8)"
   ]
  },
  {
   "cell_type": "code",
   "execution_count": 70,
   "metadata": {},
   "outputs": [
    {
     "name": "stdout",
     "output_type": "stream",
     "text": [
      "Version identifier: 20.1.0.0 | 2020-11-10 | 9bedb6d68\n",
      "CPXPARAM_Read_DataCheck                          1\n",
      "CPXPARAM_RandomSeed                              202001241\n",
      "Tried aggregator 1 time.\n",
      "LP Presolve eliminated 72 rows and 0 columns.\n",
      "Reduced LP has 6 rows, 36 columns, and 140 nonzeros.\n",
      "Presolve time = 0.02 sec. (0.04 ticks)\n",
      "Initializing dual steep norms . . .\n",
      "\n",
      "Iteration log . . .\n",
      "Iteration:     1   Dual objective     =            45.285961\n"
     ]
    }
   ],
   "source": [
    "solution = model.solve(log_output=True)"
   ]
  },
  {
   "cell_type": "code",
   "execution_count": 71,
   "metadata": {},
   "outputs": [
    {
     "name": "stdout",
     "output_type": "stream",
     "text": [
      "objective: 48.503\n",
      "  invs_IPCA=0.090\n",
      "  invs_Selic=0.005\n",
      "  invs_Prefixado=0.005\n",
      "  invs_KNRI11.SA=0.005\n",
      "  invs_XPCI11.SA=0.005\n",
      "  invs_XINA11.SA=0.005\n",
      "  invs_VIVT3.SA=0.005\n",
      "  invs_TRPL4.SA=0.005\n",
      "  invs_TRIS3.SA=0.005\n",
      "  invs_TGAR11.SA=0.005\n",
      "  invs_TEND3.SA=0.005\n",
      "  invs_TAEE11.SA=0.150\n",
      "  invs_SULA11.SA=0.005\n",
      "  invs_RAIZ4.SA=0.005\n",
      "  invs_OIBR3.SA=0.005\n",
      "  invs_MXRF11.SA=0.112\n",
      "  invs_JHSF3.SA=0.150\n",
      "  invs_IVVB11.SA=0.005\n",
      "  invs_HASH11.SA=0.005\n",
      "  invs_GOLD11.SA=0.005\n",
      "  invs_GOAU4.SA=0.005\n",
      "  invs_GGBR4.SA=0.005\n",
      "  invs_FESA4.SA=0.005\n",
      "  invs_EGIE3.SA=0.005\n",
      "  invs_DIRR3.SA=0.005\n",
      "  invs_CYRE3.SA=0.005\n",
      "  invs_CSAN3.SA=0.053\n",
      "  invs_COGN3.SA=0.005\n",
      "  invs_BRPR3.SA=0.005\n",
      "  invs_BRML3.SA=0.150\n",
      "  invs_BOVA11.SA=0.005\n",
      "  invs_BIAU39.SA=0.005\n",
      "  invs_BABA34.SA=0.005\n",
      "  invs_AURA33.SA=0.005\n",
      "  invs_ALUP11.SA=0.005\n",
      "  invs_ALSO3.SA=0.150\n"
     ]
    }
   ],
   "source": [
    "model.print_solution()"
   ]
  },
  {
   "cell_type": "code",
   "execution_count": 72,
   "metadata": {},
   "outputs": [],
   "source": [
    "total_return = 0\n",
    "for i in keys:\n",
    "    total_return += x[i].solution_value * return_dict[i]"
   ]
  },
  {
   "cell_type": "code",
   "execution_count": 73,
   "metadata": {},
   "outputs": [],
   "source": [
    "total_rf = 0\n",
    "for i in rf:\n",
    "    total_rf += x[i].solution_value"
   ]
  },
  {
   "cell_type": "code",
   "execution_count": 74,
   "metadata": {},
   "outputs": [],
   "source": [
    "total_a = 0\n",
    "for i in a:\n",
    "    total_a += x[i].solution_value"
   ]
  },
  {
   "cell_type": "code",
   "execution_count": 75,
   "metadata": {},
   "outputs": [
    {
     "name": "stdout",
     "output_type": "stream",
     "text": [
      "Variâcia encontrada pela função objetivo:  48.50251028663047\n",
      "Retorno total:  7.999999999999998\n",
      "Total alocado em renda fixa:  0.1\n",
      "Total alocado em renda variável:  0.9\n"
     ]
    }
   ],
   "source": [
    "print('Variâcia encontrada pela função objetivo: ', model.objective_value)\n",
    "print('Retorno total: ', total_return)\n",
    "print('Total alocado em renda fixa: ', total_rf)\n",
    "print('Total alocado em renda variável: ', total_a)"
   ]
  },
  {
   "cell_type": "markdown",
   "metadata": {},
   "source": [
    "* Maximizando o retorno e com variância máxima de 60"
   ]
  },
  {
   "cell_type": "code",
   "execution_count": 76,
   "metadata": {},
   "outputs": [],
   "source": [
    "model = Model()\n",
    "x = model.continuous_var_dict(keys, name='invs')"
   ]
  },
  {
   "cell_type": "code",
   "execution_count": 77,
   "metadata": {},
   "outputs": [],
   "source": [
    "model.maximize(model.sum(x[i] * return_dict[i] for i in x.keys()))"
   ]
  },
  {
   "cell_type": "code",
   "execution_count": 78,
   "metadata": {},
   "outputs": [
    {
     "data": {
      "text/plain": [
       "docplex.mp.LinearConstraint[](5.246invs_IPCA+7605.365invs_Selic+271.496invs_Prefixado+97.523invs_KNRI11.SA+19.419invs_XPCI11.SA+1.043invs_XINA11.SA+2.820invs_VIVT3.SA+3.110invs_TRPL4.SA+1.877invs_TRIS3.SA+17.432invs_TGAR11.SA+9.315invs_TEND3.SA+17.345invs_TAEE11.SA+14.811invs_SULA11.SA+0.050invs_RAIZ4.SA+0.135invs_OIBR3.SA+0.056invs_MXRF11.SA+0.204invs_JHSF3.SA+353.281invs_IVVB11.SA+74.324invs_HASH11.SA+0.129invs_GOLD11.SA+3.771invs_GOAU4.SA+18.584invs_GGBR4.SA+160.919invs_FESA4.SA+4.311invs_EGIE3.SA+0.719invs_DIRR3.SA+8.200invs_CYRE3.SA+7.367invs_CSAN3.SA+0.396invs_COGN3.SA+0.403invs_BRPR3.SA+0.663invs_BRML3.SA+83.499invs_BOVA11.SA+2.374invs_BIAU39.SA+65.518invs_BABA34.SA+26.776invs_AURA33.SA+1.701invs_ALUP11.SA+4.369invs_ALSO3.SA,LE,60)"
      ]
     },
     "execution_count": 78,
     "metadata": {},
     "output_type": "execute_result"
    }
   ],
   "source": [
    "model.add_constraint(model.sum(x[i] for i in rf) >= 0.1)\n",
    "model.add_constraint(model.sum(x[i] for i in rf) <= 0.3)\n",
    "model.add_constraint(model.sum(x[i] for i in a) >= 0.7)\n",
    "model.add_constraint(model.sum(x[i] for i in a) <= 0.9)\n",
    "model.add_constraints(x[i] >= 0.005 for i in keys)\n",
    "model.add_constraints(x[i] <= 0.15 for i in keys)\n",
    "model.add_constraint(model.sum(x[i] for i in keys) == 1)\n",
    "model.add_constraint(model.sum(x[i] * var_dict[i] for i in keys) <= 60)"
   ]
  },
  {
   "cell_type": "code",
   "execution_count": 79,
   "metadata": {},
   "outputs": [
    {
     "name": "stdout",
     "output_type": "stream",
     "text": [
      "Version identifier: 20.1.0.0 | 2020-11-10 | 9bedb6d68\n",
      "CPXPARAM_Read_DataCheck                          1\n",
      "CPXPARAM_RandomSeed                              202001241\n",
      "Tried aggregator 1 time.\n",
      "LP Presolve eliminated 73 rows and 0 columns.\n",
      "Reduced LP has 5 rows, 36 columns, and 141 nonzeros.\n",
      "Presolve time = 0.02 sec. (0.05 ticks)\n",
      "Initializing dual steep norms . . .\n",
      "\n",
      "Iteration log . . .\n",
      "Iteration:     1   Dual objective     =            12.087150\n"
     ]
    }
   ],
   "source": [
    "solution = model.solve(log_output=True)"
   ]
  },
  {
   "cell_type": "code",
   "execution_count": 80,
   "metadata": {},
   "outputs": [
    {
     "name": "stdout",
     "output_type": "stream",
     "text": [
      "objective: 10.463\n",
      "  invs_IPCA=0.090\n",
      "  invs_Selic=0.005\n",
      "  invs_Prefixado=0.005\n",
      "  invs_KNRI11.SA=0.005\n",
      "  invs_XPCI11.SA=0.005\n",
      "  invs_XINA11.SA=0.005\n",
      "  invs_VIVT3.SA=0.005\n",
      "  invs_TRPL4.SA=0.005\n",
      "  invs_TRIS3.SA=0.005\n",
      "  invs_TGAR11.SA=0.005\n",
      "  invs_TEND3.SA=0.005\n",
      "  invs_TAEE11.SA=0.150\n",
      "  invs_SULA11.SA=0.005\n",
      "  invs_RAIZ4.SA=0.005\n",
      "  invs_OIBR3.SA=0.005\n",
      "  invs_MXRF11.SA=0.005\n",
      "  invs_JHSF3.SA=0.110\n",
      "  invs_IVVB11.SA=0.005\n",
      "  invs_HASH11.SA=0.005\n",
      "  invs_GOLD11.SA=0.005\n",
      "  invs_GOAU4.SA=0.005\n",
      "  invs_GGBR4.SA=0.005\n",
      "  invs_FESA4.SA=0.055\n",
      "  invs_EGIE3.SA=0.005\n",
      "  invs_DIRR3.SA=0.005\n",
      "  invs_CYRE3.SA=0.005\n",
      "  invs_CSAN3.SA=0.005\n",
      "  invs_COGN3.SA=0.005\n",
      "  invs_BRPR3.SA=0.005\n",
      "  invs_BRML3.SA=0.150\n",
      "  invs_BOVA11.SA=0.005\n",
      "  invs_BIAU39.SA=0.005\n",
      "  invs_BABA34.SA=0.005\n",
      "  invs_AURA33.SA=0.150\n",
      "  invs_ALUP11.SA=0.005\n",
      "  invs_ALSO3.SA=0.150\n"
     ]
    }
   ],
   "source": [
    "model.print_solution()"
   ]
  },
  {
   "cell_type": "code",
   "execution_count": 81,
   "metadata": {},
   "outputs": [],
   "source": [
    "total_var = 0\n",
    "for i in keys:\n",
    "    total_var += x[i].solution_value * var_dict[i]"
   ]
  },
  {
   "cell_type": "code",
   "execution_count": 82,
   "metadata": {},
   "outputs": [],
   "source": [
    "total_rf = 0\n",
    "for i in rf:\n",
    "    total_rf += x[i].solution_value"
   ]
  },
  {
   "cell_type": "code",
   "execution_count": 83,
   "metadata": {},
   "outputs": [],
   "source": [
    "total_a = 0\n",
    "for i in a:\n",
    "    total_a += x[i].solution_value"
   ]
  },
  {
   "cell_type": "code",
   "execution_count": 84,
   "metadata": {},
   "outputs": [
    {
     "name": "stdout",
     "output_type": "stream",
     "text": [
      "Retorno encontrado pela função objetivo:  10.462740188030336\n",
      "Variância total:  59.999999999999986\n",
      "Total alocado em renda fixa:  0.1\n",
      "Total alocado em renda variável:  0.8999999999999999\n"
     ]
    }
   ],
   "source": [
    "print('Retorno encontrado pela função objetivo: ', model.objective_value)\n",
    "print('Variância total: ', total_var)\n",
    "print('Total alocado em renda fixa: ', total_rf)\n",
    "print('Total alocado em renda variável: ', total_a)"
   ]
  },
  {
   "cell_type": "markdown",
   "metadata": {},
   "source": [
    "#### 2.2.4. Modelo mais livre"
   ]
  },
  {
   "cell_type": "markdown",
   "metadata": {},
   "source": [
    "* Minimizando a variância e com retorno mínimo de 8%"
   ]
  },
  {
   "cell_type": "code",
   "execution_count": 85,
   "metadata": {},
   "outputs": [],
   "source": [
    "model = Model()\n",
    "x = model.continuous_var_dict(keys, name='invs')"
   ]
  },
  {
   "cell_type": "code",
   "execution_count": 86,
   "metadata": {},
   "outputs": [],
   "source": [
    "model.minimize(model.sum(x[i] * var_dict[i] for i in x.keys()))"
   ]
  },
  {
   "cell_type": "code",
   "execution_count": 87,
   "metadata": {},
   "outputs": [
    {
     "data": {
      "text/plain": [
       "docplex.mp.LinearConstraint[](-7.180invs_IPCA-22.080invs_XINA11.SA-7.450invs_VIVT3.SA-8.940invs_TRPL4.SA-23.360invs_TRIS3.SA+0.290invs_TGAR11.SA-19.570invs_TEND3.SA+24.530invs_TAEE11.SA-12.050invs_SULA11.SA-3.510invs_RAIZ4.SA-38invs_OIBR3.SA-0.800invs_MXRF11.SA+7.340invs_JHSF3.SA+9.530invs_IVVB11.SA-5.790invs_HASH11.SA-3.850invs_GOLD11.SA+1.410invs_GOAU4.SA+2.380invs_GGBR4.SA+16.510invs_FESA4.SA-7.680invs_EGIE3.SA-6.520invs_DIRR3.SA-17.040invs_CYRE3.SA+4.830invs_CSAN3.SA-14.840invs_COGN3.SA-3.450invs_BRPR3.SA+22.010invs_BRML3.SA+4.700invs_BOVA11.SA-1.770invs_BIAU39.SA-27.990invs_BABA34.SA+14.350invs_AURA33.SA-5.530invs_ALUP11.SA+8.660invs_ALSO3.SA,GE,8)"
      ]
     },
     "execution_count": 87,
     "metadata": {},
     "output_type": "execute_result"
    }
   ],
   "source": [
    "model.add_constraints(x[i] >= 0.005 for i in keys)\n",
    "model.add_constraints(x[i] <= 0.15 for i in keys)\n",
    "model.add_constraint(model.sum(x[i] for i in keys) == 1)\n",
    "model.add_constraint(model.sum(x[i] * return_dict[i] for i in keys) >= 8)"
   ]
  },
  {
   "cell_type": "code",
   "execution_count": 88,
   "metadata": {},
   "outputs": [
    {
     "name": "stdout",
     "output_type": "stream",
     "text": [
      "Version identifier: 20.1.0.0 | 2020-11-10 | 9bedb6d68\n",
      "CPXPARAM_Read_DataCheck                          1\n",
      "CPXPARAM_RandomSeed                              202001241\n",
      "Tried aggregator 1 time.\n",
      "LP Presolve eliminated 72 rows and 0 columns.\n",
      "Reduced LP has 2 rows, 36 columns, and 68 nonzeros.\n",
      "Presolve time = 0.00 sec. (0.03 ticks)\n",
      "Initializing dual steep norms . . .\n",
      "\n",
      "Iteration log . . .\n",
      "Iteration:     1   Dual objective     =            45.285961\n"
     ]
    }
   ],
   "source": [
    "solution = model.solve(log_output=True)"
   ]
  },
  {
   "cell_type": "code",
   "execution_count": 89,
   "metadata": {},
   "outputs": [
    {
     "name": "stdout",
     "output_type": "stream",
     "text": [
      "objective: 47.701\n",
      "  invs_IPCA=0.005\n",
      "  invs_Selic=0.005\n",
      "  invs_Prefixado=0.005\n",
      "  invs_KNRI11.SA=0.005\n",
      "  invs_XPCI11.SA=0.005\n",
      "  invs_XINA11.SA=0.005\n",
      "  invs_VIVT3.SA=0.005\n",
      "  invs_TRPL4.SA=0.005\n",
      "  invs_TRIS3.SA=0.005\n",
      "  invs_TGAR11.SA=0.005\n",
      "  invs_TEND3.SA=0.005\n",
      "  invs_TAEE11.SA=0.149\n",
      "  invs_SULA11.SA=0.005\n",
      "  invs_RAIZ4.SA=0.101\n",
      "  invs_OIBR3.SA=0.005\n",
      "  invs_MXRF11.SA=0.150\n",
      "  invs_JHSF3.SA=0.150\n",
      "  invs_IVVB11.SA=0.005\n",
      "  invs_HASH11.SA=0.005\n",
      "  invs_GOLD11.SA=0.005\n",
      "  invs_GOAU4.SA=0.005\n",
      "  invs_GGBR4.SA=0.005\n",
      "  invs_FESA4.SA=0.005\n",
      "  invs_EGIE3.SA=0.005\n",
      "  invs_DIRR3.SA=0.005\n",
      "  invs_CYRE3.SA=0.005\n",
      "  invs_CSAN3.SA=0.005\n",
      "  invs_COGN3.SA=0.005\n",
      "  invs_BRPR3.SA=0.005\n",
      "  invs_BRML3.SA=0.150\n",
      "  invs_BOVA11.SA=0.005\n",
      "  invs_BIAU39.SA=0.005\n",
      "  invs_BABA34.SA=0.005\n",
      "  invs_AURA33.SA=0.005\n",
      "  invs_ALUP11.SA=0.005\n",
      "  invs_ALSO3.SA=0.150\n"
     ]
    }
   ],
   "source": [
    "model.print_solution()"
   ]
  },
  {
   "cell_type": "code",
   "execution_count": 90,
   "metadata": {},
   "outputs": [],
   "source": [
    "total_return = 0\n",
    "for i in keys:\n",
    "    total_return += x[i].solution_value * return_dict[i]"
   ]
  },
  {
   "cell_type": "code",
   "execution_count": 91,
   "metadata": {},
   "outputs": [],
   "source": [
    "total_rf = 0\n",
    "for i in rf:\n",
    "    total_rf += x[i].solution_value"
   ]
  },
  {
   "cell_type": "code",
   "execution_count": 92,
   "metadata": {},
   "outputs": [],
   "source": [
    "total_a = 0\n",
    "for i in a:\n",
    "    total_a += x[i].solution_value"
   ]
  },
  {
   "cell_type": "code",
   "execution_count": 93,
   "metadata": {},
   "outputs": [
    {
     "name": "stdout",
     "output_type": "stream",
     "text": [
      "Variâcia encontrada pela função objetivo:  47.70084749406247\n",
      "Retorno total:  7.999999999999998\n",
      "Total alocado em renda fixa:  0.015\n",
      "Total alocado em renda variável:  0.985\n"
     ]
    }
   ],
   "source": [
    "print('Variâcia encontrada pela função objetivo: ', model.objective_value)\n",
    "print('Retorno total: ', total_return)\n",
    "print('Total alocado em renda fixa: ', total_rf)\n",
    "print('Total alocado em renda variável: ', total_a)"
   ]
  },
  {
   "cell_type": "markdown",
   "metadata": {},
   "source": [
    "* Maximizando o retorno e com variância máxima de 60"
   ]
  },
  {
   "cell_type": "code",
   "execution_count": 94,
   "metadata": {},
   "outputs": [],
   "source": [
    "model = Model()\n",
    "x = model.continuous_var_dict(keys, name='invs')"
   ]
  },
  {
   "cell_type": "code",
   "execution_count": 95,
   "metadata": {},
   "outputs": [],
   "source": [
    "model.maximize(model.sum(x[i] * return_dict[i] for i in x.keys()))"
   ]
  },
  {
   "cell_type": "code",
   "execution_count": 96,
   "metadata": {},
   "outputs": [
    {
     "data": {
      "text/plain": [
       "docplex.mp.LinearConstraint[](5.246invs_IPCA+7605.365invs_Selic+271.496invs_Prefixado+97.523invs_KNRI11.SA+19.419invs_XPCI11.SA+1.043invs_XINA11.SA+2.820invs_VIVT3.SA+3.110invs_TRPL4.SA+1.877invs_TRIS3.SA+17.432invs_TGAR11.SA+9.315invs_TEND3.SA+17.345invs_TAEE11.SA+14.811invs_SULA11.SA+0.050invs_RAIZ4.SA+0.135invs_OIBR3.SA+0.056invs_MXRF11.SA+0.204invs_JHSF3.SA+353.281invs_IVVB11.SA+74.324invs_HASH11.SA+0.129invs_GOLD11.SA+3.771invs_GOAU4.SA+18.584invs_GGBR4.SA+160.919invs_FESA4.SA+4.311invs_EGIE3.SA+0.719invs_DIRR3.SA+8.200invs_CYRE3.SA+7.367invs_CSAN3.SA+0.396invs_COGN3.SA+0.403invs_BRPR3.SA+0.663invs_BRML3.SA+83.499invs_BOVA11.SA+2.374invs_BIAU39.SA+65.518invs_BABA34.SA+26.776invs_AURA33.SA+1.701invs_ALUP11.SA+4.369invs_ALSO3.SA,LE,60)"
      ]
     },
     "execution_count": 96,
     "metadata": {},
     "output_type": "execute_result"
    }
   ],
   "source": [
    "model.add_constraints(x[i] >= 0.005 for i in keys)\n",
    "model.add_constraints(x[i] <= 0.15 for i in keys)\n",
    "model.add_constraint(model.sum(x[i] for i in keys) == 1)\n",
    "model.add_constraint(model.sum(x[i] * var_dict[i] for i in keys) <= 60)"
   ]
  },
  {
   "cell_type": "code",
   "execution_count": 97,
   "metadata": {},
   "outputs": [
    {
     "name": "stdout",
     "output_type": "stream",
     "text": [
      "Version identifier: 20.1.0.0 | 2020-11-10 | 9bedb6d68\n",
      "CPXPARAM_Read_DataCheck                          1\n",
      "CPXPARAM_RandomSeed                              202001241\n",
      "Tried aggregator 1 time.\n",
      "LP Presolve eliminated 72 rows and 0 columns.\n",
      "Reduced LP has 2 rows, 36 columns, and 72 nonzeros.\n",
      "Presolve time = 0.00 sec. (0.03 ticks)\n",
      "Initializing dual steep norms . . .\n",
      "\n",
      "Iteration log . . .\n",
      "Iteration:     1   Dual objective     =            11.929983\n"
     ]
    }
   ],
   "source": [
    "solution = model.solve(log_output=True)"
   ]
  },
  {
   "cell_type": "code",
   "execution_count": 98,
   "metadata": {},
   "outputs": [
    {
     "name": "stdout",
     "output_type": "stream",
     "text": [
      "objective: 11.591\n",
      "  invs_IPCA=0.005\n",
      "  invs_Selic=0.005\n",
      "  invs_Prefixado=0.005\n",
      "  invs_KNRI11.SA=0.005\n",
      "  invs_XPCI11.SA=0.005\n",
      "  invs_XINA11.SA=0.005\n",
      "  invs_VIVT3.SA=0.005\n",
      "  invs_TRPL4.SA=0.005\n",
      "  invs_TRIS3.SA=0.005\n",
      "  invs_TGAR11.SA=0.005\n",
      "  invs_TEND3.SA=0.005\n",
      "  invs_TAEE11.SA=0.150\n",
      "  invs_SULA11.SA=0.005\n",
      "  invs_RAIZ4.SA=0.005\n",
      "  invs_OIBR3.SA=0.005\n",
      "  invs_MXRF11.SA=0.005\n",
      "  invs_JHSF3.SA=0.150\n",
      "  invs_IVVB11.SA=0.005\n",
      "  invs_HASH11.SA=0.005\n",
      "  invs_GOLD11.SA=0.005\n",
      "  invs_GOAU4.SA=0.005\n",
      "  invs_GGBR4.SA=0.005\n",
      "  invs_FESA4.SA=0.055\n",
      "  invs_EGIE3.SA=0.005\n",
      "  invs_DIRR3.SA=0.005\n",
      "  invs_CYRE3.SA=0.005\n",
      "  invs_CSAN3.SA=0.050\n",
      "  invs_COGN3.SA=0.005\n",
      "  invs_BRPR3.SA=0.005\n",
      "  invs_BRML3.SA=0.150\n",
      "  invs_BOVA11.SA=0.005\n",
      "  invs_BIAU39.SA=0.005\n",
      "  invs_BABA34.SA=0.005\n",
      "  invs_AURA33.SA=0.150\n",
      "  invs_ALUP11.SA=0.005\n",
      "  invs_ALSO3.SA=0.150\n"
     ]
    }
   ],
   "source": [
    "model.print_solution()"
   ]
  },
  {
   "cell_type": "code",
   "execution_count": 99,
   "metadata": {},
   "outputs": [],
   "source": [
    "total_var = 0\n",
    "for i in keys:\n",
    "    total_var += x[i].solution_value * var_dict[i]"
   ]
  },
  {
   "cell_type": "code",
   "execution_count": 100,
   "metadata": {},
   "outputs": [],
   "source": [
    "total_rf = 0\n",
    "for i in rf:\n",
    "    total_rf += x[i].solution_value"
   ]
  },
  {
   "cell_type": "code",
   "execution_count": 101,
   "metadata": {},
   "outputs": [],
   "source": [
    "total_a = 0\n",
    "for i in a:\n",
    "    total_a += x[i].solution_value"
   ]
  },
  {
   "cell_type": "code",
   "execution_count": 102,
   "metadata": {},
   "outputs": [
    {
     "name": "stdout",
     "output_type": "stream",
     "text": [
      "Retorno encontrado pela função objetivo:  11.590867064687263\n",
      "Variância total:  59.999999999999986\n",
      "Total alocado em renda fixa:  0.015\n",
      "Total alocado em renda variável:  0.9849999999999999\n"
     ]
    }
   ],
   "source": [
    "print('Retorno encontrado pela função objetivo: ', model.objective_value)\n",
    "print('Variância total: ', total_var)\n",
    "print('Total alocado em renda fixa: ', total_rf)\n",
    "print('Total alocado em renda variável: ', total_a)"
   ]
  },
  {
   "cell_type": "markdown",
   "metadata": {},
   "source": [
    "#### 2.2.5. Extra - Abordagem de máximos locais"
   ]
  },
  {
   "cell_type": "markdown",
   "metadata": {},
   "source": [
    "Nessa abordagem maximizamos o número de máximos locais, de forma que o modelo alocará maior parte da carteira em ativos que tenham mais máximos. Essa abordagem é mais interessante para um perfil de investidor mais ousado ou talvez um *day trader*."
   ]
  },
  {
   "cell_type": "markdown",
   "metadata": {},
   "source": [
    "Abaixo mostramos exemplos de gráficos de cotação das ações da COGN3  e da BRPR3 destacando os máximos locais com pontos verdes e os mínimos locais com pontos vermelhos."
   ]
  },
  {
   "cell_type": "code",
   "execution_count": 103,
   "metadata": {},
   "outputs": [],
   "source": [
    "df_max = pd.DataFrame(df_close['COGN3.SA'])\n",
    "df_max.reset_index(drop=True, inplace=True)\n",
    "n = 10\n",
    "df_max['min'] = df_max.iloc[argrelextrema(df_max['COGN3.SA'].values, np.less_equal,\n",
    "                    order=n)[0]]['COGN3.SA']\n",
    "df_max['max'] = df_max.iloc[argrelextrema(df_max['COGN3.SA'].values, np.greater_equal,\n",
    "                    order=n)[0]]['COGN3.SA']\n",
    "\n",
    "#a = argrelextrema(df_close['COGN3.SA'].values, np.less_equal, order=n)[0]\n",
    "# a"
   ]
  },
  {
   "cell_type": "code",
   "execution_count": 104,
   "metadata": {},
   "outputs": [
    {
     "data": {
      "image/png": "[encoded data removed]",
      "text/plain": [
       "<Figure size 432x288 with 1 Axes>"
      ]
     },
     "metadata": {
      "needs_background": "light"
     },
     "output_type": "display_data"
    }
   ],
   "source": [
    "plt.title(\"Cotação da COGN3 no último 1 ano\")\n",
    "plt.scatter(df_max.index, df_max['min'], c='r')\n",
    "plt.scatter(df_max.index, df_max['max'], c='g')\n",
    "plt.plot(df_max.index, df_max['COGN3.SA'])\n",
    "plt.show()"
   ]
  },
  {
   "cell_type": "code",
   "execution_count": 105,
   "metadata": {},
   "outputs": [],
   "source": [
    "df_max = pd.DataFrame(df_close['BRPR3.SA'])\n",
    "df_max.reset_index(drop=True, inplace=True)\n",
    "n = 10\n",
    "df_max['min'] = df_max.iloc[argrelextrema(df_max['BRPR3.SA'].values, np.less_equal,\n",
    "                    order=n)[0]]['BRPR3.SA']\n",
    "df_max['max'] = df_max.iloc[argrelextrema(df_max['BRPR3.SA'].values, np.greater_equal,\n",
    "                    order=n)[0]]['BRPR3.SA']\n",
    "\n",
    "# a = argrelextrema(df_close['COGN3.SA'].values, np.less_equal, order=n)[0]\n",
    "# a"
   ]
  },
  {
   "cell_type": "code",
   "execution_count": 106,
   "metadata": {},
   "outputs": [
    {
     "data": {
      "image/png": "[encoded data removed]",
      "text/plain": [
       "<Figure size 432x288 with 1 Axes>"
      ]
     },
     "metadata": {
      "needs_background": "light"
     },
     "output_type": "display_data"
    }
   ],
   "source": [
    "plt.title(\"Cotação da BRPR3 no último 1 ano\")\n",
    "plt.scatter(df_max.index, df_max['min'], c='r')\n",
    "plt.scatter(df_max.index, df_max['max'], c='g')\n",
    "plt.plot(df_max.index, df_max['BRPR3.SA'])\n",
    "plt.show()"
   ]
  },
  {
   "cell_type": "code",
   "execution_count": 107,
   "metadata": {},
   "outputs": [
    {
     "data": {
      "text/plain": [
       "1       9.89\n",
       "25      9.60\n",
       "63     10.85\n",
       "96      9.24\n",
       "118     8.90\n",
       "152     9.36\n",
       "178     9.93\n",
       "200     9.24\n",
       "201     9.24\n",
       "243     8.88\n",
       "Name: max, dtype: float64"
      ]
     },
     "execution_count": 107,
     "metadata": {},
     "output_type": "execute_result"
    }
   ],
   "source": [
    "df_max['max'].dropna()"
   ]
  },
  {
   "cell_type": "code",
   "execution_count": 108,
   "metadata": {},
   "outputs": [],
   "source": [
    "picos = {}\n",
    "mins = {}\n",
    "maxs = {}\n",
    "\n",
    "for column in list(df_close.columns):\n",
    "    mins[column] = (len(argrelextrema(df_close[column].values, np.less_equal, order=n)[0]))\n",
    "    maxs[column] = (len(argrelextrema(df_close[column].values, np.greater_equal, order=n)[0]))"
   ]
  },
  {
   "cell_type": "code",
   "execution_count": 109,
   "metadata": {},
   "outputs": [],
   "source": [
    "df_list = [(selic, 'Selic'), (prefixado, 'Prefixado'), (ipca, 'IPCA'), (hash11, 'HASH11.SA'), (tgar11, 'TGAR11.SA'),\n",
    "           (biau39, 'BIAU39.SA'), (gold11, 'GOLD11.SA'), (xina11, 'XINA11.SA')]\n",
    "\n",
    "for df in df_list:\n",
    "    mins[df[1]] = (len(argrelextrema(df[0]['Último'].values, np.less_equal, order=n)[0]))\n",
    "    maxs[df[1]] = (len(argrelextrema(df[0]['Último'].values, np.greater_equal, order=n)[0]))"
   ]
  },
  {
   "cell_type": "code",
   "execution_count": 110,
   "metadata": {},
   "outputs": [],
   "source": [
    "keys = mins\n",
    "# alpha = np.nextafter(np.float32(0), np.float32(1))\n",
    "model = Model()\n",
    "x = model.continuous_var_dict(keys, name='invs')\n",
    "model.maximize(model.sum(x[i] * maxs[i] for i in keys))"
   ]
  },
  {
   "cell_type": "code",
   "execution_count": 111,
   "metadata": {},
   "outputs": [
    {
     "data": {
      "text/plain": [
       "docplex.mp.LinearConstraint[](invs_ALSO3.SA+invs_ALUP11.SA+invs_AURA33.SA+invs_BABA34.SA+invs_BOVA11.SA+invs_BRML3.SA+invs_BRPR3.SA+invs_COGN3.SA+invs_CSAN3.SA+invs_CYRE3.SA+invs_DIRR3.SA+invs_EGIE3.SA+invs_FESA4.SA+invs_GGBR4.SA+invs_GOAU4.SA+invs_IVVB11.SA+invs_JHSF3.SA+invs_KNRI11.SA+invs_MXRF11.SA+invs_OIBR3.SA+invs_RAIZ4.SA+invs_SULA11.SA+invs_TAEE11.SA+invs_TEND3.SA+invs_TRIS3.SA+invs_TRPL4.SA+invs_VIVT3.SA+invs_XPCI11.SA+invs_Selic+invs_Prefixado+invs_IPCA+invs_HASH11.SA+invs_TGAR11.SA+invs_BIAU39.SA+invs_GOLD11.SA+invs_XINA11.SA,EQ,1)"
      ]
     },
     "execution_count": 111,
     "metadata": {},
     "output_type": "execute_result"
    }
   ],
   "source": [
    "model.add_constraints(x[i] >= 0.01 for i in keys)\n",
    "model.add_constraints(x[i] <= 0.15 for i in keys)\n",
    "model.add_constraint(model.sum(x[i] for i in keys) == 1)"
   ]
  },
  {
   "cell_type": "code",
   "execution_count": 112,
   "metadata": {},
   "outputs": [
    {
     "name": "stdout",
     "output_type": "stream",
     "text": [
      "Version identifier: 20.1.0.0 | 2020-11-10 | 9bedb6d68\n",
      "CPXPARAM_Read_DataCheck                          1\n",
      "CPXPARAM_RandomSeed                              202001241\n",
      "Tried aggregator 1 time.\n",
      "LP Presolve eliminated 72 rows and 33 columns.\n",
      "Reduced LP has 1 rows, 3 columns, and 3 nonzeros.\n",
      "Presolve time = 0.00 sec. (0.03 ticks)\n",
      "Initializing dual steep norms . . .\n",
      "\n",
      "Iteration log . . .\n",
      "Iteration:     1   Dual objective     =            10.160000\n"
     ]
    }
   ],
   "source": [
    "solution = model.solve(log_output=True)"
   ]
  },
  {
   "cell_type": "code",
   "execution_count": 113,
   "metadata": {},
   "outputs": [
    {
     "name": "stdout",
     "output_type": "stream",
     "text": [
      "objective: 10.160\n",
      "  invs_ALSO3.SA=0.010\n",
      "  invs_ALUP11.SA=0.010\n",
      "  invs_AURA33.SA=0.010\n",
      "  invs_BABA34.SA=0.010\n",
      "  invs_BOVA11.SA=0.010\n",
      "  invs_BRML3.SA=0.010\n",
      "  invs_BRPR3.SA=0.010\n",
      "  invs_COGN3.SA=0.010\n",
      "  invs_CSAN3.SA=0.010\n",
      "  invs_CYRE3.SA=0.150\n",
      "  invs_DIRR3.SA=0.150\n",
      "  invs_EGIE3.SA=0.010\n",
      "  invs_FESA4.SA=0.010\n",
      "  invs_GGBR4.SA=0.010\n",
      "  invs_GOAU4.SA=0.010\n",
      "  invs_IVVB11.SA=0.010\n",
      "  invs_JHSF3.SA=0.090\n",
      "  invs_KNRI11.SA=0.010\n",
      "  invs_MXRF11.SA=0.150\n",
      "  invs_OIBR3.SA=0.010\n",
      "  invs_RAIZ4.SA=0.010\n",
      "  invs_SULA11.SA=0.010\n",
      "  invs_TAEE11.SA=0.010\n",
      "  invs_TEND3.SA=0.150\n",
      "  invs_TRIS3.SA=0.010\n",
      "  invs_TRPL4.SA=0.010\n",
      "  invs_VIVT3.SA=0.010\n",
      "  invs_XPCI11.SA=0.010\n",
      "  invs_Selic=0.010\n",
      "  invs_Prefixado=0.010\n",
      "  invs_IPCA=0.010\n",
      "  invs_HASH11.SA=0.010\n",
      "  invs_TGAR11.SA=0.010\n",
      "  invs_BIAU39.SA=0.010\n",
      "  invs_GOLD11.SA=0.010\n",
      "  invs_XINA11.SA=0.010\n"
     ]
    }
   ],
   "source": [
    "model.print_solution()"
   ]
  },
  {
   "cell_type": "code",
   "execution_count": 114,
   "metadata": {},
   "outputs": [],
   "source": [
    "total_return = 0\n",
    "for i in keys:\n",
    "    total_return += x[i].solution_value * return_dict[i]"
   ]
  },
  {
   "cell_type": "code",
   "execution_count": 115,
   "metadata": {},
   "outputs": [],
   "source": [
    "total_var = 0\n",
    "for i in keys:\n",
    "    total_var += x[i].solution_value * var_dict[i]"
   ]
  },
  {
   "cell_type": "code",
   "execution_count": 116,
   "metadata": {},
   "outputs": [],
   "source": [
    "total_rf = 0\n",
    "for i in rf:\n",
    "    total_rf += x[i].solution_value"
   ]
  },
  {
   "cell_type": "code",
   "execution_count": 117,
   "metadata": {},
   "outputs": [],
   "source": [
    "total_a = 0\n",
    "for i in a:\n",
    "    total_a += x[i].solution_value"
   ]
  },
  {
   "cell_type": "code",
   "execution_count": 118,
   "metadata": {},
   "outputs": [
    {
     "name": "stdout",
     "output_type": "stream",
     "text": [
      "Valor encontrado pela função objetivo:  10.16\n",
      "Retorno total:  -6.7716\n",
      "Variância total:  91.42235286137463\n",
      "Total alocado em renda fixa:  0.03\n",
      "Total alocado em renda variável:  0.97\n"
     ]
    }
   ],
   "source": [
    "print('Valor encontrado pela função objetivo: ', model.objective_value)\n",
    "print('Retorno total: ', total_return)\n",
    "print('Variância total: ', total_var)\n",
    "print('Total alocado em renda fixa: ', total_rf)\n",
    "print('Total alocado em renda variável: ', total_a)"
   ]
  },
  {
   "cell_type": "markdown",
   "metadata": {},
   "source": [
    "## 3. Conclusão"
   ]
  },
  {
   "cell_type": "markdown",
   "metadata": {},
   "source": [
    "#### Em 2.2.1. Modelo mantendo todas as restrições solicitadas pelo investidor\n",
    "Neste modelo nós mantivemos as retrições solicitadas pelo investidor, acrescentando nas restrições o investimento em certas ações que são do seu interesse.\n",
    "\n",
    "##### Objetivo - Minimizar Variância\n",
    "* Variâcia encontrada pela função objetivo:  55.01854056755589\n",
    "* Retorno total:  7.999999999999997\n",
    "* Total alocado em renda fixa:  0.15\n",
    "* Total alocado em renda variável:  0.8500000000000001\n",
    "\n",
    "##### Objetivo - Maximizar Retorno\n",
    "* Retorno encontrado pela função objetivo:  8.255755501530928\n",
    "* Variância total:  60.00\n",
    "* Total alocado em renda fixa:  0.15\n",
    "* Total alocado em renda variável:  0.85\n",
    "\n",
    "##### Análise dos resultados\n",
    "\n",
    "| Objetivo  | Variância  |  Retorno |   |    |\n",
    "|---|---|---|---|---|\n",
    "|  Minimizar variância |  **55.01** | 7.99  |   |   |\n",
    "| Maximizar retorno  |  60.00 | **8.25**  |   |   |\n",
    "\n",
    "#### 2.2.2 Modelo removendo algumas restrições entre ativos de renda variável\n",
    "Neste modelo foram removidas algumas restrições impostas pelo investidor como o investimento em ativos específicos da carteira de acordo com o seu interesse.\n",
    "\n",
    "##### Objetivo - Minimizar Variância\n",
    "* Variâcia encontrada pela função objetivo:  49.18879023082532\n",
    "* Retorno total:  7.999999999999998\n",
    "* Total alocado em renda fixa:  0.15\n",
    "* Total alocado em renda variável:  0.85\n",
    "\n",
    "##### Objetivo - Maximizar Retorno\n",
    "* Retorno encontrado pela função objetivo:  9.7309305094014\n",
    "* Variância total:  59.99999999999999\n",
    "* Total alocado em renda fixa:  0.15\n",
    "* Total alocado em renda variável:  0.85\n",
    "\n",
    "##### Análise de Resultados:\n",
    "\n",
    "| Objetivo  | Variância  |  Retorno |   |    |\n",
    "|---|---|---|---|---|\n",
    "|  Minimizar variância |  **49.18** | 7.99 |   |   |\n",
    "| Maximizar retorno  |  59.99 | **9.73**  |   |   |\n",
    "\n",
    "Percebemos uma diminuição da variância final encontrada pelo modelo. Também notou-se aumento do retorno total como objetivo. Isso pode ocorrer pois, no modelo anterior, ao restringir ativos específicos, o investidor pode estar sujeito a erros e escolher ativos que no final possuem, nesse caso, alta variância e possivelmente menores retornos. \n",
    "\n",
    "#### 2.2.3 Modelo removendo algumas restrições e utilizando faixas de restrições\n",
    "\n",
    "##### Objetivo - Minimizar Variância\n",
    "* Variâcia encontrada pela função objetivo:  48.51314952015901\n",
    "* Retorno total:  7.999999999999998\n",
    "* Total alocado em renda fixa:  0.1\n",
    "* Total alocado em renda variável:  0.8999999999999999\n",
    "\n",
    "##### Objetivo - Maximizar Retorno\n",
    "* Retorno encontrado pela função objetivo:  10.471671559498496\n",
    "* Variância total:  60.00\n",
    "* Total alocado em renda fixa:  0.1\n",
    "* Total alocado em renda variável:  0.8999999999999999\n",
    "\n",
    "##### Análise de Resultados - Ao retirar o investimento de ativos específicos e ao utilizarmos faixas de restrições:\n",
    "\n",
    "| Objetivo  | Variância  |  Retorno |   |    |\n",
    "|---|---|---|---|---|\n",
    "|  Minimizar variância |  **48.51** | 7.99 |   |   |\n",
    "| Maximizar retorno  |  60.00 | **10.47**  |   |   |\n",
    "\n",
    "Podemos ver uma leve diminuição na variância total, assim como aumento do retorno. Isso aconteceu devido à possibilidade que a faixa de restrições deu ao modelo de alocar até 90% do investimento em rendas variáveis e menor alocamento em rendas fixas que podem não ser a melhor opção para investimento seguindo esses objetivos.\n",
    "\n",
    "#### 2.2.4 Modelo mais livre\n",
    "\n",
    "##### Objetivo - Minimizar Variância\n",
    "* Variâcia encontrada pela função objetivo:  47.70984227946272\n",
    "* Retorno total:  7.999999999999998\n",
    "* Total alocado em renda fixa:  0.015\n",
    "* Total alocado em renda variável:  0.985\n",
    "\n",
    "##### Objetivo - Maximizar Retorno\n",
    "* Retorno encontrado pela função objetivo:  11.602893818642055\n",
    "* Variância total:  59.99999999999999\n",
    "* Total alocado em renda fixa:  0.015\n",
    "* Total alocado em renda variável:  0.9849999999999999\n",
    "\n",
    "##### Análise de Resultados - Modelo mais livre:\n",
    "\n",
    "| Objetivo  | Variância  |  Retorno |   |    |\n",
    "|---|---|---|---|---|\n",
    "|  Minimizar variância |  **47.70** | 7.99 |   |   |\n",
    "| Maximizar retorno  |  59.99 | **11.60**  |   |   |\n",
    "\n",
    "Ao retirarmos as retrições para investimento o modelo conseguiu encontrar os melhores resultados dentre todos os já apresentados. Pois, ao eliminar a restrição de ativos específicos e de grupos de ativos na obrigatoriedade da carteira, foi apresentado para nós os melhores investimentos no decorrer de 1 ano.\n",
    "\n",
    "A variância mínima encontrada para a carteira de 47%\n",
    "E retorno máximo encontrado de 11.6%\n",
    "\n",
    "Com isso podemos observar o poder que o modelo tem de escolher os melhores ativos por conta própria. E, além disso, observamos como os interesses particulares dos investidores podem afetar bastante o resultado final de acordo com certas restrições impostas.\n",
    "\n",
    "Sendo assim, uma boa opção deixar o modelo mais liberto e alimentá-lo com dados variados para posterior análise!"
   ]
  },
  {
   "cell_type": "code",
   "execution_count": null,
   "metadata": {},
   "outputs": [],
   "source": []
  }
 ],
 "metadata": {
  "kernelspec": {
   "display_name": "Python 3",
   "language": "python",
   "name": "python3"
  },
  "language_info": {
   "codemirror_mode": {
    "name": "ipython",
    "version": 3
   },
   "file_extension": ".py",
   "mimetype": "text/x-python",
   "name": "python",
   "nbconvert_exporter": "python",
   "pygments_lexer": "ipython3",
   "version": "3.8.5"
  }
 },
 "nbformat": 4,
 "nbformat_minor": 4
}
