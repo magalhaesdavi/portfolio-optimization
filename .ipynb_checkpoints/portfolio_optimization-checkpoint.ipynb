{
 "cells": [
  {
   "cell_type": "markdown",
   "metadata": {},
   "source": [
    "# Otimização de portfólio de investimentos"
   ]
  },
  {
   "cell_type": "code",
   "execution_count": 420,
   "metadata": {},
   "outputs": [],
   "source": [
    "import pandas as pd\n",
    "import numpy as np\n",
    "import yfinance as yf\n",
    "from docplex.mp.model import Model\n",
    "import matplotlib.pyplot as plt\n",
    "from scipy.signal import argrelextrema\n",
    "from re import sub\n",
    "from decimal import Decimal\n",
    "import sys\n",
    "import docplex"
   ]
  },
  {
   "cell_type": "markdown",
   "metadata": {},
   "source": [
    "## Modelo"
   ]
  },
  {
   "cell_type": "markdown",
   "metadata": {},
   "source": [
    "### Variáveis"
   ]
  },
  {
   "cell_type": "markdown",
   "metadata": {},
   "source": [
    "Todos os ativos pertencentes à carteira de investimentos do investidor (com seus valores de cota, variância e retorno).\n",
    "Total disponível para investimento."
   ]
  },
  {
   "cell_type": "markdown",
   "metadata": {},
   "source": [
    "### Restrições"
   ]
  },
  {
   "cell_type": "markdown",
   "metadata": {},
   "source": [
    "Variáveis de Renda Fixa >= 15% do total investido\n",
    "Variáveis Fundos Imobiliários >= 15% do total investido\n",
    "Vairáveis Ações >= 60% do total investido\n",
    "GOLD11, HASH11, BIAU39 >= 4% do total investido\n",
    "GOLD11, HASH11, BIAU39 <= 5% do total investido\n",
    "\n",
    "Será que vai escolher só uma ação pra investir? A que tem menor variância e maior retorno ao mesmo tempo?"
   ]
  },
  {
   "cell_type": "markdown",
   "metadata": {},
   "source": [
    "### Função objetivo"
   ]
  },
  {
   "cell_type": "markdown",
   "metadata": {},
   "source": [
    "\\begin{equation}\n",
    "z =\\sum_{i=1}^{n} \\frac{r_i}{\\mbox{v}_i}\n",
    "\\end{equation}"
   ]
  },
  {
   "cell_type": "markdown",
   "metadata": {},
   "source": [
    "r = retorno\n",
    "v = variancia\n",
    "i = cada investimento"
   ]
  },
  {
   "cell_type": "markdown",
   "metadata": {},
   "source": [
    "Realizamos alguns testes com a API de dados do Yahoo e percebemos que algumas ações e rendas fixas possuíam dados faltantes ou inexistentes, então baixamos essas e coletamos os dados manualmente."
   ]
  },
  {
   "cell_type": "code",
   "execution_count": 3,
   "metadata": {},
   "outputs": [],
   "source": [
    "variables = ['XPCI11.SA KNRI11.SA XINA11 VIVT3 TRPL4 TRIS3 TGAR11 TEND3 TAEE11 SULA11 RAIZ4 OIBR3 MXRF11 JHSF3 IVVB11 HASH11 GOLD11 GOAU4 GGBR4 FESA4 EGIE3 DIRR3 CYRE3 CSAN3 COGN3 BRPR3 BRML3 BOVA11 BIAU39 BABA34 AURA33 ALUP11 ALSO3']\n",
    "\n",
    "par = ['-22.08 -7.45 -8.94 -23.36 +0.29 -19.57 +24.53 -12.05 -3.51 -38.0 -0.8 +7.34 +9.53 -5.79 -3.85 +1.41 +2.38 +16.51 -7.68 -6.52 -17.04 +4.83 -14.84 -3.45 +22.01 +4.70 -1.77 -27.99 +14.35 -5.53 +8.66']"
   ]
  },
  {
   "cell_type": "code",
   "execution_count": 4,
   "metadata": {},
   "outputs": [
    {
     "data": {
      "text/plain": [
       "{'IPCA': -7.18,\n",
       " 'Selic': 0,\n",
       " 'Prefixado': 0,\n",
       " 'KNRI11.SA': 0,\n",
       " 'XPCI11.SA': 0,\n",
       " 'XINA11.SA': -22.08,\n",
       " 'VIVT3.SA': -7.45,\n",
       " 'TRPL4.SA': -8.94,\n",
       " 'TRIS3.SA': -23.36,\n",
       " 'TGAR11.SA': 0.29,\n",
       " 'TEND3.SA': -19.57,\n",
       " 'TAEE11.SA': 24.53,\n",
       " 'SULA11.SA': -12.05,\n",
       " 'RAIZ4.SA': -3.51,\n",
       " 'OIBR3.SA': -38.0,\n",
       " 'MXRF11.SA': -0.8,\n",
       " 'JHSF3.SA': 7.34,\n",
       " 'IVVB11.SA': 9.53,\n",
       " 'HASH11.SA': -5.79,\n",
       " 'GOLD11.SA': -3.85,\n",
       " 'GOAU4.SA': 1.41,\n",
       " 'GGBR4.SA': 2.38,\n",
       " 'FESA4.SA': 16.51,\n",
       " 'EGIE3.SA': -7.68,\n",
       " 'DIRR3.SA': -6.52,\n",
       " 'CYRE3.SA': -17.04,\n",
       " 'CSAN3.SA': 4.83,\n",
       " 'COGN3.SA': -14.84,\n",
       " 'BRPR3.SA': -3.45,\n",
       " 'BRML3.SA': 22.01,\n",
       " 'BOVA11.SA': 4.7,\n",
       " 'BIAU39.SA': -1.77,\n",
       " 'BABA34.SA': -27.99,\n",
       " 'AURA33.SA': 14.35,\n",
       " 'ALUP11.SA': -5.53,\n",
       " 'ALSO3.SA': 8.66}"
      ]
     },
     "execution_count": 4,
     "metadata": {},
     "output_type": "execute_result"
    }
   ],
   "source": [
    "return_dict = {'IPCA': -7.18, 'Selic': 0, 'Prefixado': 0, 'KNRI11.SA': 0, 'XPCI11.SA': 0, 'XINA11.SA': -22.08, 'VIVT3.SA': -7.45, 'TRPL4.SA': -8.94, 'TRIS3.SA': -23.36, 'TGAR11.SA': 0.29, 'TEND3.SA': -19.57, 'TAEE11.SA': 24.53, 'SULA11.SA': -12.05, 'RAIZ4.SA': -3.51, 'OIBR3.SA': -38.0, 'MXRF11.SA': -0.8, 'JHSF3.SA': 7.34, 'IVVB11.SA': 9.53, 'HASH11.SA': -5.79, 'GOLD11.SA': -3.85, 'GOAU4.SA': 1.41, 'GGBR4.SA': 2.38, 'FESA4.SA': 16.51, 'EGIE3.SA': -7.68, 'DIRR3.SA': -6.52, 'CYRE3.SA': -17.04, 'CSAN3.SA': 4.83, 'COGN3.SA': -14.84, 'BRPR3.SA': -3.45, 'BRML3.SA': 22.01, 'BOVA11.SA': 4.70, 'BIAU39.SA': -1.77, 'BABA34.SA': -27.99, 'AURA33.SA': 14.35, 'ALUP11.SA': -5.53, 'ALSO3.SA':8.66}\n",
    "return_dict"
   ]
  },
  {
   "cell_type": "code",
   "execution_count": 5,
   "metadata": {},
   "outputs": [
    {
     "data": {
      "text/html": [
       "<div>\n",
       "<style scoped>\n",
       "    .dataframe tbody tr th:only-of-type {\n",
       "        vertical-align: middle;\n",
       "    }\n",
       "\n",
       "    .dataframe tbody tr th {\n",
       "        vertical-align: top;\n",
       "    }\n",
       "\n",
       "    .dataframe thead th {\n",
       "        text-align: right;\n",
       "    }\n",
       "</style>\n",
       "<table border=\"1\" class=\"dataframe\">\n",
       "  <thead>\n",
       "    <tr style=\"text-align: right;\">\n",
       "      <th></th>\n",
       "      <th>Último</th>\n",
       "    </tr>\n",
       "  </thead>\n",
       "  <tbody>\n",
       "    <tr>\n",
       "      <th>0</th>\n",
       "      <td>10.785,177</td>\n",
       "    </tr>\n",
       "    <tr>\n",
       "      <th>1</th>\n",
       "      <td>10.783,554</td>\n",
       "    </tr>\n",
       "    <tr>\n",
       "      <th>2</th>\n",
       "      <td>10.781,931</td>\n",
       "    </tr>\n",
       "    <tr>\n",
       "      <th>3</th>\n",
       "      <td>10.782,094</td>\n",
       "    </tr>\n",
       "    <tr>\n",
       "      <th>4</th>\n",
       "      <td>10.780,843</td>\n",
       "    </tr>\n",
       "  </tbody>\n",
       "</table>\n",
       "</div>"
      ],
      "text/plain": [
       "       Último\n",
       "0  10.785,177\n",
       "1  10.783,554\n",
       "2  10.781,931\n",
       "3  10.782,094\n",
       "4  10.780,843"
      ]
     },
     "execution_count": 5,
     "metadata": {},
     "output_type": "execute_result"
    }
   ],
   "source": [
    "selic = pd.read_csv('data/Selic2027.csv')\n",
    "selic.drop(['Data', 'Var%', 'Abertura', 'Máxima', 'Mínima'], axis=1, inplace=True)\n",
    "selic.head()"
   ]
  },
  {
   "cell_type": "code",
   "execution_count": 6,
   "metadata": {},
   "outputs": [
    {
     "data": {
      "text/html": [
       "<div>\n",
       "<style scoped>\n",
       "    .dataframe tbody tr th:only-of-type {\n",
       "        vertical-align: middle;\n",
       "    }\n",
       "\n",
       "    .dataframe tbody tr th {\n",
       "        vertical-align: top;\n",
       "    }\n",
       "\n",
       "    .dataframe thead th {\n",
       "        text-align: right;\n",
       "    }\n",
       "</style>\n",
       "<table border=\"1\" class=\"dataframe\">\n",
       "  <thead>\n",
       "    <tr style=\"text-align: right;\">\n",
       "      <th></th>\n",
       "      <th>Último</th>\n",
       "    </tr>\n",
       "  </thead>\n",
       "  <tbody>\n",
       "    <tr>\n",
       "      <th>0</th>\n",
       "      <td>10785.177</td>\n",
       "    </tr>\n",
       "    <tr>\n",
       "      <th>1</th>\n",
       "      <td>10783.554</td>\n",
       "    </tr>\n",
       "    <tr>\n",
       "      <th>2</th>\n",
       "      <td>10781.931</td>\n",
       "    </tr>\n",
       "    <tr>\n",
       "      <th>3</th>\n",
       "      <td>10782.094</td>\n",
       "    </tr>\n",
       "    <tr>\n",
       "      <th>4</th>\n",
       "      <td>10780.843</td>\n",
       "    </tr>\n",
       "  </tbody>\n",
       "</table>\n",
       "</div>"
      ],
      "text/plain": [
       "      Último\n",
       "0  10785.177\n",
       "1  10783.554\n",
       "2  10781.931\n",
       "3  10782.094\n",
       "4  10780.843"
      ]
     },
     "execution_count": 6,
     "metadata": {},
     "output_type": "execute_result"
    }
   ],
   "source": [
    "selic['Último'] = selic['Último'].apply(lambda x: x.replace(\".\", \"\").replace(\",\",\".\")).astype(float)\n",
    "selic.head()"
   ]
  },
  {
   "cell_type": "code",
   "execution_count": 7,
   "metadata": {},
   "outputs": [
    {
     "data": {
      "text/plain": [
       "{'Selic': 7605.365255462518}"
      ]
     },
     "execution_count": 7,
     "metadata": {},
     "output_type": "execute_result"
    }
   ],
   "source": [
    "var_dict = {'Selic': selic['Último'].var()}\n",
    "var_dict"
   ]
  },
  {
   "cell_type": "code",
   "execution_count": 8,
   "metadata": {},
   "outputs": [
    {
     "data": {
      "text/html": [
       "<div>\n",
       "<style scoped>\n",
       "    .dataframe tbody tr th:only-of-type {\n",
       "        vertical-align: middle;\n",
       "    }\n",
       "\n",
       "    .dataframe tbody tr th {\n",
       "        vertical-align: top;\n",
       "    }\n",
       "\n",
       "    .dataframe thead th {\n",
       "        text-align: right;\n",
       "    }\n",
       "</style>\n",
       "<table border=\"1\" class=\"dataframe\">\n",
       "  <thead>\n",
       "    <tr style=\"text-align: right;\">\n",
       "      <th></th>\n",
       "      <th>Último</th>\n",
       "    </tr>\n",
       "  </thead>\n",
       "  <tbody>\n",
       "    <tr>\n",
       "      <th>0</th>\n",
       "      <td>656.53</td>\n",
       "    </tr>\n",
       "    <tr>\n",
       "      <th>1</th>\n",
       "      <td>660.99</td>\n",
       "    </tr>\n",
       "    <tr>\n",
       "      <th>2</th>\n",
       "      <td>666.85</td>\n",
       "    </tr>\n",
       "    <tr>\n",
       "      <th>3</th>\n",
       "      <td>671.42</td>\n",
       "    </tr>\n",
       "    <tr>\n",
       "      <th>4</th>\n",
       "      <td>668.50</td>\n",
       "    </tr>\n",
       "  </tbody>\n",
       "</table>\n",
       "</div>"
      ],
      "text/plain": [
       "   Último\n",
       "0  656.53\n",
       "1  660.99\n",
       "2  666.85\n",
       "3  671.42\n",
       "4  668.50"
      ]
     },
     "execution_count": 8,
     "metadata": {},
     "output_type": "execute_result"
    }
   ],
   "source": [
    "prefixado = pd.read_csv('data/Prefixado2026.csv')\n",
    "prefixado.drop(['Data', 'Var%', 'Abertura', 'Máxima', 'Mínima'], axis=1, inplace=True)\n",
    "prefixado['Último'] = prefixado['Último'].apply(lambda x: x.replace(\".\", \"\").replace(\",\",\".\")).astype(float)\n",
    "prefixado.head()"
   ]
  },
  {
   "cell_type": "code",
   "execution_count": 9,
   "metadata": {},
   "outputs": [
    {
     "data": {
      "text/plain": [
       "{'Selic': 7605.365255462518, 'Prefixado': 271.49614009511976}"
      ]
     },
     "execution_count": 9,
     "metadata": {},
     "output_type": "execute_result"
    }
   ],
   "source": [
    "var_dict['Prefixado'] = prefixado['Último'].var()\n",
    "var_dict"
   ]
  },
  {
   "cell_type": "code",
   "execution_count": 342,
   "metadata": {},
   "outputs": [
    {
     "data": {
      "text/html": [
       "<div>\n",
       "<style scoped>\n",
       "    .dataframe tbody tr th:only-of-type {\n",
       "        vertical-align: middle;\n",
       "    }\n",
       "\n",
       "    .dataframe tbody tr th {\n",
       "        vertical-align: top;\n",
       "    }\n",
       "\n",
       "    .dataframe thead th {\n",
       "        text-align: right;\n",
       "    }\n",
       "</style>\n",
       "<table border=\"1\" class=\"dataframe\">\n",
       "  <thead>\n",
       "    <tr style=\"text-align: right;\">\n",
       "      <th></th>\n",
       "      <th>Último</th>\n",
       "    </tr>\n",
       "  </thead>\n",
       "  <tbody>\n",
       "    <tr>\n",
       "      <th>0</th>\n",
       "      <td>103.65</td>\n",
       "    </tr>\n",
       "    <tr>\n",
       "      <th>1</th>\n",
       "      <td>103.25</td>\n",
       "    </tr>\n",
       "    <tr>\n",
       "      <th>2</th>\n",
       "      <td>103.65</td>\n",
       "    </tr>\n",
       "    <tr>\n",
       "      <th>3</th>\n",
       "      <td>104.30</td>\n",
       "    </tr>\n",
       "    <tr>\n",
       "      <th>4</th>\n",
       "      <td>104.35</td>\n",
       "    </tr>\n",
       "  </tbody>\n",
       "</table>\n",
       "</div>"
      ],
      "text/plain": [
       "   Último\n",
       "0  103.65\n",
       "1  103.25\n",
       "2  103.65\n",
       "3  104.30\n",
       "4  104.35"
      ]
     },
     "execution_count": 342,
     "metadata": {},
     "output_type": "execute_result"
    }
   ],
   "source": [
    "ipca = pd.read_csv('data/IMBB11.csv', sep='\\t')\n",
    "ipca.drop(['Data', 'Variação', 'Abertura', 'Máxima', 'Mínima', 'Variação (%)', 'Volume'], axis=1, inplace=True)\n",
    "ipca['Fechamento'] = ipca['Fechamento'].apply(lambda x: x.replace(\".\", \"\").replace(\",\",\".\")).astype(float)\n",
    "ipca.rename(columns = {'Fechamento': 'Último'},inplace=True)\n",
    "ipca.head()"
   ]
  },
  {
   "cell_type": "code",
   "execution_count": 11,
   "metadata": {},
   "outputs": [
    {
     "data": {
      "text/plain": [
       "{'Selic': 7605.365255462518,\n",
       " 'Prefixado': 271.49614009511976,\n",
       " 'IPCA': 5.2457444321145195}"
      ]
     },
     "execution_count": 11,
     "metadata": {},
     "output_type": "execute_result"
    }
   ],
   "source": [
    "var_dict['IPCA'] = ipca['Fechamento'].var()\n",
    "var_dict"
   ]
  },
  {
   "cell_type": "code",
   "execution_count": 12,
   "metadata": {},
   "outputs": [
    {
     "data": {
      "text/html": [
       "<div>\n",
       "<style scoped>\n",
       "    .dataframe tbody tr th:only-of-type {\n",
       "        vertical-align: middle;\n",
       "    }\n",
       "\n",
       "    .dataframe tbody tr th {\n",
       "        vertical-align: top;\n",
       "    }\n",
       "\n",
       "    .dataframe thead th {\n",
       "        text-align: right;\n",
       "    }\n",
       "</style>\n",
       "<table border=\"1\" class=\"dataframe\">\n",
       "  <thead>\n",
       "    <tr style=\"text-align: right;\">\n",
       "      <th></th>\n",
       "      <th>Último</th>\n",
       "    </tr>\n",
       "  </thead>\n",
       "  <tbody>\n",
       "    <tr>\n",
       "      <th>0</th>\n",
       "      <td>43.06</td>\n",
       "    </tr>\n",
       "    <tr>\n",
       "      <th>1</th>\n",
       "      <td>43.15</td>\n",
       "    </tr>\n",
       "    <tr>\n",
       "      <th>2</th>\n",
       "      <td>44.30</td>\n",
       "    </tr>\n",
       "    <tr>\n",
       "      <th>3</th>\n",
       "      <td>45.00</td>\n",
       "    </tr>\n",
       "    <tr>\n",
       "      <th>4</th>\n",
       "      <td>42.72</td>\n",
       "    </tr>\n",
       "  </tbody>\n",
       "</table>\n",
       "</div>"
      ],
      "text/plain": [
       "   Último\n",
       "0   43.06\n",
       "1   43.15\n",
       "2   44.30\n",
       "3   45.00\n",
       "4   42.72"
      ]
     },
     "execution_count": 12,
     "metadata": {},
     "output_type": "execute_result"
    }
   ],
   "source": [
    "hash11 = pd.read_csv('data/HASH11.csv')\n",
    "hash11.drop(['Data', 'Var%', 'Abertura', 'Máxima', 'Mínima', 'Vol.'], axis=1, inplace=True)\n",
    "hash11['Último'] = hash11['Último'].apply(lambda x: x.replace(\".\", \"\").replace(\",\",\".\")).astype(float)\n",
    "hash11.head()"
   ]
  },
  {
   "cell_type": "code",
   "execution_count": 13,
   "metadata": {},
   "outputs": [
    {
     "data": {
      "text/plain": [
       "{'Selic': 7605.365255462518,\n",
       " 'Prefixado': 271.49614009511976,\n",
       " 'IPCA': 5.2457444321145195,\n",
       " 'HASH11.SA': 74.32406074367088}"
      ]
     },
     "execution_count": 13,
     "metadata": {},
     "output_type": "execute_result"
    }
   ],
   "source": [
    "var_dict['HASH11.SA'] = hash11['Último'].var()\n",
    "var_dict"
   ]
  },
  {
   "cell_type": "code",
   "execution_count": 14,
   "metadata": {},
   "outputs": [
    {
     "data": {
      "text/html": [
       "<div>\n",
       "<style scoped>\n",
       "    .dataframe tbody tr th:only-of-type {\n",
       "        vertical-align: middle;\n",
       "    }\n",
       "\n",
       "    .dataframe tbody tr th {\n",
       "        vertical-align: top;\n",
       "    }\n",
       "\n",
       "    .dataframe thead th {\n",
       "        text-align: right;\n",
       "    }\n",
       "</style>\n",
       "<table border=\"1\" class=\"dataframe\">\n",
       "  <thead>\n",
       "    <tr style=\"text-align: right;\">\n",
       "      <th></th>\n",
       "      <th>Último</th>\n",
       "    </tr>\n",
       "  </thead>\n",
       "  <tbody>\n",
       "    <tr>\n",
       "      <th>0</th>\n",
       "      <td>123.04</td>\n",
       "    </tr>\n",
       "    <tr>\n",
       "      <th>1</th>\n",
       "      <td>122.79</td>\n",
       "    </tr>\n",
       "    <tr>\n",
       "      <th>2</th>\n",
       "      <td>124.12</td>\n",
       "    </tr>\n",
       "    <tr>\n",
       "      <th>3</th>\n",
       "      <td>125.00</td>\n",
       "    </tr>\n",
       "    <tr>\n",
       "      <th>4</th>\n",
       "      <td>124.00</td>\n",
       "    </tr>\n",
       "  </tbody>\n",
       "</table>\n",
       "</div>"
      ],
      "text/plain": [
       "   Último\n",
       "0  123.04\n",
       "1  122.79\n",
       "2  124.12\n",
       "3  125.00\n",
       "4  124.00"
      ]
     },
     "execution_count": 14,
     "metadata": {},
     "output_type": "execute_result"
    }
   ],
   "source": [
    "tgar11 = pd.read_csv('data/TGAR11.csv')\n",
    "tgar11.drop(['Data', 'Var%', 'Abertura', 'Máxima', 'Mínima', 'Vol.'], axis=1, inplace=True)\n",
    "tgar11['Último'] = tgar11['Último'].apply(lambda x: x.replace(\".\", \"\").replace(\",\",\".\")).astype(float)\n",
    "tgar11.head()"
   ]
  },
  {
   "cell_type": "code",
   "execution_count": 15,
   "metadata": {},
   "outputs": [
    {
     "data": {
      "text/plain": [
       "{'Selic': 7605.365255462518,\n",
       " 'Prefixado': 271.49614009511976,\n",
       " 'IPCA': 5.2457444321145195,\n",
       " 'HASH11.SA': 74.32406074367088,\n",
       " 'TGAR11.SA': 17.432172175786853}"
      ]
     },
     "execution_count": 15,
     "metadata": {},
     "output_type": "execute_result"
    }
   ],
   "source": [
    "var_dict['TGAR11.SA'] = tgar11['Último'].var()\n",
    "var_dict"
   ]
  },
  {
   "cell_type": "code",
   "execution_count": 16,
   "metadata": {},
   "outputs": [
    {
     "data": {
      "text/html": [
       "<div>\n",
       "<style scoped>\n",
       "    .dataframe tbody tr th:only-of-type {\n",
       "        vertical-align: middle;\n",
       "    }\n",
       "\n",
       "    .dataframe tbody tr th {\n",
       "        vertical-align: top;\n",
       "    }\n",
       "\n",
       "    .dataframe thead th {\n",
       "        text-align: right;\n",
       "    }\n",
       "</style>\n",
       "<table border=\"1\" class=\"dataframe\">\n",
       "  <thead>\n",
       "    <tr style=\"text-align: right;\">\n",
       "      <th></th>\n",
       "      <th>Último</th>\n",
       "    </tr>\n",
       "  </thead>\n",
       "  <tbody>\n",
       "    <tr>\n",
       "      <th>0</th>\n",
       "      <td>45.50</td>\n",
       "    </tr>\n",
       "    <tr>\n",
       "      <th>1</th>\n",
       "      <td>44.65</td>\n",
       "    </tr>\n",
       "    <tr>\n",
       "      <th>2</th>\n",
       "      <td>44.88</td>\n",
       "    </tr>\n",
       "    <tr>\n",
       "      <th>3</th>\n",
       "      <td>44.35</td>\n",
       "    </tr>\n",
       "    <tr>\n",
       "      <th>4</th>\n",
       "      <td>43.77</td>\n",
       "    </tr>\n",
       "  </tbody>\n",
       "</table>\n",
       "</div>"
      ],
      "text/plain": [
       "   Último\n",
       "0   45.50\n",
       "1   44.65\n",
       "2   44.88\n",
       "3   44.35\n",
       "4   43.77"
      ]
     },
     "execution_count": 16,
     "metadata": {},
     "output_type": "execute_result"
    }
   ],
   "source": [
    "biau39 = pd.read_csv('data/BIAU39.csv')\n",
    "biau39.drop(['Data', 'Var%', 'Abertura', 'Máxima', 'Mínima', 'Vol.'], axis=1, inplace=True)\n",
    "biau39['Último'] = biau39['Último'].apply(lambda x: x.replace(\".\", \"\").replace(\",\",\".\")).astype(float)\n",
    "biau39.head()"
   ]
  },
  {
   "cell_type": "code",
   "execution_count": 17,
   "metadata": {},
   "outputs": [
    {
     "data": {
      "text/plain": [
       "{'Selic': 7605.365255462518,\n",
       " 'Prefixado': 271.49614009511976,\n",
       " 'IPCA': 5.2457444321145195,\n",
       " 'HASH11.SA': 74.32406074367088,\n",
       " 'TGAR11.SA': 17.432172175786853,\n",
       " 'BIAU39.SA': 2.374279376623375}"
      ]
     },
     "execution_count": 17,
     "metadata": {},
     "output_type": "execute_result"
    }
   ],
   "source": [
    "var_dict['BIAU39.SA'] = biau39['Último'].var()\n",
    "var_dict"
   ]
  },
  {
   "cell_type": "code",
   "execution_count": 18,
   "metadata": {},
   "outputs": [
    {
     "data": {
      "text/html": [
       "<div>\n",
       "<style scoped>\n",
       "    .dataframe tbody tr th:only-of-type {\n",
       "        vertical-align: middle;\n",
       "    }\n",
       "\n",
       "    .dataframe tbody tr th {\n",
       "        vertical-align: top;\n",
       "    }\n",
       "\n",
       "    .dataframe thead th {\n",
       "        text-align: right;\n",
       "    }\n",
       "</style>\n",
       "<table border=\"1\" class=\"dataframe\">\n",
       "  <thead>\n",
       "    <tr style=\"text-align: right;\">\n",
       "      <th></th>\n",
       "      <th>Último</th>\n",
       "    </tr>\n",
       "  </thead>\n",
       "  <tbody>\n",
       "    <tr>\n",
       "      <th>0</th>\n",
       "      <td>10.22</td>\n",
       "    </tr>\n",
       "    <tr>\n",
       "      <th>1</th>\n",
       "      <td>10.06</td>\n",
       "    </tr>\n",
       "    <tr>\n",
       "      <th>2</th>\n",
       "      <td>10.10</td>\n",
       "    </tr>\n",
       "    <tr>\n",
       "      <th>3</th>\n",
       "      <td>9.98</td>\n",
       "    </tr>\n",
       "    <tr>\n",
       "      <th>4</th>\n",
       "      <td>9.85</td>\n",
       "    </tr>\n",
       "  </tbody>\n",
       "</table>\n",
       "</div>"
      ],
      "text/plain": [
       "   Último\n",
       "0   10.22\n",
       "1   10.06\n",
       "2   10.10\n",
       "3    9.98\n",
       "4    9.85"
      ]
     },
     "execution_count": 18,
     "metadata": {},
     "output_type": "execute_result"
    }
   ],
   "source": [
    "gold11 = pd.read_csv('data/GOLD11.csv')\n",
    "gold11.drop(['Data', 'Var%', 'Abertura', 'Máxima', 'Mínima', 'Vol.'], axis=1, inplace=True)\n",
    "gold11['Último'] = gold11['Último'].apply(lambda x: x.replace(\".\", \"\").replace(\",\",\".\")).astype(float)\n",
    "gold11.head()"
   ]
  },
  {
   "cell_type": "code",
   "execution_count": 19,
   "metadata": {},
   "outputs": [
    {
     "data": {
      "text/plain": [
       "{'Selic': 7605.365255462518,\n",
       " 'Prefixado': 271.49614009511976,\n",
       " 'IPCA': 5.2457444321145195,\n",
       " 'HASH11.SA': 74.32406074367088,\n",
       " 'TGAR11.SA': 17.432172175786853,\n",
       " 'BIAU39.SA': 2.374279376623375,\n",
       " 'GOLD11.SA': 0.12897262139466956}"
      ]
     },
     "execution_count": 19,
     "metadata": {},
     "output_type": "execute_result"
    }
   ],
   "source": [
    "var_dict['GOLD11.SA'] = gold11['Último'].var()\n",
    "var_dict"
   ]
  },
  {
   "cell_type": "code",
   "execution_count": 20,
   "metadata": {},
   "outputs": [
    {
     "data": {
      "text/html": [
       "<div>\n",
       "<style scoped>\n",
       "    .dataframe tbody tr th:only-of-type {\n",
       "        vertical-align: middle;\n",
       "    }\n",
       "\n",
       "    .dataframe tbody tr th {\n",
       "        vertical-align: top;\n",
       "    }\n",
       "\n",
       "    .dataframe thead th {\n",
       "        text-align: right;\n",
       "    }\n",
       "</style>\n",
       "<table border=\"1\" class=\"dataframe\">\n",
       "  <thead>\n",
       "    <tr style=\"text-align: right;\">\n",
       "      <th></th>\n",
       "      <th>Último</th>\n",
       "    </tr>\n",
       "  </thead>\n",
       "  <tbody>\n",
       "    <tr>\n",
       "      <th>0</th>\n",
       "      <td>8.96</td>\n",
       "    </tr>\n",
       "    <tr>\n",
       "      <th>1</th>\n",
       "      <td>8.74</td>\n",
       "    </tr>\n",
       "    <tr>\n",
       "      <th>2</th>\n",
       "      <td>8.98</td>\n",
       "    </tr>\n",
       "    <tr>\n",
       "      <th>3</th>\n",
       "      <td>9.11</td>\n",
       "    </tr>\n",
       "    <tr>\n",
       "      <th>4</th>\n",
       "      <td>9.16</td>\n",
       "    </tr>\n",
       "  </tbody>\n",
       "</table>\n",
       "</div>"
      ],
      "text/plain": [
       "   Último\n",
       "0    8.96\n",
       "1    8.74\n",
       "2    8.98\n",
       "3    9.11\n",
       "4    9.16"
      ]
     },
     "execution_count": 20,
     "metadata": {},
     "output_type": "execute_result"
    }
   ],
   "source": [
    "xina11 = pd.read_csv('data/XINA11.csv')\n",
    "xina11.drop(['Data', 'Var%', 'Abertura', 'Máxima', 'Mínima', 'Vol.'], axis=1, inplace=True)\n",
    "xina11['Último'] = xina11['Último'].apply(lambda x: x.replace(\".\", \"\").replace(\",\",\".\")).astype(float)\n",
    "xina11.head()"
   ]
  },
  {
   "cell_type": "code",
   "execution_count": 21,
   "metadata": {},
   "outputs": [
    {
     "data": {
      "text/plain": [
       "{'Selic': 7605.365255462518,\n",
       " 'Prefixado': 271.49614009511976,\n",
       " 'IPCA': 5.2457444321145195,\n",
       " 'HASH11.SA': 74.32406074367088,\n",
       " 'TGAR11.SA': 17.432172175786853,\n",
       " 'BIAU39.SA': 2.374279376623375,\n",
       " 'GOLD11.SA': 0.12897262139466956,\n",
       " 'XINA11.SA': 1.0428390993788819}"
      ]
     },
     "execution_count": 21,
     "metadata": {},
     "output_type": "execute_result"
    }
   ],
   "source": [
    "var_dict['XINA11.SA'] = xina11['Último'].var()\n",
    "var_dict"
   ]
  },
  {
   "cell_type": "markdown",
   "metadata": {},
   "source": [
    "Coletados os dados faltantes podemos obter o restante pela API."
   ]
  },
  {
   "cell_type": "code",
   "execution_count": 22,
   "metadata": {},
   "outputs": [
    {
     "name": "stdout",
     "output_type": "stream",
     "text": [
      "[*********************100%***********************]  28 of 28 completed\n"
     ]
    }
   ],
   "source": [
    "df = yf.download(tickers=\"KNRI11.SA XPCI11.SA VIVT3.SA TRPL4.SA TRIS3.SA TEND3.SA TAEE11.SA SULA11.SA RAIZ4.SA OIBR3.SA MXRF11.SA JHSF3.SA IVVB11.SA GOAU4.SA GGBR4.SA FESA4.SA EGIE3.SA DIRR3.SA CYRE3.SA CSAN3.SA COGN3.SA BRPR3.SA BRML3.SA BOVA11.SA BABA34.SA AURA33.SA ALUP11.SA ALSO3.SA\",\n",
    "                 period='1y')#start=\"2018-01-01\", end=\"2021-08-11\")"
   ]
  },
  {
   "cell_type": "code",
   "execution_count": 23,
   "metadata": {},
   "outputs": [
    {
     "data": {
      "text/html": [
       "<div>\n",
       "<style scoped>\n",
       "    .dataframe tbody tr th:only-of-type {\n",
       "        vertical-align: middle;\n",
       "    }\n",
       "\n",
       "    .dataframe tbody tr th {\n",
       "        vertical-align: top;\n",
       "    }\n",
       "\n",
       "    .dataframe thead tr th {\n",
       "        text-align: left;\n",
       "    }\n",
       "\n",
       "    .dataframe thead tr:last-of-type th {\n",
       "        text-align: right;\n",
       "    }\n",
       "</style>\n",
       "<table border=\"1\" class=\"dataframe\">\n",
       "  <thead>\n",
       "    <tr>\n",
       "      <th></th>\n",
       "      <th colspan=\"10\" halign=\"left\">Adj Close</th>\n",
       "      <th>...</th>\n",
       "      <th colspan=\"10\" halign=\"left\">Volume</th>\n",
       "    </tr>\n",
       "    <tr>\n",
       "      <th></th>\n",
       "      <th>ALSO3.SA</th>\n",
       "      <th>ALUP11.SA</th>\n",
       "      <th>AURA33.SA</th>\n",
       "      <th>BABA34.SA</th>\n",
       "      <th>BOVA11.SA</th>\n",
       "      <th>BRML3.SA</th>\n",
       "      <th>BRPR3.SA</th>\n",
       "      <th>COGN3.SA</th>\n",
       "      <th>CSAN3.SA</th>\n",
       "      <th>CYRE3.SA</th>\n",
       "      <th>...</th>\n",
       "      <th>MXRF11.SA</th>\n",
       "      <th>OIBR3.SA</th>\n",
       "      <th>RAIZ4.SA</th>\n",
       "      <th>SULA11.SA</th>\n",
       "      <th>TAEE11.SA</th>\n",
       "      <th>TEND3.SA</th>\n",
       "      <th>TRIS3.SA</th>\n",
       "      <th>TRPL4.SA</th>\n",
       "      <th>VIVT3.SA</th>\n",
       "      <th>XPCI11.SA</th>\n",
       "    </tr>\n",
       "    <tr>\n",
       "      <th>Date</th>\n",
       "      <th></th>\n",
       "      <th></th>\n",
       "      <th></th>\n",
       "      <th></th>\n",
       "      <th></th>\n",
       "      <th></th>\n",
       "      <th></th>\n",
       "      <th></th>\n",
       "      <th></th>\n",
       "      <th></th>\n",
       "      <th></th>\n",
       "      <th></th>\n",
       "      <th></th>\n",
       "      <th></th>\n",
       "      <th></th>\n",
       "      <th></th>\n",
       "      <th></th>\n",
       "      <th></th>\n",
       "      <th></th>\n",
       "      <th></th>\n",
       "      <th></th>\n",
       "    </tr>\n",
       "  </thead>\n",
       "  <tbody>\n",
       "    <tr>\n",
       "      <th>2020-08-31</th>\n",
       "      <td>26.198051</td>\n",
       "      <td>22.689550</td>\n",
       "      <td>61.606503</td>\n",
       "      <td>56.404285</td>\n",
       "      <td>95.699997</td>\n",
       "      <td>9.28</td>\n",
       "      <td>8.960383</td>\n",
       "      <td>5.70</td>\n",
       "      <td>20.571959</td>\n",
       "      <td>21.945745</td>\n",
       "      <td>...</td>\n",
       "      <td>641784</td>\n",
       "      <td>161727000</td>\n",
       "      <td>NaN</td>\n",
       "      <td>3707720</td>\n",
       "      <td>1834700</td>\n",
       "      <td>901800</td>\n",
       "      <td>2086300</td>\n",
       "      <td>1288200</td>\n",
       "      <td>173100</td>\n",
       "      <td>86349</td>\n",
       "    </tr>\n",
       "    <tr>\n",
       "      <th>2020-09-01</th>\n",
       "      <td>27.149986</td>\n",
       "      <td>22.931648</td>\n",
       "      <td>61.139786</td>\n",
       "      <td>57.197857</td>\n",
       "      <td>98.349998</td>\n",
       "      <td>9.67</td>\n",
       "      <td>9.234282</td>\n",
       "      <td>5.95</td>\n",
       "      <td>20.186466</td>\n",
       "      <td>22.328043</td>\n",
       "      <td>...</td>\n",
       "      <td>631117</td>\n",
       "      <td>115320300</td>\n",
       "      <td>NaN</td>\n",
       "      <td>4156086</td>\n",
       "      <td>3036900</td>\n",
       "      <td>1324700</td>\n",
       "      <td>1649900</td>\n",
       "      <td>2258000</td>\n",
       "      <td>103800</td>\n",
       "      <td>48006</td>\n",
       "    </tr>\n",
       "    <tr>\n",
       "      <th>2020-09-02</th>\n",
       "      <td>27.318558</td>\n",
       "      <td>23.144695</td>\n",
       "      <td>60.626396</td>\n",
       "      <td>56.591072</td>\n",
       "      <td>98.150002</td>\n",
       "      <td>9.56</td>\n",
       "      <td>9.146243</td>\n",
       "      <td>5.93</td>\n",
       "      <td>19.548920</td>\n",
       "      <td>22.127790</td>\n",
       "      <td>...</td>\n",
       "      <td>454532</td>\n",
       "      <td>214919800</td>\n",
       "      <td>NaN</td>\n",
       "      <td>1883679</td>\n",
       "      <td>2039200</td>\n",
       "      <td>848300</td>\n",
       "      <td>1013500</td>\n",
       "      <td>1975100</td>\n",
       "      <td>128600</td>\n",
       "      <td>21669</td>\n",
       "    </tr>\n",
       "    <tr>\n",
       "      <th>2020-09-03</th>\n",
       "      <td>26.822758</td>\n",
       "      <td>23.057539</td>\n",
       "      <td>61.979877</td>\n",
       "      <td>53.166428</td>\n",
       "      <td>96.959999</td>\n",
       "      <td>9.34</td>\n",
       "      <td>9.048423</td>\n",
       "      <td>5.80</td>\n",
       "      <td>18.953382</td>\n",
       "      <td>22.118687</td>\n",
       "      <td>...</td>\n",
       "      <td>443338</td>\n",
       "      <td>332703400</td>\n",
       "      <td>NaN</td>\n",
       "      <td>2545316</td>\n",
       "      <td>3326400</td>\n",
       "      <td>803600</td>\n",
       "      <td>1925600</td>\n",
       "      <td>1892800</td>\n",
       "      <td>117300</td>\n",
       "      <td>9400</td>\n",
       "    </tr>\n",
       "    <tr>\n",
       "      <th>2020-09-04</th>\n",
       "      <td>27.169817</td>\n",
       "      <td>23.086592</td>\n",
       "      <td>61.606503</td>\n",
       "      <td>54.313927</td>\n",
       "      <td>97.419998</td>\n",
       "      <td>9.45</td>\n",
       "      <td>9.107115</td>\n",
       "      <td>6.01</td>\n",
       "      <td>18.995394</td>\n",
       "      <td>21.709084</td>\n",
       "      <td>...</td>\n",
       "      <td>529243</td>\n",
       "      <td>235921500</td>\n",
       "      <td>NaN</td>\n",
       "      <td>1964709</td>\n",
       "      <td>1891900</td>\n",
       "      <td>927000</td>\n",
       "      <td>2421400</td>\n",
       "      <td>3788800</td>\n",
       "      <td>85500</td>\n",
       "      <td>24838</td>\n",
       "    </tr>\n",
       "  </tbody>\n",
       "</table>\n",
       "<p>5 rows × 168 columns</p>\n",
       "</div>"
      ],
      "text/plain": [
       "            Adj Close                                                       \\\n",
       "             ALSO3.SA  ALUP11.SA  AURA33.SA  BABA34.SA  BOVA11.SA BRML3.SA   \n",
       "Date                                                                         \n",
       "2020-08-31  26.198051  22.689550  61.606503  56.404285  95.699997     9.28   \n",
       "2020-09-01  27.149986  22.931648  61.139786  57.197857  98.349998     9.67   \n",
       "2020-09-02  27.318558  23.144695  60.626396  56.591072  98.150002     9.56   \n",
       "2020-09-03  26.822758  23.057539  61.979877  53.166428  96.959999     9.34   \n",
       "2020-09-04  27.169817  23.086592  61.606503  54.313927  97.419998     9.45   \n",
       "\n",
       "                                                     ...    Volume             \\\n",
       "            BRPR3.SA COGN3.SA   CSAN3.SA   CYRE3.SA  ... MXRF11.SA   OIBR3.SA   \n",
       "Date                                                 ...                        \n",
       "2020-08-31  8.960383     5.70  20.571959  21.945745  ...    641784  161727000   \n",
       "2020-09-01  9.234282     5.95  20.186466  22.328043  ...    631117  115320300   \n",
       "2020-09-02  9.146243     5.93  19.548920  22.127790  ...    454532  214919800   \n",
       "2020-09-03  9.048423     5.80  18.953382  22.118687  ...    443338  332703400   \n",
       "2020-09-04  9.107115     6.01  18.995394  21.709084  ...    529243  235921500   \n",
       "\n",
       "                                                                             \\\n",
       "           RAIZ4.SA SULA11.SA TAEE11.SA TEND3.SA TRIS3.SA TRPL4.SA VIVT3.SA   \n",
       "Date                                                                          \n",
       "2020-08-31      NaN   3707720   1834700   901800  2086300  1288200   173100   \n",
       "2020-09-01      NaN   4156086   3036900  1324700  1649900  2258000   103800   \n",
       "2020-09-02      NaN   1883679   2039200   848300  1013500  1975100   128600   \n",
       "2020-09-03      NaN   2545316   3326400   803600  1925600  1892800   117300   \n",
       "2020-09-04      NaN   1964709   1891900   927000  2421400  3788800    85500   \n",
       "\n",
       "                      \n",
       "           XPCI11.SA  \n",
       "Date                  \n",
       "2020-08-31     86349  \n",
       "2020-09-01     48006  \n",
       "2020-09-02     21669  \n",
       "2020-09-03      9400  \n",
       "2020-09-04     24838  \n",
       "\n",
       "[5 rows x 168 columns]"
      ]
     },
     "execution_count": 23,
     "metadata": {},
     "output_type": "execute_result"
    }
   ],
   "source": [
    "df.head()"
   ]
  },
  {
   "cell_type": "code",
   "execution_count": 24,
   "metadata": {},
   "outputs": [
    {
     "data": {
      "text/html": [
       "<div>\n",
       "<style scoped>\n",
       "    .dataframe tbody tr th:only-of-type {\n",
       "        vertical-align: middle;\n",
       "    }\n",
       "\n",
       "    .dataframe tbody tr th {\n",
       "        vertical-align: top;\n",
       "    }\n",
       "\n",
       "    .dataframe thead th {\n",
       "        text-align: right;\n",
       "    }\n",
       "</style>\n",
       "<table border=\"1\" class=\"dataframe\">\n",
       "  <thead>\n",
       "    <tr style=\"text-align: right;\">\n",
       "      <th></th>\n",
       "      <th>ALSO3.SA</th>\n",
       "      <th>ALUP11.SA</th>\n",
       "      <th>AURA33.SA</th>\n",
       "      <th>BABA34.SA</th>\n",
       "      <th>BOVA11.SA</th>\n",
       "      <th>BRML3.SA</th>\n",
       "      <th>BRPR3.SA</th>\n",
       "      <th>COGN3.SA</th>\n",
       "      <th>CSAN3.SA</th>\n",
       "      <th>CYRE3.SA</th>\n",
       "      <th>...</th>\n",
       "      <th>MXRF11.SA</th>\n",
       "      <th>OIBR3.SA</th>\n",
       "      <th>RAIZ4.SA</th>\n",
       "      <th>SULA11.SA</th>\n",
       "      <th>TAEE11.SA</th>\n",
       "      <th>TEND3.SA</th>\n",
       "      <th>TRIS3.SA</th>\n",
       "      <th>TRPL4.SA</th>\n",
       "      <th>VIVT3.SA</th>\n",
       "      <th>XPCI11.SA</th>\n",
       "    </tr>\n",
       "    <tr>\n",
       "      <th>Date</th>\n",
       "      <th></th>\n",
       "      <th></th>\n",
       "      <th></th>\n",
       "      <th></th>\n",
       "      <th></th>\n",
       "      <th></th>\n",
       "      <th></th>\n",
       "      <th></th>\n",
       "      <th></th>\n",
       "      <th></th>\n",
       "      <th></th>\n",
       "      <th></th>\n",
       "      <th></th>\n",
       "      <th></th>\n",
       "      <th></th>\n",
       "      <th></th>\n",
       "      <th></th>\n",
       "      <th></th>\n",
       "      <th></th>\n",
       "      <th></th>\n",
       "      <th></th>\n",
       "    </tr>\n",
       "  </thead>\n",
       "  <tbody>\n",
       "    <tr>\n",
       "      <th>2020-08-31</th>\n",
       "      <td>26.420000</td>\n",
       "      <td>23.430000</td>\n",
       "      <td>66.000000</td>\n",
       "      <td>56.404285</td>\n",
       "      <td>95.699997</td>\n",
       "      <td>9.28</td>\n",
       "      <td>9.16</td>\n",
       "      <td>5.70</td>\n",
       "      <td>20.812500</td>\n",
       "      <td>24.110001</td>\n",
       "      <td>...</td>\n",
       "      <td>10.67</td>\n",
       "      <td>1.70</td>\n",
       "      <td>NaN</td>\n",
       "      <td>40.401665</td>\n",
       "      <td>28.270000</td>\n",
       "      <td>30.690001</td>\n",
       "      <td>12.19</td>\n",
       "      <td>21.430000</td>\n",
       "      <td>48.500000</td>\n",
       "      <td>87.000000</td>\n",
       "    </tr>\n",
       "    <tr>\n",
       "      <th>2020-09-01</th>\n",
       "      <td>27.379999</td>\n",
       "      <td>23.680000</td>\n",
       "      <td>65.500000</td>\n",
       "      <td>57.197857</td>\n",
       "      <td>98.349998</td>\n",
       "      <td>9.67</td>\n",
       "      <td>9.44</td>\n",
       "      <td>5.95</td>\n",
       "      <td>20.422501</td>\n",
       "      <td>24.530001</td>\n",
       "      <td>...</td>\n",
       "      <td>10.52</td>\n",
       "      <td>1.78</td>\n",
       "      <td>NaN</td>\n",
       "      <td>40.901478</td>\n",
       "      <td>28.549999</td>\n",
       "      <td>31.110001</td>\n",
       "      <td>12.58</td>\n",
       "      <td>21.299999</td>\n",
       "      <td>49.180000</td>\n",
       "      <td>86.449997</td>\n",
       "    </tr>\n",
       "    <tr>\n",
       "      <th>2020-09-02</th>\n",
       "      <td>27.549999</td>\n",
       "      <td>23.900000</td>\n",
       "      <td>64.949997</td>\n",
       "      <td>56.591072</td>\n",
       "      <td>98.150002</td>\n",
       "      <td>9.56</td>\n",
       "      <td>9.35</td>\n",
       "      <td>5.93</td>\n",
       "      <td>19.777500</td>\n",
       "      <td>24.309999</td>\n",
       "      <td>...</td>\n",
       "      <td>10.56</td>\n",
       "      <td>1.86</td>\n",
       "      <td>NaN</td>\n",
       "      <td>40.882969</td>\n",
       "      <td>28.580000</td>\n",
       "      <td>30.809999</td>\n",
       "      <td>12.56</td>\n",
       "      <td>21.450001</td>\n",
       "      <td>48.599998</td>\n",
       "      <td>86.650002</td>\n",
       "    </tr>\n",
       "    <tr>\n",
       "      <th>2020-09-03</th>\n",
       "      <td>27.049999</td>\n",
       "      <td>23.809999</td>\n",
       "      <td>66.400002</td>\n",
       "      <td>53.166428</td>\n",
       "      <td>96.959999</td>\n",
       "      <td>9.34</td>\n",
       "      <td>9.25</td>\n",
       "      <td>5.80</td>\n",
       "      <td>19.174999</td>\n",
       "      <td>24.299999</td>\n",
       "      <td>...</td>\n",
       "      <td>10.59</td>\n",
       "      <td>1.82</td>\n",
       "      <td>NaN</td>\n",
       "      <td>40.633060</td>\n",
       "      <td>28.330000</td>\n",
       "      <td>30.629999</td>\n",
       "      <td>12.10</td>\n",
       "      <td>21.260000</td>\n",
       "      <td>48.849998</td>\n",
       "      <td>86.599998</td>\n",
       "    </tr>\n",
       "    <tr>\n",
       "      <th>2020-09-04</th>\n",
       "      <td>27.400000</td>\n",
       "      <td>23.840000</td>\n",
       "      <td>66.000000</td>\n",
       "      <td>54.313927</td>\n",
       "      <td>97.419998</td>\n",
       "      <td>9.45</td>\n",
       "      <td>9.31</td>\n",
       "      <td>6.01</td>\n",
       "      <td>19.217501</td>\n",
       "      <td>23.850000</td>\n",
       "      <td>...</td>\n",
       "      <td>10.55</td>\n",
       "      <td>1.84</td>\n",
       "      <td>NaN</td>\n",
       "      <td>40.799664</td>\n",
       "      <td>28.360001</td>\n",
       "      <td>30.549999</td>\n",
       "      <td>11.98</td>\n",
       "      <td>21.299999</td>\n",
       "      <td>48.980000</td>\n",
       "      <td>87.839996</td>\n",
       "    </tr>\n",
       "  </tbody>\n",
       "</table>\n",
       "<p>5 rows × 28 columns</p>\n",
       "</div>"
      ],
      "text/plain": [
       "             ALSO3.SA  ALUP11.SA  AURA33.SA  BABA34.SA  BOVA11.SA  BRML3.SA  \\\n",
       "Date                                                                          \n",
       "2020-08-31  26.420000  23.430000  66.000000  56.404285  95.699997      9.28   \n",
       "2020-09-01  27.379999  23.680000  65.500000  57.197857  98.349998      9.67   \n",
       "2020-09-02  27.549999  23.900000  64.949997  56.591072  98.150002      9.56   \n",
       "2020-09-03  27.049999  23.809999  66.400002  53.166428  96.959999      9.34   \n",
       "2020-09-04  27.400000  23.840000  66.000000  54.313927  97.419998      9.45   \n",
       "\n",
       "            BRPR3.SA  COGN3.SA   CSAN3.SA   CYRE3.SA  ...  MXRF11.SA  \\\n",
       "Date                                                  ...              \n",
       "2020-08-31      9.16      5.70  20.812500  24.110001  ...      10.67   \n",
       "2020-09-01      9.44      5.95  20.422501  24.530001  ...      10.52   \n",
       "2020-09-02      9.35      5.93  19.777500  24.309999  ...      10.56   \n",
       "2020-09-03      9.25      5.80  19.174999  24.299999  ...      10.59   \n",
       "2020-09-04      9.31      6.01  19.217501  23.850000  ...      10.55   \n",
       "\n",
       "            OIBR3.SA  RAIZ4.SA  SULA11.SA  TAEE11.SA   TEND3.SA  TRIS3.SA  \\\n",
       "Date                                                                        \n",
       "2020-08-31      1.70       NaN  40.401665  28.270000  30.690001     12.19   \n",
       "2020-09-01      1.78       NaN  40.901478  28.549999  31.110001     12.58   \n",
       "2020-09-02      1.86       NaN  40.882969  28.580000  30.809999     12.56   \n",
       "2020-09-03      1.82       NaN  40.633060  28.330000  30.629999     12.10   \n",
       "2020-09-04      1.84       NaN  40.799664  28.360001  30.549999     11.98   \n",
       "\n",
       "             TRPL4.SA   VIVT3.SA  XPCI11.SA  \n",
       "Date                                         \n",
       "2020-08-31  21.430000  48.500000  87.000000  \n",
       "2020-09-01  21.299999  49.180000  86.449997  \n",
       "2020-09-02  21.450001  48.599998  86.650002  \n",
       "2020-09-03  21.260000  48.849998  86.599998  \n",
       "2020-09-04  21.299999  48.980000  87.839996  \n",
       "\n",
       "[5 rows x 28 columns]"
      ]
     },
     "execution_count": 24,
     "metadata": {},
     "output_type": "execute_result"
    }
   ],
   "source": [
    "df_close = df['Close']\n",
    "df_close.head()"
   ]
  },
  {
   "cell_type": "code",
   "execution_count": 25,
   "metadata": {},
   "outputs": [
    {
     "data": {
      "text/plain": [
       "{'Selic': 7605.365255462518,\n",
       " 'Prefixado': 271.49614009511976,\n",
       " 'IPCA': 5.2457444321145195,\n",
       " 'HASH11.SA': 74.32406074367088,\n",
       " 'TGAR11.SA': 17.432172175786853,\n",
       " 'BIAU39.SA': 2.374279376623375,\n",
       " 'GOLD11.SA': 0.12897262139466956,\n",
       " 'XINA11.SA': 1.0428390993788819}"
      ]
     },
     "execution_count": 25,
     "metadata": {},
     "output_type": "execute_result"
    }
   ],
   "source": [
    "var_dict"
   ]
  },
  {
   "cell_type": "code",
   "execution_count": 26,
   "metadata": {},
   "outputs": [],
   "source": [
    "for column in df_close.columns:\n",
    "    var_dict[column] = df_close[column].var()"
   ]
  },
  {
   "cell_type": "markdown",
   "metadata": {},
   "source": [
    "E por fim temos os dois dicionários para formar a função objetivo de um tipo de carteira que foi solicitado pelo investidor. O mesmo nos explicou que gostaria de aplicar mais dinheiro em ações/fundos/rendas fixas menos voláteis e ao mesmo tempo, levar em consideração quanto cada investimento o retornou desde sua compra."
   ]
  },
  {
   "cell_type": "code",
   "execution_count": 429,
   "metadata": {},
   "outputs": [
    {
     "data": {
      "text/plain": [
       "{'Selic': 7605.365255462518,\n",
       " 'Prefixado': 271.49614009511976,\n",
       " 'IPCA': 5.2457444321145195,\n",
       " 'HASH11.SA': 74.32406074367088,\n",
       " 'TGAR11.SA': 17.432172175786853,\n",
       " 'BIAU39.SA': 2.374279376623375,\n",
       " 'GOLD11.SA': 0.12897262139466956,\n",
       " 'XINA11.SA': 1.0428390993788819,\n",
       " 'ALSO3.SA': 3.9658979769860867,\n",
       " 'ALUP11.SA': 1.811959262788676,\n",
       " 'AURA33.SA': 27.66136682898498,\n",
       " 'BABA34.SA': 58.83127466120978,\n",
       " 'BOVA11.SA': 92.53498059331379,\n",
       " 'BRML3.SA': 0.6192166397668846,\n",
       " 'BRPR3.SA': 0.3883566427269748,\n",
       " 'COGN3.SA': 0.4165205118408871,\n",
       " 'CSAN3.SA': 7.5272144863304815,\n",
       " 'CYRE3.SA': 6.948016561146679,\n",
       " 'DIRR3.SA': 0.827455434720906,\n",
       " 'EGIE3.SA': 4.280788372659317,\n",
       " 'FESA4.SA': 147.2172953930428,\n",
       " 'GGBR4.SA': 20.934697692487497,\n",
       " 'GOAU4.SA': 4.240244488661601,\n",
       " 'IVVB11.SA': 361.8433125003544,\n",
       " 'JHSF3.SA': 0.1648648114367724,\n",
       " 'KNRI11.SA': 100.10951340585281,\n",
       " 'MXRF11.SA': 0.04882043836322131,\n",
       " 'OIBR3.SA': 0.11275291934254295,\n",
       " 'RAIZ4.SA': 0.022311439873207144,\n",
       " 'SULA11.SA': 13.804538881208106,\n",
       " 'TAEE11.SA': 18.80211903029421,\n",
       " 'TEND3.SA': 7.771298856055579,\n",
       " 'TRIS3.SA': 1.5947486806992786,\n",
       " 'TRPL4.SA': 3.731284888911962,\n",
       " 'VIVT3.SA': 3.4978400398211793,\n",
       " 'XPCI11.SA': 21.528280791036735}"
      ]
     },
     "execution_count": 429,
     "metadata": {},
     "output_type": "execute_result"
    }
   ],
   "source": [
    "var_dict"
   ]
  },
  {
   "cell_type": "code",
   "execution_count": 430,
   "metadata": {},
   "outputs": [
    {
     "data": {
      "text/plain": [
       "{'IPCA': -7.18,\n",
       " 'Selic': 0,\n",
       " 'Prefixado': 0,\n",
       " 'KNRI11.SA': 0,\n",
       " 'XPCI11.SA': 0,\n",
       " 'XINA11.SA': -22.08,\n",
       " 'VIVT3.SA': -7.45,\n",
       " 'TRPL4.SA': -8.94,\n",
       " 'TRIS3.SA': -23.36,\n",
       " 'TGAR11.SA': 0.29,\n",
       " 'TEND3.SA': -19.57,\n",
       " 'TAEE11.SA': 24.53,\n",
       " 'SULA11.SA': -12.05,\n",
       " 'RAIZ4.SA': -3.51,\n",
       " 'OIBR3.SA': -38.0,\n",
       " 'MXRF11.SA': -0.8,\n",
       " 'JHSF3.SA': 7.34,\n",
       " 'IVVB11.SA': 9.53,\n",
       " 'HASH11.SA': -5.79,\n",
       " 'GOLD11.SA': -3.85,\n",
       " 'GOAU4.SA': 1.41,\n",
       " 'GGBR4.SA': 2.38,\n",
       " 'FESA4.SA': 16.51,\n",
       " 'EGIE3.SA': -7.68,\n",
       " 'DIRR3.SA': -6.52,\n",
       " 'CYRE3.SA': -17.04,\n",
       " 'CSAN3.SA': 4.83,\n",
       " 'COGN3.SA': -14.84,\n",
       " 'BRPR3.SA': -3.45,\n",
       " 'BRML3.SA': 22.01,\n",
       " 'BOVA11.SA': 4.7,\n",
       " 'BIAU39.SA': -1.77,\n",
       " 'BABA34.SA': -27.99,\n",
       " 'AURA33.SA': 14.35,\n",
       " 'ALUP11.SA': -5.53,\n",
       " 'ALSO3.SA': 8.66}"
      ]
     },
     "execution_count": 430,
     "metadata": {},
     "output_type": "execute_result"
    }
   ],
   "source": [
    "return_dict"
   ]
  },
  {
   "cell_type": "markdown",
   "metadata": {},
   "source": [
    "Com os dados de variância e retorno obtidos, podemos agora otimizar o portfólio."
   ]
  },
  {
   "cell_type": "code",
   "execution_count": 431,
   "metadata": {},
   "outputs": [],
   "source": [
    "fi = ['XPCI11.SA', 'KNRI11.SA', 'MXRF11.SA', 'TGAR11.SA']\n",
    "rf = ['IPCA', 'Selic', 'Prefixado']\n",
    "ghb = ['GOLD11.SA', 'HASH11.SA', 'BIAU39.SA']"
   ]
  },
  {
   "cell_type": "code",
   "execution_count": 432,
   "metadata": {},
   "outputs": [],
   "source": [
    "keys = list(return_dict.keys())\n",
    "r = [x for x in keys if x not in (fi + rf + ghb)]"
   ]
  },
  {
   "cell_type": "code",
   "execution_count": 468,
   "metadata": {},
   "outputs": [],
   "source": [
    "model = Model()\n",
    "x = model.continuous_var_dict(keys, name='invs')\n",
    "\n",
    "# for i in keys:\n",
    "#     print(x[i].solution_value)"
   ]
  },
  {
   "cell_type": "code",
   "execution_count": 473,
   "metadata": {},
   "outputs": [],
   "source": [
    "model.maximize(model.sum(x[i] * (return_dict[i] / var_dict[i]) for i in x.keys()))"
   ]
  },
  {
   "cell_type": "code",
   "execution_count": 470,
   "metadata": {},
   "outputs": [
    {
     "data": {
      "text/plain": [
       "docplex.mp.LinearConstraint[](invs_IPCA+invs_Selic+invs_Prefixado+invs_KNRI11.SA+invs_XPCI11.SA+invs_XINA11.SA+invs_VIVT3.SA+invs_TRPL4.SA+invs_TRIS3.SA+invs_TGAR11.SA+invs_TEND3.SA+invs_TAEE11.SA+invs_SULA11.SA+invs_RAIZ4.SA+invs_OIBR3.SA+invs_MXRF11.SA+invs_JHSF3.SA+invs_IVVB11.SA+invs_HASH11.SA+invs_GOLD11.SA+invs_GOAU4.SA+invs_GGBR4.SA+invs_FESA4.SA+invs_EGIE3.SA+invs_DIRR3.SA+invs_CYRE3.SA+invs_CSAN3.SA+invs_COGN3.SA+invs_BRPR3.SA+invs_BRML3.SA+invs_BOVA11.SA+invs_BIAU39.SA+invs_BABA34.SA+invs_AURA33.SA+invs_ALUP11.SA+invs_ALSO3.SA,EQ,1)"
      ]
     },
     "execution_count": 470,
     "metadata": {},
     "output_type": "execute_result"
    }
   ],
   "source": [
    "model.add_constraint(model.sum(x[i] for i in fi) == 0.15)\n",
    "model.add_constraint(model.sum(x[i] for i in rf) == 0.15)\n",
    "model.add_constraint(model.sum(x[i] for i in ghb) == 0.05)\n",
    "model.add_constraint(model.sum(x[i] for i in r) == 0.65)\n",
    "model.add_constraints(x[i] >= 0.01 for i in keys)\n",
    "model.add_constraints(x[i] <= 0.15 for i in keys)\n",
    "model.add_constraint(model.sum(x[i] for i in keys) == 1)"
   ]
  },
  {
   "cell_type": "code",
   "execution_count": 471,
   "metadata": {},
   "outputs": [
    {
     "name": "stdout",
     "output_type": "stream",
     "text": [
      "Version identifier: 20.1.0.0 | 2020-11-10 | 9bedb6d68\n",
      "CPXPARAM_Read_DataCheck                          1\n",
      "CPXPARAM_RandomSeed                              202001241\n",
      "Tried aggregator 1 time.\n",
      "LP Presolve eliminated 5 rows and 36 columns.\n",
      "All rows and columns eliminated.\n",
      "Presolve time = 0.00 sec. (0.01 ticks)\n"
     ]
    }
   ],
   "source": [
    "solution = model.solve(log_output=True)"
   ]
  },
  {
   "cell_type": "code",
   "execution_count": 472,
   "metadata": {},
   "outputs": [
    {
     "name": "stdout",
     "output_type": "stream",
     "text": [
      "objective: -561.305\n",
      "  invs_Prefixado=0.150\n",
      "  invs_MXRF11.SA=0.150\n",
      "  invs_HASH11.SA=0.050\n",
      "  invs_ALSO3.SA=0.650\n"
     ]
    }
   ],
   "source": [
    "model.print_solution()"
   ]
  },
  {
   "cell_type": "markdown",
   "metadata": {},
   "source": [
    "#### Abordagem de picos"
   ]
  },
  {
   "cell_type": "code",
   "execution_count": 330,
   "metadata": {},
   "outputs": [
    {
     "data": {
      "text/plain": [
       "array([  0,  20,  43,  96, 118, 168, 206, 235], dtype=int64)"
      ]
     },
     "execution_count": 330,
     "metadata": {},
     "output_type": "execute_result"
    }
   ],
   "source": [
    "df_max = pd.DataFrame(df_close['BRPR3.SA'])\n",
    "df_max.reset_index(drop=True, inplace=True)\n",
    "n = 10\n",
    "df_max['min'] = df_max.iloc[argrelextrema(df_max['BRPR3.SA'].values, np.less_equal,\n",
    "                    order=n)[0]]['BRPR3.SA']\n",
    "df_max['max'] = df_max.iloc[argrelextrema(df_max['BRPR3.SA'].values, np.greater_equal,\n",
    "                    order=n)[0]]['BRPR3.SA']\n",
    "\n",
    "a = argrelextrema(df_close['BRPR3.SA'].values, np.less_equal, order=n)[0]\n",
    "a"
   ]
  },
  {
   "cell_type": "code",
   "execution_count": 322,
   "metadata": {},
   "outputs": [
    {
     "data": {
      "image/png": "[encoded data removed]",
      "text/plain": [
       "<Figure size 432x288 with 1 Axes>"
      ]
     },
     "metadata": {
      "needs_background": "light"
     },
     "output_type": "display_data"
    }
   ],
   "source": [
    "plt.scatter(df_max.index, df_max['min'], c='r')\n",
    "plt.scatter(df_max.index, df_max['max'], c='g')\n",
    "plt.plot(df_max.index, df_max['BRPR3.SA'])\n",
    "plt.show()"
   ]
  },
  {
   "cell_type": "code",
   "execution_count": 323,
   "metadata": {},
   "outputs": [
    {
     "data": {
      "text/plain": [
       "11      9.89\n",
       "35      9.60\n",
       "73     10.85\n",
       "106     9.24\n",
       "128     8.90\n",
       "162     9.36\n",
       "188     9.93\n",
       "210     9.24\n",
       "211     9.24\n",
       "240     8.55\n",
       "Name: max, dtype: float64"
      ]
     },
     "execution_count": 323,
     "metadata": {},
     "output_type": "execute_result"
    }
   ],
   "source": [
    "df_max['max'].dropna()"
   ]
  },
  {
   "cell_type": "code",
   "execution_count": 367,
   "metadata": {},
   "outputs": [],
   "source": [
    "picos = {}\n",
    "mins = {}\n",
    "maxs = {}\n",
    "\n",
    "for column in list(df_close.columns):\n",
    "    mins[column] = (len(argrelextrema(df_close[column].values, np.less_equal, order=n)[0]))\n",
    "    maxs[column] = (len(argrelextrema(df_close[column].values, np.greater_equal, order=n)[0]))"
   ]
  },
  {
   "cell_type": "code",
   "execution_count": 368,
   "metadata": {},
   "outputs": [],
   "source": [
    "df_list = [(selic, 'Selic'), (prefixado, 'Prefixado'), (ipca, 'IPCA'), (hash11, 'HASH11.SA'), (tgar11, 'TGAR11.SA'),\n",
    "           (biau39, 'BIAU39.SA'), (gold11, 'GOLD11.SA'), (xina11, 'XINA11.SA')]\n",
    "\n",
    "for df in df_list:\n",
    "#     key = f'{df=}'.split('=')[0]\n",
    "    mins[df[1]] = (len(argrelextrema(df[0]['Último'].values, np.less_equal, order=n)[0]))\n",
    "    maxs[df[1]] = (len(argrelextrema(df[0]['Último'].values, np.greater_equal, order=n)[0]))"
   ]
  },
  {
   "cell_type": "code",
   "execution_count": 376,
   "metadata": {},
   "outputs": [],
   "source": [
    "keys = mins\n",
    "alpha = np.nextafter(np.float32(0), np.float32(1))\n",
    "model = Model()\n",
    "x = model.continuous_var_dict(keys, name='invs')\n",
    "model.maximize(model.sum(x[i] * maxs[i] / (mins[i] + alpha) for i in keys))"
   ]
  },
  {
   "cell_type": "code",
   "execution_count": 377,
   "metadata": {},
   "outputs": [
    {
     "data": {
      "text/plain": [
       "docplex.mp.LinearConstraint[](invs_ALSO3.SA+invs_ALUP11.SA+invs_AURA33.SA+invs_BABA34.SA+invs_BOVA11.SA+invs_BRML3.SA+invs_BRPR3.SA+invs_COGN3.SA+invs_CSAN3.SA+invs_CYRE3.SA+invs_DIRR3.SA+invs_EGIE3.SA+invs_FESA4.SA+invs_GGBR4.SA+invs_GOAU4.SA+invs_IVVB11.SA+invs_JHSF3.SA+invs_KNRI11.SA+invs_MXRF11.SA+invs_OIBR3.SA+invs_RAIZ4.SA+invs_SULA11.SA+invs_TAEE11.SA+invs_TEND3.SA+invs_TRIS3.SA+invs_TRPL4.SA+invs_VIVT3.SA+invs_XPCI11.SA+invs_Selic+invs_Prefixado+invs_IPCA+invs_HASH11.SA+invs_TGAR11.SA+invs_BIAU39.SA+invs_GOLD11.SA+invs_XINA11.SA,EQ,1)"
      ]
     },
     "execution_count": 377,
     "metadata": {},
     "output_type": "execute_result"
    }
   ],
   "source": [
    "model.add_constraint(model.sum(x[i] for i in fi) == 0.15)\n",
    "model.add_constraint(model.sum(x[i] for i in rf) == 0.15)\n",
    "model.add_constraint(model.sum(x[i] for i in ghb) == 0.05)\n",
    "model.add_constraint(model.sum(x[i] for i in r) == 0.65)\n",
    "model.add_constraints(x[i] >= 0.01 for i in keys)\n",
    "model.add_constraints(x[i] <= 0.15 for i in keys)\n",
    "model.add_constraint(model.sum(x[i] for i in keys) == 1)"
   ]
  },
  {
   "cell_type": "code",
   "execution_count": 378,
   "metadata": {},
   "outputs": [
    {
     "name": "stdout",
     "output_type": "stream",
     "text": [
      "Version identifier: 20.1.0.0 | 2020-11-10 | 9bedb6d68\n",
      "CPXPARAM_Read_DataCheck                          1\n",
      "CPXPARAM_RandomSeed                              202001241\n",
      "Tried aggregator 1 time.\n",
      "LP Presolve eliminated 76 rows and 31 columns.\n",
      "Reduced LP has 1 rows, 5 columns, and 5 nonzeros.\n",
      "Presolve time = 0.00 sec. (0.04 ticks)\n",
      "Initializing dual steep norms . . .\n",
      "\n",
      "Iteration log . . .\n",
      "Iteration:     1   Dual objective     = 107043576952946987117963321995495255551508480.000000\n"
     ]
    }
   ],
   "source": [
    "solution = model.solve(log_output=True)"
   ]
  },
  {
   "cell_type": "code",
   "execution_count": 379,
   "metadata": {},
   "outputs": [
    {
     "name": "stdout",
     "output_type": "stream",
     "text": [
      "objective: 107043576952946987117963321995495255551508480.000\n",
      "  invs_ALSO3.SA=0.010\n",
      "  invs_ALUP11.SA=0.010\n",
      "  invs_AURA33.SA=0.010\n",
      "  invs_BABA34.SA=0.010\n",
      "  invs_BOVA11.SA=0.010\n",
      "  invs_BRML3.SA=0.010\n",
      "  invs_BRPR3.SA=0.010\n",
      "  invs_COGN3.SA=0.010\n",
      "  invs_CSAN3.SA=0.010\n",
      "  invs_CYRE3.SA=0.150\n",
      "  invs_DIRR3.SA=0.010\n",
      "  invs_EGIE3.SA=0.010\n",
      "  invs_FESA4.SA=0.010\n",
      "  invs_GGBR4.SA=0.010\n",
      "  invs_GOAU4.SA=0.010\n",
      "  invs_IVVB11.SA=0.010\n",
      "  invs_JHSF3.SA=0.010\n",
      "  invs_KNRI11.SA=0.010\n",
      "  invs_MXRF11.SA=0.010\n",
      "  invs_OIBR3.SA=0.010\n",
      "  invs_RAIZ4.SA=0.150\n",
      "  invs_SULA11.SA=0.010\n",
      "  invs_TAEE11.SA=0.010\n",
      "  invs_TEND3.SA=0.010\n",
      "  invs_TRIS3.SA=0.010\n",
      "  invs_TRPL4.SA=0.010\n",
      "  invs_VIVT3.SA=0.010\n",
      "  invs_XPCI11.SA=0.120\n",
      "  invs_Selic=0.010\n",
      "  invs_Prefixado=0.130\n",
      "  invs_IPCA=0.010\n",
      "  invs_HASH11.SA=0.010\n",
      "  invs_TGAR11.SA=0.010\n",
      "  invs_BIAU39.SA=0.010\n",
      "  invs_GOLD11.SA=0.030\n",
      "  invs_XINA11.SA=0.120\n"
     ]
    }
   ],
   "source": [
    "model.print_solution()"
   ]
  },
  {
   "cell_type": "code",
   "execution_count": 353,
   "metadata": {},
   "outputs": [
    {
     "data": {
      "text/plain": [
       "'selic'"
      ]
     },
     "execution_count": 353,
     "metadata": {},
     "output_type": "execute_result"
    }
   ],
   "source": [
    "f'{selic=}'.split('=')[0]"
   ]
  },
  {
   "cell_type": "code",
   "execution_count": null,
   "metadata": {},
   "outputs": [],
   "source": []
  }
 ],
 "metadata": {
  "kernelspec": {
   "display_name": "Python 3",
   "language": "python",
   "name": "python3"
  },
  "language_info": {
   "codemirror_mode": {
    "name": "ipython",
    "version": 3
   },
   "file_extension": ".py",
   "mimetype": "text/x-python",
   "name": "python",
   "nbconvert_exporter": "python",
   "pygments_lexer": "ipython3",
   "version": "3.8.5"
  }
 },
 "nbformat": 4,
 "nbformat_minor": 4
}
