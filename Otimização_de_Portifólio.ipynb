{
 "cells": [
  {
   "cell_type": "markdown",
   "metadata": {},
   "source": [
    "* __DCC163-2021.1-A - UFJF__\n",
    "* __Alexandre Vieira Pereira Pacelli - 201865502B__\n",
    "* __Davi Magalhães Pereira - 201865558C__"
   ]
  },
  {
   "cell_type": "markdown",
   "metadata": {},
   "source": [
    "# Otimização de portfólio de investimentos"
   ]
  },
  {
   "cell_type": "code",
   "execution_count": 263,
   "metadata": {},
   "outputs": [],
   "source": [
    "import pandas as pd\n",
    "import numpy as np\n",
    "import yfinance as yf\n",
    "from docplex.mp.model import Model\n",
    "import matplotlib.pyplot as plt\n",
    "from scipy.signal import argrelextrema\n",
    "from re import sub\n",
    "from decimal import Decimal\n",
    "import sys\n",
    "import docplex"
   ]
  },
  {
   "cell_type": "markdown",
   "metadata": {},
   "source": [
    "## 1. Modelagem"
   ]
  },
  {
   "cell_type": "markdown",
   "metadata": {},
   "source": [
    "### 1.1. Variáveis"
   ]
  },
  {
   "cell_type": "markdown",
   "metadata": {},
   "source": [
    "Como variáveis do modelo temos todos os ativos pertencentes à carteira de investimentos do investidor.\n",
    "\n",
    "Sendo x[i], para todo e qualquer ativo, a porcentagem a ser investida no mesmo de acordo com a resposta do modelo (seguindo restrições e funcão objetivo)"
   ]
  },
  {
   "cell_type": "markdown",
   "metadata": {},
   "source": [
    "### 1.2. Restrições"
   ]
  },
  {
   "cell_type": "markdown",
   "metadata": {},
   "source": [
    "Restrições Solicitadas pelo Investidor:\n",
    "\n",
    "* Ativos RENDA FIXA == 15% do total investido\n",
    "* Ativos FUNDOS IMOBILIÁRIOS == 15% do total investido\n",
    "* Ativos GOLD11, HASH11, BIAU39 == 5% do total investido\n",
    "* Ativos DEMAIS AÇÕES == 65% do total investido\n",
    "* TODOS os ATIVOS devem possuir um investimento >= 1% do total investido\n",
    "* TODOS os ATIVOS devem possuir um investimento <= 15% do total investido\n",
    "* Soma de todos os investimentos == 100%\n",
    "\n",
    "\n",
    "Restrições Gerais presentes em todos os modelos testados para o trabalho:\n",
    "\n",
    "* TODOS os ATIVOS devem possuir um investimento >= 0.5% do total investido\n",
    "* TODOS os ATIVOS devem possuir um investimento <= 15% do total investido\n",
    "* Soma de todos os investimentos == 100%\n",
    "* O RETORNO TOTAL do investimento >= 8% _OU_ A VARIÃNCIA TOTAL do investimento <= 60%\n"
   ]
  },
  {
   "cell_type": "markdown",
   "metadata": {},
   "source": [
    "### 1.3. Função objetivo"
   ]
  },
  {
   "cell_type": "markdown",
   "metadata": {},
   "source": [
    "Como Função Objetivo, o investidor despertou interesse em descobrir os ativos de MAIOR RETORNO e de MENOR VARIÂNCIA em sua carteira de investimentos.\n",
    "\n",
    "Portanto, elaboramos as seguintes Funções Objetivo para os dois interesses acima, onde:\n",
    "* 'i' = Cada Ativo da carteira de investimentos\n",
    "* 'r' = Retorno em % de cada ativo desde sua compra\n",
    "* 'v' = Variância de cada ativo desde sua compra\n",
    "\n",
    "\\begin{equation}\n",
    "z_{min} =\\sum_{i=1}^{n} \\mbox{v}_i\n",
    "\\end{equation}\n",
    "\n",
    "\\begin{equation}\n",
    "z_{max} =\\sum_{i=1}^{n} \\mbox{r}_i\n",
    "\\end{equation}"
   ]
  },
  {
   "cell_type": "markdown",
   "metadata": {},
   "source": [
    "## 2. Implementação"
   ]
  },
  {
   "cell_type": "markdown",
   "metadata": {},
   "source": [
    "### 2.1 Coleta de Dados"
   ]
  },
  {
   "cell_type": "markdown",
   "metadata": {
    "tags": []
   },
   "source": [
    "Realizamos alguns testes com a API de dados do Yahoo e percebemos que algumas ações e rendas fixas possuíam dados faltantes ou inexistentes, então baixamos essas e coletamos os dados manualmente."
   ]
  },
  {
   "cell_type": "code",
   "execution_count": 2,
   "metadata": {},
   "outputs": [],
   "source": [
    "variables = ['XPCI11.SA KNRI11.SA XINA11 VIVT3 TRPL4 TRIS3 TGAR11 TEND3 TAEE11 SULA11 RAIZ4 OIBR3 MXRF11 JHSF3 IVVB11 HASH11 GOLD11 GOAU4 GGBR4 FESA4 EGIE3 DIRR3 CYRE3 CSAN3 COGN3 BRPR3 BRML3 BOVA11 BIAU39 BABA34 AURA33 ALUP11 ALSO3']\n",
    "\n",
    "# par = ['-22.08 -7.45 -8.94 -23.36 +0.29 -19.57 +24.53 -12.05 -3.51 -38.0 -0.8 +7.34 +9.53 -5.79 -3.85 +1.41 +2.38 +16.51 -7.68 -6.52 -17.04 +4.83 -14.84 -3.45 +22.01 +4.70 -1.77 -27.99 +14.35 -5.53 +8.66']"
   ]
  },
  {
   "cell_type": "code",
   "execution_count": 3,
   "metadata": {},
   "outputs": [
    {
     "data": {
      "text/plain": [
       "{'IPCA': -7.18,\n",
       " 'Selic': 0,\n",
       " 'Prefixado': 0,\n",
       " 'KNRI11.SA': 0,\n",
       " 'XPCI11.SA': 0,\n",
       " 'XINA11.SA': -22.08,\n",
       " 'VIVT3.SA': -7.45,\n",
       " 'TRPL4.SA': -8.94,\n",
       " 'TRIS3.SA': -23.36,\n",
       " 'TGAR11.SA': 0.29,\n",
       " 'TEND3.SA': -19.57,\n",
       " 'TAEE11.SA': 24.53,\n",
       " 'SULA11.SA': -12.05,\n",
       " 'RAIZ4.SA': -3.51,\n",
       " 'OIBR3.SA': -38.0,\n",
       " 'MXRF11.SA': -0.8,\n",
       " 'JHSF3.SA': 7.34,\n",
       " 'IVVB11.SA': 9.53,\n",
       " 'HASH11.SA': -5.79,\n",
       " 'GOLD11.SA': -3.85,\n",
       " 'GOAU4.SA': 1.41,\n",
       " 'GGBR4.SA': 2.38,\n",
       " 'FESA4.SA': 16.51,\n",
       " 'EGIE3.SA': -7.68,\n",
       " 'DIRR3.SA': -6.52,\n",
       " 'CYRE3.SA': -17.04,\n",
       " 'CSAN3.SA': 4.83,\n",
       " 'COGN3.SA': -14.84,\n",
       " 'BRPR3.SA': -3.45,\n",
       " 'BRML3.SA': 22.01,\n",
       " 'BOVA11.SA': 4.7,\n",
       " 'BIAU39.SA': -1.77,\n",
       " 'BABA34.SA': -27.99,\n",
       " 'AURA33.SA': 14.35,\n",
       " 'ALUP11.SA': -5.53,\n",
       " 'ALSO3.SA': 8.66}"
      ]
     },
     "execution_count": 3,
     "metadata": {},
     "output_type": "execute_result"
    }
   ],
   "source": [
    "return_dict = {'IPCA': -7.18, 'Selic': 0, 'Prefixado': 0, 'KNRI11.SA': 0, 'XPCI11.SA': 0, 'XINA11.SA': -22.08, 'VIVT3.SA': -7.45, 'TRPL4.SA': -8.94, 'TRIS3.SA': -23.36, 'TGAR11.SA': 0.29, 'TEND3.SA': -19.57, 'TAEE11.SA': 24.53, 'SULA11.SA': -12.05, 'RAIZ4.SA': -3.51, 'OIBR3.SA': -38.0, 'MXRF11.SA': -0.8, 'JHSF3.SA': 7.34, 'IVVB11.SA': 9.53, 'HASH11.SA': -5.79, 'GOLD11.SA': -3.85, 'GOAU4.SA': 1.41, 'GGBR4.SA': 2.38, 'FESA4.SA': 16.51, 'EGIE3.SA': -7.68, 'DIRR3.SA': -6.52, 'CYRE3.SA': -17.04, 'CSAN3.SA': 4.83, 'COGN3.SA': -14.84, 'BRPR3.SA': -3.45, 'BRML3.SA': 22.01, 'BOVA11.SA': 4.70, 'BIAU39.SA': -1.77, 'BABA34.SA': -27.99, 'AURA33.SA': 14.35, 'ALUP11.SA': -5.53, 'ALSO3.SA':8.66}\n",
    "return_dict"
   ]
  },
  {
   "cell_type": "code",
   "execution_count": 4,
   "metadata": {},
   "outputs": [
    {
     "data": {
      "text/html": [
       "<div>\n",
       "<style scoped>\n",
       "    .dataframe tbody tr th:only-of-type {\n",
       "        vertical-align: middle;\n",
       "    }\n",
       "\n",
       "    .dataframe tbody tr th {\n",
       "        vertical-align: top;\n",
       "    }\n",
       "\n",
       "    .dataframe thead th {\n",
       "        text-align: right;\n",
       "    }\n",
       "</style>\n",
       "<table border=\"1\" class=\"dataframe\">\n",
       "  <thead>\n",
       "    <tr style=\"text-align: right;\">\n",
       "      <th></th>\n",
       "      <th>Último</th>\n",
       "    </tr>\n",
       "  </thead>\n",
       "  <tbody>\n",
       "    <tr>\n",
       "      <th>0</th>\n",
       "      <td>10.785,177</td>\n",
       "    </tr>\n",
       "    <tr>\n",
       "      <th>1</th>\n",
       "      <td>10.783,554</td>\n",
       "    </tr>\n",
       "    <tr>\n",
       "      <th>2</th>\n",
       "      <td>10.781,931</td>\n",
       "    </tr>\n",
       "    <tr>\n",
       "      <th>3</th>\n",
       "      <td>10.782,094</td>\n",
       "    </tr>\n",
       "    <tr>\n",
       "      <th>4</th>\n",
       "      <td>10.780,843</td>\n",
       "    </tr>\n",
       "  </tbody>\n",
       "</table>\n",
       "</div>"
      ],
      "text/plain": [
       "       Último\n",
       "0  10.785,177\n",
       "1  10.783,554\n",
       "2  10.781,931\n",
       "3  10.782,094\n",
       "4  10.780,843"
      ]
     },
     "execution_count": 4,
     "metadata": {},
     "output_type": "execute_result"
    }
   ],
   "source": [
    "selic = pd.read_csv('data/Selic2027.csv')\n",
    "selic.drop(['Data', 'Var%', 'Abertura', 'Máxima', 'Mínima'], axis=1, inplace=True)\n",
    "selic.head()"
   ]
  },
  {
   "cell_type": "code",
   "execution_count": 5,
   "metadata": {},
   "outputs": [
    {
     "data": {
      "text/html": [
       "<div>\n",
       "<style scoped>\n",
       "    .dataframe tbody tr th:only-of-type {\n",
       "        vertical-align: middle;\n",
       "    }\n",
       "\n",
       "    .dataframe tbody tr th {\n",
       "        vertical-align: top;\n",
       "    }\n",
       "\n",
       "    .dataframe thead th {\n",
       "        text-align: right;\n",
       "    }\n",
       "</style>\n",
       "<table border=\"1\" class=\"dataframe\">\n",
       "  <thead>\n",
       "    <tr style=\"text-align: right;\">\n",
       "      <th></th>\n",
       "      <th>Último</th>\n",
       "    </tr>\n",
       "  </thead>\n",
       "  <tbody>\n",
       "    <tr>\n",
       "      <th>0</th>\n",
       "      <td>10785.177</td>\n",
       "    </tr>\n",
       "    <tr>\n",
       "      <th>1</th>\n",
       "      <td>10783.554</td>\n",
       "    </tr>\n",
       "    <tr>\n",
       "      <th>2</th>\n",
       "      <td>10781.931</td>\n",
       "    </tr>\n",
       "    <tr>\n",
       "      <th>3</th>\n",
       "      <td>10782.094</td>\n",
       "    </tr>\n",
       "    <tr>\n",
       "      <th>4</th>\n",
       "      <td>10780.843</td>\n",
       "    </tr>\n",
       "  </tbody>\n",
       "</table>\n",
       "</div>"
      ],
      "text/plain": [
       "      Último\n",
       "0  10785.177\n",
       "1  10783.554\n",
       "2  10781.931\n",
       "3  10782.094\n",
       "4  10780.843"
      ]
     },
     "execution_count": 5,
     "metadata": {},
     "output_type": "execute_result"
    }
   ],
   "source": [
    "selic['Último'] = selic['Último'].apply(lambda x: x.replace(\".\", \"\").replace(\",\",\".\")).astype(float)\n",
    "selic.head()"
   ]
  },
  {
   "cell_type": "code",
   "execution_count": 6,
   "metadata": {},
   "outputs": [
    {
     "data": {
      "text/plain": [
       "{'Selic': 7605.365255462518}"
      ]
     },
     "execution_count": 6,
     "metadata": {},
     "output_type": "execute_result"
    }
   ],
   "source": [
    "var_dict = {'Selic': selic['Último'].var()}\n",
    "var_dict"
   ]
  },
  {
   "cell_type": "code",
   "execution_count": 7,
   "metadata": {},
   "outputs": [
    {
     "data": {
      "text/html": [
       "<div>\n",
       "<style scoped>\n",
       "    .dataframe tbody tr th:only-of-type {\n",
       "        vertical-align: middle;\n",
       "    }\n",
       "\n",
       "    .dataframe tbody tr th {\n",
       "        vertical-align: top;\n",
       "    }\n",
       "\n",
       "    .dataframe thead th {\n",
       "        text-align: right;\n",
       "    }\n",
       "</style>\n",
       "<table border=\"1\" class=\"dataframe\">\n",
       "  <thead>\n",
       "    <tr style=\"text-align: right;\">\n",
       "      <th></th>\n",
       "      <th>Último</th>\n",
       "    </tr>\n",
       "  </thead>\n",
       "  <tbody>\n",
       "    <tr>\n",
       "      <th>0</th>\n",
       "      <td>656.53</td>\n",
       "    </tr>\n",
       "    <tr>\n",
       "      <th>1</th>\n",
       "      <td>660.99</td>\n",
       "    </tr>\n",
       "    <tr>\n",
       "      <th>2</th>\n",
       "      <td>666.85</td>\n",
       "    </tr>\n",
       "    <tr>\n",
       "      <th>3</th>\n",
       "      <td>671.42</td>\n",
       "    </tr>\n",
       "    <tr>\n",
       "      <th>4</th>\n",
       "      <td>668.50</td>\n",
       "    </tr>\n",
       "  </tbody>\n",
       "</table>\n",
       "</div>"
      ],
      "text/plain": [
       "   Último\n",
       "0  656.53\n",
       "1  660.99\n",
       "2  666.85\n",
       "3  671.42\n",
       "4  668.50"
      ]
     },
     "execution_count": 7,
     "metadata": {},
     "output_type": "execute_result"
    }
   ],
   "source": [
    "prefixado = pd.read_csv('data/Prefixado2026.csv')\n",
    "prefixado.drop(['Data', 'Var%', 'Abertura', 'Máxima', 'Mínima'], axis=1, inplace=True)\n",
    "prefixado['Último'] = prefixado['Último'].apply(lambda x: x.replace(\".\", \"\").replace(\",\",\".\")).astype(float)\n",
    "prefixado.head()"
   ]
  },
  {
   "cell_type": "code",
   "execution_count": 8,
   "metadata": {},
   "outputs": [
    {
     "data": {
      "text/plain": [
       "{'Selic': 7605.365255462518, 'Prefixado': 271.49614009511976}"
      ]
     },
     "execution_count": 8,
     "metadata": {},
     "output_type": "execute_result"
    }
   ],
   "source": [
    "var_dict['Prefixado'] = prefixado['Último'].var()\n",
    "var_dict"
   ]
  },
  {
   "cell_type": "code",
   "execution_count": 9,
   "metadata": {},
   "outputs": [
    {
     "data": {
      "text/html": [
       "<div>\n",
       "<style scoped>\n",
       "    .dataframe tbody tr th:only-of-type {\n",
       "        vertical-align: middle;\n",
       "    }\n",
       "\n",
       "    .dataframe tbody tr th {\n",
       "        vertical-align: top;\n",
       "    }\n",
       "\n",
       "    .dataframe thead th {\n",
       "        text-align: right;\n",
       "    }\n",
       "</style>\n",
       "<table border=\"1\" class=\"dataframe\">\n",
       "  <thead>\n",
       "    <tr style=\"text-align: right;\">\n",
       "      <th></th>\n",
       "      <th>Último</th>\n",
       "    </tr>\n",
       "  </thead>\n",
       "  <tbody>\n",
       "    <tr>\n",
       "      <th>0</th>\n",
       "      <td>103.65</td>\n",
       "    </tr>\n",
       "    <tr>\n",
       "      <th>1</th>\n",
       "      <td>103.25</td>\n",
       "    </tr>\n",
       "    <tr>\n",
       "      <th>2</th>\n",
       "      <td>103.65</td>\n",
       "    </tr>\n",
       "    <tr>\n",
       "      <th>3</th>\n",
       "      <td>104.30</td>\n",
       "    </tr>\n",
       "    <tr>\n",
       "      <th>4</th>\n",
       "      <td>104.35</td>\n",
       "    </tr>\n",
       "  </tbody>\n",
       "</table>\n",
       "</div>"
      ],
      "text/plain": [
       "   Último\n",
       "0  103.65\n",
       "1  103.25\n",
       "2  103.65\n",
       "3  104.30\n",
       "4  104.35"
      ]
     },
     "execution_count": 9,
     "metadata": {},
     "output_type": "execute_result"
    }
   ],
   "source": [
    "ipca = pd.read_csv('data/IMBB11.csv', sep='\\t')\n",
    "ipca.drop(['Data', 'Variação', 'Abertura', 'Máxima', 'Mínima', 'Variação (%)', 'Volume'], axis=1, inplace=True)\n",
    "ipca['Fechamento'] = ipca['Fechamento'].apply(lambda x: x.replace(\".\", \"\").replace(\",\",\".\")).astype(float)\n",
    "ipca.rename(columns = {'Fechamento': 'Último'},inplace=True)\n",
    "ipca.head()"
   ]
  },
  {
   "cell_type": "code",
   "execution_count": 10,
   "metadata": {},
   "outputs": [
    {
     "data": {
      "text/plain": [
       "{'Selic': 7605.365255462518,\n",
       " 'Prefixado': 271.49614009511976,\n",
       " 'IPCA': 5.2457444321145195}"
      ]
     },
     "execution_count": 10,
     "metadata": {},
     "output_type": "execute_result"
    }
   ],
   "source": [
    "var_dict['IPCA'] = ipca['Último'].var()\n",
    "var_dict"
   ]
  },
  {
   "cell_type": "code",
   "execution_count": 11,
   "metadata": {},
   "outputs": [
    {
     "data": {
      "text/html": [
       "<div>\n",
       "<style scoped>\n",
       "    .dataframe tbody tr th:only-of-type {\n",
       "        vertical-align: middle;\n",
       "    }\n",
       "\n",
       "    .dataframe tbody tr th {\n",
       "        vertical-align: top;\n",
       "    }\n",
       "\n",
       "    .dataframe thead th {\n",
       "        text-align: right;\n",
       "    }\n",
       "</style>\n",
       "<table border=\"1\" class=\"dataframe\">\n",
       "  <thead>\n",
       "    <tr style=\"text-align: right;\">\n",
       "      <th></th>\n",
       "      <th>Último</th>\n",
       "    </tr>\n",
       "  </thead>\n",
       "  <tbody>\n",
       "    <tr>\n",
       "      <th>0</th>\n",
       "      <td>43.06</td>\n",
       "    </tr>\n",
       "    <tr>\n",
       "      <th>1</th>\n",
       "      <td>43.15</td>\n",
       "    </tr>\n",
       "    <tr>\n",
       "      <th>2</th>\n",
       "      <td>44.30</td>\n",
       "    </tr>\n",
       "    <tr>\n",
       "      <th>3</th>\n",
       "      <td>45.00</td>\n",
       "    </tr>\n",
       "    <tr>\n",
       "      <th>4</th>\n",
       "      <td>42.72</td>\n",
       "    </tr>\n",
       "  </tbody>\n",
       "</table>\n",
       "</div>"
      ],
      "text/plain": [
       "   Último\n",
       "0   43.06\n",
       "1   43.15\n",
       "2   44.30\n",
       "3   45.00\n",
       "4   42.72"
      ]
     },
     "execution_count": 11,
     "metadata": {},
     "output_type": "execute_result"
    }
   ],
   "source": [
    "hash11 = pd.read_csv('data/HASH11.csv')\n",
    "hash11.drop(['Data', 'Var%', 'Abertura', 'Máxima', 'Mínima', 'Vol.'], axis=1, inplace=True)\n",
    "hash11['Último'] = hash11['Último'].apply(lambda x: x.replace(\".\", \"\").replace(\",\",\".\")).astype(float)\n",
    "hash11.head()"
   ]
  },
  {
   "cell_type": "code",
   "execution_count": 12,
   "metadata": {},
   "outputs": [
    {
     "data": {
      "text/plain": [
       "{'Selic': 7605.365255462518,\n",
       " 'Prefixado': 271.49614009511976,\n",
       " 'IPCA': 5.2457444321145195,\n",
       " 'HASH11.SA': 74.32406074367088}"
      ]
     },
     "execution_count": 12,
     "metadata": {},
     "output_type": "execute_result"
    }
   ],
   "source": [
    "var_dict['HASH11.SA'] = hash11['Último'].var()\n",
    "var_dict"
   ]
  },
  {
   "cell_type": "code",
   "execution_count": 13,
   "metadata": {},
   "outputs": [
    {
     "data": {
      "text/html": [
       "<div>\n",
       "<style scoped>\n",
       "    .dataframe tbody tr th:only-of-type {\n",
       "        vertical-align: middle;\n",
       "    }\n",
       "\n",
       "    .dataframe tbody tr th {\n",
       "        vertical-align: top;\n",
       "    }\n",
       "\n",
       "    .dataframe thead th {\n",
       "        text-align: right;\n",
       "    }\n",
       "</style>\n",
       "<table border=\"1\" class=\"dataframe\">\n",
       "  <thead>\n",
       "    <tr style=\"text-align: right;\">\n",
       "      <th></th>\n",
       "      <th>Último</th>\n",
       "    </tr>\n",
       "  </thead>\n",
       "  <tbody>\n",
       "    <tr>\n",
       "      <th>0</th>\n",
       "      <td>123.04</td>\n",
       "    </tr>\n",
       "    <tr>\n",
       "      <th>1</th>\n",
       "      <td>122.79</td>\n",
       "    </tr>\n",
       "    <tr>\n",
       "      <th>2</th>\n",
       "      <td>124.12</td>\n",
       "    </tr>\n",
       "    <tr>\n",
       "      <th>3</th>\n",
       "      <td>125.00</td>\n",
       "    </tr>\n",
       "    <tr>\n",
       "      <th>4</th>\n",
       "      <td>124.00</td>\n",
       "    </tr>\n",
       "  </tbody>\n",
       "</table>\n",
       "</div>"
      ],
      "text/plain": [
       "   Último\n",
       "0  123.04\n",
       "1  122.79\n",
       "2  124.12\n",
       "3  125.00\n",
       "4  124.00"
      ]
     },
     "execution_count": 13,
     "metadata": {},
     "output_type": "execute_result"
    }
   ],
   "source": [
    "tgar11 = pd.read_csv('data/TGAR11.csv')\n",
    "tgar11.drop(['Data', 'Var%', 'Abertura', 'Máxima', 'Mínima', 'Vol.'], axis=1, inplace=True)\n",
    "tgar11['Último'] = tgar11['Último'].apply(lambda x: x.replace(\".\", \"\").replace(\",\",\".\")).astype(float)\n",
    "tgar11.head()"
   ]
  },
  {
   "cell_type": "code",
   "execution_count": 14,
   "metadata": {},
   "outputs": [
    {
     "data": {
      "text/plain": [
       "{'Selic': 7605.365255462518,\n",
       " 'Prefixado': 271.49614009511976,\n",
       " 'IPCA': 5.2457444321145195,\n",
       " 'HASH11.SA': 74.32406074367088,\n",
       " 'TGAR11.SA': 17.432172175786853}"
      ]
     },
     "execution_count": 14,
     "metadata": {},
     "output_type": "execute_result"
    }
   ],
   "source": [
    "var_dict['TGAR11.SA'] = tgar11['Último'].var()\n",
    "var_dict"
   ]
  },
  {
   "cell_type": "code",
   "execution_count": 15,
   "metadata": {},
   "outputs": [
    {
     "data": {
      "text/html": [
       "<div>\n",
       "<style scoped>\n",
       "    .dataframe tbody tr th:only-of-type {\n",
       "        vertical-align: middle;\n",
       "    }\n",
       "\n",
       "    .dataframe tbody tr th {\n",
       "        vertical-align: top;\n",
       "    }\n",
       "\n",
       "    .dataframe thead th {\n",
       "        text-align: right;\n",
       "    }\n",
       "</style>\n",
       "<table border=\"1\" class=\"dataframe\">\n",
       "  <thead>\n",
       "    <tr style=\"text-align: right;\">\n",
       "      <th></th>\n",
       "      <th>Último</th>\n",
       "    </tr>\n",
       "  </thead>\n",
       "  <tbody>\n",
       "    <tr>\n",
       "      <th>0</th>\n",
       "      <td>45.50</td>\n",
       "    </tr>\n",
       "    <tr>\n",
       "      <th>1</th>\n",
       "      <td>44.65</td>\n",
       "    </tr>\n",
       "    <tr>\n",
       "      <th>2</th>\n",
       "      <td>44.88</td>\n",
       "    </tr>\n",
       "    <tr>\n",
       "      <th>3</th>\n",
       "      <td>44.35</td>\n",
       "    </tr>\n",
       "    <tr>\n",
       "      <th>4</th>\n",
       "      <td>43.77</td>\n",
       "    </tr>\n",
       "  </tbody>\n",
       "</table>\n",
       "</div>"
      ],
      "text/plain": [
       "   Último\n",
       "0   45.50\n",
       "1   44.65\n",
       "2   44.88\n",
       "3   44.35\n",
       "4   43.77"
      ]
     },
     "execution_count": 15,
     "metadata": {},
     "output_type": "execute_result"
    }
   ],
   "source": [
    "biau39 = pd.read_csv('data/BIAU39.csv')\n",
    "biau39.drop(['Data', 'Var%', 'Abertura', 'Máxima', 'Mínima', 'Vol.'], axis=1, inplace=True)\n",
    "biau39['Último'] = biau39['Último'].apply(lambda x: x.replace(\".\", \"\").replace(\",\",\".\")).astype(float)\n",
    "biau39.head()"
   ]
  },
  {
   "cell_type": "code",
   "execution_count": 16,
   "metadata": {},
   "outputs": [
    {
     "data": {
      "text/plain": [
       "{'Selic': 7605.365255462518,\n",
       " 'Prefixado': 271.49614009511976,\n",
       " 'IPCA': 5.2457444321145195,\n",
       " 'HASH11.SA': 74.32406074367088,\n",
       " 'TGAR11.SA': 17.432172175786853,\n",
       " 'BIAU39.SA': 2.374279376623375}"
      ]
     },
     "execution_count": 16,
     "metadata": {},
     "output_type": "execute_result"
    }
   ],
   "source": [
    "var_dict['BIAU39.SA'] = biau39['Último'].var()\n",
    "var_dict"
   ]
  },
  {
   "cell_type": "code",
   "execution_count": 17,
   "metadata": {},
   "outputs": [
    {
     "data": {
      "text/html": [
       "<div>\n",
       "<style scoped>\n",
       "    .dataframe tbody tr th:only-of-type {\n",
       "        vertical-align: middle;\n",
       "    }\n",
       "\n",
       "    .dataframe tbody tr th {\n",
       "        vertical-align: top;\n",
       "    }\n",
       "\n",
       "    .dataframe thead th {\n",
       "        text-align: right;\n",
       "    }\n",
       "</style>\n",
       "<table border=\"1\" class=\"dataframe\">\n",
       "  <thead>\n",
       "    <tr style=\"text-align: right;\">\n",
       "      <th></th>\n",
       "      <th>Último</th>\n",
       "    </tr>\n",
       "  </thead>\n",
       "  <tbody>\n",
       "    <tr>\n",
       "      <th>0</th>\n",
       "      <td>10.22</td>\n",
       "    </tr>\n",
       "    <tr>\n",
       "      <th>1</th>\n",
       "      <td>10.06</td>\n",
       "    </tr>\n",
       "    <tr>\n",
       "      <th>2</th>\n",
       "      <td>10.10</td>\n",
       "    </tr>\n",
       "    <tr>\n",
       "      <th>3</th>\n",
       "      <td>9.98</td>\n",
       "    </tr>\n",
       "    <tr>\n",
       "      <th>4</th>\n",
       "      <td>9.85</td>\n",
       "    </tr>\n",
       "  </tbody>\n",
       "</table>\n",
       "</div>"
      ],
      "text/plain": [
       "   Último\n",
       "0   10.22\n",
       "1   10.06\n",
       "2   10.10\n",
       "3    9.98\n",
       "4    9.85"
      ]
     },
     "execution_count": 17,
     "metadata": {},
     "output_type": "execute_result"
    }
   ],
   "source": [
    "gold11 = pd.read_csv('data/GOLD11.csv')\n",
    "gold11.drop(['Data', 'Var%', 'Abertura', 'Máxima', 'Mínima', 'Vol.'], axis=1, inplace=True)\n",
    "gold11['Último'] = gold11['Último'].apply(lambda x: x.replace(\".\", \"\").replace(\",\",\".\")).astype(float)\n",
    "gold11.head()"
   ]
  },
  {
   "cell_type": "code",
   "execution_count": 18,
   "metadata": {},
   "outputs": [
    {
     "data": {
      "text/plain": [
       "{'Selic': 7605.365255462518,\n",
       " 'Prefixado': 271.49614009511976,\n",
       " 'IPCA': 5.2457444321145195,\n",
       " 'HASH11.SA': 74.32406074367088,\n",
       " 'TGAR11.SA': 17.432172175786853,\n",
       " 'BIAU39.SA': 2.374279376623375,\n",
       " 'GOLD11.SA': 0.12897262139466956}"
      ]
     },
     "execution_count": 18,
     "metadata": {},
     "output_type": "execute_result"
    }
   ],
   "source": [
    "var_dict['GOLD11.SA'] = gold11['Último'].var()\n",
    "var_dict"
   ]
  },
  {
   "cell_type": "code",
   "execution_count": 19,
   "metadata": {},
   "outputs": [
    {
     "data": {
      "text/html": [
       "<div>\n",
       "<style scoped>\n",
       "    .dataframe tbody tr th:only-of-type {\n",
       "        vertical-align: middle;\n",
       "    }\n",
       "\n",
       "    .dataframe tbody tr th {\n",
       "        vertical-align: top;\n",
       "    }\n",
       "\n",
       "    .dataframe thead th {\n",
       "        text-align: right;\n",
       "    }\n",
       "</style>\n",
       "<table border=\"1\" class=\"dataframe\">\n",
       "  <thead>\n",
       "    <tr style=\"text-align: right;\">\n",
       "      <th></th>\n",
       "      <th>Último</th>\n",
       "    </tr>\n",
       "  </thead>\n",
       "  <tbody>\n",
       "    <tr>\n",
       "      <th>0</th>\n",
       "      <td>8.96</td>\n",
       "    </tr>\n",
       "    <tr>\n",
       "      <th>1</th>\n",
       "      <td>8.74</td>\n",
       "    </tr>\n",
       "    <tr>\n",
       "      <th>2</th>\n",
       "      <td>8.98</td>\n",
       "    </tr>\n",
       "    <tr>\n",
       "      <th>3</th>\n",
       "      <td>9.11</td>\n",
       "    </tr>\n",
       "    <tr>\n",
       "      <th>4</th>\n",
       "      <td>9.16</td>\n",
       "    </tr>\n",
       "  </tbody>\n",
       "</table>\n",
       "</div>"
      ],
      "text/plain": [
       "   Último\n",
       "0    8.96\n",
       "1    8.74\n",
       "2    8.98\n",
       "3    9.11\n",
       "4    9.16"
      ]
     },
     "execution_count": 19,
     "metadata": {},
     "output_type": "execute_result"
    }
   ],
   "source": [
    "xina11 = pd.read_csv('data/XINA11.csv')\n",
    "xina11.drop(['Data', 'Var%', 'Abertura', 'Máxima', 'Mínima', 'Vol.'], axis=1, inplace=True)\n",
    "xina11['Último'] = xina11['Último'].apply(lambda x: x.replace(\".\", \"\").replace(\",\",\".\")).astype(float)\n",
    "xina11.head()"
   ]
  },
  {
   "cell_type": "code",
   "execution_count": 20,
   "metadata": {},
   "outputs": [
    {
     "data": {
      "text/plain": [
       "{'Selic': 7605.365255462518,\n",
       " 'Prefixado': 271.49614009511976,\n",
       " 'IPCA': 5.2457444321145195,\n",
       " 'HASH11.SA': 74.32406074367088,\n",
       " 'TGAR11.SA': 17.432172175786853,\n",
       " 'BIAU39.SA': 2.374279376623375,\n",
       " 'GOLD11.SA': 0.12897262139466956,\n",
       " 'XINA11.SA': 1.0428390993788819}"
      ]
     },
     "execution_count": 20,
     "metadata": {},
     "output_type": "execute_result"
    }
   ],
   "source": [
    "var_dict['XINA11.SA'] = xina11['Último'].var()\n",
    "var_dict"
   ]
  },
  {
   "cell_type": "markdown",
   "metadata": {},
   "source": [
    "Coletados os dados faltantes podemos obter o restante pela API."
   ]
  },
  {
   "cell_type": "code",
   "execution_count": 21,
   "metadata": {},
   "outputs": [
    {
     "name": "stdout",
     "output_type": "stream",
     "text": [
      "[*********************100%***********************]  28 of 28 completed\n"
     ]
    }
   ],
   "source": [
    "df = yf.download(tickers=\"KNRI11.SA XPCI11.SA VIVT3.SA TRPL4.SA TRIS3.SA TEND3.SA TAEE11.SA SULA11.SA RAIZ4.SA OIBR3.SA MXRF11.SA JHSF3.SA IVVB11.SA GOAU4.SA GGBR4.SA FESA4.SA EGIE3.SA DIRR3.SA CYRE3.SA CSAN3.SA COGN3.SA BRPR3.SA BRML3.SA BOVA11.SA BABA34.SA AURA33.SA ALUP11.SA ALSO3.SA\",\n",
    "                 period='1y')#start=\"2018-01-01\", end=\"2021-08-11\")"
   ]
  },
  {
   "cell_type": "code",
   "execution_count": 22,
   "metadata": {},
   "outputs": [
    {
     "data": {
      "text/html": [
       "<div>\n",
       "<style scoped>\n",
       "    .dataframe tbody tr th:only-of-type {\n",
       "        vertical-align: middle;\n",
       "    }\n",
       "\n",
       "    .dataframe tbody tr th {\n",
       "        vertical-align: top;\n",
       "    }\n",
       "\n",
       "    .dataframe thead tr th {\n",
       "        text-align: left;\n",
       "    }\n",
       "\n",
       "    .dataframe thead tr:last-of-type th {\n",
       "        text-align: right;\n",
       "    }\n",
       "</style>\n",
       "<table border=\"1\" class=\"dataframe\">\n",
       "  <thead>\n",
       "    <tr>\n",
       "      <th></th>\n",
       "      <th colspan=\"10\" halign=\"left\">Adj Close</th>\n",
       "      <th>...</th>\n",
       "      <th colspan=\"10\" halign=\"left\">Volume</th>\n",
       "    </tr>\n",
       "    <tr>\n",
       "      <th></th>\n",
       "      <th>ALSO3.SA</th>\n",
       "      <th>ALUP11.SA</th>\n",
       "      <th>AURA33.SA</th>\n",
       "      <th>BABA34.SA</th>\n",
       "      <th>BOVA11.SA</th>\n",
       "      <th>BRML3.SA</th>\n",
       "      <th>BRPR3.SA</th>\n",
       "      <th>COGN3.SA</th>\n",
       "      <th>CSAN3.SA</th>\n",
       "      <th>CYRE3.SA</th>\n",
       "      <th>...</th>\n",
       "      <th>MXRF11.SA</th>\n",
       "      <th>OIBR3.SA</th>\n",
       "      <th>RAIZ4.SA</th>\n",
       "      <th>SULA11.SA</th>\n",
       "      <th>TAEE11.SA</th>\n",
       "      <th>TEND3.SA</th>\n",
       "      <th>TRIS3.SA</th>\n",
       "      <th>TRPL4.SA</th>\n",
       "      <th>VIVT3.SA</th>\n",
       "      <th>XPCI11.SA</th>\n",
       "    </tr>\n",
       "    <tr>\n",
       "      <th>Date</th>\n",
       "      <th></th>\n",
       "      <th></th>\n",
       "      <th></th>\n",
       "      <th></th>\n",
       "      <th></th>\n",
       "      <th></th>\n",
       "      <th></th>\n",
       "      <th></th>\n",
       "      <th></th>\n",
       "      <th></th>\n",
       "      <th></th>\n",
       "      <th></th>\n",
       "      <th></th>\n",
       "      <th></th>\n",
       "      <th></th>\n",
       "      <th></th>\n",
       "      <th></th>\n",
       "      <th></th>\n",
       "      <th></th>\n",
       "      <th></th>\n",
       "      <th></th>\n",
       "    </tr>\n",
       "  </thead>\n",
       "  <tbody>\n",
       "    <tr>\n",
       "      <th>2020-09-10</th>\n",
       "      <td>26.941750</td>\n",
       "      <td>23.105961</td>\n",
       "      <td>59.627628</td>\n",
       "      <td>50.964287</td>\n",
       "      <td>95.040001</td>\n",
       "      <td>9.47</td>\n",
       "      <td>9.126679</td>\n",
       "      <td>5.88</td>\n",
       "      <td>18.671677</td>\n",
       "      <td>21.882029</td>\n",
       "      <td>...</td>\n",
       "      <td>684869</td>\n",
       "      <td>322110300</td>\n",
       "      <td>NaN</td>\n",
       "      <td>2809474</td>\n",
       "      <td>2379800</td>\n",
       "      <td>730600</td>\n",
       "      <td>1151100</td>\n",
       "      <td>1393700</td>\n",
       "      <td>60100</td>\n",
       "      <td>8679</td>\n",
       "    </tr>\n",
       "    <tr>\n",
       "      <th>2020-09-11</th>\n",
       "      <td>26.584774</td>\n",
       "      <td>22.747652</td>\n",
       "      <td>58.600853</td>\n",
       "      <td>51.806786</td>\n",
       "      <td>94.480003</td>\n",
       "      <td>9.31</td>\n",
       "      <td>8.979948</td>\n",
       "      <td>5.70</td>\n",
       "      <td>18.350433</td>\n",
       "      <td>21.536139</td>\n",
       "      <td>...</td>\n",
       "      <td>664305</td>\n",
       "      <td>318702800</td>\n",
       "      <td>NaN</td>\n",
       "      <td>2513661</td>\n",
       "      <td>2792300</td>\n",
       "      <td>782800</td>\n",
       "      <td>1168300</td>\n",
       "      <td>1572100</td>\n",
       "      <td>89100</td>\n",
       "      <td>23228</td>\n",
       "    </tr>\n",
       "    <tr>\n",
       "      <th>2020-09-14</th>\n",
       "      <td>27.705282</td>\n",
       "      <td>22.689550</td>\n",
       "      <td>59.739639</td>\n",
       "      <td>51.616070</td>\n",
       "      <td>96.510002</td>\n",
       "      <td>9.86</td>\n",
       "      <td>9.576654</td>\n",
       "      <td>5.98</td>\n",
       "      <td>18.345491</td>\n",
       "      <td>22.400862</td>\n",
       "      <td>...</td>\n",
       "      <td>851425</td>\n",
       "      <td>404415700</td>\n",
       "      <td>NaN</td>\n",
       "      <td>1759865</td>\n",
       "      <td>2116800</td>\n",
       "      <td>989700</td>\n",
       "      <td>1184300</td>\n",
       "      <td>1306000</td>\n",
       "      <td>95300</td>\n",
       "      <td>22093</td>\n",
       "    </tr>\n",
       "    <tr>\n",
       "      <th>2020-09-15</th>\n",
       "      <td>27.298727</td>\n",
       "      <td>22.873545</td>\n",
       "      <td>60.859756</td>\n",
       "      <td>52.439999</td>\n",
       "      <td>96.459999</td>\n",
       "      <td>9.77</td>\n",
       "      <td>9.547308</td>\n",
       "      <td>5.80</td>\n",
       "      <td>18.708744</td>\n",
       "      <td>22.264324</td>\n",
       "      <td>...</td>\n",
       "      <td>483390</td>\n",
       "      <td>120170500</td>\n",
       "      <td>NaN</td>\n",
       "      <td>2515065</td>\n",
       "      <td>2622800</td>\n",
       "      <td>1211900</td>\n",
       "      <td>869500</td>\n",
       "      <td>770200</td>\n",
       "      <td>88700</td>\n",
       "      <td>12974</td>\n",
       "    </tr>\n",
       "    <tr>\n",
       "      <th>2020-09-16</th>\n",
       "      <td>27.953182</td>\n",
       "      <td>23.067225</td>\n",
       "      <td>60.719746</td>\n",
       "      <td>52.294998</td>\n",
       "      <td>95.910004</td>\n",
       "      <td>9.98</td>\n",
       "      <td>9.674476</td>\n",
       "      <td>5.83</td>\n",
       "      <td>18.587660</td>\n",
       "      <td>21.854721</td>\n",
       "      <td>...</td>\n",
       "      <td>547692</td>\n",
       "      <td>107127900</td>\n",
       "      <td>NaN</td>\n",
       "      <td>2056759</td>\n",
       "      <td>2195500</td>\n",
       "      <td>811100</td>\n",
       "      <td>3396100</td>\n",
       "      <td>1175900</td>\n",
       "      <td>146100</td>\n",
       "      <td>16583</td>\n",
       "    </tr>\n",
       "  </tbody>\n",
       "</table>\n",
       "<p>5 rows × 168 columns</p>\n",
       "</div>"
      ],
      "text/plain": [
       "            Adj Close                                                       \\\n",
       "             ALSO3.SA  ALUP11.SA  AURA33.SA  BABA34.SA  BOVA11.SA BRML3.SA   \n",
       "Date                                                                         \n",
       "2020-09-10  26.941750  23.105961  59.627628  50.964287  95.040001     9.47   \n",
       "2020-09-11  26.584774  22.747652  58.600853  51.806786  94.480003     9.31   \n",
       "2020-09-14  27.705282  22.689550  59.739639  51.616070  96.510002     9.86   \n",
       "2020-09-15  27.298727  22.873545  60.859756  52.439999  96.459999     9.77   \n",
       "2020-09-16  27.953182  23.067225  60.719746  52.294998  95.910004     9.98   \n",
       "\n",
       "                                                     ...    Volume             \\\n",
       "            BRPR3.SA COGN3.SA   CSAN3.SA   CYRE3.SA  ... MXRF11.SA   OIBR3.SA   \n",
       "Date                                                 ...                        \n",
       "2020-09-10  9.126679     5.88  18.671677  21.882029  ...    684869  322110300   \n",
       "2020-09-11  8.979948     5.70  18.350433  21.536139  ...    664305  318702800   \n",
       "2020-09-14  9.576654     5.98  18.345491  22.400862  ...    851425  404415700   \n",
       "2020-09-15  9.547308     5.80  18.708744  22.264324  ...    483390  120170500   \n",
       "2020-09-16  9.674476     5.83  18.587660  21.854721  ...    547692  107127900   \n",
       "\n",
       "                                                                             \\\n",
       "           RAIZ4.SA SULA11.SA TAEE11.SA TEND3.SA TRIS3.SA TRPL4.SA VIVT3.SA   \n",
       "Date                                                                          \n",
       "2020-09-10      NaN   2809474   2379800   730600  1151100  1393700    60100   \n",
       "2020-09-11      NaN   2513661   2792300   782800  1168300  1572100    89100   \n",
       "2020-09-14      NaN   1759865   2116800   989700  1184300  1306000    95300   \n",
       "2020-09-15      NaN   2515065   2622800  1211900   869500   770200    88700   \n",
       "2020-09-16      NaN   2056759   2195500   811100  3396100  1175900   146100   \n",
       "\n",
       "                      \n",
       "           XPCI11.SA  \n",
       "Date                  \n",
       "2020-09-10      8679  \n",
       "2020-09-11     23228  \n",
       "2020-09-14     22093  \n",
       "2020-09-15     12974  \n",
       "2020-09-16     16583  \n",
       "\n",
       "[5 rows x 168 columns]"
      ]
     },
     "execution_count": 22,
     "metadata": {},
     "output_type": "execute_result"
    }
   ],
   "source": [
    "df.head()"
   ]
  },
  {
   "cell_type": "code",
   "execution_count": 23,
   "metadata": {},
   "outputs": [
    {
     "data": {
      "text/html": [
       "<div>\n",
       "<style scoped>\n",
       "    .dataframe tbody tr th:only-of-type {\n",
       "        vertical-align: middle;\n",
       "    }\n",
       "\n",
       "    .dataframe tbody tr th {\n",
       "        vertical-align: top;\n",
       "    }\n",
       "\n",
       "    .dataframe thead th {\n",
       "        text-align: right;\n",
       "    }\n",
       "</style>\n",
       "<table border=\"1\" class=\"dataframe\">\n",
       "  <thead>\n",
       "    <tr style=\"text-align: right;\">\n",
       "      <th></th>\n",
       "      <th>ALSO3.SA</th>\n",
       "      <th>ALUP11.SA</th>\n",
       "      <th>AURA33.SA</th>\n",
       "      <th>BABA34.SA</th>\n",
       "      <th>BOVA11.SA</th>\n",
       "      <th>BRML3.SA</th>\n",
       "      <th>BRPR3.SA</th>\n",
       "      <th>COGN3.SA</th>\n",
       "      <th>CSAN3.SA</th>\n",
       "      <th>CYRE3.SA</th>\n",
       "      <th>...</th>\n",
       "      <th>MXRF11.SA</th>\n",
       "      <th>OIBR3.SA</th>\n",
       "      <th>RAIZ4.SA</th>\n",
       "      <th>SULA11.SA</th>\n",
       "      <th>TAEE11.SA</th>\n",
       "      <th>TEND3.SA</th>\n",
       "      <th>TRIS3.SA</th>\n",
       "      <th>TRPL4.SA</th>\n",
       "      <th>VIVT3.SA</th>\n",
       "      <th>XPCI11.SA</th>\n",
       "    </tr>\n",
       "    <tr>\n",
       "      <th>Date</th>\n",
       "      <th></th>\n",
       "      <th></th>\n",
       "      <th></th>\n",
       "      <th></th>\n",
       "      <th></th>\n",
       "      <th></th>\n",
       "      <th></th>\n",
       "      <th></th>\n",
       "      <th></th>\n",
       "      <th></th>\n",
       "      <th></th>\n",
       "      <th></th>\n",
       "      <th></th>\n",
       "      <th></th>\n",
       "      <th></th>\n",
       "      <th></th>\n",
       "      <th></th>\n",
       "      <th></th>\n",
       "      <th></th>\n",
       "      <th></th>\n",
       "      <th></th>\n",
       "    </tr>\n",
       "  </thead>\n",
       "  <tbody>\n",
       "    <tr>\n",
       "      <th>2020-09-10</th>\n",
       "      <td>27.170000</td>\n",
       "      <td>23.860001</td>\n",
       "      <td>63.880001</td>\n",
       "      <td>50.964287</td>\n",
       "      <td>95.040001</td>\n",
       "      <td>9.47</td>\n",
       "      <td>9.33</td>\n",
       "      <td>5.88</td>\n",
       "      <td>18.889999</td>\n",
       "      <td>24.040001</td>\n",
       "      <td>...</td>\n",
       "      <td>10.54</td>\n",
       "      <td>1.66</td>\n",
       "      <td>NaN</td>\n",
       "      <td>38.874454</td>\n",
       "      <td>28.709999</td>\n",
       "      <td>30.389999</td>\n",
       "      <td>11.70</td>\n",
       "      <td>21.250000</td>\n",
       "      <td>48.400002</td>\n",
       "      <td>87.750000</td>\n",
       "    </tr>\n",
       "    <tr>\n",
       "      <th>2020-09-11</th>\n",
       "      <td>26.809999</td>\n",
       "      <td>23.490000</td>\n",
       "      <td>62.779999</td>\n",
       "      <td>51.806786</td>\n",
       "      <td>94.480003</td>\n",
       "      <td>9.31</td>\n",
       "      <td>9.18</td>\n",
       "      <td>5.70</td>\n",
       "      <td>18.565001</td>\n",
       "      <td>23.660000</td>\n",
       "      <td>...</td>\n",
       "      <td>10.51</td>\n",
       "      <td>1.63</td>\n",
       "      <td>NaN</td>\n",
       "      <td>38.337616</td>\n",
       "      <td>28.379999</td>\n",
       "      <td>30.330000</td>\n",
       "      <td>11.53</td>\n",
       "      <td>21.059999</td>\n",
       "      <td>47.990002</td>\n",
       "      <td>87.870003</td>\n",
       "    </tr>\n",
       "    <tr>\n",
       "      <th>2020-09-14</th>\n",
       "      <td>27.940001</td>\n",
       "      <td>23.430000</td>\n",
       "      <td>64.000000</td>\n",
       "      <td>51.616070</td>\n",
       "      <td>96.510002</td>\n",
       "      <td>9.86</td>\n",
       "      <td>9.79</td>\n",
       "      <td>5.98</td>\n",
       "      <td>18.559999</td>\n",
       "      <td>24.610001</td>\n",
       "      <td>...</td>\n",
       "      <td>10.37</td>\n",
       "      <td>1.85</td>\n",
       "      <td>NaN</td>\n",
       "      <td>38.763386</td>\n",
       "      <td>28.600000</td>\n",
       "      <td>30.980000</td>\n",
       "      <td>12.05</td>\n",
       "      <td>21.100000</td>\n",
       "      <td>48.000000</td>\n",
       "      <td>87.180000</td>\n",
       "    </tr>\n",
       "    <tr>\n",
       "      <th>2020-09-15</th>\n",
       "      <td>27.530001</td>\n",
       "      <td>23.620001</td>\n",
       "      <td>65.199997</td>\n",
       "      <td>52.439999</td>\n",
       "      <td>96.459999</td>\n",
       "      <td>9.77</td>\n",
       "      <td>9.76</td>\n",
       "      <td>5.80</td>\n",
       "      <td>18.927500</td>\n",
       "      <td>24.459999</td>\n",
       "      <td>...</td>\n",
       "      <td>10.59</td>\n",
       "      <td>1.81</td>\n",
       "      <td>NaN</td>\n",
       "      <td>38.208035</td>\n",
       "      <td>28.559999</td>\n",
       "      <td>30.610001</td>\n",
       "      <td>11.83</td>\n",
       "      <td>21.100000</td>\n",
       "      <td>48.000000</td>\n",
       "      <td>88.239998</td>\n",
       "    </tr>\n",
       "    <tr>\n",
       "      <th>2020-09-16</th>\n",
       "      <td>28.190001</td>\n",
       "      <td>23.820000</td>\n",
       "      <td>65.050003</td>\n",
       "      <td>52.294998</td>\n",
       "      <td>95.910004</td>\n",
       "      <td>9.98</td>\n",
       "      <td>9.89</td>\n",
       "      <td>5.83</td>\n",
       "      <td>18.805000</td>\n",
       "      <td>24.010000</td>\n",
       "      <td>...</td>\n",
       "      <td>10.67</td>\n",
       "      <td>1.82</td>\n",
       "      <td>NaN</td>\n",
       "      <td>38.180267</td>\n",
       "      <td>28.709999</td>\n",
       "      <td>29.889999</td>\n",
       "      <td>12.33</td>\n",
       "      <td>21.120001</td>\n",
       "      <td>47.369999</td>\n",
       "      <td>88.050003</td>\n",
       "    </tr>\n",
       "  </tbody>\n",
       "</table>\n",
       "<p>5 rows × 28 columns</p>\n",
       "</div>"
      ],
      "text/plain": [
       "             ALSO3.SA  ALUP11.SA  AURA33.SA  BABA34.SA  BOVA11.SA  BRML3.SA  \\\n",
       "Date                                                                          \n",
       "2020-09-10  27.170000  23.860001  63.880001  50.964287  95.040001      9.47   \n",
       "2020-09-11  26.809999  23.490000  62.779999  51.806786  94.480003      9.31   \n",
       "2020-09-14  27.940001  23.430000  64.000000  51.616070  96.510002      9.86   \n",
       "2020-09-15  27.530001  23.620001  65.199997  52.439999  96.459999      9.77   \n",
       "2020-09-16  28.190001  23.820000  65.050003  52.294998  95.910004      9.98   \n",
       "\n",
       "            BRPR3.SA  COGN3.SA   CSAN3.SA   CYRE3.SA  ...  MXRF11.SA  \\\n",
       "Date                                                  ...              \n",
       "2020-09-10      9.33      5.88  18.889999  24.040001  ...      10.54   \n",
       "2020-09-11      9.18      5.70  18.565001  23.660000  ...      10.51   \n",
       "2020-09-14      9.79      5.98  18.559999  24.610001  ...      10.37   \n",
       "2020-09-15      9.76      5.80  18.927500  24.459999  ...      10.59   \n",
       "2020-09-16      9.89      5.83  18.805000  24.010000  ...      10.67   \n",
       "\n",
       "            OIBR3.SA  RAIZ4.SA  SULA11.SA  TAEE11.SA   TEND3.SA  TRIS3.SA  \\\n",
       "Date                                                                        \n",
       "2020-09-10      1.66       NaN  38.874454  28.709999  30.389999     11.70   \n",
       "2020-09-11      1.63       NaN  38.337616  28.379999  30.330000     11.53   \n",
       "2020-09-14      1.85       NaN  38.763386  28.600000  30.980000     12.05   \n",
       "2020-09-15      1.81       NaN  38.208035  28.559999  30.610001     11.83   \n",
       "2020-09-16      1.82       NaN  38.180267  28.709999  29.889999     12.33   \n",
       "\n",
       "             TRPL4.SA   VIVT3.SA  XPCI11.SA  \n",
       "Date                                         \n",
       "2020-09-10  21.250000  48.400002  87.750000  \n",
       "2020-09-11  21.059999  47.990002  87.870003  \n",
       "2020-09-14  21.100000  48.000000  87.180000  \n",
       "2020-09-15  21.100000  48.000000  88.239998  \n",
       "2020-09-16  21.120001  47.369999  88.050003  \n",
       "\n",
       "[5 rows x 28 columns]"
      ]
     },
     "execution_count": 23,
     "metadata": {},
     "output_type": "execute_result"
    }
   ],
   "source": [
    "df_close = df['Close']\n",
    "df_close.head()"
   ]
  },
  {
   "cell_type": "code",
   "execution_count": 24,
   "metadata": {},
   "outputs": [
    {
     "data": {
      "text/plain": [
       "{'Selic': 7605.365255462518,\n",
       " 'Prefixado': 271.49614009511976,\n",
       " 'IPCA': 5.2457444321145195,\n",
       " 'HASH11.SA': 74.32406074367088,\n",
       " 'TGAR11.SA': 17.432172175786853,\n",
       " 'BIAU39.SA': 2.374279376623375,\n",
       " 'GOLD11.SA': 0.12897262139466956,\n",
       " 'XINA11.SA': 1.0428390993788819}"
      ]
     },
     "execution_count": 24,
     "metadata": {},
     "output_type": "execute_result"
    }
   ],
   "source": [
    "var_dict"
   ]
  },
  {
   "cell_type": "code",
   "execution_count": 25,
   "metadata": {},
   "outputs": [],
   "source": [
    "for column in df_close.columns:\n",
    "    var_dict[column] = df_close[column].var()"
   ]
  },
  {
   "cell_type": "markdown",
   "metadata": {},
   "source": [
    "E por fim temos os dois dicionários para formar a função objetivo de um tipo de carteira que foi solicitado pelo investidor. O mesmo nos explicou que gostaria de aplicar mais dinheiro em ações/fundos/rendas fixas menos voláteis e ao mesmo tempo, levar em consideração quanto cada investimento o retornou desde sua compra."
   ]
  },
  {
   "cell_type": "code",
   "execution_count": 26,
   "metadata": {},
   "outputs": [
    {
     "data": {
      "text/plain": [
       "{'Selic': 7605.365255462518,\n",
       " 'Prefixado': 271.49614009511976,\n",
       " 'IPCA': 5.2457444321145195,\n",
       " 'HASH11.SA': 74.32406074367088,\n",
       " 'TGAR11.SA': 17.432172175786853,\n",
       " 'BIAU39.SA': 2.374279376623375,\n",
       " 'GOLD11.SA': 0.12897262139466956,\n",
       " 'XINA11.SA': 1.0428390993788819,\n",
       " 'ALSO3.SA': 4.253091705141663,\n",
       " 'ALUP11.SA': 1.7411436790679402,\n",
       " 'AURA33.SA': 26.881560249293535,\n",
       " 'BABA34.SA': 62.98481591661332,\n",
       " 'BOVA11.SA': 86.71058342043412,\n",
       " 'BRML3.SA': 0.6512137014481456,\n",
       " 'BRPR3.SA': 0.4014562660630759,\n",
       " 'COGN3.SA': 0.40698245684651546,\n",
       " 'CSAN3.SA': 7.423670289023585,\n",
       " 'CYRE3.SA': 7.920471593736659,\n",
       " 'DIRR3.SA': 0.7631313546989098,\n",
       " 'EGIE3.SA': 4.319634234470608,\n",
       " 'FESA4.SA': 156.57266635152655,\n",
       " 'GGBR4.SA': 19.253090980314063,\n",
       " 'GOAU4.SA': 3.908424196154461,\n",
       " 'IVVB11.SA': 362.5801271441705,\n",
       " 'JHSF3.SA': 0.19464050217995957,\n",
       " 'KNRI11.SA': 98.00689251418223,\n",
       " 'MXRF11.SA': 0.05406089682070364,\n",
       " 'OIBR3.SA': 0.1293336654404456,\n",
       " 'RAIZ4.SA': 0.05223646160831812,\n",
       " 'SULA11.SA': 14.53570692160266,\n",
       " 'TAEE11.SA': 17.79627250998913,\n",
       " 'TEND3.SA': 8.985152971193077,\n",
       " 'TRIS3.SA': 1.8153513253569327,\n",
       " 'TRPL4.SA': 3.3189211429887497,\n",
       " 'VIVT3.SA': 2.95696922938638,\n",
       " 'XPCI11.SA': 20.12850829533151}"
      ]
     },
     "execution_count": 26,
     "metadata": {},
     "output_type": "execute_result"
    }
   ],
   "source": [
    "var_dict"
   ]
  },
  {
   "cell_type": "code",
   "execution_count": 27,
   "metadata": {},
   "outputs": [
    {
     "data": {
      "text/plain": [
       "{'IPCA': -7.18,\n",
       " 'Selic': 0,\n",
       " 'Prefixado': 0,\n",
       " 'KNRI11.SA': 0,\n",
       " 'XPCI11.SA': 0,\n",
       " 'XINA11.SA': -22.08,\n",
       " 'VIVT3.SA': -7.45,\n",
       " 'TRPL4.SA': -8.94,\n",
       " 'TRIS3.SA': -23.36,\n",
       " 'TGAR11.SA': 0.29,\n",
       " 'TEND3.SA': -19.57,\n",
       " 'TAEE11.SA': 24.53,\n",
       " 'SULA11.SA': -12.05,\n",
       " 'RAIZ4.SA': -3.51,\n",
       " 'OIBR3.SA': -38.0,\n",
       " 'MXRF11.SA': -0.8,\n",
       " 'JHSF3.SA': 7.34,\n",
       " 'IVVB11.SA': 9.53,\n",
       " 'HASH11.SA': -5.79,\n",
       " 'GOLD11.SA': -3.85,\n",
       " 'GOAU4.SA': 1.41,\n",
       " 'GGBR4.SA': 2.38,\n",
       " 'FESA4.SA': 16.51,\n",
       " 'EGIE3.SA': -7.68,\n",
       " 'DIRR3.SA': -6.52,\n",
       " 'CYRE3.SA': -17.04,\n",
       " 'CSAN3.SA': 4.83,\n",
       " 'COGN3.SA': -14.84,\n",
       " 'BRPR3.SA': -3.45,\n",
       " 'BRML3.SA': 22.01,\n",
       " 'BOVA11.SA': 4.7,\n",
       " 'BIAU39.SA': -1.77,\n",
       " 'BABA34.SA': -27.99,\n",
       " 'AURA33.SA': 14.35,\n",
       " 'ALUP11.SA': -5.53,\n",
       " 'ALSO3.SA': 8.66}"
      ]
     },
     "execution_count": 27,
     "metadata": {},
     "output_type": "execute_result"
    }
   ],
   "source": [
    "return_dict"
   ]
  },
  {
   "cell_type": "markdown",
   "metadata": {},
   "source": [
    "### 2.2 Implementação do Modelo"
   ]
  },
  {
   "cell_type": "markdown",
   "metadata": {},
   "source": [
    "Com os dados de variância e retorno obtidos, podemos agora otimizar o portfólio."
   ]
  },
  {
   "cell_type": "code",
   "execution_count": 476,
   "metadata": {},
   "outputs": [],
   "source": [
    "fi = ['XPCI11.SA', 'KNRI11.SA', 'MXRF11.SA', 'TGAR11.SA']\n",
    "rf = ['IPCA', 'Selic', 'Prefixado']\n",
    "ghb = ['GOLD11.SA', 'HASH11.SA', 'BIAU39.SA']"
   ]
  },
  {
   "cell_type": "code",
   "execution_count": 592,
   "metadata": {},
   "outputs": [],
   "source": [
    "a = [x for x in keys if x not in (rf)]"
   ]
  },
  {
   "cell_type": "code",
   "execution_count": 478,
   "metadata": {},
   "outputs": [],
   "source": [
    "keys = list(return_dict.keys())\n",
    "r = [x for x in keys if x not in (fi + rf + ghb)]"
   ]
  },
  {
   "cell_type": "markdown",
   "metadata": {},
   "source": [
    "#### 2.2.1 Modelo mantendo todas as restrições solicitadas"
   ]
  },
  {
   "cell_type": "markdown",
   "metadata": {},
   "source": [
    "* Minimizando a variância e com retorno mínimo de 8%"
   ]
  },
  {
   "cell_type": "code",
   "execution_count": 479,
   "metadata": {},
   "outputs": [],
   "source": [
    "model = Model()\n",
    "x = model.continuous_var_dict(keys, name='invs')"
   ]
  },
  {
   "cell_type": "code",
   "execution_count": 480,
   "metadata": {},
   "outputs": [],
   "source": [
    "model.minimize(model.sum(x[i] * var_dict[i] for i in x.keys()))"
   ]
  },
  {
   "cell_type": "code",
   "execution_count": 481,
   "metadata": {},
   "outputs": [
    {
     "data": {
      "text/plain": [
       "docplex.mp.LinearConstraint[](-7.180invs_IPCA-22.080invs_XINA11.SA-7.450invs_VIVT3.SA-8.940invs_TRPL4.SA-23.360invs_TRIS3.SA+0.290invs_TGAR11.SA-19.570invs_TEND3.SA+24.530invs_TAEE11.SA-12.050invs_SULA11.SA-3.510invs_RAIZ4.SA-38invs_OIBR3.SA-0.800invs_MXRF11.SA+7.340invs_JHSF3.SA+9.530invs_IVVB11.SA-5.790invs_HASH11.SA-3.850invs_GOLD11.SA+1.410invs_GOAU4.SA+2.380invs_GGBR4.SA+16.510invs_FESA4.SA-7.680invs_EGIE3.SA-6.520invs_DIRR3.SA-17.040invs_CYRE3.SA+4.830invs_CSAN3.SA-14.840invs_COGN3.SA-3.450invs_BRPR3.SA+22.010invs_BRML3.SA+4.700invs_BOVA11.SA-1.770invs_BIAU39.SA-27.990invs_BABA34.SA+14.350invs_AURA33.SA-5.530invs_ALUP11.SA+8.660invs_ALSO3.SA,GE,8)"
      ]
     },
     "execution_count": 481,
     "metadata": {},
     "output_type": "execute_result"
    }
   ],
   "source": [
    "model.add_constraint(model.sum(x[i] for i in fi) == 0.15)\n",
    "model.add_constraint(model.sum(x[i] for i in rf) == 0.15)\n",
    "model.add_constraint(model.sum(x[i] for i in ghb) == 0.05)\n",
    "model.add_constraint(model.sum(x[i] for i in r) == 0.65)\n",
    "model.add_constraints(x[i] >= 0.005 for i in keys)\n",
    "model.add_constraints(x[i] <= 0.15 for i in keys)\n",
    "model.add_constraint(model.sum(x[i] for i in keys) == 1)\n",
    "model.add_constraint(model.sum(x[i] * return_dict[i] for i in keys) >= 8)"
   ]
  },
  {
   "cell_type": "code",
   "execution_count": 482,
   "metadata": {},
   "outputs": [
    {
     "name": "stdout",
     "output_type": "stream",
     "text": [
      "Version identifier: 20.1.0.0 | 2020-11-10 | 9bedb6d68\n",
      "CPXPARAM_Read_DataCheck                          1\n",
      "CPXPARAM_RandomSeed                              202001241\n",
      "Tried aggregator 1 time.\n",
      "LP Presolve eliminated 73 rows and 2 columns.\n",
      "Aggregator did 1 substitutions.\n",
      "Reduced LP has 4 rows, 33 columns, and 64 nonzeros.\n",
      "Presolve time = 0.00 sec. (0.06 ticks)\n",
      "Initializing dual steep norms . . .\n",
      "\n",
      "Iteration log . . .\n",
      "Iteration:     1   Dual objective     =            48.819390\n"
     ]
    }
   ],
   "source": [
    "solution = model.solve(log_output=True)"
   ]
  },
  {
   "cell_type": "code",
   "execution_count": 483,
   "metadata": {},
   "outputs": [
    {
     "name": "stdout",
     "output_type": "stream",
     "text": [
      "objective: 55.087\n",
      "  invs_IPCA=0.140\n",
      "  invs_Selic=0.005\n",
      "  invs_Prefixado=0.005\n",
      "  invs_KNRI11.SA=0.005\n",
      "  invs_XPCI11.SA=0.005\n",
      "  invs_XINA11.SA=0.005\n",
      "  invs_VIVT3.SA=0.005\n",
      "  invs_TRPL4.SA=0.005\n",
      "  invs_TRIS3.SA=0.005\n",
      "  invs_TGAR11.SA=0.135\n",
      "  invs_TEND3.SA=0.005\n",
      "  invs_TAEE11.SA=0.150\n",
      "  invs_SULA11.SA=0.005\n",
      "  invs_RAIZ4.SA=0.005\n",
      "  invs_OIBR3.SA=0.005\n",
      "  invs_MXRF11.SA=0.005\n",
      "  invs_JHSF3.SA=0.005\n",
      "  invs_IVVB11.SA=0.005\n",
      "  invs_HASH11.SA=0.005\n",
      "  invs_GOLD11.SA=0.005\n",
      "  invs_GOAU4.SA=0.005\n",
      "  invs_GGBR4.SA=0.005\n",
      "  invs_FESA4.SA=0.009\n",
      "  invs_EGIE3.SA=0.005\n",
      "  invs_DIRR3.SA=0.005\n",
      "  invs_CYRE3.SA=0.005\n",
      "  invs_CSAN3.SA=0.005\n",
      "  invs_COGN3.SA=0.005\n",
      "  invs_BRPR3.SA=0.005\n",
      "  invs_BRML3.SA=0.150\n",
      "  invs_BOVA11.SA=0.005\n",
      "  invs_BIAU39.SA=0.040\n",
      "  invs_BABA34.SA=0.005\n",
      "  invs_AURA33.SA=0.150\n",
      "  invs_ALUP11.SA=0.005\n",
      "  invs_ALSO3.SA=0.086\n"
     ]
    }
   ],
   "source": [
    "model.print_solution()"
   ]
  },
  {
   "cell_type": "code",
   "execution_count": 484,
   "metadata": {},
   "outputs": [],
   "source": [
    "total_return = 0\n",
    "for i in keys:\n",
    "    total_return += x[i].solution_value * return_dict[i]"
   ]
  },
  {
   "cell_type": "code",
   "execution_count": 485,
   "metadata": {},
   "outputs": [],
   "source": [
    "total_rf = 0\n",
    "for i in rf:\n",
    "    total_rf += x[i].solution_value"
   ]
  },
  {
   "cell_type": "code",
   "execution_count": 486,
   "metadata": {},
   "outputs": [],
   "source": [
    "total_a = 0\n",
    "for i in a:\n",
    "    total_a += x[i].solution_value"
   ]
  },
  {
   "cell_type": "code",
   "execution_count": 487,
   "metadata": {},
   "outputs": [
    {
     "name": "stdout",
     "output_type": "stream",
     "text": [
      "Variâcia encontrada pela função objetivo:  55.0869632573187\n",
      "Retorno total:  7.999999999999997\n",
      "Total alocado em renda fixa:  0.15\n",
      "Total alocado em renda variável:  0.8500000000000001\n"
     ]
    }
   ],
   "source": [
    "print('Variâcia encontrada pela função objetivo: ', model.objective_value)\n",
    "print('Retorno total: ', total_return)\n",
    "print('Total alocado em renda fixa: ', total_rf)\n",
    "print('Total alocado em renda variável: ', total_a)"
   ]
  },
  {
   "cell_type": "markdown",
   "metadata": {},
   "source": [
    "* Maximizando o retorno e com variância máxima de 60"
   ]
  },
  {
   "cell_type": "code",
   "execution_count": 488,
   "metadata": {},
   "outputs": [],
   "source": [
    "model = Model()\n",
    "x = model.continuous_var_dict(keys, name='invs')"
   ]
  },
  {
   "cell_type": "code",
   "execution_count": 489,
   "metadata": {},
   "outputs": [],
   "source": [
    "model.maximize(model.sum(x[i] * return_dict[i] for i in x.keys()))"
   ]
  },
  {
   "cell_type": "code",
   "execution_count": 490,
   "metadata": {},
   "outputs": [
    {
     "data": {
      "text/plain": [
       "docplex.mp.LinearConstraint[](5.246invs_IPCA+7605.365invs_Selic+271.496invs_Prefixado+98.007invs_KNRI11.SA+20.129invs_XPCI11.SA+1.043invs_XINA11.SA+2.957invs_VIVT3.SA+3.319invs_TRPL4.SA+1.815invs_TRIS3.SA+17.432invs_TGAR11.SA+8.985invs_TEND3.SA+17.796invs_TAEE11.SA+14.536invs_SULA11.SA+0.052invs_RAIZ4.SA+0.129invs_OIBR3.SA+0.054invs_MXRF11.SA+0.195invs_JHSF3.SA+362.580invs_IVVB11.SA+74.324invs_HASH11.SA+0.129invs_GOLD11.SA+3.908invs_GOAU4.SA+19.253invs_GGBR4.SA+156.573invs_FESA4.SA+4.320invs_EGIE3.SA+0.763invs_DIRR3.SA+7.920invs_CYRE3.SA+7.424invs_CSAN3.SA+0.407invs_COGN3.SA+0.401invs_BRPR3.SA+0.651invs_BRML3.SA+86.711invs_BOVA11.SA+2.374invs_BIAU39.SA+62.985invs_BABA34.SA+26.882invs_AURA33.SA+1.741invs_ALUP11.SA+4.253invs_ALSO3.SA,LE,60)"
      ]
     },
     "execution_count": 490,
     "metadata": {},
     "output_type": "execute_result"
    }
   ],
   "source": [
    "model.add_constraint(model.sum(x[i] for i in fi) == 0.15)\n",
    "model.add_constraint(model.sum(x[i] for i in rf) == 0.15)\n",
    "model.add_constraint(model.sum(x[i] for i in ghb) == 0.05)\n",
    "model.add_constraint(model.sum(x[i] for i in r) == 0.65)\n",
    "model.add_constraints(x[i] >= 0.005 for i in keys)\n",
    "model.add_constraints(x[i] <= 0.15 for i in keys)\n",
    "model.add_constraint(model.sum(x[i] for i in keys) == 1)\n",
    "model.add_constraint(model.sum(x[i] * var_dict[i] for i in keys) <= 60)"
   ]
  },
  {
   "cell_type": "code",
   "execution_count": 491,
   "metadata": {},
   "outputs": [
    {
     "name": "stdout",
     "output_type": "stream",
     "text": [
      "Version identifier: 20.1.0.0 | 2020-11-10 | 9bedb6d68\n",
      "CPXPARAM_Read_DataCheck                          1\n",
      "CPXPARAM_RandomSeed                              202001241\n",
      "Tried aggregator 1 time.\n",
      "LP Presolve eliminated 73 rows and 0 columns.\n",
      "Reduced LP has 5 rows, 36 columns, and 72 nonzeros.\n",
      "Presolve time = 0.02 sec. (0.05 ticks)\n",
      "Initializing dual steep norms . . .\n",
      "\n",
      "Iteration log . . .\n",
      "Iteration:     1   Dual objective     =             9.733450\n"
     ]
    }
   ],
   "source": [
    "solution = model.solve(log_output=True)"
   ]
  },
  {
   "cell_type": "code",
   "execution_count": 492,
   "metadata": {},
   "outputs": [
    {
     "name": "stdout",
     "output_type": "stream",
     "text": [
      "objective: 8.253\n",
      "  invs_IPCA=0.140\n",
      "  invs_Selic=0.005\n",
      "  invs_Prefixado=0.005\n",
      "  invs_KNRI11.SA=0.005\n",
      "  invs_XPCI11.SA=0.005\n",
      "  invs_XINA11.SA=0.005\n",
      "  invs_VIVT3.SA=0.005\n",
      "  invs_TRPL4.SA=0.005\n",
      "  invs_TRIS3.SA=0.005\n",
      "  invs_TGAR11.SA=0.135\n",
      "  invs_TEND3.SA=0.005\n",
      "  invs_TAEE11.SA=0.150\n",
      "  invs_SULA11.SA=0.005\n",
      "  invs_RAIZ4.SA=0.005\n",
      "  invs_OIBR3.SA=0.005\n",
      "  invs_MXRF11.SA=0.005\n",
      "  invs_JHSF3.SA=0.005\n",
      "  invs_IVVB11.SA=0.005\n",
      "  invs_HASH11.SA=0.005\n",
      "  invs_GOLD11.SA=0.005\n",
      "  invs_GOAU4.SA=0.005\n",
      "  invs_GGBR4.SA=0.005\n",
      "  invs_FESA4.SA=0.041\n",
      "  invs_EGIE3.SA=0.005\n",
      "  invs_DIRR3.SA=0.005\n",
      "  invs_CYRE3.SA=0.005\n",
      "  invs_CSAN3.SA=0.005\n",
      "  invs_COGN3.SA=0.005\n",
      "  invs_BRPR3.SA=0.005\n",
      "  invs_BRML3.SA=0.150\n",
      "  invs_BOVA11.SA=0.005\n",
      "  invs_BIAU39.SA=0.040\n",
      "  invs_BABA34.SA=0.005\n",
      "  invs_AURA33.SA=0.150\n",
      "  invs_ALUP11.SA=0.005\n",
      "  invs_ALSO3.SA=0.054\n"
     ]
    }
   ],
   "source": [
    "model.print_solution()"
   ]
  },
  {
   "cell_type": "code",
   "execution_count": 493,
   "metadata": {},
   "outputs": [],
   "source": [
    "total_var = 0\n",
    "for i in keys:\n",
    "    total_var += x[i].solution_value * var_dict[i]"
   ]
  },
  {
   "cell_type": "code",
   "execution_count": 494,
   "metadata": {},
   "outputs": [],
   "source": [
    "total_rf = 0\n",
    "for i in rf:\n",
    "    total_rf += x[i].solution_value"
   ]
  },
  {
   "cell_type": "code",
   "execution_count": 495,
   "metadata": {},
   "outputs": [],
   "source": [
    "total_a = 0\n",
    "for i in a:\n",
    "    total_a += x[i].solution_value"
   ]
  },
  {
   "cell_type": "code",
   "execution_count": 496,
   "metadata": {},
   "outputs": [
    {
     "name": "stdout",
     "output_type": "stream",
     "text": [
      "Retorno encontrado pela função objetivo:  8.25320014528391\n",
      "Variância total:  59.99999999999999\n",
      "Total alocado em renda fixa:  0.15\n",
      "Total alocado em renda variável:  0.85\n"
     ]
    }
   ],
   "source": [
    "print('Retorno encontrado pela função objetivo: ', model.objective_value)\n",
    "print('Variância total: ', total_var)\n",
    "print('Total alocado em renda fixa: ', total_rf)\n",
    "print('Total alocado em renda variável: ', total_a)"
   ]
  },
  {
   "cell_type": "markdown",
   "metadata": {},
   "source": [
    "#### 2.2.2 Modelo removendo algumas restrições entre ativos de renda variável"
   ]
  },
  {
   "cell_type": "markdown",
   "metadata": {},
   "source": [
    "* Minimizando a variância e com retorno mínimo de 8%"
   ]
  },
  {
   "cell_type": "code",
   "execution_count": 497,
   "metadata": {},
   "outputs": [],
   "source": [
    "model = Model()\n",
    "x = model.continuous_var_dict(keys, name='invs')"
   ]
  },
  {
   "cell_type": "code",
   "execution_count": 498,
   "metadata": {},
   "outputs": [],
   "source": [
    "model.minimize(model.sum(x[i] * var_dict[i] for i in x.keys()))"
   ]
  },
  {
   "cell_type": "code",
   "execution_count": 499,
   "metadata": {},
   "outputs": [
    {
     "data": {
      "text/plain": [
       "docplex.mp.LinearConstraint[](-7.180invs_IPCA-22.080invs_XINA11.SA-7.450invs_VIVT3.SA-8.940invs_TRPL4.SA-23.360invs_TRIS3.SA+0.290invs_TGAR11.SA-19.570invs_TEND3.SA+24.530invs_TAEE11.SA-12.050invs_SULA11.SA-3.510invs_RAIZ4.SA-38invs_OIBR3.SA-0.800invs_MXRF11.SA+7.340invs_JHSF3.SA+9.530invs_IVVB11.SA-5.790invs_HASH11.SA-3.850invs_GOLD11.SA+1.410invs_GOAU4.SA+2.380invs_GGBR4.SA+16.510invs_FESA4.SA-7.680invs_EGIE3.SA-6.520invs_DIRR3.SA-17.040invs_CYRE3.SA+4.830invs_CSAN3.SA-14.840invs_COGN3.SA-3.450invs_BRPR3.SA+22.010invs_BRML3.SA+4.700invs_BOVA11.SA-1.770invs_BIAU39.SA-27.990invs_BABA34.SA+14.350invs_AURA33.SA-5.530invs_ALUP11.SA+8.660invs_ALSO3.SA,GE,8)"
      ]
     },
     "execution_count": 499,
     "metadata": {},
     "output_type": "execute_result"
    }
   ],
   "source": [
    "model.add_constraint(model.sum(x[i] for i in rf) == 0.15)\n",
    "model.add_constraint(model.sum(x[i] for i in a) == 0.85)\n",
    "model.add_constraints(x[i] >= 0.005 for i in keys)\n",
    "model.add_constraints(x[i] <= 0.15 for i in keys)\n",
    "model.add_constraint(model.sum(x[i] for i in keys) == 1)\n",
    "model.add_constraint(model.sum(x[i] * return_dict[i] for i in keys) >= 8)"
   ]
  },
  {
   "cell_type": "code",
   "execution_count": 500,
   "metadata": {},
   "outputs": [
    {
     "name": "stdout",
     "output_type": "stream",
     "text": [
      "Version identifier: 20.1.0.0 | 2020-11-10 | 9bedb6d68\n",
      "CPXPARAM_Read_DataCheck                          1\n",
      "CPXPARAM_RandomSeed                              202001241\n",
      "Tried aggregator 1 time.\n",
      "LP Presolve eliminated 73 rows and 1 columns.\n",
      "Aggregator did 1 substitutions.\n",
      "Reduced LP has 2 rows, 34 columns, and 65 nonzeros.\n",
      "Presolve time = 0.00 sec. (0.05 ticks)\n",
      "Initializing dual steep norms . . .\n",
      "\n",
      "Iteration log . . .\n",
      "Iteration:     1   Dual objective     =            47.844950\n"
     ]
    }
   ],
   "source": [
    "solution = model.solve(log_output=True)"
   ]
  },
  {
   "cell_type": "code",
   "execution_count": 501,
   "metadata": {},
   "outputs": [
    {
     "name": "stdout",
     "output_type": "stream",
     "text": [
      "objective: 49.266\n",
      "  invs_IPCA=0.140\n",
      "  invs_Selic=0.005\n",
      "  invs_Prefixado=0.005\n",
      "  invs_KNRI11.SA=0.005\n",
      "  invs_XPCI11.SA=0.005\n",
      "  invs_XINA11.SA=0.005\n",
      "  invs_VIVT3.SA=0.005\n",
      "  invs_TRPL4.SA=0.005\n",
      "  invs_TRIS3.SA=0.005\n",
      "  invs_TGAR11.SA=0.005\n",
      "  invs_TEND3.SA=0.005\n",
      "  invs_TAEE11.SA=0.150\n",
      "  invs_SULA11.SA=0.005\n",
      "  invs_RAIZ4.SA=0.005\n",
      "  invs_OIBR3.SA=0.005\n",
      "  invs_MXRF11.SA=0.005\n",
      "  invs_JHSF3.SA=0.150\n",
      "  invs_IVVB11.SA=0.005\n",
      "  invs_HASH11.SA=0.005\n",
      "  invs_GOLD11.SA=0.005\n",
      "  invs_GOAU4.SA=0.005\n",
      "  invs_GGBR4.SA=0.005\n",
      "  invs_FESA4.SA=0.005\n",
      "  invs_EGIE3.SA=0.005\n",
      "  invs_DIRR3.SA=0.005\n",
      "  invs_CYRE3.SA=0.005\n",
      "  invs_CSAN3.SA=0.110\n",
      "  invs_COGN3.SA=0.005\n",
      "  invs_BRPR3.SA=0.005\n",
      "  invs_BRML3.SA=0.150\n",
      "  invs_BOVA11.SA=0.005\n",
      "  invs_BIAU39.SA=0.005\n",
      "  invs_BABA34.SA=0.005\n",
      "  invs_AURA33.SA=0.005\n",
      "  invs_ALUP11.SA=0.005\n",
      "  invs_ALSO3.SA=0.150\n"
     ]
    }
   ],
   "source": [
    "model.print_solution()"
   ]
  },
  {
   "cell_type": "code",
   "execution_count": 502,
   "metadata": {},
   "outputs": [],
   "source": [
    "total_return = 0\n",
    "for i in keys:\n",
    "    total_return += x[i].solution_value * return_dict[i]"
   ]
  },
  {
   "cell_type": "code",
   "execution_count": 503,
   "metadata": {},
   "outputs": [],
   "source": [
    "total_rf = 0\n",
    "for i in rf:\n",
    "    total_rf += x[i].solution_value"
   ]
  },
  {
   "cell_type": "code",
   "execution_count": 504,
   "metadata": {},
   "outputs": [],
   "source": [
    "total_a = 0\n",
    "for i in a:\n",
    "    total_a += x[i].solution_value"
   ]
  },
  {
   "cell_type": "code",
   "execution_count": 505,
   "metadata": {},
   "outputs": [
    {
     "name": "stdout",
     "output_type": "stream",
     "text": [
      "Variâcia encontrada pela função objetivo:  49.26582378922695\n",
      "Retorno total:  7.999999999999998\n",
      "Total alocado em renda fixa:  0.15\n",
      "Total alocado em renda variável:  0.85\n"
     ]
    }
   ],
   "source": [
    "print('Variâcia encontrada pela função objetivo: ', model.objective_value)\n",
    "print('Retorno total: ', total_return)\n",
    "print('Total alocado em renda fixa: ', total_rf)\n",
    "print('Total alocado em renda variável: ', total_a)"
   ]
  },
  {
   "cell_type": "markdown",
   "metadata": {},
   "source": [
    "* Maximizando o retorno e com variância máxima de 60"
   ]
  },
  {
   "cell_type": "code",
   "execution_count": 506,
   "metadata": {},
   "outputs": [],
   "source": [
    "model = Model()\n",
    "x = model.continuous_var_dict(keys, name='invs')"
   ]
  },
  {
   "cell_type": "code",
   "execution_count": 507,
   "metadata": {},
   "outputs": [],
   "source": [
    "model.maximize(model.sum(x[i] * return_dict[i] for i in x.keys()))"
   ]
  },
  {
   "cell_type": "code",
   "execution_count": 508,
   "metadata": {},
   "outputs": [
    {
     "data": {
      "text/plain": [
       "docplex.mp.LinearConstraint[](5.246invs_IPCA+7605.365invs_Selic+271.496invs_Prefixado+98.007invs_KNRI11.SA+20.129invs_XPCI11.SA+1.043invs_XINA11.SA+2.957invs_VIVT3.SA+3.319invs_TRPL4.SA+1.815invs_TRIS3.SA+17.432invs_TGAR11.SA+8.985invs_TEND3.SA+17.796invs_TAEE11.SA+14.536invs_SULA11.SA+0.052invs_RAIZ4.SA+0.129invs_OIBR3.SA+0.054invs_MXRF11.SA+0.195invs_JHSF3.SA+362.580invs_IVVB11.SA+74.324invs_HASH11.SA+0.129invs_GOLD11.SA+3.908invs_GOAU4.SA+19.253invs_GGBR4.SA+156.573invs_FESA4.SA+4.320invs_EGIE3.SA+0.763invs_DIRR3.SA+7.920invs_CYRE3.SA+7.424invs_CSAN3.SA+0.407invs_COGN3.SA+0.401invs_BRPR3.SA+0.651invs_BRML3.SA+86.711invs_BOVA11.SA+2.374invs_BIAU39.SA+62.985invs_BABA34.SA+26.882invs_AURA33.SA+1.741invs_ALUP11.SA+4.253invs_ALSO3.SA,LE,60)"
      ]
     },
     "execution_count": 508,
     "metadata": {},
     "output_type": "execute_result"
    }
   ],
   "source": [
    "model.add_constraint(model.sum(x[i] for i in fi) == 0.15)\n",
    "model.add_constraint(model.sum(x[i] for i in rf) == 0.15)\n",
    "model.add_constraint(model.sum(x[i] for i in ghb) == 0.05)\n",
    "model.add_constraint(model.sum(x[i] for i in r) == 0.65)\n",
    "model.add_constraints(x[i] >= 0.005 for i in keys)\n",
    "model.add_constraints(x[i] <= 0.15 for i in keys)\n",
    "model.add_constraint(model.sum(x[i] for i in keys) == 1)\n",
    "model.add_constraint(model.sum(x[i] * var_dict[i] for i in keys) <= 60)"
   ]
  },
  {
   "cell_type": "code",
   "execution_count": 509,
   "metadata": {},
   "outputs": [
    {
     "name": "stdout",
     "output_type": "stream",
     "text": [
      "Version identifier: 20.1.0.0 | 2020-11-10 | 9bedb6d68\n",
      "CPXPARAM_Read_DataCheck                          1\n",
      "CPXPARAM_RandomSeed                              202001241\n",
      "Tried aggregator 1 time.\n",
      "LP Presolve eliminated 73 rows and 0 columns.\n",
      "Reduced LP has 5 rows, 36 columns, and 72 nonzeros.\n",
      "Presolve time = 0.00 sec. (0.05 ticks)\n",
      "Initializing dual steep norms . . .\n",
      "\n",
      "Iteration log . . .\n",
      "Iteration:     1   Dual objective     =             9.733450\n"
     ]
    }
   ],
   "source": [
    "solution = model.solve(log_output=True)"
   ]
  },
  {
   "cell_type": "code",
   "execution_count": 510,
   "metadata": {},
   "outputs": [
    {
     "name": "stdout",
     "output_type": "stream",
     "text": [
      "objective: 8.253\n",
      "  invs_IPCA=0.140\n",
      "  invs_Selic=0.005\n",
      "  invs_Prefixado=0.005\n",
      "  invs_KNRI11.SA=0.005\n",
      "  invs_XPCI11.SA=0.005\n",
      "  invs_XINA11.SA=0.005\n",
      "  invs_VIVT3.SA=0.005\n",
      "  invs_TRPL4.SA=0.005\n",
      "  invs_TRIS3.SA=0.005\n",
      "  invs_TGAR11.SA=0.135\n",
      "  invs_TEND3.SA=0.005\n",
      "  invs_TAEE11.SA=0.150\n",
      "  invs_SULA11.SA=0.005\n",
      "  invs_RAIZ4.SA=0.005\n",
      "  invs_OIBR3.SA=0.005\n",
      "  invs_MXRF11.SA=0.005\n",
      "  invs_JHSF3.SA=0.005\n",
      "  invs_IVVB11.SA=0.005\n",
      "  invs_HASH11.SA=0.005\n",
      "  invs_GOLD11.SA=0.005\n",
      "  invs_GOAU4.SA=0.005\n",
      "  invs_GGBR4.SA=0.005\n",
      "  invs_FESA4.SA=0.041\n",
      "  invs_EGIE3.SA=0.005\n",
      "  invs_DIRR3.SA=0.005\n",
      "  invs_CYRE3.SA=0.005\n",
      "  invs_CSAN3.SA=0.005\n",
      "  invs_COGN3.SA=0.005\n",
      "  invs_BRPR3.SA=0.005\n",
      "  invs_BRML3.SA=0.150\n",
      "  invs_BOVA11.SA=0.005\n",
      "  invs_BIAU39.SA=0.040\n",
      "  invs_BABA34.SA=0.005\n",
      "  invs_AURA33.SA=0.150\n",
      "  invs_ALUP11.SA=0.005\n",
      "  invs_ALSO3.SA=0.054\n"
     ]
    }
   ],
   "source": [
    "model.print_solution()"
   ]
  },
  {
   "cell_type": "code",
   "execution_count": 511,
   "metadata": {},
   "outputs": [],
   "source": [
    "total_var = 0\n",
    "for i in keys:\n",
    "    total_var += x[i].solution_value * var_dict[i]"
   ]
  },
  {
   "cell_type": "code",
   "execution_count": 512,
   "metadata": {},
   "outputs": [],
   "source": [
    "total_rf = 0\n",
    "for i in rf:\n",
    "    total_rf += x[i].solution_value"
   ]
  },
  {
   "cell_type": "code",
   "execution_count": 513,
   "metadata": {},
   "outputs": [],
   "source": [
    "total_a = 0\n",
    "for i in a:\n",
    "    total_a += x[i].solution_value"
   ]
  },
  {
   "cell_type": "code",
   "execution_count": 514,
   "metadata": {},
   "outputs": [
    {
     "name": "stdout",
     "output_type": "stream",
     "text": [
      "Retorno encontrado pela função objetivo:  8.25320014528391\n",
      "Variância total:  59.99999999999999\n",
      "Total alocado em renda fixa:  0.15\n",
      "Total alocado em renda variável:  0.85\n"
     ]
    }
   ],
   "source": [
    "print('Retorno encontrado pela função objetivo: ', model.objective_value)\n",
    "print('Variância total: ', total_var)\n",
    "print('Total alocado em renda fixa: ', total_rf)\n",
    "print('Total alocado em renda variável: ', total_a)"
   ]
  },
  {
   "cell_type": "markdown",
   "metadata": {},
   "source": [
    "#### 2.2.3 Modelo removendo algumas restrições e utilizando faixas de restrições"
   ]
  },
  {
   "cell_type": "markdown",
   "metadata": {},
   "source": [
    "* Minimizando a variância e com retorno mínimo de 8%"
   ]
  },
  {
   "cell_type": "code",
   "execution_count": 515,
   "metadata": {},
   "outputs": [],
   "source": [
    "model = Model()\n",
    "x = model.continuous_var_dict(keys, name='invs')"
   ]
  },
  {
   "cell_type": "code",
   "execution_count": 516,
   "metadata": {},
   "outputs": [],
   "source": [
    "model.minimize(model.sum(x[i] * var_dict[i] for i in x.keys()))"
   ]
  },
  {
   "cell_type": "code",
   "execution_count": 517,
   "metadata": {},
   "outputs": [
    {
     "data": {
      "text/plain": [
       "docplex.mp.LinearConstraint[](-7.180invs_IPCA-22.080invs_XINA11.SA-7.450invs_VIVT3.SA-8.940invs_TRPL4.SA-23.360invs_TRIS3.SA+0.290invs_TGAR11.SA-19.570invs_TEND3.SA+24.530invs_TAEE11.SA-12.050invs_SULA11.SA-3.510invs_RAIZ4.SA-38invs_OIBR3.SA-0.800invs_MXRF11.SA+7.340invs_JHSF3.SA+9.530invs_IVVB11.SA-5.790invs_HASH11.SA-3.850invs_GOLD11.SA+1.410invs_GOAU4.SA+2.380invs_GGBR4.SA+16.510invs_FESA4.SA-7.680invs_EGIE3.SA-6.520invs_DIRR3.SA-17.040invs_CYRE3.SA+4.830invs_CSAN3.SA-14.840invs_COGN3.SA-3.450invs_BRPR3.SA+22.010invs_BRML3.SA+4.700invs_BOVA11.SA-1.770invs_BIAU39.SA-27.990invs_BABA34.SA+14.350invs_AURA33.SA-5.530invs_ALUP11.SA+8.660invs_ALSO3.SA,GE,8)"
      ]
     },
     "execution_count": 517,
     "metadata": {},
     "output_type": "execute_result"
    }
   ],
   "source": [
    "model.add_constraint(model.sum(x[i] for i in rf) >= 0.1)\n",
    "model.add_constraint(model.sum(x[i] for i in rf) <= 0.3)\n",
    "model.add_constraint(model.sum(x[i] for i in a) >= 0.5)\n",
    "model.add_constraint(model.sum(x[i] for i in a) <= 0.8)\n",
    "model.add_constraints(x[i] >= 0.005 for i in keys)\n",
    "model.add_constraints(x[i] <= 0.15 for i in keys)\n",
    "model.add_constraint(model.sum(x[i] for i in keys) == 1)\n",
    "model.add_constraint(model.sum(x[i] * return_dict[i] for i in keys) >= 8)"
   ]
  },
  {
   "cell_type": "code",
   "execution_count": 518,
   "metadata": {},
   "outputs": [
    {
     "name": "stdout",
     "output_type": "stream",
     "text": [
      "Version identifier: 20.1.0.0 | 2020-11-10 | 9bedb6d68\n",
      "CPXPARAM_Read_DataCheck                          1\n",
      "CPXPARAM_RandomSeed                              202001241\n",
      "Tried aggregator 1 time.\n",
      "LP Presolve eliminated 72 rows and 0 columns.\n",
      "Reduced LP has 6 rows, 36 columns, and 140 nonzeros.\n",
      "Presolve time = 0.00 sec. (0.04 ticks)\n",
      "Initializing dual steep norms . . .\n",
      "\n",
      "Iteration log . . .\n",
      "Iteration:     1   Dual objective     =            47.768057\n"
     ]
    }
   ],
   "source": [
    "solution = model.solve(log_output=True)"
   ]
  },
  {
   "cell_type": "code",
   "execution_count": 519,
   "metadata": {},
   "outputs": [
    {
     "name": "stdout",
     "output_type": "stream",
     "text": [
      "objective: 60.446\n",
      "  invs_IPCA=0.150\n",
      "  invs_Selic=0.005\n",
      "  invs_Prefixado=0.045\n",
      "  invs_KNRI11.SA=0.005\n",
      "  invs_XPCI11.SA=0.005\n",
      "  invs_XINA11.SA=0.005\n",
      "  invs_VIVT3.SA=0.005\n",
      "  invs_TRPL4.SA=0.005\n",
      "  invs_TRIS3.SA=0.005\n",
      "  invs_TGAR11.SA=0.005\n",
      "  invs_TEND3.SA=0.005\n",
      "  invs_TAEE11.SA=0.150\n",
      "  invs_SULA11.SA=0.005\n",
      "  invs_RAIZ4.SA=0.005\n",
      "  invs_OIBR3.SA=0.005\n",
      "  invs_MXRF11.SA=0.005\n",
      "  invs_JHSF3.SA=0.150\n",
      "  invs_IVVB11.SA=0.005\n",
      "  invs_HASH11.SA=0.005\n",
      "  invs_GOLD11.SA=0.005\n",
      "  invs_GOAU4.SA=0.005\n",
      "  invs_GGBR4.SA=0.005\n",
      "  invs_FESA4.SA=0.005\n",
      "  invs_EGIE3.SA=0.005\n",
      "  invs_DIRR3.SA=0.005\n",
      "  invs_CYRE3.SA=0.005\n",
      "  invs_CSAN3.SA=0.027\n",
      "  invs_COGN3.SA=0.005\n",
      "  invs_BRPR3.SA=0.005\n",
      "  invs_BRML3.SA=0.150\n",
      "  invs_BOVA11.SA=0.005\n",
      "  invs_BIAU39.SA=0.005\n",
      "  invs_BABA34.SA=0.005\n",
      "  invs_AURA33.SA=0.038\n",
      "  invs_ALUP11.SA=0.005\n",
      "  invs_ALSO3.SA=0.150\n"
     ]
    }
   ],
   "source": [
    "model.print_solution()"
   ]
  },
  {
   "cell_type": "code",
   "execution_count": 520,
   "metadata": {},
   "outputs": [],
   "source": [
    "total_return = 0\n",
    "for i in keys:\n",
    "    total_return += x[i].solution_value * return_dict[i]"
   ]
  },
  {
   "cell_type": "code",
   "execution_count": 521,
   "metadata": {},
   "outputs": [],
   "source": [
    "total_rf = 0\n",
    "for i in rf:\n",
    "    total_rf += x[i].solution_value"
   ]
  },
  {
   "cell_type": "code",
   "execution_count": 522,
   "metadata": {},
   "outputs": [],
   "source": [
    "total_a = 0\n",
    "for i in a:\n",
    "    total_a += x[i].solution_value"
   ]
  },
  {
   "cell_type": "code",
   "execution_count": 523,
   "metadata": {},
   "outputs": [
    {
     "name": "stdout",
     "output_type": "stream",
     "text": [
      "Variâcia encontrada pela função objetivo:  60.44593636350359\n",
      "Retorno total:  7.999999999999998\n",
      "Total alocado em renda fixa:  0.19999999999999987\n",
      "Total alocado em renda variável:  0.7999999999999999\n"
     ]
    }
   ],
   "source": [
    "print('Variâcia encontrada pela função objetivo: ', model.objective_value)\n",
    "print('Retorno total: ', total_return)\n",
    "print('Total alocado em renda fixa: ', total_rf)\n",
    "print('Total alocado em renda variável: ', total_a)"
   ]
  },
  {
   "cell_type": "markdown",
   "metadata": {},
   "source": [
    "* Maximizando o retorno e com variância máxima de 60"
   ]
  },
  {
   "cell_type": "code",
   "execution_count": 524,
   "metadata": {},
   "outputs": [],
   "source": [
    "model = Model()\n",
    "x = model.continuous_var_dict(keys, name='invs')"
   ]
  },
  {
   "cell_type": "code",
   "execution_count": 525,
   "metadata": {},
   "outputs": [],
   "source": [
    "model.maximize(model.sum(x[i] * return_dict[i] for i in x.keys()))"
   ]
  },
  {
   "cell_type": "code",
   "execution_count": 526,
   "metadata": {},
   "outputs": [
    {
     "data": {
      "text/plain": [
       "docplex.mp.LinearConstraint[](5.246invs_IPCA+7605.365invs_Selic+271.496invs_Prefixado+98.007invs_KNRI11.SA+20.129invs_XPCI11.SA+1.043invs_XINA11.SA+2.957invs_VIVT3.SA+3.319invs_TRPL4.SA+1.815invs_TRIS3.SA+17.432invs_TGAR11.SA+8.985invs_TEND3.SA+17.796invs_TAEE11.SA+14.536invs_SULA11.SA+0.052invs_RAIZ4.SA+0.129invs_OIBR3.SA+0.054invs_MXRF11.SA+0.195invs_JHSF3.SA+362.580invs_IVVB11.SA+74.324invs_HASH11.SA+0.129invs_GOLD11.SA+3.908invs_GOAU4.SA+19.253invs_GGBR4.SA+156.573invs_FESA4.SA+4.320invs_EGIE3.SA+0.763invs_DIRR3.SA+7.920invs_CYRE3.SA+7.424invs_CSAN3.SA+0.407invs_COGN3.SA+0.401invs_BRPR3.SA+0.651invs_BRML3.SA+86.711invs_BOVA11.SA+2.374invs_BIAU39.SA+62.985invs_BABA34.SA+26.882invs_AURA33.SA+1.741invs_ALUP11.SA+4.253invs_ALSO3.SA,LE,60)"
      ]
     },
     "execution_count": 526,
     "metadata": {},
     "output_type": "execute_result"
    }
   ],
   "source": [
    "model.add_constraint(model.sum(x[i] for i in rf) >= 0.1)\n",
    "model.add_constraint(model.sum(x[i] for i in rf) <= 0.3)\n",
    "model.add_constraint(model.sum(x[i] for i in a) >= 0.5)\n",
    "model.add_constraint(model.sum(x[i] for i in a) <= 0.8)\n",
    "model.add_constraints(x[i] >= 0.005 for i in keys)\n",
    "model.add_constraints(x[i] <= 0.15 for i in keys)\n",
    "model.add_constraint(model.sum(x[i] for i in keys) == 1)\n",
    "model.add_constraint(model.sum(x[i] * var_dict[i] for i in keys) <= 60)"
   ]
  },
  {
   "cell_type": "code",
   "execution_count": 527,
   "metadata": {},
   "outputs": [
    {
     "name": "stdout",
     "output_type": "stream",
     "text": [
      "Version identifier: 20.1.0.0 | 2020-11-10 | 9bedb6d68\n",
      "CPXPARAM_Read_DataCheck                          1\n",
      "CPXPARAM_RandomSeed                              202001241\n",
      "Tried aggregator 1 time.\n",
      "LP Presolve eliminated 73 rows and 0 columns.\n",
      "Reduced LP has 5 rows, 36 columns, and 141 nonzeros.\n",
      "Presolve time = 0.00 sec. (0.05 ticks)\n",
      "Initializing dual steep norms . . .\n",
      "\n",
      "Iteration log . . .\n",
      "Iteration:     1   Dual objective     =            11.221150\n"
     ]
    }
   ],
   "source": [
    "solution = model.solve(log_output=True)"
   ]
  },
  {
   "cell_type": "code",
   "execution_count": 528,
   "metadata": {},
   "outputs": [
    {
     "name": "stdout",
     "output_type": "stream",
     "text": [
      "objective: 7.782\n",
      "  invs_IPCA=0.150\n",
      "  invs_Selic=0.005\n",
      "  invs_Prefixado=0.045\n",
      "  invs_KNRI11.SA=0.005\n",
      "  invs_XPCI11.SA=0.005\n",
      "  invs_XINA11.SA=0.005\n",
      "  invs_VIVT3.SA=0.005\n",
      "  invs_TRPL4.SA=0.005\n",
      "  invs_TRIS3.SA=0.005\n",
      "  invs_TGAR11.SA=0.005\n",
      "  invs_TEND3.SA=0.005\n",
      "  invs_TAEE11.SA=0.150\n",
      "  invs_SULA11.SA=0.005\n",
      "  invs_RAIZ4.SA=0.005\n",
      "  invs_OIBR3.SA=0.005\n",
      "  invs_MXRF11.SA=0.005\n",
      "  invs_JHSF3.SA=0.150\n",
      "  invs_IVVB11.SA=0.005\n",
      "  invs_HASH11.SA=0.005\n",
      "  invs_GOLD11.SA=0.005\n",
      "  invs_GOAU4.SA=0.005\n",
      "  invs_GGBR4.SA=0.005\n",
      "  invs_FESA4.SA=0.005\n",
      "  invs_EGIE3.SA=0.005\n",
      "  invs_DIRR3.SA=0.005\n",
      "  invs_CYRE3.SA=0.005\n",
      "  invs_CSAN3.SA=0.050\n",
      "  invs_COGN3.SA=0.005\n",
      "  invs_BRPR3.SA=0.005\n",
      "  invs_BRML3.SA=0.150\n",
      "  invs_BOVA11.SA=0.005\n",
      "  invs_BIAU39.SA=0.005\n",
      "  invs_BABA34.SA=0.005\n",
      "  invs_AURA33.SA=0.015\n",
      "  invs_ALUP11.SA=0.005\n",
      "  invs_ALSO3.SA=0.150\n"
     ]
    }
   ],
   "source": [
    "model.print_solution()"
   ]
  },
  {
   "cell_type": "code",
   "execution_count": 529,
   "metadata": {},
   "outputs": [],
   "source": [
    "total_var = 0\n",
    "for i in keys:\n",
    "    total_var += x[i].solution_value * var_dict[i]"
   ]
  },
  {
   "cell_type": "code",
   "execution_count": 530,
   "metadata": {},
   "outputs": [],
   "source": [
    "total_rf = 0\n",
    "for i in rf:\n",
    "    total_rf += x[i].solution_value"
   ]
  },
  {
   "cell_type": "code",
   "execution_count": 531,
   "metadata": {},
   "outputs": [],
   "source": [
    "total_a = 0\n",
    "for i in a:\n",
    "    total_a += x[i].solution_value"
   ]
  },
  {
   "cell_type": "code",
   "execution_count": 532,
   "metadata": {},
   "outputs": [
    {
     "name": "stdout",
     "output_type": "stream",
     "text": [
      "Retorno encontrado pela função objetivo:  7.781820424042756\n",
      "Variância total:  60.00000000000001\n",
      "Total alocado em renda fixa:  0.1999999999999999\n",
      "Total alocado em renda variável:  0.8\n"
     ]
    }
   ],
   "source": [
    "print('Retorno encontrado pela função objetivo: ', model.objective_value)\n",
    "print('Variância total: ', total_var)\n",
    "print('Total alocado em renda fixa: ', total_rf)\n",
    "print('Total alocado em renda variável: ', total_a)"
   ]
  },
  {
   "cell_type": "markdown",
   "metadata": {},
   "source": [
    "#### 2.2.4 Modelo mais livre"
   ]
  },
  {
   "cell_type": "markdown",
   "metadata": {},
   "source": [
    "* Minimizando a variância e com retorno mínimo de 8%"
   ]
  },
  {
   "cell_type": "code",
   "execution_count": 632,
   "metadata": {},
   "outputs": [],
   "source": [
    "model = Model()\n",
    "x = model.continuous_var_dict(keys, name='invs')"
   ]
  },
  {
   "cell_type": "code",
   "execution_count": 633,
   "metadata": {},
   "outputs": [],
   "source": [
    "model.minimize(model.sum(x[i] * var_dict[i] for i in x.keys()))"
   ]
  },
  {
   "cell_type": "code",
   "execution_count": 634,
   "metadata": {},
   "outputs": [
    {
     "data": {
      "text/plain": [
       "docplex.mp.LinearConstraint[](8.660invs_ALSO3.SA-5.530invs_ALUP11.SA+14.350invs_AURA33.SA-27.990invs_BABA34.SA+4.700invs_BOVA11.SA+22.010invs_BRML3.SA-3.450invs_BRPR3.SA-14.840invs_COGN3.SA+4.830invs_CSAN3.SA-17.040invs_CYRE3.SA-6.520invs_DIRR3.SA-7.680invs_EGIE3.SA+16.510invs_FESA4.SA+2.380invs_GGBR4.SA+1.410invs_GOAU4.SA+9.530invs_IVVB11.SA+7.340invs_JHSF3.SA-0.800invs_MXRF11.SA-38invs_OIBR3.SA-3.510invs_RAIZ4.SA-12.050invs_SULA11.SA+24.530invs_TAEE11.SA-19.570invs_TEND3.SA-23.360invs_TRIS3.SA-8.940invs_TRPL4.SA-7.450invs_VIVT3.SA-7.180invs_IPCA-5.790invs_HASH11.SA+0.290invs_TGAR11.SA-1.770invs_BIAU39.SA-3.850invs_GOLD11.SA-22.080invs_XINA11.SA,GE,8)"
      ]
     },
     "execution_count": 634,
     "metadata": {},
     "output_type": "execute_result"
    }
   ],
   "source": [
    "model.add_constraints(x[i] >= 0.005 for i in keys)\n",
    "model.add_constraints(x[i] <= 0.15 for i in keys)\n",
    "model.add_constraint(model.sum(x[i] for i in keys) == 1)\n",
    "model.add_constraint(model.sum(x[i] * return_dict[i] for i in keys) >= 8)"
   ]
  },
  {
   "cell_type": "code",
   "execution_count": 635,
   "metadata": {},
   "outputs": [
    {
     "name": "stdout",
     "output_type": "stream",
     "text": [
      "Version identifier: 20.1.0.0 | 2020-11-10 | 9bedb6d68\n",
      "CPXPARAM_Read_DataCheck                          1\n",
      "CPXPARAM_RandomSeed                              202001241\n",
      "Tried aggregator 1 time.\n",
      "LP Presolve eliminated 72 rows and 0 columns.\n",
      "Reduced LP has 2 rows, 36 columns, and 68 nonzeros.\n",
      "Presolve time = 0.02 sec. (0.03 ticks)\n",
      "Initializing dual steep norms . . .\n",
      "\n",
      "Iteration log . . .\n",
      "Iteration:     1   Dual objective     =            47.768057\n"
     ]
    }
   ],
   "source": [
    "solution = model.solve(log_output=True)"
   ]
  },
  {
   "cell_type": "code",
   "execution_count": 636,
   "metadata": {},
   "outputs": [
    {
     "name": "stdout",
     "output_type": "stream",
     "text": [
      "objective: 47.784\n",
      "  invs_ALSO3.SA=0.150\n",
      "  invs_ALUP11.SA=0.005\n",
      "  invs_AURA33.SA=0.005\n",
      "  invs_BABA34.SA=0.005\n",
      "  invs_BOVA11.SA=0.005\n",
      "  invs_BRML3.SA=0.150\n",
      "  invs_BRPR3.SA=0.005\n",
      "  invs_COGN3.SA=0.005\n",
      "  invs_CSAN3.SA=0.005\n",
      "  invs_CYRE3.SA=0.005\n",
      "  invs_DIRR3.SA=0.005\n",
      "  invs_EGIE3.SA=0.005\n",
      "  invs_FESA4.SA=0.005\n",
      "  invs_GGBR4.SA=0.005\n",
      "  invs_GOAU4.SA=0.005\n",
      "  invs_IVVB11.SA=0.005\n",
      "  invs_JHSF3.SA=0.150\n",
      "  invs_KNRI11.SA=0.005\n",
      "  invs_MXRF11.SA=0.150\n",
      "  invs_OIBR3.SA=0.005\n",
      "  invs_RAIZ4.SA=0.101\n",
      "  invs_SULA11.SA=0.005\n",
      "  invs_TAEE11.SA=0.149\n",
      "  invs_TEND3.SA=0.005\n",
      "  invs_TRIS3.SA=0.005\n",
      "  invs_TRPL4.SA=0.005\n",
      "  invs_VIVT3.SA=0.005\n",
      "  invs_XPCI11.SA=0.005\n",
      "  invs_Selic=0.005\n",
      "  invs_Prefixado=0.005\n",
      "  invs_IPCA=0.005\n",
      "  invs_HASH11.SA=0.005\n",
      "  invs_TGAR11.SA=0.005\n",
      "  invs_BIAU39.SA=0.005\n",
      "  invs_GOLD11.SA=0.005\n",
      "  invs_XINA11.SA=0.005\n"
     ]
    }
   ],
   "source": [
    "model.print_solution()"
   ]
  },
  {
   "cell_type": "code",
   "execution_count": 637,
   "metadata": {},
   "outputs": [],
   "source": [
    "total_return = 0\n",
    "for i in keys:\n",
    "    total_return += x[i].solution_value * return_dict[i]"
   ]
  },
  {
   "cell_type": "code",
   "execution_count": 638,
   "metadata": {},
   "outputs": [],
   "source": [
    "total_rf = 0\n",
    "for i in rf:\n",
    "    total_rf += x[i].solution_value"
   ]
  },
  {
   "cell_type": "code",
   "execution_count": 639,
   "metadata": {},
   "outputs": [],
   "source": [
    "total_a = 0\n",
    "for i in a:\n",
    "    total_a += x[i].solution_value"
   ]
  },
  {
   "cell_type": "code",
   "execution_count": 640,
   "metadata": {},
   "outputs": [
    {
     "name": "stdout",
     "output_type": "stream",
     "text": [
      "Variâcia encontrada pela função objetivo:  47.78417842637108\n",
      "Retorno total:  7.9999999999999964\n",
      "Total alocado em renda fixa:  0.015\n",
      "Total alocado em renda variável:  0.9849999999999999\n"
     ]
    }
   ],
   "source": [
    "print('Variâcia encontrada pela função objetivo: ', model.objective_value)\n",
    "print('Retorno total: ', total_return)\n",
    "print('Total alocado em renda fixa: ', total_rf)\n",
    "print('Total alocado em renda variável: ', total_a)"
   ]
  },
  {
   "cell_type": "markdown",
   "metadata": {},
   "source": [
    "* Maximizando o retorno e com variância máxima de 60"
   ]
  },
  {
   "cell_type": "code",
   "execution_count": 542,
   "metadata": {},
   "outputs": [],
   "source": [
    "model = Model()\n",
    "x = model.continuous_var_dict(keys, name='invs')"
   ]
  },
  {
   "cell_type": "code",
   "execution_count": 543,
   "metadata": {},
   "outputs": [],
   "source": [
    "model.maximize(model.sum(x[i] * return_dict[i] for i in x.keys()))"
   ]
  },
  {
   "cell_type": "code",
   "execution_count": 544,
   "metadata": {},
   "outputs": [
    {
     "data": {
      "text/plain": [
       "docplex.mp.LinearConstraint[](5.246invs_IPCA+7605.365invs_Selic+271.496invs_Prefixado+98.007invs_KNRI11.SA+20.129invs_XPCI11.SA+1.043invs_XINA11.SA+2.957invs_VIVT3.SA+3.319invs_TRPL4.SA+1.815invs_TRIS3.SA+17.432invs_TGAR11.SA+8.985invs_TEND3.SA+17.796invs_TAEE11.SA+14.536invs_SULA11.SA+0.052invs_RAIZ4.SA+0.129invs_OIBR3.SA+0.054invs_MXRF11.SA+0.195invs_JHSF3.SA+362.580invs_IVVB11.SA+74.324invs_HASH11.SA+0.129invs_GOLD11.SA+3.908invs_GOAU4.SA+19.253invs_GGBR4.SA+156.573invs_FESA4.SA+4.320invs_EGIE3.SA+0.763invs_DIRR3.SA+7.920invs_CYRE3.SA+7.424invs_CSAN3.SA+0.407invs_COGN3.SA+0.401invs_BRPR3.SA+0.651invs_BRML3.SA+86.711invs_BOVA11.SA+2.374invs_BIAU39.SA+62.985invs_BABA34.SA+26.882invs_AURA33.SA+1.741invs_ALUP11.SA+4.253invs_ALSO3.SA,LE,60)"
      ]
     },
     "execution_count": 544,
     "metadata": {},
     "output_type": "execute_result"
    }
   ],
   "source": [
    "model.add_constraints(x[i] >= 0.005 for i in keys)\n",
    "model.add_constraints(x[i] <= 0.15 for i in keys)\n",
    "model.add_constraint(model.sum(x[i] for i in keys) == 1)\n",
    "model.add_constraint(model.sum(x[i] * var_dict[i] for i in keys) <= 60)"
   ]
  },
  {
   "cell_type": "code",
   "execution_count": 545,
   "metadata": {},
   "outputs": [
    {
     "name": "stdout",
     "output_type": "stream",
     "text": [
      "Version identifier: 20.1.0.0 | 2020-11-10 | 9bedb6d68\n",
      "CPXPARAM_Read_DataCheck                          1\n",
      "CPXPARAM_RandomSeed                              202001241\n",
      "Tried aggregator 1 time.\n",
      "LP Presolve eliminated 72 rows and 0 columns.\n",
      "Reduced LP has 2 rows, 36 columns, and 72 nonzeros.\n",
      "Presolve time = 0.00 sec. (0.03 ticks)\n",
      "Initializing dual steep norms . . .\n",
      "\n",
      "Iteration log . . .\n",
      "Iteration:     1   Dual objective     =            11.936564\n"
     ]
    }
   ],
   "source": [
    "solution = model.solve(log_output=True)"
   ]
  },
  {
   "cell_type": "code",
   "execution_count": 546,
   "metadata": {},
   "outputs": [
    {
     "name": "stdout",
     "output_type": "stream",
     "text": [
      "objective: 11.600\n",
      "  invs_IPCA=0.005\n",
      "  invs_Selic=0.005\n",
      "  invs_Prefixado=0.005\n",
      "  invs_KNRI11.SA=0.005\n",
      "  invs_XPCI11.SA=0.005\n",
      "  invs_XINA11.SA=0.005\n",
      "  invs_VIVT3.SA=0.005\n",
      "  invs_TRPL4.SA=0.005\n",
      "  invs_TRIS3.SA=0.005\n",
      "  invs_TGAR11.SA=0.005\n",
      "  invs_TEND3.SA=0.005\n",
      "  invs_TAEE11.SA=0.150\n",
      "  invs_SULA11.SA=0.005\n",
      "  invs_RAIZ4.SA=0.005\n",
      "  invs_OIBR3.SA=0.005\n",
      "  invs_MXRF11.SA=0.005\n",
      "  invs_JHSF3.SA=0.150\n",
      "  invs_IVVB11.SA=0.005\n",
      "  invs_HASH11.SA=0.005\n",
      "  invs_GOLD11.SA=0.005\n",
      "  invs_GOAU4.SA=0.005\n",
      "  invs_GGBR4.SA=0.005\n",
      "  invs_FESA4.SA=0.056\n",
      "  invs_EGIE3.SA=0.005\n",
      "  invs_DIRR3.SA=0.005\n",
      "  invs_CYRE3.SA=0.005\n",
      "  invs_CSAN3.SA=0.049\n",
      "  invs_COGN3.SA=0.005\n",
      "  invs_BRPR3.SA=0.005\n",
      "  invs_BRML3.SA=0.150\n",
      "  invs_BOVA11.SA=0.005\n",
      "  invs_BIAU39.SA=0.005\n",
      "  invs_BABA34.SA=0.005\n",
      "  invs_AURA33.SA=0.150\n",
      "  invs_ALUP11.SA=0.005\n",
      "  invs_ALSO3.SA=0.150\n"
     ]
    }
   ],
   "source": [
    "model.print_solution()"
   ]
  },
  {
   "cell_type": "code",
   "execution_count": 547,
   "metadata": {},
   "outputs": [],
   "source": [
    "total_var = 0\n",
    "for i in keys:\n",
    "    total_var += x[i].solution_value * var_dict[i]"
   ]
  },
  {
   "cell_type": "code",
   "execution_count": 548,
   "metadata": {},
   "outputs": [],
   "source": [
    "total_rf = 0\n",
    "for i in rf:\n",
    "    total_rf += x[i].solution_value"
   ]
  },
  {
   "cell_type": "code",
   "execution_count": 549,
   "metadata": {},
   "outputs": [],
   "source": [
    "total_a = 0\n",
    "for i in a:\n",
    "    total_a += x[i].solution_value"
   ]
  },
  {
   "cell_type": "code",
   "execution_count": 551,
   "metadata": {},
   "outputs": [
    {
     "name": "stdout",
     "output_type": "stream",
     "text": [
      "Retorno encontrado pela função objetivo:  11.600042885457142\n",
      "Variância total:  59.99999999999999\n",
      "Total alocado em renda fixa:  0.015\n",
      "Total alocado em renda variável:  0.9849999999999999\n"
     ]
    }
   ],
   "source": [
    "print('Retorno encontrado pela função objetivo: ', model.objective_value)\n",
    "print('Variância total: ', total_var)\n",
    "print('Total alocado em renda fixa: ', total_rf)\n",
    "print('Total alocado em renda variável: ', total_a)"
   ]
  },
  {
   "cell_type": "markdown",
   "metadata": {},
   "source": [
    "#### 2.2.5 Extra - Abordagem de máximos locais"
   ]
  },
  {
   "cell_type": "markdown",
   "metadata": {},
   "source": [
    "Nessa abordagem maximizamos o número de máximos locais, de forma que o modelo alocará maior parte da carteira em ativos que tenham mais máximos. Essa abordagem é mais interessante para um perfil de investidor mais ousado ou talvez um *day trader*."
   ]
  },
  {
   "cell_type": "markdown",
   "metadata": {},
   "source": [
    "Abaixo mostramos exemplos de gráficos de cotação das ações da COGN3  e da BRPR3 destacando os máximos locais com pontos verdes e os mínimos locais com pontos vermelhos."
   ]
  },
  {
   "cell_type": "code",
   "execution_count": 580,
   "metadata": {},
   "outputs": [],
   "source": [
    "df_max = pd.DataFrame(df_close['COGN3.SA'])\n",
    "df_max.reset_index(drop=True, inplace=True)\n",
    "n = 10\n",
    "df_max['min'] = df_max.iloc[argrelextrema(df_max['COGN3.SA'].values, np.less_equal,\n",
    "                    order=n)[0]]['COGN3.SA']\n",
    "df_max['max'] = df_max.iloc[argrelextrema(df_max['COGN3.SA'].values, np.greater_equal,\n",
    "                    order=n)[0]]['COGN3.SA']\n",
    "\n",
    "a = argrelextrema(df_close['COGN3.SA'].values, np.less_equal, order=n)[0]\n",
    "# a"
   ]
  },
  {
   "cell_type": "code",
   "execution_count": 560,
   "metadata": {},
   "outputs": [
    {
     "data": {
      "image/png": "[encoded data removed]",
      "text/plain": [
       "<Figure size 432x288 with 1 Axes>"
      ]
     },
     "metadata": {
      "needs_background": "light"
     },
     "output_type": "display_data"
    }
   ],
   "source": [
    "plt.title(\"Cotação da COGN3 no último 1 ano\")\n",
    "plt.scatter(df_max.index, df_max['min'], c='r')\n",
    "plt.scatter(df_max.index, df_max['max'], c='g')\n",
    "plt.plot(df_max.index, df_max['COGN3.SA'])\n",
    "plt.show()"
   ]
  },
  {
   "cell_type": "code",
   "execution_count": 582,
   "metadata": {},
   "outputs": [],
   "source": [
    "df_max = pd.DataFrame(df_close['BRPR3.SA'])\n",
    "df_max.reset_index(drop=True, inplace=True)\n",
    "n = 10\n",
    "df_max['min'] = df_max.iloc[argrelextrema(df_max['BRPR3.SA'].values, np.less_equal,\n",
    "                    order=n)[0]]['BRPR3.SA']\n",
    "df_max['max'] = df_max.iloc[argrelextrema(df_max['BRPR3.SA'].values, np.greater_equal,\n",
    "                    order=n)[0]]['BRPR3.SA']\n",
    "\n",
    "# a = argrelextrema(df_close['COGN3.SA'].values, np.less_equal, order=n)[0]\n",
    "# a"
   ]
  },
  {
   "cell_type": "code",
   "execution_count": 565,
   "metadata": {},
   "outputs": [
    {
     "data": {
      "image/png": "[encoded data removed]",
      "text/plain": [
       "<Figure size 432x288 with 1 Axes>"
      ]
     },
     "metadata": {
      "needs_background": "light"
     },
     "output_type": "display_data"
    }
   ],
   "source": [
    "plt.title(\"Cotação da BRPR3 no último 1 ano\")\n",
    "plt.scatter(df_max.index, df_max['min'], c='r')\n",
    "plt.scatter(df_max.index, df_max['max'], c='g')\n",
    "plt.plot(df_max.index, df_max['BRPR3.SA'])\n",
    "plt.show()"
   ]
  },
  {
   "cell_type": "code",
   "execution_count": 566,
   "metadata": {},
   "outputs": [
    {
     "data": {
      "text/plain": [
       "4       9.89\n",
       "28      9.60\n",
       "66     10.85\n",
       "99      9.24\n",
       "121     8.90\n",
       "155     9.36\n",
       "181     9.93\n",
       "203     9.24\n",
       "204     9.24\n",
       "242     8.83\n",
       "Name: max, dtype: float64"
      ]
     },
     "execution_count": 566,
     "metadata": {},
     "output_type": "execute_result"
    }
   ],
   "source": [
    "df_max['max'].dropna()"
   ]
  },
  {
   "cell_type": "code",
   "execution_count": 583,
   "metadata": {},
   "outputs": [],
   "source": [
    "picos = {}\n",
    "mins = {}\n",
    "maxs = {}\n",
    "\n",
    "for column in list(df_close.columns):\n",
    "    mins[column] = (len(argrelextrema(df_close[column].values, np.less_equal, order=n)[0]))\n",
    "    maxs[column] = (len(argrelextrema(df_close[column].values, np.greater_equal, order=n)[0]))"
   ]
  },
  {
   "cell_type": "code",
   "execution_count": 584,
   "metadata": {},
   "outputs": [],
   "source": [
    "df_list = [(selic, 'Selic'), (prefixado, 'Prefixado'), (ipca, 'IPCA'), (hash11, 'HASH11.SA'), (tgar11, 'TGAR11.SA'),\n",
    "           (biau39, 'BIAU39.SA'), (gold11, 'GOLD11.SA'), (xina11, 'XINA11.SA')]\n",
    "\n",
    "for df in df_list:\n",
    "    mins[df[1]] = (len(argrelextrema(df[0]['Último'].values, np.less_equal, order=n)[0]))\n",
    "    maxs[df[1]] = (len(argrelextrema(df[0]['Último'].values, np.greater_equal, order=n)[0]))"
   ]
  },
  {
   "cell_type": "code",
   "execution_count": 598,
   "metadata": {},
   "outputs": [],
   "source": [
    "keys = mins\n",
    "# alpha = np.nextafter(np.float32(0), np.float32(1))\n",
    "model = Model()\n",
    "x = model.continuous_var_dict(keys, name='invs')\n",
    "model.maximize(model.sum(x[i] * maxs[i] for i in keys))"
   ]
  },
  {
   "cell_type": "code",
   "execution_count": 599,
   "metadata": {},
   "outputs": [
    {
     "data": {
      "text/plain": [
       "docplex.mp.LinearConstraint[](invs_ALSO3.SA+invs_ALUP11.SA+invs_AURA33.SA+invs_BABA34.SA+invs_BOVA11.SA+invs_BRML3.SA+invs_BRPR3.SA+invs_COGN3.SA+invs_CSAN3.SA+invs_CYRE3.SA+invs_DIRR3.SA+invs_EGIE3.SA+invs_FESA4.SA+invs_GGBR4.SA+invs_GOAU4.SA+invs_IVVB11.SA+invs_JHSF3.SA+invs_KNRI11.SA+invs_MXRF11.SA+invs_OIBR3.SA+invs_RAIZ4.SA+invs_SULA11.SA+invs_TAEE11.SA+invs_TEND3.SA+invs_TRIS3.SA+invs_TRPL4.SA+invs_VIVT3.SA+invs_XPCI11.SA+invs_Selic+invs_Prefixado+invs_IPCA+invs_HASH11.SA+invs_TGAR11.SA+invs_BIAU39.SA+invs_GOLD11.SA+invs_XINA11.SA,EQ,1)"
      ]
     },
     "execution_count": 599,
     "metadata": {},
     "output_type": "execute_result"
    }
   ],
   "source": [
    "model.add_constraints(x[i] >= 0.01 for i in keys)\n",
    "model.add_constraints(x[i] <= 0.15 for i in keys)\n",
    "model.add_constraint(model.sum(x[i] for i in keys) == 1)"
   ]
  },
  {
   "cell_type": "code",
   "execution_count": 600,
   "metadata": {},
   "outputs": [
    {
     "name": "stdout",
     "output_type": "stream",
     "text": [
      "Version identifier: 20.1.0.0 | 2020-11-10 | 9bedb6d68\n",
      "CPXPARAM_Read_DataCheck                          1\n",
      "CPXPARAM_RandomSeed                              202001241\n",
      "Tried aggregator 1 time.\n",
      "LP Presolve eliminated 72 rows and 33 columns.\n",
      "Reduced LP has 1 rows, 3 columns, and 3 nonzeros.\n",
      "Presolve time = 0.00 sec. (0.03 ticks)\n",
      "Initializing dual steep norms . . .\n",
      "\n",
      "Iteration log . . .\n",
      "Iteration:     1   Dual objective     =            10.290000\n"
     ]
    }
   ],
   "source": [
    "solution = model.solve(log_output=True)"
   ]
  },
  {
   "cell_type": "code",
   "execution_count": 601,
   "metadata": {},
   "outputs": [
    {
     "name": "stdout",
     "output_type": "stream",
     "text": [
      "objective: 10.290\n",
      "  invs_ALSO3.SA=0.010\n",
      "  invs_ALUP11.SA=0.010\n",
      "  invs_AURA33.SA=0.010\n",
      "  invs_BABA34.SA=0.010\n",
      "  invs_BOVA11.SA=0.010\n",
      "  invs_BRML3.SA=0.010\n",
      "  invs_BRPR3.SA=0.010\n",
      "  invs_COGN3.SA=0.010\n",
      "  invs_CSAN3.SA=0.010\n",
      "  invs_CYRE3.SA=0.150\n",
      "  invs_DIRR3.SA=0.150\n",
      "  invs_EGIE3.SA=0.010\n",
      "  invs_FESA4.SA=0.010\n",
      "  invs_GGBR4.SA=0.010\n",
      "  invs_GOAU4.SA=0.010\n",
      "  invs_IVVB11.SA=0.010\n",
      "  invs_JHSF3.SA=0.090\n",
      "  invs_KNRI11.SA=0.010\n",
      "  invs_MXRF11.SA=0.150\n",
      "  invs_OIBR3.SA=0.010\n",
      "  invs_RAIZ4.SA=0.010\n",
      "  invs_SULA11.SA=0.010\n",
      "  invs_TAEE11.SA=0.010\n",
      "  invs_TEND3.SA=0.150\n",
      "  invs_TRIS3.SA=0.010\n",
      "  invs_TRPL4.SA=0.010\n",
      "  invs_VIVT3.SA=0.010\n",
      "  invs_XPCI11.SA=0.010\n",
      "  invs_Selic=0.010\n",
      "  invs_Prefixado=0.010\n",
      "  invs_IPCA=0.010\n",
      "  invs_HASH11.SA=0.010\n",
      "  invs_TGAR11.SA=0.010\n",
      "  invs_BIAU39.SA=0.010\n",
      "  invs_GOLD11.SA=0.010\n",
      "  invs_XINA11.SA=0.010\n"
     ]
    }
   ],
   "source": [
    "model.print_solution()"
   ]
  },
  {
   "cell_type": "code",
   "execution_count": 602,
   "metadata": {},
   "outputs": [],
   "source": [
    "total_return = 0\n",
    "for i in keys:\n",
    "    total_return += x[i].solution_value * return_dict[i]"
   ]
  },
  {
   "cell_type": "code",
   "execution_count": 603,
   "metadata": {},
   "outputs": [],
   "source": [
    "total_var = 0\n",
    "for i in keys:\n",
    "    total_var += x[i].solution_value * var_dict[i]"
   ]
  },
  {
   "cell_type": "code",
   "execution_count": 604,
   "metadata": {},
   "outputs": [],
   "source": [
    "total_rf = 0\n",
    "for i in rf:\n",
    "    total_rf += x[i].solution_value"
   ]
  },
  {
   "cell_type": "code",
   "execution_count": 605,
   "metadata": {},
   "outputs": [],
   "source": [
    "total_a = 0\n",
    "for i in a:\n",
    "    total_a += x[i].solution_value"
   ]
  },
  {
   "cell_type": "code",
   "execution_count": 607,
   "metadata": {},
   "outputs": [
    {
     "name": "stdout",
     "output_type": "stream",
     "text": [
      "Valor encontrado pela função objetivo:  10.29\n",
      "Retorno total:  -6.7716\n",
      "Variância total:  91.4183213342942\n",
      "Total alocado em renda fixa:  0.03\n",
      "Total alocado em renda variável:  0.97\n"
     ]
    }
   ],
   "source": [
    "print('Valor encontrado pela função objetivo: ', model.objective_value)\n",
    "print('Retorno total: ', total_return)\n",
    "print('Variância total: ', total_var)\n",
    "print('Total alocado em renda fixa: ', total_rf)\n",
    "print('Total alocado em renda variável: ', total_a)"
   ]
  },
  {
   "cell_type": "markdown",
   "metadata": {},
   "source": [
    "## Conclusão"
   ]
  },
  {
   "cell_type": "markdown",
   "metadata": {},
   "source": [
    "#### 2.2.1 Modelo mantendo todas as restrições solicitadas pelo investidor\n",
    "Neste modelo nós mantivemos as retrições solicitadas pelo investidor, acrescentando nas restrições o investimento em certas ações que são do seu interesse.\n",
    "\n",
    "##### Objetivo - Minimizar Variância\n",
    "* Variâcia encontrada pela função objetivo:  55.0869632573187\n",
    "* Retorno total:  7.999999999999997\n",
    "* Total alocado em renda fixa:  0.15\n",
    "* Total alocado em renda variável:  0.8500000000000001\n",
    "\n",
    "##### Objetivo - Maximizar Retorno\n",
    "* Retorno encontrado pela função objetivo:  8.25320014528391\n",
    "* Variância total:  59.99999999999999\n",
    "* Total alocado em renda fixa:  0.15\n",
    "* Total alocado em renda variável:  0.85\n",
    "\n",
    "##### Análise de Resultados - Utilizando de restrições pedidas pelo investidor:\n",
    "Variância entre 55% - 60%<br>\n",
    "Retorno entre 8% - 8.25%\n",
    "\n",
    "#### 2.2.2 Modelo removendo algumas restrições entre ativos de renda variável\n",
    "Neste modelo foram removidas algumas restrições impostas pelo investidor como o investimento em ativos específicos da carteira de acordo com o seu interesse.\n",
    "\n",
    "##### Objetivo - Minimizar Variância\n",
    "* Variâcia encontrada pela função objetivo:  49.26582378922695\n",
    "* Retorno total:  7.999999999999998\n",
    "* Total alocado em renda fixa:  0.15\n",
    "* Total alocado em renda variável:  0.85\n",
    "\n",
    "##### Objetivo - Maximizar Retorno\n",
    "* Retorno encontrado pela função objetivo:  8.25320014528391\n",
    "* Variância total:  59.99999999999999\n",
    "* Total alocado em renda fixa:  0.15\n",
    "* Total alocado em renda variável:  0.85\n",
    "\n",
    "##### Análise de Resultados - Ao retirar o investimento de ativos específicos:\n",
    "Variância entre 49% - 60%<br>\n",
    "Retorno entre 8% - 8.25%\n",
    "\n",
    "Percebemos uma diminuição da variância final encontrada pelo modelo. Isso pode ocorrer pois, ao restringir ativos específicos ao modelo, o investidor pode estar sujeito a erros e escolher ativos que no final possuem, nesse caso, alta variância e possivelmente menores retornos. \n",
    "\n",
    "#### 2.2.3 Modelo removendo algumas restrições e utilizando faixas de restrições\n",
    "\n",
    "##### Objetivo - Minimizar Variância\n",
    "* Variâcia encontrada pela função objetivo:  60.44593636350359\n",
    "* Retorno total:  7.999999999999998\n",
    "* Total alocado em renda fixa:  0.19999999999999987\n",
    "* Total alocado em renda variável:  0.7999999999999999\n",
    "\n",
    "##### Objetivo - Maximizar Retorno\n",
    "* Retorno encontrado pela função objetivo:  7.781820424042756\n",
    "* Variância total:  60.00000000000001\n",
    "* Total alocado em renda fixa:  0.1999999999999999\n",
    "* Total alocado em renda variável:  0.8\n",
    "\n",
    "##### Análise de Resultados - Ao retirar o investimento de ativos específicos e ao utilizarmos faixas de restrições:\n",
    "Variância entre 60% - 60.45%<br>\n",
    "Retorno entre 7.8% - 8%\n",
    "\n",
    "Podemos ver uma leve queda no retorno total e o estreitamento dos valores da variância. Isso aconteceu devido à possibilidade que a faixa de restrições deu ao modelo de alocar até 80% do investimento em rendas variáveis e maior alocamento em rendas fixas que podem não ser a melhor opção para investimento seguindo esses objetivos.\n",
    "\n",
    "#### 2.2.4 Modelo mais livre\n",
    "\n",
    "##### Objetivo - Minimizar Variância\n",
    "* Variâcia encontrada pela função objetivo:  47.78417842637107\n",
    "* Retorno total:  7.999999999999998\n",
    "* Total alocado em renda fixa:  0.015\n",
    "* Total alocado em renda variável:  0.985\n",
    "\n",
    "##### Objetivo - Maximizar Retorno\n",
    "* Retorno encontrado pela função objetivo:  11.600042885457142\n",
    "* Variância total:  59.99999999999999\n",
    "* Total alocado em renda fixa:  0.015\n",
    "* Total alocado em renda variável:  0.9849999999999999\n",
    "\n",
    "##### Análise de Resultados - Modelo mais livre:\n",
    "Variância entre 47% - 60%<br>\n",
    "Retorno entre 8% - 11.6%\n",
    "\n",
    "Ao retirarmos as retrições para investimento o modelo conseguiu encontrar os melhores resultados dentre todos os já apresentados. Pois, ao eliminar a restrição de ativos específicos e de grupos de ativos na obrigatoriedade da carteira, foi apresentado para nós os melhores investimentos no decorrer de 1 ano.\n",
    "\n",
    "A variância mínima encontrada para a carteira de 47%\n",
    "E retorno máximo encontrado de 11.6%\n",
    "\n",
    "Com isso podemos observar o poder que o modelo tem de escolher os melhores ativos. E, além disso, como os interesses particulares dos investidores podem afetar bastante o resultado final de acordo com certas restrições impostas.\n",
    "\n",
    "Sendo uma boa opção deixar o modelo mais liberto e alimentá-lo com dados variados para posterior análise!"
   ]
  },
  {
   "cell_type": "code",
   "execution_count": null,
   "metadata": {},
   "outputs": [],
   "source": []
  }
 ],
 "metadata": {
  "kernelspec": {
   "display_name": "Python 3",
   "language": "python",
   "name": "python3"
  },
  "language_info": {
   "codemirror_mode": {
    "name": "ipython",
    "version": 3
   },
   "file_extension": ".py",
   "mimetype": "text/x-python",
   "name": "python",
   "nbconvert_exporter": "python",
   "pygments_lexer": "ipython3",
   "version": "3.8.8"
  }
 },
 "nbformat": 4,
 "nbformat_minor": 4
}
